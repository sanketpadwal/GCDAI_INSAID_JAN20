{
  "nbformat": 4,
  "nbformat_minor": 0,
  "metadata": {
    "colab": {
      "name": "capstone2.ipynb",
      "provenance": [],
      "collapsed_sections": [],
      "authorship_tag": "ABX9TyOVN5AJ9W5YUadaD964L7mn",
      "include_colab_link": true
    },
    "kernelspec": {
      "name": "python3",
      "display_name": "Python 3"
    },
    "language_info": {
      "name": "python"
    }
  },
  "cells": [
    {
      "cell_type": "markdown",
      "metadata": {
        "id": "view-in-github",
        "colab_type": "text"
      },
      "source": [
        "<a href=\"https://colab.research.google.com/github/sanketpadwal/GCDAI_INSAID_JAN20/blob/main/Capstone2/capstone2.ipynb\" target=\"_parent\"><img src=\"https://colab.research.google.com/assets/colab-badge.svg\" alt=\"Open In Colab\"/></a>"
      ]
    },
    {
      "cell_type": "code",
      "metadata": {
        "id": "C3PgZzcNHlB1"
      },
      "source": [
        "import mysql.connector\n",
        "import pandas as pd\n",
        "import numpy as np"
      ],
      "execution_count": 197,
      "outputs": []
    },
    {
      "cell_type": "code",
      "metadata": {
        "id": "ZHgdkU4LPa9Q"
      },
      "source": [
        "mydb = mysql.connector.connect(host=\"cpanel.insaid.co\", user=\"student\", password=\"student\", database=\"Capstone2\")\n",
        "mycursor = mydb.cursor()\n",
        "mycursor.execute(\"SELECT * FROM department_data\")\n",
        "myresult1 = mycursor.fetchall()\n",
        "department_data = pd.DataFrame(myresult1,columns=['dept_id','dept_name','dept_head'])"
      ],
      "execution_count": 198,
      "outputs": []
    },
    {
      "cell_type": "code",
      "metadata": {
        "id": "i47Bks4JRI-B"
      },
      "source": [
        "mycursor.execute(\"SELECT * FROM employee_details_data\")\n",
        "myresult2 = mycursor.fetchall()\n",
        "employee_details_data = pd.DataFrame(myresult2,columns=['employee_id','age','gender','marital_status'])"
      ],
      "execution_count": 199,
      "outputs": []
    },
    {
      "cell_type": "code",
      "metadata": {
        "id": "300jZGxsSxG_"
      },
      "source": [
        "mycursor.execute(\"SELECT * FROM employee_data\")\n",
        "myresult3 = mycursor.fetchall()\n",
        "employee_data = pd.DataFrame(myresult3,columns=['avg_monthly_hrs','dept_id','filed_complaint','last_evaluation','n_projects','recently_promoted','satisfaction','salary','status','tenure','employee_id'])"
      ],
      "execution_count": 200,
      "outputs": []
    },
    {
      "cell_type": "code",
      "metadata": {
        "colab": {
          "base_uri": "https://localhost:8080/"
        },
        "id": "7cfa9Gv1qKNe",
        "outputId": "85ee8ebf-fda8-4456-cffa-20d198b22743"
      },
      "source": [
        "employee_data.info()"
      ],
      "execution_count": 201,
      "outputs": [
        {
          "output_type": "stream",
          "name": "stdout",
          "text": [
            "<class 'pandas.core.frame.DataFrame'>\n",
            "RangeIndex: 14150 entries, 0 to 14149\n",
            "Data columns (total 11 columns):\n",
            " #   Column             Non-Null Count  Dtype  \n",
            "---  ------             --------------  -----  \n",
            " 0   avg_monthly_hrs    14150 non-null  object \n",
            " 1   dept_id            13443 non-null  object \n",
            " 2   filed_complaint    2046 non-null   object \n",
            " 3   last_evaluation    12663 non-null  float64\n",
            " 4   n_projects         14150 non-null  int64  \n",
            " 5   recently_promoted  297 non-null    float64\n",
            " 6   satisfaction       14150 non-null  object \n",
            " 7   salary             14000 non-null  float64\n",
            " 8   status             14150 non-null  object \n",
            " 9   tenure             14000 non-null  object \n",
            " 10  employee_id        14150 non-null  int64  \n",
            "dtypes: float64(3), int64(2), object(6)\n",
            "memory usage: 1.2+ MB\n"
          ]
        }
      ]
    },
    {
      "cell_type": "code",
      "metadata": {
        "colab": {
          "base_uri": "https://localhost:8080/"
        },
        "id": "dahhu5HLqQ8f",
        "outputId": "43d46f11-1516-46fb-941c-0bd0859bc83a"
      },
      "source": [
        "employee_details_data.info()"
      ],
      "execution_count": 202,
      "outputs": [
        {
          "output_type": "stream",
          "name": "stdout",
          "text": [
            "<class 'pandas.core.frame.DataFrame'>\n",
            "RangeIndex: 14245 entries, 0 to 14244\n",
            "Data columns (total 4 columns):\n",
            " #   Column          Non-Null Count  Dtype \n",
            "---  ------          --------------  ----- \n",
            " 0   employee_id     14245 non-null  int64 \n",
            " 1   age             14245 non-null  int64 \n",
            " 2   gender          14245 non-null  object\n",
            " 3   marital_status  14245 non-null  object\n",
            "dtypes: int64(2), object(2)\n",
            "memory usage: 445.3+ KB\n"
          ]
        }
      ]
    },
    {
      "cell_type": "code",
      "metadata": {
        "id": "uflabwmyq7i3"
      },
      "source": [
        "data = pd.merge(employee_details_data, employee_data, on='employee_id', how='outer')"
      ],
      "execution_count": 203,
      "outputs": []
    },
    {
      "cell_type": "code",
      "metadata": {
        "colab": {
          "base_uri": "https://localhost:8080/"
        },
        "id": "OQUaVli2rOQh",
        "outputId": "132d7607-3816-4653-9ae3-4fcc2344ce6a"
      },
      "source": [
        "data.dept_id.value_counts()"
      ],
      "execution_count": 204,
      "outputs": [
        {
          "output_type": "execute_result",
          "data": {
            "text/plain": [
              "D00-SS     3905\n",
              "D00-ENG    2575\n",
              "D00-SP     2113\n",
              "D00-IT     1157\n",
              "D00-PD      855\n",
              "D00-MT      815\n",
              "D00-FN      725\n",
              "D00-MN      593\n",
              "-IT         207\n",
              "D00-AD      175\n",
              "D00-PR      173\n",
              "D00-TP      150\n",
              "Name: dept_id, dtype: int64"
            ]
          },
          "metadata": {},
          "execution_count": 204
        }
      ]
    },
    {
      "cell_type": "code",
      "metadata": {
        "id": "F49ptx7gsP1B"
      },
      "source": [
        "data['dept_id']=data['dept_id'].apply(lambda x: \"D00\"+x if x==\"-IT\" else x)"
      ],
      "execution_count": 205,
      "outputs": []
    },
    {
      "cell_type": "code",
      "metadata": {
        "colab": {
          "base_uri": "https://localhost:8080/"
        },
        "id": "gygggxpktKC1",
        "outputId": "b7d7bd72-da2e-4e07-9165-cf700972f501"
      },
      "source": [
        "data.dept_id.value_counts()"
      ],
      "execution_count": 206,
      "outputs": [
        {
          "output_type": "execute_result",
          "data": {
            "text/plain": [
              "D00-SS     3905\n",
              "D00-ENG    2575\n",
              "D00-SP     2113\n",
              "D00-IT     1364\n",
              "D00-PD      855\n",
              "D00-MT      815\n",
              "D00-FN      725\n",
              "D00-MN      593\n",
              "D00-AD      175\n",
              "D00-PR      173\n",
              "D00-TP      150\n",
              "Name: dept_id, dtype: int64"
            ]
          },
          "metadata": {},
          "execution_count": 206
        }
      ]
    },
    {
      "cell_type": "code",
      "metadata": {
        "id": "uRy5L8i_yh-E"
      },
      "source": [
        "data = pd.merge(data,department_data,how='outer',on='dept_id')"
      ],
      "execution_count": 207,
      "outputs": []
    },
    {
      "cell_type": "code",
      "metadata": {
        "colab": {
          "base_uri": "https://localhost:8080/"
        },
        "id": "1Wlw_KINzMbX",
        "outputId": "c027380b-d383-46d2-b18e-c40151d237fe"
      },
      "source": [
        "data.info()"
      ],
      "execution_count": 208,
      "outputs": [
        {
          "output_type": "stream",
          "name": "stdout",
          "text": [
            "<class 'pandas.core.frame.DataFrame'>\n",
            "Int64Index: 14279 entries, 0 to 14278\n",
            "Data columns (total 16 columns):\n",
            " #   Column             Non-Null Count  Dtype  \n",
            "---  ------             --------------  -----  \n",
            " 0   employee_id        14279 non-null  int64  \n",
            " 1   age                14274 non-null  float64\n",
            " 2   gender             14274 non-null  object \n",
            " 3   marital_status     14274 non-null  object \n",
            " 4   avg_monthly_hrs    14150 non-null  object \n",
            " 5   dept_id            13443 non-null  object \n",
            " 6   filed_complaint    2046 non-null   object \n",
            " 7   last_evaluation    12663 non-null  float64\n",
            " 8   n_projects         14150 non-null  float64\n",
            " 9   recently_promoted  297 non-null    float64\n",
            " 10  satisfaction       14150 non-null  object \n",
            " 11  salary             14000 non-null  float64\n",
            " 12  status             14150 non-null  object \n",
            " 13  tenure             14000 non-null  object \n",
            " 14  dept_name          13443 non-null  object \n",
            " 15  dept_head          13443 non-null  object \n",
            "dtypes: float64(5), int64(1), object(10)\n",
            "memory usage: 1.9+ MB\n"
          ]
        }
      ]
    },
    {
      "cell_type": "code",
      "metadata": {
        "id": "iVdFRzXuzT4G"
      },
      "source": [
        "#data.to_csv('dataframe.csv',index = False, header=True)"
      ],
      "execution_count": 209,
      "outputs": []
    },
    {
      "cell_type": "code",
      "metadata": {
        "colab": {
          "base_uri": "https://localhost:8080/",
          "height": 993
        },
        "id": "8-juL4c-3mBc",
        "outputId": "03ea90ce-e6cf-4c0c-9d34-1f22935ba05d"
      },
      "source": [
        "data.head(30)"
      ],
      "execution_count": 210,
      "outputs": [
        {
          "output_type": "execute_result",
          "data": {
            "text/html": [
              "<div>\n",
              "<style scoped>\n",
              "    .dataframe tbody tr th:only-of-type {\n",
              "        vertical-align: middle;\n",
              "    }\n",
              "\n",
              "    .dataframe tbody tr th {\n",
              "        vertical-align: top;\n",
              "    }\n",
              "\n",
              "    .dataframe thead th {\n",
              "        text-align: right;\n",
              "    }\n",
              "</style>\n",
              "<table border=\"1\" class=\"dataframe\">\n",
              "  <thead>\n",
              "    <tr style=\"text-align: right;\">\n",
              "      <th></th>\n",
              "      <th>employee_id</th>\n",
              "      <th>age</th>\n",
              "      <th>gender</th>\n",
              "      <th>marital_status</th>\n",
              "      <th>avg_monthly_hrs</th>\n",
              "      <th>dept_id</th>\n",
              "      <th>filed_complaint</th>\n",
              "      <th>last_evaluation</th>\n",
              "      <th>n_projects</th>\n",
              "      <th>recently_promoted</th>\n",
              "      <th>satisfaction</th>\n",
              "      <th>salary</th>\n",
              "      <th>status</th>\n",
              "      <th>tenure</th>\n",
              "      <th>dept_name</th>\n",
              "      <th>dept_head</th>\n",
              "    </tr>\n",
              "  </thead>\n",
              "  <tbody>\n",
              "    <tr>\n",
              "      <th>0</th>\n",
              "      <td>113558</td>\n",
              "      <td>43.0</td>\n",
              "      <td>Male</td>\n",
              "      <td>Married</td>\n",
              "      <td>111.00</td>\n",
              "      <td>D00-PR</td>\n",
              "      <td>None</td>\n",
              "      <td>0.753977</td>\n",
              "      <td>5.0</td>\n",
              "      <td>1.0</td>\n",
              "      <td>medium</td>\n",
              "      <td>0.921208</td>\n",
              "      <td>Employed</td>\n",
              "      <td>4.00</td>\n",
              "      <td>Procurement</td>\n",
              "      <td>Louie Viles</td>\n",
              "    </tr>\n",
              "    <tr>\n",
              "      <th>1</th>\n",
              "      <td>108071</td>\n",
              "      <td>36.0</td>\n",
              "      <td>Male</td>\n",
              "      <td>Married</td>\n",
              "      <td>151.00</td>\n",
              "      <td>D00-PR</td>\n",
              "      <td>None</td>\n",
              "      <td>0.608282</td>\n",
              "      <td>5.0</td>\n",
              "      <td>NaN</td>\n",
              "      <td>medium</td>\n",
              "      <td>0.210300</td>\n",
              "      <td>Employed</td>\n",
              "      <td>6.00</td>\n",
              "      <td>Procurement</td>\n",
              "      <td>Louie Viles</td>\n",
              "    </tr>\n",
              "    <tr>\n",
              "      <th>2</th>\n",
              "      <td>110888</td>\n",
              "      <td>42.0</td>\n",
              "      <td>Male</td>\n",
              "      <td>Married</td>\n",
              "      <td>152.00</td>\n",
              "      <td>D00-PR</td>\n",
              "      <td>None</td>\n",
              "      <td>0.673508</td>\n",
              "      <td>6.0</td>\n",
              "      <td>NaN</td>\n",
              "      <td>medium</td>\n",
              "      <td>0.720369</td>\n",
              "      <td>Employed</td>\n",
              "      <td>3.00</td>\n",
              "      <td>Procurement</td>\n",
              "      <td>Louie Viles</td>\n",
              "    </tr>\n",
              "    <tr>\n",
              "      <th>3</th>\n",
              "      <td>115694</td>\n",
              "      <td>26.0</td>\n",
              "      <td>Male</td>\n",
              "      <td>Unmarried</td>\n",
              "      <td>167.00</td>\n",
              "      <td>D00-PR</td>\n",
              "      <td>None</td>\n",
              "      <td>0.874656</td>\n",
              "      <td>3.0</td>\n",
              "      <td>NaN</td>\n",
              "      <td>medium</td>\n",
              "      <td>0.575996</td>\n",
              "      <td>Employed</td>\n",
              "      <td>4.00</td>\n",
              "      <td>Procurement</td>\n",
              "      <td>Louie Viles</td>\n",
              "    </tr>\n",
              "    <tr>\n",
              "      <th>4</th>\n",
              "      <td>107767</td>\n",
              "      <td>43.0</td>\n",
              "      <td>Male</td>\n",
              "      <td>Married</td>\n",
              "      <td>174.00</td>\n",
              "      <td>D00-PR</td>\n",
              "      <td>1.00</td>\n",
              "      <td>0.634783</td>\n",
              "      <td>5.0</td>\n",
              "      <td>NaN</td>\n",
              "      <td>medium</td>\n",
              "      <td>0.208138</td>\n",
              "      <td>Employed</td>\n",
              "      <td>5.00</td>\n",
              "      <td>Procurement</td>\n",
              "      <td>Louie Viles</td>\n",
              "    </tr>\n",
              "    <tr>\n",
              "      <th>5</th>\n",
              "      <td>106202</td>\n",
              "      <td>45.0</td>\n",
              "      <td>Male</td>\n",
              "      <td>Married</td>\n",
              "      <td>173.00</td>\n",
              "      <td>D00-PR</td>\n",
              "      <td>None</td>\n",
              "      <td>0.916356</td>\n",
              "      <td>5.0</td>\n",
              "      <td>NaN</td>\n",
              "      <td>low</td>\n",
              "      <td>0.921224</td>\n",
              "      <td>Employed</td>\n",
              "      <td>3.00</td>\n",
              "      <td>Procurement</td>\n",
              "      <td>Louie Viles</td>\n",
              "    </tr>\n",
              "    <tr>\n",
              "      <th>6</th>\n",
              "      <td>112930</td>\n",
              "      <td>36.0</td>\n",
              "      <td>Female</td>\n",
              "      <td>Married</td>\n",
              "      <td>213.00</td>\n",
              "      <td>D00-PR</td>\n",
              "      <td>None</td>\n",
              "      <td>0.536090</td>\n",
              "      <td>6.0</td>\n",
              "      <td>NaN</td>\n",
              "      <td>medium</td>\n",
              "      <td>0.201980</td>\n",
              "      <td>Employed</td>\n",
              "      <td>3.00</td>\n",
              "      <td>Procurement</td>\n",
              "      <td>Louie Viles</td>\n",
              "    </tr>\n",
              "    <tr>\n",
              "      <th>7</th>\n",
              "      <td>101536</td>\n",
              "      <td>22.0</td>\n",
              "      <td>Male</td>\n",
              "      <td>Unmarried</td>\n",
              "      <td>164.00</td>\n",
              "      <td>D00-PR</td>\n",
              "      <td>None</td>\n",
              "      <td>0.643403</td>\n",
              "      <td>3.0</td>\n",
              "      <td>NaN</td>\n",
              "      <td>medium</td>\n",
              "      <td>0.778830</td>\n",
              "      <td>Employed</td>\n",
              "      <td>4.00</td>\n",
              "      <td>Procurement</td>\n",
              "      <td>Louie Viles</td>\n",
              "    </tr>\n",
              "    <tr>\n",
              "      <th>8</th>\n",
              "      <td>101021</td>\n",
              "      <td>23.0</td>\n",
              "      <td>Male</td>\n",
              "      <td>Unmarried</td>\n",
              "      <td>141.00</td>\n",
              "      <td>D00-PR</td>\n",
              "      <td>None</td>\n",
              "      <td>0.550365</td>\n",
              "      <td>3.0</td>\n",
              "      <td>NaN</td>\n",
              "      <td>low</td>\n",
              "      <td>0.649353</td>\n",
              "      <td>Employed</td>\n",
              "      <td>3.00</td>\n",
              "      <td>Procurement</td>\n",
              "      <td>Louie Viles</td>\n",
              "    </tr>\n",
              "    <tr>\n",
              "      <th>9</th>\n",
              "      <td>118206</td>\n",
              "      <td>27.0</td>\n",
              "      <td>Male</td>\n",
              "      <td>Unmarried</td>\n",
              "      <td>266.00</td>\n",
              "      <td>D00-PR</td>\n",
              "      <td>None</td>\n",
              "      <td>0.647893</td>\n",
              "      <td>3.0</td>\n",
              "      <td>NaN</td>\n",
              "      <td>medium</td>\n",
              "      <td>0.571930</td>\n",
              "      <td>Employed</td>\n",
              "      <td>3.00</td>\n",
              "      <td>Procurement</td>\n",
              "      <td>Louie Viles</td>\n",
              "    </tr>\n",
              "    <tr>\n",
              "      <th>10</th>\n",
              "      <td>116457</td>\n",
              "      <td>28.0</td>\n",
              "      <td>Male</td>\n",
              "      <td>Unmarried</td>\n",
              "      <td>155.00</td>\n",
              "      <td>D00-PR</td>\n",
              "      <td>1.00</td>\n",
              "      <td>0.629123</td>\n",
              "      <td>3.0</td>\n",
              "      <td>NaN</td>\n",
              "      <td>low</td>\n",
              "      <td>0.742911</td>\n",
              "      <td>Employed</td>\n",
              "      <td>4.00</td>\n",
              "      <td>Procurement</td>\n",
              "      <td>Louie Viles</td>\n",
              "    </tr>\n",
              "    <tr>\n",
              "      <th>11</th>\n",
              "      <td>108463</td>\n",
              "      <td>25.0</td>\n",
              "      <td>Female</td>\n",
              "      <td>Unmarried</td>\n",
              "      <td>196.00</td>\n",
              "      <td>D00-PR</td>\n",
              "      <td>None</td>\n",
              "      <td>0.670573</td>\n",
              "      <td>3.0</td>\n",
              "      <td>NaN</td>\n",
              "      <td>low</td>\n",
              "      <td>0.539691</td>\n",
              "      <td>Employed</td>\n",
              "      <td>3.00</td>\n",
              "      <td>Procurement</td>\n",
              "      <td>Louie Viles</td>\n",
              "    </tr>\n",
              "    <tr>\n",
              "      <th>12</th>\n",
              "      <td>101234</td>\n",
              "      <td>35.0</td>\n",
              "      <td>Male</td>\n",
              "      <td>Married</td>\n",
              "      <td>280.00</td>\n",
              "      <td>D00-PR</td>\n",
              "      <td>None</td>\n",
              "      <td>0.811593</td>\n",
              "      <td>5.0</td>\n",
              "      <td>NaN</td>\n",
              "      <td>low</td>\n",
              "      <td>0.176439</td>\n",
              "      <td>Employed</td>\n",
              "      <td>4.00</td>\n",
              "      <td>Procurement</td>\n",
              "      <td>Louie Viles</td>\n",
              "    </tr>\n",
              "    <tr>\n",
              "      <th>13</th>\n",
              "      <td>112355</td>\n",
              "      <td>25.0</td>\n",
              "      <td>Female</td>\n",
              "      <td>Unmarried</td>\n",
              "      <td>260.00</td>\n",
              "      <td>D00-PR</td>\n",
              "      <td>None</td>\n",
              "      <td>0.629152</td>\n",
              "      <td>3.0</td>\n",
              "      <td>NaN</td>\n",
              "      <td>medium</td>\n",
              "      <td>0.560666</td>\n",
              "      <td>Employed</td>\n",
              "      <td>3.00</td>\n",
              "      <td>Procurement</td>\n",
              "      <td>Louie Viles</td>\n",
              "    </tr>\n",
              "    <tr>\n",
              "      <th>14</th>\n",
              "      <td>101345</td>\n",
              "      <td>28.0</td>\n",
              "      <td>Male</td>\n",
              "      <td>Unmarried</td>\n",
              "      <td>151.00</td>\n",
              "      <td>D00-PR</td>\n",
              "      <td>None</td>\n",
              "      <td>0.627983</td>\n",
              "      <td>3.0</td>\n",
              "      <td>NaN</td>\n",
              "      <td>low</td>\n",
              "      <td>0.726779</td>\n",
              "      <td>Employed</td>\n",
              "      <td>2.00</td>\n",
              "      <td>Procurement</td>\n",
              "      <td>Louie Viles</td>\n",
              "    </tr>\n",
              "    <tr>\n",
              "      <th>15</th>\n",
              "      <td>102012</td>\n",
              "      <td>23.0</td>\n",
              "      <td>Female</td>\n",
              "      <td>Unmarried</td>\n",
              "      <td>186.00</td>\n",
              "      <td>D00-PR</td>\n",
              "      <td>1.00</td>\n",
              "      <td>0.775098</td>\n",
              "      <td>3.0</td>\n",
              "      <td>NaN</td>\n",
              "      <td>medium</td>\n",
              "      <td>0.767060</td>\n",
              "      <td>Employed</td>\n",
              "      <td>3.00</td>\n",
              "      <td>Procurement</td>\n",
              "      <td>Louie Viles</td>\n",
              "    </tr>\n",
              "    <tr>\n",
              "      <th>16</th>\n",
              "      <td>113329</td>\n",
              "      <td>53.0</td>\n",
              "      <td>Male</td>\n",
              "      <td>Married</td>\n",
              "      <td>205.00</td>\n",
              "      <td>D00-PR</td>\n",
              "      <td>None</td>\n",
              "      <td>0.783030</td>\n",
              "      <td>5.0</td>\n",
              "      <td>NaN</td>\n",
              "      <td>low</td>\n",
              "      <td>0.186797</td>\n",
              "      <td>Employed</td>\n",
              "      <td>4.00</td>\n",
              "      <td>Procurement</td>\n",
              "      <td>Louie Viles</td>\n",
              "    </tr>\n",
              "    <tr>\n",
              "      <th>17</th>\n",
              "      <td>113645</td>\n",
              "      <td>24.0</td>\n",
              "      <td>Male</td>\n",
              "      <td>Unmarried</td>\n",
              "      <td>216.00</td>\n",
              "      <td>D00-PR</td>\n",
              "      <td>1.00</td>\n",
              "      <td>0.361577</td>\n",
              "      <td>3.0</td>\n",
              "      <td>NaN</td>\n",
              "      <td>medium</td>\n",
              "      <td>0.483486</td>\n",
              "      <td>Employed</td>\n",
              "      <td>6.00</td>\n",
              "      <td>Procurement</td>\n",
              "      <td>Louie Viles</td>\n",
              "    </tr>\n",
              "    <tr>\n",
              "      <th>18</th>\n",
              "      <td>102644</td>\n",
              "      <td>52.0</td>\n",
              "      <td>Male</td>\n",
              "      <td>Married</td>\n",
              "      <td>206.00</td>\n",
              "      <td>D00-PR</td>\n",
              "      <td>None</td>\n",
              "      <td>0.775584</td>\n",
              "      <td>6.0</td>\n",
              "      <td>NaN</td>\n",
              "      <td>low</td>\n",
              "      <td>0.199985</td>\n",
              "      <td>Employed</td>\n",
              "      <td>6.00</td>\n",
              "      <td>Procurement</td>\n",
              "      <td>Louie Viles</td>\n",
              "    </tr>\n",
              "    <tr>\n",
              "      <th>19</th>\n",
              "      <td>118915</td>\n",
              "      <td>26.0</td>\n",
              "      <td>Male</td>\n",
              "      <td>Unmarried</td>\n",
              "      <td>256.00</td>\n",
              "      <td>D00-PR</td>\n",
              "      <td>None</td>\n",
              "      <td>0.910689</td>\n",
              "      <td>3.0</td>\n",
              "      <td>NaN</td>\n",
              "      <td>low</td>\n",
              "      <td>0.629126</td>\n",
              "      <td>Employed</td>\n",
              "      <td>4.00</td>\n",
              "      <td>Procurement</td>\n",
              "      <td>Louie Viles</td>\n",
              "    </tr>\n",
              "    <tr>\n",
              "      <th>20</th>\n",
              "      <td>105542</td>\n",
              "      <td>52.0</td>\n",
              "      <td>Male</td>\n",
              "      <td>Married</td>\n",
              "      <td>209.00</td>\n",
              "      <td>D00-PR</td>\n",
              "      <td>None</td>\n",
              "      <td>0.918631</td>\n",
              "      <td>4.0</td>\n",
              "      <td>NaN</td>\n",
              "      <td>medium</td>\n",
              "      <td>0.983451</td>\n",
              "      <td>Employed</td>\n",
              "      <td>2.00</td>\n",
              "      <td>Procurement</td>\n",
              "      <td>Louie Viles</td>\n",
              "    </tr>\n",
              "    <tr>\n",
              "      <th>21</th>\n",
              "      <td>104556</td>\n",
              "      <td>52.0</td>\n",
              "      <td>Female</td>\n",
              "      <td>Married</td>\n",
              "      <td>225.00</td>\n",
              "      <td>D00-PR</td>\n",
              "      <td>None</td>\n",
              "      <td>0.933783</td>\n",
              "      <td>4.0</td>\n",
              "      <td>1.0</td>\n",
              "      <td>medium</td>\n",
              "      <td>0.948015</td>\n",
              "      <td>Employed</td>\n",
              "      <td>2.00</td>\n",
              "      <td>Procurement</td>\n",
              "      <td>Louie Viles</td>\n",
              "    </tr>\n",
              "    <tr>\n",
              "      <th>22</th>\n",
              "      <td>114943</td>\n",
              "      <td>22.0</td>\n",
              "      <td>Female</td>\n",
              "      <td>Unmarried</td>\n",
              "      <td>244.00</td>\n",
              "      <td>D00-PR</td>\n",
              "      <td>None</td>\n",
              "      <td>0.933734</td>\n",
              "      <td>3.0</td>\n",
              "      <td>NaN</td>\n",
              "      <td>medium</td>\n",
              "      <td>0.758054</td>\n",
              "      <td>Employed</td>\n",
              "      <td>4.00</td>\n",
              "      <td>Procurement</td>\n",
              "      <td>Louie Viles</td>\n",
              "    </tr>\n",
              "    <tr>\n",
              "      <th>23</th>\n",
              "      <td>115276</td>\n",
              "      <td>50.0</td>\n",
              "      <td>Male</td>\n",
              "      <td>Married</td>\n",
              "      <td>151.00</td>\n",
              "      <td>D00-PR</td>\n",
              "      <td>None</td>\n",
              "      <td>0.636792</td>\n",
              "      <td>5.0</td>\n",
              "      <td>NaN</td>\n",
              "      <td>medium</td>\n",
              "      <td>0.969684</td>\n",
              "      <td>Employed</td>\n",
              "      <td>2.00</td>\n",
              "      <td>Procurement</td>\n",
              "      <td>Louie Viles</td>\n",
              "    </tr>\n",
              "    <tr>\n",
              "      <th>24</th>\n",
              "      <td>118755</td>\n",
              "      <td>25.0</td>\n",
              "      <td>Female</td>\n",
              "      <td>Unmarried</td>\n",
              "      <td>143.00</td>\n",
              "      <td>D00-PR</td>\n",
              "      <td>None</td>\n",
              "      <td>0.571527</td>\n",
              "      <td>3.0</td>\n",
              "      <td>NaN</td>\n",
              "      <td>low</td>\n",
              "      <td>0.767074</td>\n",
              "      <td>Employed</td>\n",
              "      <td>3.00</td>\n",
              "      <td>Procurement</td>\n",
              "      <td>Louie Viles</td>\n",
              "    </tr>\n",
              "    <tr>\n",
              "      <th>25</th>\n",
              "      <td>114508</td>\n",
              "      <td>25.0</td>\n",
              "      <td>Male</td>\n",
              "      <td>Unmarried</td>\n",
              "      <td>172.00</td>\n",
              "      <td>D00-PR</td>\n",
              "      <td>None</td>\n",
              "      <td>NaN</td>\n",
              "      <td>3.0</td>\n",
              "      <td>NaN</td>\n",
              "      <td>medium</td>\n",
              "      <td>0.504736</td>\n",
              "      <td>Employed</td>\n",
              "      <td>2.00</td>\n",
              "      <td>Procurement</td>\n",
              "      <td>Louie Viles</td>\n",
              "    </tr>\n",
              "    <tr>\n",
              "      <th>26</th>\n",
              "      <td>101449</td>\n",
              "      <td>57.0</td>\n",
              "      <td>Male</td>\n",
              "      <td>Married</td>\n",
              "      <td>254.00</td>\n",
              "      <td>D00-PR</td>\n",
              "      <td>1.00</td>\n",
              "      <td>0.957696</td>\n",
              "      <td>7.0</td>\n",
              "      <td>NaN</td>\n",
              "      <td>medium</td>\n",
              "      <td>0.112467</td>\n",
              "      <td>Left</td>\n",
              "      <td>4.00</td>\n",
              "      <td>Procurement</td>\n",
              "      <td>Louie Viles</td>\n",
              "    </tr>\n",
              "    <tr>\n",
              "      <th>27</th>\n",
              "      <td>104005</td>\n",
              "      <td>35.0</td>\n",
              "      <td>Male</td>\n",
              "      <td>Married</td>\n",
              "      <td>260.00</td>\n",
              "      <td>D00-PR</td>\n",
              "      <td>1.00</td>\n",
              "      <td>0.714554</td>\n",
              "      <td>5.0</td>\n",
              "      <td>NaN</td>\n",
              "      <td>low</td>\n",
              "      <td>0.833855</td>\n",
              "      <td>Employed</td>\n",
              "      <td>3.00</td>\n",
              "      <td>Procurement</td>\n",
              "      <td>Louie Viles</td>\n",
              "    </tr>\n",
              "    <tr>\n",
              "      <th>28</th>\n",
              "      <td>117888</td>\n",
              "      <td>48.0</td>\n",
              "      <td>Male</td>\n",
              "      <td>Married</td>\n",
              "      <td>180.00</td>\n",
              "      <td>D00-PR</td>\n",
              "      <td>1.00</td>\n",
              "      <td>0.695725</td>\n",
              "      <td>4.0</td>\n",
              "      <td>NaN</td>\n",
              "      <td>medium</td>\n",
              "      <td>0.665223</td>\n",
              "      <td>Employed</td>\n",
              "      <td>3.00</td>\n",
              "      <td>Procurement</td>\n",
              "      <td>Louie Viles</td>\n",
              "    </tr>\n",
              "    <tr>\n",
              "      <th>29</th>\n",
              "      <td>103688</td>\n",
              "      <td>46.0</td>\n",
              "      <td>Male</td>\n",
              "      <td>Married</td>\n",
              "      <td>208.00</td>\n",
              "      <td>D00-PR</td>\n",
              "      <td>None</td>\n",
              "      <td>0.532424</td>\n",
              "      <td>5.0</td>\n",
              "      <td>NaN</td>\n",
              "      <td>low</td>\n",
              "      <td>0.295015</td>\n",
              "      <td>Employed</td>\n",
              "      <td>5.00</td>\n",
              "      <td>Procurement</td>\n",
              "      <td>Louie Viles</td>\n",
              "    </tr>\n",
              "  </tbody>\n",
              "</table>\n",
              "</div>"
            ],
            "text/plain": [
              "    employee_id   age  gender  ... tenure    dept_name    dept_head\n",
              "0        113558  43.0    Male  ...   4.00  Procurement  Louie Viles\n",
              "1        108071  36.0    Male  ...   6.00  Procurement  Louie Viles\n",
              "2        110888  42.0    Male  ...   3.00  Procurement  Louie Viles\n",
              "3        115694  26.0    Male  ...   4.00  Procurement  Louie Viles\n",
              "4        107767  43.0    Male  ...   5.00  Procurement  Louie Viles\n",
              "5        106202  45.0    Male  ...   3.00  Procurement  Louie Viles\n",
              "6        112930  36.0  Female  ...   3.00  Procurement  Louie Viles\n",
              "7        101536  22.0    Male  ...   4.00  Procurement  Louie Viles\n",
              "8        101021  23.0    Male  ...   3.00  Procurement  Louie Viles\n",
              "9        118206  27.0    Male  ...   3.00  Procurement  Louie Viles\n",
              "10       116457  28.0    Male  ...   4.00  Procurement  Louie Viles\n",
              "11       108463  25.0  Female  ...   3.00  Procurement  Louie Viles\n",
              "12       101234  35.0    Male  ...   4.00  Procurement  Louie Viles\n",
              "13       112355  25.0  Female  ...   3.00  Procurement  Louie Viles\n",
              "14       101345  28.0    Male  ...   2.00  Procurement  Louie Viles\n",
              "15       102012  23.0  Female  ...   3.00  Procurement  Louie Viles\n",
              "16       113329  53.0    Male  ...   4.00  Procurement  Louie Viles\n",
              "17       113645  24.0    Male  ...   6.00  Procurement  Louie Viles\n",
              "18       102644  52.0    Male  ...   6.00  Procurement  Louie Viles\n",
              "19       118915  26.0    Male  ...   4.00  Procurement  Louie Viles\n",
              "20       105542  52.0    Male  ...   2.00  Procurement  Louie Viles\n",
              "21       104556  52.0  Female  ...   2.00  Procurement  Louie Viles\n",
              "22       114943  22.0  Female  ...   4.00  Procurement  Louie Viles\n",
              "23       115276  50.0    Male  ...   2.00  Procurement  Louie Viles\n",
              "24       118755  25.0  Female  ...   3.00  Procurement  Louie Viles\n",
              "25       114508  25.0    Male  ...   2.00  Procurement  Louie Viles\n",
              "26       101449  57.0    Male  ...   4.00  Procurement  Louie Viles\n",
              "27       104005  35.0    Male  ...   3.00  Procurement  Louie Viles\n",
              "28       117888  48.0    Male  ...   3.00  Procurement  Louie Viles\n",
              "29       103688  46.0    Male  ...   5.00  Procurement  Louie Viles\n",
              "\n",
              "[30 rows x 16 columns]"
            ]
          },
          "metadata": {},
          "execution_count": 210
        }
      ]
    },
    {
      "cell_type": "code",
      "metadata": {
        "colab": {
          "base_uri": "https://localhost:8080/"
        },
        "id": "F_HkX29y3Whq",
        "outputId": "4ee5a358-a2c7-4e06-fa51-80b26007ffff"
      },
      "source": [
        "data[data['filed_complaint']==1]['dept_id'].value_counts()"
      ],
      "execution_count": 211,
      "outputs": [
        {
          "output_type": "execute_result",
          "data": {
            "text/plain": [
              "D00-SS     555\n",
              "D00-ENG    358\n",
              "D00-SP     328\n",
              "D00-IT     195\n",
              "D00-MT     130\n",
              "D00-PD     126\n",
              "D00-MN     104\n",
              "D00-FN      86\n",
              "D00-PR      32\n",
              "D00-TP      29\n",
              "D00-AD      17\n",
              "Name: dept_id, dtype: int64"
            ]
          },
          "metadata": {},
          "execution_count": 211
        }
      ]
    },
    {
      "cell_type": "code",
      "metadata": {
        "colab": {
          "base_uri": "https://localhost:8080/"
        },
        "id": "9sP6sD0O4nfl",
        "outputId": "ad3452b5-ab42-4140-c37a-a3fac46d7a99"
      },
      "source": [
        "data[data['recently_promoted']==1]['dept_id'].value_counts()"
      ],
      "execution_count": 212,
      "outputs": [
        {
          "output_type": "execute_result",
          "data": {
            "text/plain": [
              "D00-SS     96\n",
              "D00-MN     68\n",
              "D00-MT     40\n",
              "D00-ENG    26\n",
              "D00-SP     17\n",
              "D00-FN     14\n",
              "D00-PR     10\n",
              "D00-IT      7\n",
              "D00-AD      4\n",
              "Name: dept_id, dtype: int64"
            ]
          },
          "metadata": {},
          "execution_count": 212
        }
      ]
    },
    {
      "cell_type": "code",
      "metadata": {
        "colab": {
          "base_uri": "https://localhost:8080/"
        },
        "id": "zWgQVtfH9O9n",
        "outputId": "a4f122f0-7a35-4f35-d23b-d0c9e55533c8"
      },
      "source": [
        "data['dept_id'].value_counts()"
      ],
      "execution_count": 213,
      "outputs": [
        {
          "output_type": "execute_result",
          "data": {
            "text/plain": [
              "D00-SS     3905\n",
              "D00-ENG    2575\n",
              "D00-SP     2113\n",
              "D00-IT     1364\n",
              "D00-PD      855\n",
              "D00-MT      815\n",
              "D00-FN      725\n",
              "D00-MN      593\n",
              "D00-AD      175\n",
              "D00-PR      173\n",
              "D00-TP      150\n",
              "Name: dept_id, dtype: int64"
            ]
          },
          "metadata": {},
          "execution_count": 213
        }
      ]
    },
    {
      "cell_type": "code",
      "metadata": {
        "colab": {
          "base_uri": "https://localhost:8080/"
        },
        "id": "QYGJSoLu5VNI",
        "outputId": "b5c150b9-b8db-439b-db9c-daf8dcde952b"
      },
      "source": [
        "data.count()"
      ],
      "execution_count": 214,
      "outputs": [
        {
          "output_type": "execute_result",
          "data": {
            "text/plain": [
              "employee_id          14279\n",
              "age                  14274\n",
              "gender               14274\n",
              "marital_status       14274\n",
              "avg_monthly_hrs      14150\n",
              "dept_id              13443\n",
              "filed_complaint       2046\n",
              "last_evaluation      12663\n",
              "n_projects           14150\n",
              "recently_promoted      297\n",
              "satisfaction         14150\n",
              "salary               14000\n",
              "status               14150\n",
              "tenure               14000\n",
              "dept_name            13443\n",
              "dept_head            13443\n",
              "dtype: int64"
            ]
          },
          "metadata": {},
          "execution_count": 214
        }
      ]
    },
    {
      "cell_type": "code",
      "metadata": {
        "colab": {
          "base_uri": "https://localhost:8080/"
        },
        "id": "HEmNl3Br42eu",
        "outputId": "9f4a3b3d-cb63-4168-ed59-ac277c1d92d2"
      },
      "source": [
        "data[data['status']=='Left'].count()"
      ],
      "execution_count": 215,
      "outputs": [
        {
          "output_type": "execute_result",
          "data": {
            "text/plain": [
              "employee_id          3366\n",
              "age                  3363\n",
              "gender               3363\n",
              "marital_status       3363\n",
              "avg_monthly_hrs      3366\n",
              "dept_id              3161\n",
              "filed_complaint       152\n",
              "last_evaluation      3116\n",
              "n_projects           3366\n",
              "recently_promoted      18\n",
              "satisfaction         3366\n",
              "salary               3346\n",
              "status               3366\n",
              "tenure               3346\n",
              "dept_name            3161\n",
              "dept_head            3161\n",
              "dtype: int64"
            ]
          },
          "metadata": {},
          "execution_count": 215
        }
      ]
    },
    {
      "cell_type": "code",
      "metadata": {
        "id": "7al05Ifd5eau"
      },
      "source": [
        "data_left = data[data['status']=='Left']"
      ],
      "execution_count": 216,
      "outputs": []
    },
    {
      "cell_type": "code",
      "metadata": {
        "colab": {
          "base_uri": "https://localhost:8080/"
        },
        "id": "hfP-HE5e5iA8",
        "outputId": "0ff0e8e6-a415-4b38-eecc-a1b641c386e8"
      },
      "source": [
        "data_left[data_left.filed_complaint==1]['satisfaction'].value_counts()"
      ],
      "execution_count": 217,
      "outputs": [
        {
          "output_type": "execute_result",
          "data": {
            "text/plain": [
              "low       88\n",
              "medium    64\n",
              "Name: satisfaction, dtype: int64"
            ]
          },
          "metadata": {},
          "execution_count": 217
        }
      ]
    },
    {
      "cell_type": "code",
      "metadata": {
        "colab": {
          "base_uri": "https://localhost:8080/"
        },
        "id": "CAM6AiMe5ojf",
        "outputId": "d2ead69f-170d-479e-d4c1-23e9aee107ed"
      },
      "source": [
        "data_left[data_left.recently_promoted==1]['satisfaction'].value_counts()"
      ],
      "execution_count": 218,
      "outputs": [
        {
          "output_type": "execute_result",
          "data": {
            "text/plain": [
              "low       14\n",
              "medium     4\n",
              "Name: satisfaction, dtype: int64"
            ]
          },
          "metadata": {},
          "execution_count": 218
        }
      ]
    },
    {
      "cell_type": "code",
      "metadata": {
        "id": "BRhUtVo257MN"
      },
      "source": [
        "data_employed = data[data['status']=='Employed']"
      ],
      "execution_count": 219,
      "outputs": []
    },
    {
      "cell_type": "code",
      "metadata": {
        "colab": {
          "base_uri": "https://localhost:8080/"
        },
        "id": "HDj68A5Z6DAs",
        "outputId": "4f45503e-ce5c-416d-ba0d-be707ed98d35"
      },
      "source": [
        "data_employed[data_employed.filed_complaint==1]['satisfaction'].value_counts()"
      ],
      "execution_count": 220,
      "outputs": [
        {
          "output_type": "execute_result",
          "data": {
            "text/plain": [
              "low       887\n",
              "medium    824\n",
              "high      183\n",
              "Name: satisfaction, dtype: int64"
            ]
          },
          "metadata": {},
          "execution_count": 220
        }
      ]
    },
    {
      "cell_type": "code",
      "metadata": {
        "colab": {
          "base_uri": "https://localhost:8080/"
        },
        "id": "n659qIv_6MBi",
        "outputId": "b76c5dee-2707-435a-8ee9-e4b480fdb1e3"
      },
      "source": [
        "data_employed[data_employed.recently_promoted==1]['satisfaction'].value_counts()"
      ],
      "execution_count": 221,
      "outputs": [
        {
          "output_type": "execute_result",
          "data": {
            "text/plain": [
              "medium    160\n",
              "high       68\n",
              "low        51\n",
              "Name: satisfaction, dtype: int64"
            ]
          },
          "metadata": {},
          "execution_count": 221
        }
      ]
    },
    {
      "cell_type": "code",
      "metadata": {
        "colab": {
          "base_uri": "https://localhost:8080/",
          "height": 437
        },
        "id": "BUOnHz0z7t9t",
        "outputId": "23322828-9006-4b44-fcdd-1c8bd9b14e95"
      },
      "source": [
        "data_left"
      ],
      "execution_count": 222,
      "outputs": [
        {
          "output_type": "execute_result",
          "data": {
            "text/html": [
              "<div>\n",
              "<style scoped>\n",
              "    .dataframe tbody tr th:only-of-type {\n",
              "        vertical-align: middle;\n",
              "    }\n",
              "\n",
              "    .dataframe tbody tr th {\n",
              "        vertical-align: top;\n",
              "    }\n",
              "\n",
              "    .dataframe thead th {\n",
              "        text-align: right;\n",
              "    }\n",
              "</style>\n",
              "<table border=\"1\" class=\"dataframe\">\n",
              "  <thead>\n",
              "    <tr style=\"text-align: right;\">\n",
              "      <th></th>\n",
              "      <th>employee_id</th>\n",
              "      <th>age</th>\n",
              "      <th>gender</th>\n",
              "      <th>marital_status</th>\n",
              "      <th>avg_monthly_hrs</th>\n",
              "      <th>dept_id</th>\n",
              "      <th>filed_complaint</th>\n",
              "      <th>last_evaluation</th>\n",
              "      <th>n_projects</th>\n",
              "      <th>recently_promoted</th>\n",
              "      <th>satisfaction</th>\n",
              "      <th>salary</th>\n",
              "      <th>status</th>\n",
              "      <th>tenure</th>\n",
              "      <th>dept_name</th>\n",
              "      <th>dept_head</th>\n",
              "    </tr>\n",
              "  </thead>\n",
              "  <tbody>\n",
              "    <tr>\n",
              "      <th>26</th>\n",
              "      <td>101449</td>\n",
              "      <td>57.0</td>\n",
              "      <td>Male</td>\n",
              "      <td>Married</td>\n",
              "      <td>254.00</td>\n",
              "      <td>D00-PR</td>\n",
              "      <td>1.00</td>\n",
              "      <td>0.957696</td>\n",
              "      <td>7.0</td>\n",
              "      <td>NaN</td>\n",
              "      <td>medium</td>\n",
              "      <td>0.112467</td>\n",
              "      <td>Left</td>\n",
              "      <td>4.00</td>\n",
              "      <td>Procurement</td>\n",
              "      <td>Louie Viles</td>\n",
              "    </tr>\n",
              "    <tr>\n",
              "      <th>44</th>\n",
              "      <td>128391</td>\n",
              "      <td>31.0</td>\n",
              "      <td>Female</td>\n",
              "      <td>Married</td>\n",
              "      <td>272.00</td>\n",
              "      <td>D00-PR</td>\n",
              "      <td>None</td>\n",
              "      <td>0.865514</td>\n",
              "      <td>6.0</td>\n",
              "      <td>NaN</td>\n",
              "      <td>low</td>\n",
              "      <td>0.135555</td>\n",
              "      <td>Left</td>\n",
              "      <td>5.00</td>\n",
              "      <td>Procurement</td>\n",
              "      <td>Louie Viles</td>\n",
              "    </tr>\n",
              "    <tr>\n",
              "      <th>45</th>\n",
              "      <td>126260</td>\n",
              "      <td>22.0</td>\n",
              "      <td>Female</td>\n",
              "      <td>Unmarried</td>\n",
              "      <td>132.00</td>\n",
              "      <td>D00-PR</td>\n",
              "      <td>None</td>\n",
              "      <td>0.485557</td>\n",
              "      <td>2.0</td>\n",
              "      <td>NaN</td>\n",
              "      <td>low</td>\n",
              "      <td>0.445789</td>\n",
              "      <td>Left</td>\n",
              "      <td>3.00</td>\n",
              "      <td>Procurement</td>\n",
              "      <td>Louie Viles</td>\n",
              "    </tr>\n",
              "    <tr>\n",
              "      <th>56</th>\n",
              "      <td>119066</td>\n",
              "      <td>22.0</td>\n",
              "      <td>Female</td>\n",
              "      <td>Unmarried</td>\n",
              "      <td>255.00</td>\n",
              "      <td>D00-PR</td>\n",
              "      <td>None</td>\n",
              "      <td>0.824835</td>\n",
              "      <td>5.0</td>\n",
              "      <td>NaN</td>\n",
              "      <td>medium</td>\n",
              "      <td>0.890563</td>\n",
              "      <td>Left</td>\n",
              "      <td>5.00</td>\n",
              "      <td>Procurement</td>\n",
              "      <td>Louie Viles</td>\n",
              "    </tr>\n",
              "    <tr>\n",
              "      <th>98</th>\n",
              "      <td>118576</td>\n",
              "      <td>31.0</td>\n",
              "      <td>Male</td>\n",
              "      <td>Married</td>\n",
              "      <td>270.00</td>\n",
              "      <td>D00-PR</td>\n",
              "      <td>None</td>\n",
              "      <td>0.828354</td>\n",
              "      <td>7.0</td>\n",
              "      <td>NaN</td>\n",
              "      <td>medium</td>\n",
              "      <td>0.089904</td>\n",
              "      <td>Left</td>\n",
              "      <td>4.00</td>\n",
              "      <td>Procurement</td>\n",
              "      <td>Louie Viles</td>\n",
              "    </tr>\n",
              "    <tr>\n",
              "      <th>...</th>\n",
              "      <td>...</td>\n",
              "      <td>...</td>\n",
              "      <td>...</td>\n",
              "      <td>...</td>\n",
              "      <td>...</td>\n",
              "      <td>...</td>\n",
              "      <td>...</td>\n",
              "      <td>...</td>\n",
              "      <td>...</td>\n",
              "      <td>...</td>\n",
              "      <td>...</td>\n",
              "      <td>...</td>\n",
              "      <td>...</td>\n",
              "      <td>...</td>\n",
              "      <td>...</td>\n",
              "      <td>...</td>\n",
              "    </tr>\n",
              "    <tr>\n",
              "      <th>14265</th>\n",
              "      <td>121453</td>\n",
              "      <td>49.0</td>\n",
              "      <td>Female</td>\n",
              "      <td>Married</td>\n",
              "      <td>308.00</td>\n",
              "      <td>D00-FN</td>\n",
              "      <td>None</td>\n",
              "      <td>0.736991</td>\n",
              "      <td>7.0</td>\n",
              "      <td>NaN</td>\n",
              "      <td>low</td>\n",
              "      <td>0.080796</td>\n",
              "      <td>Left</td>\n",
              "      <td>4.00</td>\n",
              "      <td>Finance</td>\n",
              "      <td>Aanchal J</td>\n",
              "    </tr>\n",
              "    <tr>\n",
              "      <th>14267</th>\n",
              "      <td>118889</td>\n",
              "      <td>24.0</td>\n",
              "      <td>Female</td>\n",
              "      <td>Unmarried</td>\n",
              "      <td>142.00</td>\n",
              "      <td>D00-FN</td>\n",
              "      <td>None</td>\n",
              "      <td>0.514580</td>\n",
              "      <td>2.0</td>\n",
              "      <td>NaN</td>\n",
              "      <td>low</td>\n",
              "      <td>0.360598</td>\n",
              "      <td>Left</td>\n",
              "      <td>3.00</td>\n",
              "      <td>Finance</td>\n",
              "      <td>Aanchal J</td>\n",
              "    </tr>\n",
              "    <tr>\n",
              "      <th>14269</th>\n",
              "      <td>125031</td>\n",
              "      <td>24.0</td>\n",
              "      <td>Female</td>\n",
              "      <td>Unmarried</td>\n",
              "      <td>145.00</td>\n",
              "      <td>D00-FN</td>\n",
              "      <td>None</td>\n",
              "      <td>0.514047</td>\n",
              "      <td>2.0</td>\n",
              "      <td>NaN</td>\n",
              "      <td>medium</td>\n",
              "      <td>0.456620</td>\n",
              "      <td>Left</td>\n",
              "      <td>3.00</td>\n",
              "      <td>Finance</td>\n",
              "      <td>Aanchal J</td>\n",
              "    </tr>\n",
              "    <tr>\n",
              "      <th>14270</th>\n",
              "      <td>106957</td>\n",
              "      <td>28.0</td>\n",
              "      <td>Male</td>\n",
              "      <td>Unmarried</td>\n",
              "      <td>127.00</td>\n",
              "      <td>D00-FN</td>\n",
              "      <td>None</td>\n",
              "      <td>0.462456</td>\n",
              "      <td>2.0</td>\n",
              "      <td>NaN</td>\n",
              "      <td>low</td>\n",
              "      <td>0.371089</td>\n",
              "      <td>Left</td>\n",
              "      <td>3.00</td>\n",
              "      <td>Finance</td>\n",
              "      <td>Aanchal J</td>\n",
              "    </tr>\n",
              "    <tr>\n",
              "      <th>14274</th>\n",
              "      <td>128142</td>\n",
              "      <td>22.0</td>\n",
              "      <td>Female</td>\n",
              "      <td>Unmarried</td>\n",
              "      <td>153.00</td>\n",
              "      <td>D00-FN</td>\n",
              "      <td>None</td>\n",
              "      <td>0.510412</td>\n",
              "      <td>2.0</td>\n",
              "      <td>NaN</td>\n",
              "      <td>medium</td>\n",
              "      <td>0.423452</td>\n",
              "      <td>Left</td>\n",
              "      <td>3.00</td>\n",
              "      <td>Finance</td>\n",
              "      <td>Aanchal J</td>\n",
              "    </tr>\n",
              "  </tbody>\n",
              "</table>\n",
              "<p>3366 rows × 16 columns</p>\n",
              "</div>"
            ],
            "text/plain": [
              "       employee_id   age  gender  ... tenure    dept_name    dept_head\n",
              "26          101449  57.0    Male  ...   4.00  Procurement  Louie Viles\n",
              "44          128391  31.0  Female  ...   5.00  Procurement  Louie Viles\n",
              "45          126260  22.0  Female  ...   3.00  Procurement  Louie Viles\n",
              "56          119066  22.0  Female  ...   5.00  Procurement  Louie Viles\n",
              "98          118576  31.0    Male  ...   4.00  Procurement  Louie Viles\n",
              "...            ...   ...     ...  ...    ...          ...          ...\n",
              "14265       121453  49.0  Female  ...   4.00      Finance    Aanchal J\n",
              "14267       118889  24.0  Female  ...   3.00      Finance    Aanchal J\n",
              "14269       125031  24.0  Female  ...   3.00      Finance    Aanchal J\n",
              "14270       106957  28.0    Male  ...   3.00      Finance    Aanchal J\n",
              "14274       128142  22.0  Female  ...   3.00      Finance    Aanchal J\n",
              "\n",
              "[3366 rows x 16 columns]"
            ]
          },
          "metadata": {},
          "execution_count": 222
        }
      ]
    }
  ]
}