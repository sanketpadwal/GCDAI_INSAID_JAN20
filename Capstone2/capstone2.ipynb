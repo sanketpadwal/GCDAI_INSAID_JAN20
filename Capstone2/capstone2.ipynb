{
  "nbformat": 4,
  "nbformat_minor": 0,
  "metadata": {
    "colab": {
      "name": "capstone2.ipynb",
      "provenance": [],
      "collapsed_sections": [],
      "authorship_tag": "ABX9TyNLj/XeK+g+dhKDm5FSnY7e",
      "include_colab_link": true
    },
    "kernelspec": {
      "name": "python3",
      "display_name": "Python 3"
    },
    "language_info": {
      "name": "python"
    }
  },
  "cells": [
    {
      "cell_type": "markdown",
      "metadata": {
        "id": "view-in-github",
        "colab_type": "text"
      },
      "source": [
        "<a href=\"https://colab.research.google.com/github/sanketpadwal/GCDAI_INSAID_JAN20/blob/main/Capstone2/capstone2.ipynb\" target=\"_parent\"><img src=\"https://colab.research.google.com/assets/colab-badge.svg\" alt=\"Open In Colab\"/></a>"
      ]
    },
    {
      "cell_type": "code",
      "metadata": {
        "id": "C3PgZzcNHlB1"
      },
      "source": [
        "import mysql.connector\n",
        "import pandas as pd\n",
        "import numpy as np"
      ],
      "execution_count": 21,
      "outputs": []
    },
    {
      "cell_type": "code",
      "metadata": {
        "id": "ZHgdkU4LPa9Q"
      },
      "source": [
        "mydb = mysql.connector.connect(host=\"cpanel.insaid.co\", user=\"student\", password=\"student\", database=\"Capstone2\")\n",
        "mycursor = mydb.cursor()\n",
        "mycursor.execute(\"SELECT * FROM department_data\")\n",
        "myresult1 = mycursor.fetchall()\n",
        "department_data = pd.DataFrame(myresult1,columns=['dept_id','dept_name','dept_head'])"
      ],
      "execution_count": 147,
      "outputs": []
    },
    {
      "cell_type": "code",
      "metadata": {
        "id": "i47Bks4JRI-B"
      },
      "source": [
        "mycursor.execute(\"SELECT * FROM employee_details_data\")\n",
        "myresult2 = mycursor.fetchall()\n",
        "employee_details_data = pd.DataFrame(myresult2,columns=['employee_id','age','gender','marital_status'])"
      ],
      "execution_count": 148,
      "outputs": []
    },
    {
      "cell_type": "code",
      "metadata": {
        "id": "300jZGxsSxG_"
      },
      "source": [
        "mycursor.execute(\"SELECT * FROM employee_data\")\n",
        "myresult3 = mycursor.fetchall()\n",
        "employee_data = pd.DataFrame(myresult3,columns=['avg_monthly_hrs','dept_id','recently_promoted','last_evaluation','n_projects','filed_complaint','satisfaction','salary','status','tenure','employee_id'])"
      ],
      "execution_count": 149,
      "outputs": []
    },
    {
      "cell_type": "code",
      "metadata": {
        "colab": {
          "base_uri": "https://localhost:8080/"
        },
        "id": "7cfa9Gv1qKNe",
        "outputId": "179e55da-49dd-4a9b-c259-6adaec7f7493"
      },
      "source": [
        "employee_data.info()"
      ],
      "execution_count": 150,
      "outputs": [
        {
          "output_type": "stream",
          "name": "stdout",
          "text": [
            "<class 'pandas.core.frame.DataFrame'>\n",
            "RangeIndex: 14150 entries, 0 to 14149\n",
            "Data columns (total 11 columns):\n",
            " #   Column             Non-Null Count  Dtype  \n",
            "---  ------             --------------  -----  \n",
            " 0   avg_monthly_hrs    14150 non-null  object \n",
            " 1   dept_id            13443 non-null  object \n",
            " 2   recently_promoted  2046 non-null   object \n",
            " 3   last_evaluation    12663 non-null  float64\n",
            " 4   n_projects         14150 non-null  int64  \n",
            " 5   filed_complaint    297 non-null    float64\n",
            " 6   satisfaction       14150 non-null  object \n",
            " 7   salary             14000 non-null  float64\n",
            " 8   status             14150 non-null  object \n",
            " 9   tenure             14000 non-null  object \n",
            " 10  employee_id        14150 non-null  int64  \n",
            "dtypes: float64(3), int64(2), object(6)\n",
            "memory usage: 1.2+ MB\n"
          ]
        }
      ]
    },
    {
      "cell_type": "code",
      "metadata": {
        "colab": {
          "base_uri": "https://localhost:8080/"
        },
        "id": "dahhu5HLqQ8f",
        "outputId": "3fa8451c-96b3-4834-8f1c-3563898f3eea"
      },
      "source": [
        "employee_details_data.info()"
      ],
      "execution_count": 151,
      "outputs": [
        {
          "output_type": "stream",
          "name": "stdout",
          "text": [
            "<class 'pandas.core.frame.DataFrame'>\n",
            "RangeIndex: 14245 entries, 0 to 14244\n",
            "Data columns (total 4 columns):\n",
            " #   Column          Non-Null Count  Dtype \n",
            "---  ------          --------------  ----- \n",
            " 0   employee_id     14245 non-null  int64 \n",
            " 1   age             14245 non-null  int64 \n",
            " 2   gender          14245 non-null  object\n",
            " 3   marital_status  14245 non-null  object\n",
            "dtypes: int64(2), object(2)\n",
            "memory usage: 445.3+ KB\n"
          ]
        }
      ]
    },
    {
      "cell_type": "code",
      "metadata": {
        "id": "uflabwmyq7i3"
      },
      "source": [
        "data = pd.merge(employee_details_data, employee_data, on='employee_id', how='outer')"
      ],
      "execution_count": 152,
      "outputs": []
    },
    {
      "cell_type": "code",
      "metadata": {
        "colab": {
          "base_uri": "https://localhost:8080/"
        },
        "id": "OQUaVli2rOQh",
        "outputId": "eab53f17-6780-4597-b7d2-39aca185be53"
      },
      "source": [
        "data.dept_id.value_counts()"
      ],
      "execution_count": 154,
      "outputs": [
        {
          "output_type": "execute_result",
          "data": {
            "text/plain": [
              "D00-SS     3905\n",
              "D00-ENG    2575\n",
              "D00-SP     2113\n",
              "D00-IT     1157\n",
              "D00-PD      855\n",
              "D00-MT      815\n",
              "D00-FN      725\n",
              "D00-MN      593\n",
              "-IT         207\n",
              "D00-AD      175\n",
              "D00-PR      173\n",
              "D00-TP      150\n",
              "Name: dept_id, dtype: int64"
            ]
          },
          "metadata": {},
          "execution_count": 154
        }
      ]
    },
    {
      "cell_type": "code",
      "metadata": {
        "id": "F49ptx7gsP1B"
      },
      "source": [
        "data['dept_id']=data['dept_id'].apply(lambda x: \"D00\"+x if x==\"-IT\" else x)"
      ],
      "execution_count": 155,
      "outputs": []
    },
    {
      "cell_type": "code",
      "metadata": {
        "colab": {
          "base_uri": "https://localhost:8080/"
        },
        "id": "gygggxpktKC1",
        "outputId": "f8947b7e-2fe2-4e67-e05e-8bd7f7377654"
      },
      "source": [
        "data.dept_id.value_counts()"
      ],
      "execution_count": 157,
      "outputs": [
        {
          "output_type": "execute_result",
          "data": {
            "text/plain": [
              "D00-SS     3905\n",
              "D00-ENG    2575\n",
              "D00-SP     2113\n",
              "D00-IT     1364\n",
              "D00-PD      855\n",
              "D00-MT      815\n",
              "D00-FN      725\n",
              "D00-MN      593\n",
              "D00-AD      175\n",
              "D00-PR      173\n",
              "D00-TP      150\n",
              "Name: dept_id, dtype: int64"
            ]
          },
          "metadata": {},
          "execution_count": 157
        }
      ]
    },
    {
      "cell_type": "code",
      "metadata": {
        "id": "uRy5L8i_yh-E"
      },
      "source": [
        "data = pd.merge(data,department_data,how='outer',on='dept_id')"
      ],
      "execution_count": 158,
      "outputs": []
    },
    {
      "cell_type": "code",
      "metadata": {
        "colab": {
          "base_uri": "https://localhost:8080/"
        },
        "id": "1Wlw_KINzMbX",
        "outputId": "3bd1c527-4ad0-448f-bee1-7ab3ae3c9377"
      },
      "source": [
        "data.info()"
      ],
      "execution_count": 159,
      "outputs": [
        {
          "output_type": "stream",
          "name": "stdout",
          "text": [
            "<class 'pandas.core.frame.DataFrame'>\n",
            "Int64Index: 14279 entries, 0 to 14278\n",
            "Data columns (total 16 columns):\n",
            " #   Column             Non-Null Count  Dtype  \n",
            "---  ------             --------------  -----  \n",
            " 0   employee_id        14279 non-null  int64  \n",
            " 1   age                14274 non-null  float64\n",
            " 2   gender             14274 non-null  object \n",
            " 3   marital_status     14274 non-null  object \n",
            " 4   avg_monthly_hrs    14150 non-null  object \n",
            " 5   dept_id            13443 non-null  object \n",
            " 6   recently_promoted  2046 non-null   object \n",
            " 7   last_evaluation    12663 non-null  float64\n",
            " 8   n_projects         14150 non-null  float64\n",
            " 9   filed_complaint    297 non-null    float64\n",
            " 10  satisfaction       14150 non-null  object \n",
            " 11  salary             14000 non-null  float64\n",
            " 12  status             14150 non-null  object \n",
            " 13  tenure             14000 non-null  object \n",
            " 14  dept_name          13443 non-null  object \n",
            " 15  dept_head          13443 non-null  object \n",
            "dtypes: float64(5), int64(1), object(10)\n",
            "memory usage: 1.9+ MB\n"
          ]
        }
      ]
    },
    {
      "cell_type": "code",
      "metadata": {
        "id": "iVdFRzXuzT4G"
      },
      "source": [
        "#data.to_csv('dataframe.csv',index = False, header=True)"
      ],
      "execution_count": 161,
      "outputs": []
    }
  ]
}