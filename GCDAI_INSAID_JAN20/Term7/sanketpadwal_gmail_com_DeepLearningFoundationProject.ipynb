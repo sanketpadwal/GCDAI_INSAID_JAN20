{
  "nbformat": 4,
  "nbformat_minor": 0,
  "metadata": {
    "colab": {
      "name": "sanketpadwal@gmail.com_DeepLearningFoundationProject.ipynb",
      "provenance": [],
      "collapsed_sections": [],
      "authorship_tag": "ABX9TyONU/PWVAFnxCFhCyPXQQ7i",
      "include_colab_link": true
    },
    "kernelspec": {
      "display_name": "Python 3",
      "name": "python3"
    },
    "language_info": {
      "name": "python"
    }
  },
  "cells": [
    {
      "cell_type": "markdown",
      "metadata": {
        "id": "view-in-github",
        "colab_type": "text"
      },
      "source": [
        "<a href=\"https://colab.research.google.com/github/sanketpadwal/GCDAI_INSAID_JAN20/blob/main/GCDAI_INSAID_JAN20/Term7/sanketpadwal_gmail_com_DeepLearningFoundationProject.ipynb\" target=\"_parent\"><img src=\"https://colab.research.google.com/assets/colab-badge.svg\" alt=\"Open In Colab\"/></a>"
      ]
    },
    {
      "cell_type": "markdown",
      "metadata": {
        "id": "tUSzVnkrEnJQ"
      },
      "source": [
        "# INSAID Term Project - Deap Learning Foundation\n",
        "# **PREDICTING LOWEST PRODUCT PRICING USING ARTIFICIAL NUERAL NETWORK**\n",
        "<img src=\"https://github.com/sanketpadwal/GCDAI_INSAID_JAN20/blob/main/Term7/60184848bf83e-Summer%20Sale%20Banner%20Templates.png?raw=true\" width=\"1000\" height=\"500\" />\n",
        "\n",
        "##### https://graphicmama.com/design-bundle/summer-sale-banner-templates?utm_source=sale-banners-article&utm_medium=image\n"
      ]
    },
    {
      "cell_type": "markdown",
      "metadata": {
        "id": "ebX-SfmncO94"
      },
      "source": [
        "# Table of Content\n",
        "1. [Introduction- Problem Statement](#Section1)<br>\n",
        "2. [Objective](#Section2)<br>\n",
        "3. [Install and load libraries](#Section3)<br>\n",
        "4. [Load Dataset](#Section4)<br>\n",
        "5. [EDA using pandas data profiling method](#Section5)<br>\n",
        "6. [Prepare data for model building](#Section6)<br>\n",
        "7. [Build a basic ANN model](#Section7)<br>\n",
        "8. [Use of Optimization - Random Search](#Section8)<br>\n",
        "9. [Best Model parameters Identification](#Section9)<br>\n",
        "10. [Test Data evaluation with Best Model](#Section10)<br>\n",
        "11. [Conclusion](#Section11)<br>"
      ]
    },
    {
      "cell_type": "markdown",
      "metadata": {
        "id": "QBNYXaLScIin"
      },
      "source": [
        "<a name = Section1></a>\n",
        "### **1. Introduction- Problem Statement**\n",
        "---\n",
        "##### A leading global leader of e-commerce has over 150 million paid subscription users. One of the many perks of the subscription is the privilege of buying products at lower prices. For an upcoming sale, the organization has decided to promote local artisans and their products, to help them through these tough times. However, slashed prices may impact local artists. To not let discounts affect local artists, the company has decided to determine the lowest price at which a particular good can be sold.\n",
        "---\n",
        "\n",
        "### **Dataset:**\n",
        "The dataset consists of various parameters such as a unique item ID, category of the market to which a product belongs, category and quality of the product, its demand rate, and its original market price. The data is present in a single csv file: slashing_prices.csv - Dataset consisting of approximately 9,798 data samples.\n",
        "\n",
        "**Source:**<br> \n",
        "Github <br> https://raw.githubusercontent.com/sanketpadwal/GCDAI_INSAID_JAN20/main/Term7/slashing_prices.csv?_sm_au_=iVVH3LNLF2QNrsFqL321jK0f1JH33\n",
        "\n",
        "\n",
        "**Data Descriptions:** \n",
        "\n",
        "| Column Name           | Description |\n",
        "|-----------------------|-------------|\n",
        "| Item_Id Unique        | item ID. |\n",
        "| Date                  | Date.\n",
        "| StateofCountry        | State no. of the country.\n",
        "| Market_Category       | Category of the market to which the product belongs to. |\n",
        "| Product_Category      | Category of the product.\n",
        "| Grade                 | Quality of the product.\n",
        "| Demand                |Demand rate of the product in the market.\n",
        "|LowCapPrice            |Lowest price that can be offered. [target]\n",
        "| HighCapPrice          |Original maximum price in the current market."
      ]
    },
    {
      "cell_type": "markdown",
      "metadata": {
        "id": "YXqHRnCPcLBk"
      },
      "source": [
        "<a name = Section2></a>\n",
        "### **2. Objective**\n",
        "---\n",
        "Task is to build a predictive model using Artificial Neural Net algorithm that helps to set up a lowest-pricing model for the products in dataset."
      ]
    },
    {
      "cell_type": "markdown",
      "metadata": {
        "id": "LIL4g4nvgGuU"
      },
      "source": [
        "<a name = Section3></a>\n",
        "### **3. Install and load libraries** "
      ]
    },
    {
      "cell_type": "code",
      "metadata": {
        "id": "rZmoYKjMbEw6"
      },
      "source": [
        "import pathlib\n",
        "import numpy as np\n",
        "import pandas as pd\n",
        "import matplotlib.pyplot as plt\n",
        "%matplotlib inline\n",
        "import seaborn as sns\n",
        "from sklearn.preprocessing import StandardScaler, OneHotEncoder\n",
        "from time import time\n",
        "import datetime\n",
        "from sklearn.model_selection import train_test_split\n",
        "from sklearn.metrics import r2_score,mean_squared_error\n",
        "\n",
        "import logging\n",
        "logging.basicConfig(format = '%(asctime)s : %(levelname)s :%(message)s', level=logging.INFO)\n",
        "pd.options.mode.chained_assignment = None # to avoid unnecessary warnings"
      ],
      "execution_count": 60,
      "outputs": []
    },
    {
      "cell_type": "code",
      "metadata": {
        "colab": {
          "base_uri": "https://localhost:8080/"
        },
        "id": "bJVCLi7coUgP",
        "outputId": "e3003827-5b2c-43e3-e7e1-cf8c827547ff"
      },
      "source": [
        "logger = logging.getLogger()\n",
        "logger.setLevel(logging.INFO)\n",
        "logging.info(\"test\")\n",
        "\n",
        "# to visualize all columns  in the dataframe\n",
        "pd.pandas.set_option('display.max_columns',None)"
      ],
      "execution_count": 61,
      "outputs": [
        {
          "output_type": "stream",
          "text": [
            "2021-06-15 15:36:32,544 : INFO :test\n"
          ],
          "name": "stderr"
        }
      ]
    },
    {
      "cell_type": "markdown",
      "metadata": {
        "id": "FeOBfoPvjo7l"
      },
      "source": [
        "<a name = Section4></a>\n",
        "### **4. Load Dataset** "
      ]
    },
    {
      "cell_type": "code",
      "metadata": {
        "colab": {
          "base_uri": "https://localhost:8080/",
          "height": 195
        },
        "id": "hVqNWesojvFa",
        "outputId": "c4052ec1-9de9-4157-a090-746382cc4320"
      },
      "source": [
        "# Importing Data\n",
        "data  = pd.read_csv(\"https://raw.githubusercontent.com/sanketpadwal/GCDAI_INSAID_JAN20/main/Term7/slashing_prices.csv?_sm_au_=iVVH3LNLF2QNrsFqL321jK0f1JH33\")\n",
        "data.head()"
      ],
      "execution_count": 62,
      "outputs": [
        {
          "output_type": "execute_result",
          "data": {
            "text/html": [
              "<div>\n",
              "<style scoped>\n",
              "    .dataframe tbody tr th:only-of-type {\n",
              "        vertical-align: middle;\n",
              "    }\n",
              "\n",
              "    .dataframe tbody tr th {\n",
              "        vertical-align: top;\n",
              "    }\n",
              "\n",
              "    .dataframe thead th {\n",
              "        text-align: right;\n",
              "    }\n",
              "</style>\n",
              "<table border=\"1\" class=\"dataframe\">\n",
              "  <thead>\n",
              "    <tr style=\"text-align: right;\">\n",
              "      <th></th>\n",
              "      <th>Item_Id</th>\n",
              "      <th>Date</th>\n",
              "      <th>State_of_Country</th>\n",
              "      <th>Market_Category</th>\n",
              "      <th>Product_Category</th>\n",
              "      <th>Grade</th>\n",
              "      <th>Demand</th>\n",
              "      <th>Low_Cap_Price</th>\n",
              "      <th>High_Cap_Price</th>\n",
              "    </tr>\n",
              "  </thead>\n",
              "  <tbody>\n",
              "    <tr>\n",
              "      <th>0</th>\n",
              "      <td>IT_1</td>\n",
              "      <td>2007-07-05</td>\n",
              "      <td>0</td>\n",
              "      <td>0</td>\n",
              "      <td>0</td>\n",
              "      <td>0</td>\n",
              "      <td>0.5</td>\n",
              "      <td>2785</td>\n",
              "      <td>4240</td>\n",
              "    </tr>\n",
              "    <tr>\n",
              "      <th>1</th>\n",
              "      <td>IT_2</td>\n",
              "      <td>2007-07-05</td>\n",
              "      <td>0</td>\n",
              "      <td>1</td>\n",
              "      <td>0</td>\n",
              "      <td>0</td>\n",
              "      <td>0.7</td>\n",
              "      <td>3574</td>\n",
              "      <td>4756</td>\n",
              "    </tr>\n",
              "    <tr>\n",
              "      <th>2</th>\n",
              "      <td>IT_3</td>\n",
              "      <td>2007-07-05</td>\n",
              "      <td>0</td>\n",
              "      <td>103</td>\n",
              "      <td>0</td>\n",
              "      <td>1</td>\n",
              "      <td>1.6</td>\n",
              "      <td>5978</td>\n",
              "      <td>9669</td>\n",
              "    </tr>\n",
              "    <tr>\n",
              "      <th>3</th>\n",
              "      <td>IT_4</td>\n",
              "      <td>2007-07-05</td>\n",
              "      <td>0</td>\n",
              "      <td>103</td>\n",
              "      <td>0</td>\n",
              "      <td>0</td>\n",
              "      <td>0.0</td>\n",
              "      <td>5681</td>\n",
              "      <td>8313</td>\n",
              "    </tr>\n",
              "    <tr>\n",
              "      <th>4</th>\n",
              "      <td>IT_5</td>\n",
              "      <td>2007-07-05</td>\n",
              "      <td>0</td>\n",
              "      <td>103</td>\n",
              "      <td>0</td>\n",
              "      <td>2</td>\n",
              "      <td>0.0</td>\n",
              "      <td>4924</td>\n",
              "      <td>7257</td>\n",
              "    </tr>\n",
              "  </tbody>\n",
              "</table>\n",
              "</div>"
            ],
            "text/plain": [
              "  Item_Id        Date  State_of_Country  Market_Category  Product_Category  \\\n",
              "0    IT_1  2007-07-05                 0                0                 0   \n",
              "1    IT_2  2007-07-05                 0                1                 0   \n",
              "2    IT_3  2007-07-05                 0              103                 0   \n",
              "3    IT_4  2007-07-05                 0              103                 0   \n",
              "4    IT_5  2007-07-05                 0              103                 0   \n",
              "\n",
              "   Grade  Demand  Low_Cap_Price  High_Cap_Price  \n",
              "0      0     0.5           2785            4240  \n",
              "1      0     0.7           3574            4756  \n",
              "2      1     1.6           5978            9669  \n",
              "3      0     0.0           5681            8313  \n",
              "4      2     0.0           4924            7257  "
            ]
          },
          "metadata": {
            "tags": []
          },
          "execution_count": 62
        }
      ]
    },
    {
      "cell_type": "code",
      "metadata": {
        "colab": {
          "base_uri": "https://localhost:8080/"
        },
        "id": "-6tAr99EkFtA",
        "outputId": "9d12b3dd-995f-4a89-989c-c8d2de07908c"
      },
      "source": [
        "# check size of the data\n",
        "data.shape"
      ],
      "execution_count": 63,
      "outputs": [
        {
          "output_type": "execute_result",
          "data": {
            "text/plain": [
              "(9798, 9)"
            ]
          },
          "metadata": {
            "tags": []
          },
          "execution_count": 63
        }
      ]
    },
    {
      "cell_type": "code",
      "metadata": {
        "colab": {
          "base_uri": "https://localhost:8080/"
        },
        "id": "9gHgGjnDmojk",
        "outputId": "11d1ad01-8d6e-45a1-d705-eefb1562cab1"
      },
      "source": [
        "# dataset columns\n",
        "data.columns"
      ],
      "execution_count": 64,
      "outputs": [
        {
          "output_type": "execute_result",
          "data": {
            "text/plain": [
              "Index(['Item_Id', 'Date', 'State_of_Country', 'Market_Category',\n",
              "       'Product_Category', 'Grade', 'Demand', 'Low_Cap_Price',\n",
              "       'High_Cap_Price'],\n",
              "      dtype='object')"
            ]
          },
          "metadata": {
            "tags": []
          },
          "execution_count": 64
        }
      ]
    },
    {
      "cell_type": "code",
      "metadata": {
        "colab": {
          "base_uri": "https://localhost:8080/"
        },
        "id": "gfxW0euWwXa2",
        "outputId": "02be4f40-8861-4b90-daf7-78770733b1bb"
      },
      "source": [
        "# Data Type informations\n",
        "data.info()"
      ],
      "execution_count": 6,
      "outputs": [
        {
          "output_type": "stream",
          "text": [
            "<class 'pandas.core.frame.DataFrame'>\n",
            "RangeIndex: 9798 entries, 0 to 9797\n",
            "Data columns (total 9 columns):\n",
            " #   Column            Non-Null Count  Dtype  \n",
            "---  ------            --------------  -----  \n",
            " 0   Item_Id           9798 non-null   object \n",
            " 1   Date              9798 non-null   object \n",
            " 2   State_of_Country  9798 non-null   int64  \n",
            " 3   Market_Category   9798 non-null   int64  \n",
            " 4   Product_Category  9798 non-null   int64  \n",
            " 5   Grade             9798 non-null   int64  \n",
            " 6   Demand            9798 non-null   float64\n",
            " 7   Low_Cap_Price     9798 non-null   int64  \n",
            " 8   High_Cap_Price    9798 non-null   int64  \n",
            "dtypes: float64(1), int64(6), object(2)\n",
            "memory usage: 689.0+ KB\n"
          ],
          "name": "stdout"
        }
      ]
    },
    {
      "cell_type": "code",
      "metadata": {
        "colab": {
          "base_uri": "https://localhost:8080/"
        },
        "id": "zB-Z2OCXmsUu",
        "outputId": "09248b67-37f1-4ac6-ddc2-9f02bff769a1"
      },
      "source": [
        "# check for null values in the dataset\n",
        "data.isnull().sum()"
      ],
      "execution_count": 7,
      "outputs": [
        {
          "output_type": "execute_result",
          "data": {
            "text/plain": [
              "Item_Id             0\n",
              "Date                0\n",
              "State_of_Country    0\n",
              "Market_Category     0\n",
              "Product_Category    0\n",
              "Grade               0\n",
              "Demand              0\n",
              "Low_Cap_Price       0\n",
              "High_Cap_Price      0\n",
              "dtype: int64"
            ]
          },
          "metadata": {
            "tags": []
          },
          "execution_count": 7
        }
      ]
    },
    {
      "cell_type": "code",
      "metadata": {
        "colab": {
          "base_uri": "https://localhost:8080/",
          "height": 254
        },
        "id": "PhtXrCaAq67Q",
        "outputId": "4bc5cc79-01fe-473e-cb33-829c8c84e954"
      },
      "source": [
        "# Describe numerical columns in the dataset\n",
        "data.describe().T"
      ],
      "execution_count": 8,
      "outputs": [
        {
          "output_type": "execute_result",
          "data": {
            "text/html": [
              "<div>\n",
              "<style scoped>\n",
              "    .dataframe tbody tr th:only-of-type {\n",
              "        vertical-align: middle;\n",
              "    }\n",
              "\n",
              "    .dataframe tbody tr th {\n",
              "        vertical-align: top;\n",
              "    }\n",
              "\n",
              "    .dataframe thead th {\n",
              "        text-align: right;\n",
              "    }\n",
              "</style>\n",
              "<table border=\"1\" class=\"dataframe\">\n",
              "  <thead>\n",
              "    <tr style=\"text-align: right;\">\n",
              "      <th></th>\n",
              "      <th>count</th>\n",
              "      <th>mean</th>\n",
              "      <th>std</th>\n",
              "      <th>min</th>\n",
              "      <th>25%</th>\n",
              "      <th>50%</th>\n",
              "      <th>75%</th>\n",
              "      <th>max</th>\n",
              "    </tr>\n",
              "  </thead>\n",
              "  <tbody>\n",
              "    <tr>\n",
              "      <th>State_of_Country</th>\n",
              "      <td>9798.0</td>\n",
              "      <td>14.278730</td>\n",
              "      <td>8.760964</td>\n",
              "      <td>0.0</td>\n",
              "      <td>3.00</td>\n",
              "      <td>20.0</td>\n",
              "      <td>21.000</td>\n",
              "      <td>23.0</td>\n",
              "    </tr>\n",
              "    <tr>\n",
              "      <th>Market_Category</th>\n",
              "      <td>9798.0</td>\n",
              "      <td>198.414064</td>\n",
              "      <td>169.767862</td>\n",
              "      <td>0.0</td>\n",
              "      <td>55.00</td>\n",
              "      <td>129.0</td>\n",
              "      <td>389.000</td>\n",
              "      <td>471.0</td>\n",
              "    </tr>\n",
              "    <tr>\n",
              "      <th>Product_Category</th>\n",
              "      <td>9798.0</td>\n",
              "      <td>2.492958</td>\n",
              "      <td>4.751807</td>\n",
              "      <td>0.0</td>\n",
              "      <td>0.00</td>\n",
              "      <td>0.0</td>\n",
              "      <td>1.000</td>\n",
              "      <td>17.0</td>\n",
              "    </tr>\n",
              "    <tr>\n",
              "      <th>Grade</th>\n",
              "      <td>9798.0</td>\n",
              "      <td>0.652072</td>\n",
              "      <td>1.032439</td>\n",
              "      <td>0.0</td>\n",
              "      <td>0.00</td>\n",
              "      <td>0.0</td>\n",
              "      <td>2.000</td>\n",
              "      <td>3.0</td>\n",
              "    </tr>\n",
              "    <tr>\n",
              "      <th>Demand</th>\n",
              "      <td>9798.0</td>\n",
              "      <td>71.977414</td>\n",
              "      <td>927.194052</td>\n",
              "      <td>0.0</td>\n",
              "      <td>0.50</td>\n",
              "      <td>2.0</td>\n",
              "      <td>10.175</td>\n",
              "      <td>64160.5</td>\n",
              "    </tr>\n",
              "    <tr>\n",
              "      <th>Low_Cap_Price</th>\n",
              "      <td>9798.0</td>\n",
              "      <td>3500.273525</td>\n",
              "      <td>2188.046803</td>\n",
              "      <td>1.0</td>\n",
              "      <td>1863.25</td>\n",
              "      <td>3124.0</td>\n",
              "      <td>4667.500</td>\n",
              "      <td>17580.0</td>\n",
              "    </tr>\n",
              "    <tr>\n",
              "      <th>High_Cap_Price</th>\n",
              "      <td>9798.0</td>\n",
              "      <td>6349.838028</td>\n",
              "      <td>3652.780956</td>\n",
              "      <td>163.0</td>\n",
              "      <td>3878.25</td>\n",
              "      <td>5552.5</td>\n",
              "      <td>7993.750</td>\n",
              "      <td>58812.0</td>\n",
              "    </tr>\n",
              "  </tbody>\n",
              "</table>\n",
              "</div>"
            ],
            "text/plain": [
              "                   count         mean          std    min      25%     50%  \\\n",
              "State_of_Country  9798.0    14.278730     8.760964    0.0     3.00    20.0   \n",
              "Market_Category   9798.0   198.414064   169.767862    0.0    55.00   129.0   \n",
              "Product_Category  9798.0     2.492958     4.751807    0.0     0.00     0.0   \n",
              "Grade             9798.0     0.652072     1.032439    0.0     0.00     0.0   \n",
              "Demand            9798.0    71.977414   927.194052    0.0     0.50     2.0   \n",
              "Low_Cap_Price     9798.0  3500.273525  2188.046803    1.0  1863.25  3124.0   \n",
              "High_Cap_Price    9798.0  6349.838028  3652.780956  163.0  3878.25  5552.5   \n",
              "\n",
              "                       75%      max  \n",
              "State_of_Country    21.000     23.0  \n",
              "Market_Category    389.000    471.0  \n",
              "Product_Category     1.000     17.0  \n",
              "Grade                2.000      3.0  \n",
              "Demand              10.175  64160.5  \n",
              "Low_Cap_Price     4667.500  17580.0  \n",
              "High_Cap_Price    7993.750  58812.0  "
            ]
          },
          "metadata": {
            "tags": []
          },
          "execution_count": 8
        }
      ]
    },
    {
      "cell_type": "code",
      "metadata": {
        "id": "lw6-_9L6wi61"
      },
      "source": [
        "# Change data type of 'Date' column to date time\n",
        "data['Date'] = pd.to_datetime(data['Date'])"
      ],
      "execution_count": 9,
      "outputs": []
    },
    {
      "cell_type": "code",
      "metadata": {
        "colab": {
          "base_uri": "https://localhost:8080/"
        },
        "id": "x0nP4haLwwxb",
        "outputId": "0f83e232-5a80-4e72-a98f-4d0272f30281"
      },
      "source": [
        "# Check for data skewness values; accepted range +/-1\n",
        "data.skew()"
      ],
      "execution_count": 10,
      "outputs": [
        {
          "output_type": "execute_result",
          "data": {
            "text/plain": [
              "State_of_Country    -0.780606\n",
              "Market_Category      0.472158\n",
              "Product_Category     1.545304\n",
              "Grade                1.180747\n",
              "Demand              43.790193\n",
              "Low_Cap_Price        1.176712\n",
              "High_Cap_Price       1.638512\n",
              "dtype: float64"
            ]
          },
          "metadata": {
            "tags": []
          },
          "execution_count": 10
        }
      ]
    },
    {
      "cell_type": "code",
      "metadata": {
        "colab": {
          "base_uri": "https://localhost:8080/"
        },
        "id": "aveKgSJA_jyt",
        "outputId": "4f07bd5b-aba9-4c97-ab51-67524a41feb2"
      },
      "source": [
        "# Check for data kurtosis values; accepted range +/-5\n",
        "data.kurtosis()"
      ],
      "execution_count": 11,
      "outputs": [
        {
          "output_type": "execute_result",
          "data": {
            "text/plain": [
              "State_of_Country      -1.249516\n",
              "Market_Category       -1.405859\n",
              "Product_Category       0.659208\n",
              "Grade                 -0.190754\n",
              "Demand              2575.808373\n",
              "Low_Cap_Price          2.255325\n",
              "High_Cap_Price         6.884555\n",
              "dtype: float64"
            ]
          },
          "metadata": {
            "tags": []
          },
          "execution_count": 11
        }
      ]
    },
    {
      "cell_type": "code",
      "metadata": {
        "colab": {
          "base_uri": "https://localhost:8080/"
        },
        "id": "-Fcz1wM1GFol",
        "outputId": "3c76b765-6a8a-4103-92cb-9674271cb31a"
      },
      "source": [
        "# mean values for High_Cap_Price and Low_Cap_Price\n",
        "print(\"Average High Cap Price = \",data.High_Cap_Price.mean())\n",
        "print(\"Average Low Cap Price = \",data.Low_Cap_Price.mean())"
      ],
      "execution_count": 12,
      "outputs": [
        {
          "output_type": "stream",
          "text": [
            "Average High Cap Price =  6349.838028169014\n",
            "Average Low Cap Price =  3500.2735252092266\n"
          ],
          "name": "stdout"
        }
      ]
    },
    {
      "cell_type": "markdown",
      "metadata": {
        "id": "qe7abcjVVfFN"
      },
      "source": [
        "<a name = Section5></a>\n",
        "### **5. EDA using pandas data profiling method** "
      ]
    },
    {
      "cell_type": "code",
      "metadata": {
        "id": "of_x8718HSR5"
      },
      "source": [
        "# !pip install -U https://github.com/pandas-profiling/pandas-profiling/archive/master.zip\n",
        "# !pip install -U pandas-profiling\n",
        "\n",
        "# import pandas_profiling as pp\n",
        "# from pandas_profiling import ProfileReport'\n",
        "\n",
        "# Kernal restart is needed after this step"
      ],
      "execution_count": 13,
      "outputs": []
    },
    {
      "cell_type": "code",
      "metadata": {
        "id": "jbNahbjCGJJQ"
      },
      "source": [
        "# import pandas_profiling\n",
        "# from pandas_profiling import ProfileReport"
      ],
      "execution_count": 14,
      "outputs": []
    },
    {
      "cell_type": "code",
      "metadata": {
        "id": "nDwp10PcGQO_"
      },
      "source": [
        "# profile = ProfileReport(data, title=\"Pandas Profiling Report\", explorative=True)\n",
        "# profile.to_file(output_file=\"sales_data_profile.html\")"
      ],
      "execution_count": 15,
      "outputs": []
    },
    {
      "cell_type": "markdown",
      "metadata": {
        "id": "6fctDkCtLSuK"
      },
      "source": [
        "**Pandas Profiling outcome:**\n",
        "1. Year information can be extracted from ‘Date’ column to understand data patterns between years.\n",
        "2. Product ID column has high cardinality of data and can be dropped.\n",
        "3. ‘Demand’ column shows skewed values on a distribution curve and requires adjustment. (acceptance +/-1)\n",
        "4. ‘High_Cap_Price’ column shows high kurtosis value on a distribution curve and requires adjustment. (acceptance +/-5)\n",
        "5. ‘State_of_Country’, ‘Market_category’, ‘Product_Category’, ‘Grade’ columns to be treated as categorical columns and requires one-hot-encoded.\n",
        "6. Skewness and Kurtosis of target variable (Low_Cap_Price) is close to acceptance range and will not make any changes.\n",
        "7. Remove outlier entries from 'Demand' and 'High_Cap_Price' columns. Values over 30000 are excluded."
      ]
    },
    {
      "cell_type": "code",
      "metadata": {
        "colab": {
          "base_uri": "https://localhost:8080/"
        },
        "id": "o5d2ALycc66W",
        "outputId": "759f37cf-a66a-42f1-f722-d0a556337d15"
      },
      "source": [
        "# Excluding outlier from 'Demand' column\n",
        "data = data[data['Demand']<=30000]"
      ],
      "execution_count": 16,
      "outputs": [
        {
          "output_type": "stream",
          "text": [
            "2021-06-15 13:09:43,167 : INFO :NumExpr defaulting to 2 threads.\n"
          ],
          "name": "stderr"
        }
      ]
    },
    {
      "cell_type": "code",
      "metadata": {
        "colab": {
          "base_uri": "https://localhost:8080/",
          "height": 386
        },
        "id": "Xo0xGsDpJkwe",
        "outputId": "7583a9e7-47fa-4cd2-bb0d-52ff118f9bc3"
      },
      "source": [
        "df  = data[data['Demand']<=30000]\n",
        "sns.displot(df, x=\"Demand\")"
      ],
      "execution_count": 17,
      "outputs": [
        {
          "output_type": "execute_result",
          "data": {
            "text/plain": [
              "<seaborn.axisgrid.FacetGrid at 0x7f640e98b7d0>"
            ]
          },
          "metadata": {
            "tags": []
          },
          "execution_count": 17
        },
        {
          "output_type": "display_data",
          "data": {
            "image/png": "[encoded data removed]",
            "text/plain": [
              "<Figure size 360x360 with 1 Axes>"
            ]
          },
          "metadata": {
            "tags": [],
            "needs_background": "light"
          }
        }
      ]
    },
    {
      "cell_type": "code",
      "metadata": {
        "id": "h85uwI70nHAr"
      },
      "source": [
        "# Excluding outlier from 'High_Cap_Price' column\n",
        "data = data[data['High_Cap_Price']<=30000]"
      ],
      "execution_count": 18,
      "outputs": []
    },
    {
      "cell_type": "code",
      "metadata": {
        "colab": {
          "base_uri": "https://localhost:8080/",
          "height": 386
        },
        "id": "3sZO4ts2JjRO",
        "outputId": "d0fbfb60-7fa5-451c-d61d-85a8d24c3ab8"
      },
      "source": [
        "df  = data[data['High_Cap_Price']<=30000]\n",
        "sns.displot(df, x=\"High_Cap_Price\")"
      ],
      "execution_count": 19,
      "outputs": [
        {
          "output_type": "execute_result",
          "data": {
            "text/plain": [
              "<seaborn.axisgrid.FacetGrid at 0x7f63f152d790>"
            ]
          },
          "metadata": {
            "tags": []
          },
          "execution_count": 19
        },
        {
          "output_type": "display_data",
          "data": {
            "image/png": "[encoded data removed]",
            "text/plain": [
              "<Figure size 360x360 with 1 Axes>"
            ]
          },
          "metadata": {
            "tags": [],
            "needs_background": "light"
          }
        }
      ]
    },
    {
      "cell_type": "code",
      "metadata": {
        "id": "B-x3cu7CM71W"
      },
      "source": [
        "# Extract year information from 'Date' column and drop 'Date' columns\n",
        "data['year'] = data['Date'].dt.year\n",
        "data = data.drop(columns='Date',axis=0)\n",
        "\n",
        "# Drop 'Item_Id' column\n",
        "data = data.drop(columns='Item_Id', axis=0)\n",
        "\n",
        "# Take log of 'Demand' and 'High_Cap_Price' columns to Normalize distribution in respective columns\n",
        "data['Demand']=np.log1p(data.Demand)\n",
        "data['High_Cap_Price']=np.log1p(data.High_Cap_Price)\n"
      ],
      "execution_count": 20,
      "outputs": []
    },
    {
      "cell_type": "code",
      "metadata": {
        "colab": {
          "base_uri": "https://localhost:8080/",
          "height": 386
        },
        "id": "RU4976aGJ0K5",
        "outputId": "b1ec0d87-9390-4255-94a0-89af9ac5bfdb"
      },
      "source": [
        "sns.displot(data, x=\"Demand\")"
      ],
      "execution_count": 21,
      "outputs": [
        {
          "output_type": "execute_result",
          "data": {
            "text/plain": [
              "<seaborn.axisgrid.FacetGrid at 0x7f6402f376d0>"
            ]
          },
          "metadata": {
            "tags": []
          },
          "execution_count": 21
        },
        {
          "output_type": "display_data",
          "data": {
            "image/png": "[encoded data removed]",
            "text/plain": [
              "<Figure size 360x360 with 1 Axes>"
            ]
          },
          "metadata": {
            "tags": [],
            "needs_background": "light"
          }
        }
      ]
    },
    {
      "cell_type": "code",
      "metadata": {
        "colab": {
          "base_uri": "https://localhost:8080/",
          "height": 386
        },
        "id": "A_Kr7YqTJ36o",
        "outputId": "258d8e1c-0620-4989-8f71-1e5fdb782cb5"
      },
      "source": [
        "sns.displot(df, x=\"High_Cap_Price\")"
      ],
      "execution_count": 22,
      "outputs": [
        {
          "output_type": "execute_result",
          "data": {
            "text/plain": [
              "<seaborn.axisgrid.FacetGrid at 0x7f63f1370d50>"
            ]
          },
          "metadata": {
            "tags": []
          },
          "execution_count": 22
        },
        {
          "output_type": "display_data",
          "data": {
            "image/png": "[encoded data removed]",
            "text/plain": [
              "<Figure size 360x360 with 1 Axes>"
            ]
          },
          "metadata": {
            "tags": [],
            "needs_background": "light"
          }
        }
      ]
    },
    {
      "cell_type": "markdown",
      "metadata": {
        "id": "r_iv9jZ3YQbe"
      },
      "source": [
        "<a name = Section6></a>\n",
        "### **6. Prepare data for model building** "
      ]
    },
    {
      "cell_type": "markdown",
      "metadata": {
        "id": "50BQfZHtYahp"
      },
      "source": [
        "**One hot encoding of categorical columns**"
      ]
    },
    {
      "cell_type": "code",
      "metadata": {
        "id": "jf2zCoAgYiHb"
      },
      "source": [
        "# one hot encode categorical columns\n",
        "data = pd.get_dummies(data,columns=['State_of_Country','Market_Category','Product_Category','Grade','year'])"
      ],
      "execution_count": 23,
      "outputs": []
    },
    {
      "cell_type": "markdown",
      "metadata": {
        "id": "eoaggyzQHjDB"
      },
      "source": [
        "**Split data into train-test datasets**"
      ]
    },
    {
      "cell_type": "code",
      "metadata": {
        "id": "eYYJ8tGeGCc8"
      },
      "source": [
        "# Split data into 80%-20% train-test ratio \n",
        "train_data = data.sample(frac=0.8,random_state=np.random.RandomState())\n",
        "test_data = data.drop(train_data.index)"
      ],
      "execution_count": 24,
      "outputs": []
    },
    {
      "cell_type": "markdown",
      "metadata": {
        "id": "Slp10t7nJ5AR"
      },
      "source": [
        "**Normalise Train and Test data**"
      ]
    },
    {
      "cell_type": "code",
      "metadata": {
        "id": "z663w_MdKLVp"
      },
      "source": [
        "# Normalize 'Demand' and 'High_Cap_Price' columns for test and train dataset\n",
        "\n",
        "train_data['Demand'] = (train_data['Demand'] - np.mean(train_data['Demand']))/(np.max(train_data['Demand'])-np.min(train_data['Demand']))\n",
        "train_data['High_Cap_Price'] = (train_data['High_Cap_Price']-np.mean(train_data['High_Cap_Price']))/(np.max(train_data['High_Cap_Price'])-np.min(train_data['High_Cap_Price']))\n",
        "\n",
        "test_data['Demand'] = (test_data['Demand'] - np.mean(test_data['Demand']))/(np.max(test_data['Demand'])-np.min(test_data['Demand']))\n",
        "test_data['High_Cap_Price'] = (test_data['High_Cap_Price'] - np.mean(test_data['High_Cap_Price']))/(np.max(test_data['High_Cap_Price'])-np.min(test_data['High_Cap_Price']))"
      ],
      "execution_count": 25,
      "outputs": []
    },
    {
      "cell_type": "markdown",
      "metadata": {
        "id": "d7VVZQeIMbsz"
      },
      "source": [
        "**Split X and y**"
      ]
    },
    {
      "cell_type": "code",
      "metadata": {
        "id": "qfnwBQh9ccEb"
      },
      "source": [
        "# extact target variable from feature columns\n",
        "\n",
        "train_X = train_data.drop(columns='Low_Cap_Price',axis=0)\n",
        "test_X = test_data.drop(columns='Low_Cap_Price',axis=0)\n",
        "\n",
        "train_y = train_data.pop('Low_Cap_Price')\n",
        "test_y = test_data.pop('Low_Cap_Price')"
      ],
      "execution_count": 26,
      "outputs": []
    },
    {
      "cell_type": "markdown",
      "metadata": {
        "id": "TD9vvpTceACE"
      },
      "source": [
        "<a name = Section7></a>\n",
        "### **7. Build a basic ANN model** "
      ]
    },
    {
      "cell_type": "code",
      "metadata": {
        "colab": {
          "base_uri": "https://localhost:8080/"
        },
        "id": "tkoscnemxCYW",
        "outputId": "7d289fc5-a48e-4e1a-a1b7-86b6e9473fbc"
      },
      "source": [
        "!pip install -q git+https://github.com/tensorflow/docs"
      ],
      "execution_count": 27,
      "outputs": [
        {
          "output_type": "stream",
          "text": [
            "\u001b[?25l\r\u001b[K     |▎                               | 10kB 16.1MB/s eta 0:00:01\r\u001b[K     |▋                               | 20kB 21.2MB/s eta 0:00:01\r\u001b[K     |█                               | 30kB 25.3MB/s eta 0:00:01\r\u001b[K     |█▎                              | 40kB 20.1MB/s eta 0:00:01\r\u001b[K     |█▋                              | 51kB 11.1MB/s eta 0:00:01\r\u001b[K     |██                              | 61kB 9.3MB/s eta 0:00:01\r\u001b[K     |██▎                             | 71kB 9.8MB/s eta 0:00:01\r\u001b[K     |██▋                             | 81kB 10.6MB/s eta 0:00:01\r\u001b[K     |███                             | 92kB 11.5MB/s eta 0:00:01\r\u001b[K     |███▏                            | 102kB 9.7MB/s eta 0:00:01\r\u001b[K     |███▌                            | 112kB 9.7MB/s eta 0:00:01\r\u001b[K     |███▉                            | 122kB 9.7MB/s eta 0:00:01\r\u001b[K     |████▏                           | 133kB 9.7MB/s eta 0:00:01\r\u001b[K     |████▌                           | 143kB 9.7MB/s eta 0:00:01\r\u001b[K     |████▉                           | 153kB 9.7MB/s eta 0:00:01\r\u001b[K     |█████▏                          | 163kB 9.7MB/s eta 0:00:01\r\u001b[K     |█████▌                          | 174kB 9.7MB/s eta 0:00:01\r\u001b[K     |█████▉                          | 184kB 9.7MB/s eta 0:00:01\r\u001b[K     |██████                          | 194kB 9.7MB/s eta 0:00:01\r\u001b[K     |██████▍                         | 204kB 9.7MB/s eta 0:00:01\r\u001b[K     |██████▊                         | 215kB 9.7MB/s eta 0:00:01\r\u001b[K     |███████                         | 225kB 9.7MB/s eta 0:00:01\r\u001b[K     |███████▍                        | 235kB 9.7MB/s eta 0:00:01\r\u001b[K     |███████▊                        | 245kB 9.7MB/s eta 0:00:01\r\u001b[K     |████████                        | 256kB 9.7MB/s eta 0:00:01\r\u001b[K     |████████▍                       | 266kB 9.7MB/s eta 0:00:01\r\u001b[K     |████████▊                       | 276kB 9.7MB/s eta 0:00:01\r\u001b[K     |█████████                       | 286kB 9.7MB/s eta 0:00:01\r\u001b[K     |█████████▎                      | 296kB 9.7MB/s eta 0:00:01\r\u001b[K     |█████████▋                      | 307kB 9.7MB/s eta 0:00:01\r\u001b[K     |██████████                      | 317kB 9.7MB/s eta 0:00:01\r\u001b[K     |██████████▎                     | 327kB 9.7MB/s eta 0:00:01\r\u001b[K     |██████████▋                     | 337kB 9.7MB/s eta 0:00:01\r\u001b[K     |███████████                     | 348kB 9.7MB/s eta 0:00:01\r\u001b[K     |███████████▎                    | 358kB 9.7MB/s eta 0:00:01\r\u001b[K     |███████████▋                    | 368kB 9.7MB/s eta 0:00:01\r\u001b[K     |████████████                    | 378kB 9.7MB/s eta 0:00:01\r\u001b[K     |████████████▏                   | 389kB 9.7MB/s eta 0:00:01\r\u001b[K     |████████████▌                   | 399kB 9.7MB/s eta 0:00:01\r\u001b[K     |████████████▉                   | 409kB 9.7MB/s eta 0:00:01\r\u001b[K     |█████████████▏                  | 419kB 9.7MB/s eta 0:00:01\r\u001b[K     |█████████████▌                  | 430kB 9.7MB/s eta 0:00:01\r\u001b[K     |█████████████▉                  | 440kB 9.7MB/s eta 0:00:01\r\u001b[K     |██████████████▏                 | 450kB 9.7MB/s eta 0:00:01\r\u001b[K     |██████████████▌                 | 460kB 9.7MB/s eta 0:00:01\r\u001b[K     |██████████████▉                 | 471kB 9.7MB/s eta 0:00:01\r\u001b[K     |███████████████                 | 481kB 9.7MB/s eta 0:00:01\r\u001b[K     |███████████████▍                | 491kB 9.7MB/s eta 0:00:01\r\u001b[K     |███████████████▊                | 501kB 9.7MB/s eta 0:00:01\r\u001b[K     |████████████████                | 512kB 9.7MB/s eta 0:00:01\r\u001b[K     |████████████████▍               | 522kB 9.7MB/s eta 0:00:01\r\u001b[K     |████████████████▊               | 532kB 9.7MB/s eta 0:00:01\r\u001b[K     |█████████████████               | 542kB 9.7MB/s eta 0:00:01\r\u001b[K     |█████████████████▍              | 552kB 9.7MB/s eta 0:00:01\r\u001b[K     |█████████████████▊              | 563kB 9.7MB/s eta 0:00:01\r\u001b[K     |██████████████████              | 573kB 9.7MB/s eta 0:00:01\r\u001b[K     |██████████████████▎             | 583kB 9.7MB/s eta 0:00:01\r\u001b[K     |██████████████████▋             | 593kB 9.7MB/s eta 0:00:01\r\u001b[K     |███████████████████             | 604kB 9.7MB/s eta 0:00:01\r\u001b[K     |███████████████████▎            | 614kB 9.7MB/s eta 0:00:01\r\u001b[K     |███████████████████▋            | 624kB 9.7MB/s eta 0:00:01\r\u001b[K     |████████████████████            | 634kB 9.7MB/s eta 0:00:01\r\u001b[K     |████████████████████▎           | 645kB 9.7MB/s eta 0:00:01\r\u001b[K     |████████████████████▋           | 655kB 9.7MB/s eta 0:00:01\r\u001b[K     |█████████████████████           | 665kB 9.7MB/s eta 0:00:01\r\u001b[K     |█████████████████████▏          | 675kB 9.7MB/s eta 0:00:01\r\u001b[K     |█████████████████████▌          | 686kB 9.7MB/s eta 0:00:01\r\u001b[K     |█████████████████████▉          | 696kB 9.7MB/s eta 0:00:01\r\u001b[K     |██████████████████████▏         | 706kB 9.7MB/s eta 0:00:01\r\u001b[K     |██████████████████████▌         | 716kB 9.7MB/s eta 0:00:01\r\u001b[K     |██████████████████████▉         | 727kB 9.7MB/s eta 0:00:01\r\u001b[K     |███████████████████████▏        | 737kB 9.7MB/s eta 0:00:01\r\u001b[K     |███████████████████████▌        | 747kB 9.7MB/s eta 0:00:01\r\u001b[K     |███████████████████████▉        | 757kB 9.7MB/s eta 0:00:01\r\u001b[K     |████████████████████████        | 768kB 9.7MB/s eta 0:00:01\r\u001b[K     |████████████████████████▍       | 778kB 9.7MB/s eta 0:00:01\r\u001b[K     |████████████████████████▊       | 788kB 9.7MB/s eta 0:00:01\r\u001b[K     |█████████████████████████       | 798kB 9.7MB/s eta 0:00:01\r\u001b[K     |█████████████████████████▍      | 808kB 9.7MB/s eta 0:00:01\r\u001b[K     |█████████████████████████▊      | 819kB 9.7MB/s eta 0:00:01\r\u001b[K     |██████████████████████████      | 829kB 9.7MB/s eta 0:00:01\r\u001b[K     |██████████████████████████▍     | 839kB 9.7MB/s eta 0:00:01\r\u001b[K     |██████████████████████████▊     | 849kB 9.7MB/s eta 0:00:01\r\u001b[K     |███████████████████████████     | 860kB 9.7MB/s eta 0:00:01\r\u001b[K     |███████████████████████████▎    | 870kB 9.7MB/s eta 0:00:01\r\u001b[K     |███████████████████████████▋    | 880kB 9.7MB/s eta 0:00:01\r\u001b[K     |████████████████████████████    | 890kB 9.7MB/s eta 0:00:01\r\u001b[K     |████████████████████████████▎   | 901kB 9.7MB/s eta 0:00:01\r\u001b[K     |████████████████████████████▋   | 911kB 9.7MB/s eta 0:00:01\r\u001b[K     |█████████████████████████████   | 921kB 9.7MB/s eta 0:00:01\r\u001b[K     |█████████████████████████████▎  | 931kB 9.7MB/s eta 0:00:01\r\u001b[K     |█████████████████████████████▋  | 942kB 9.7MB/s eta 0:00:01\r\u001b[K     |█████████████████████████████▉  | 952kB 9.7MB/s eta 0:00:01\r\u001b[K     |██████████████████████████████▏ | 962kB 9.7MB/s eta 0:00:01\r\u001b[K     |██████████████████████████████▌ | 972kB 9.7MB/s eta 0:00:01\r\u001b[K     |██████████████████████████████▉ | 983kB 9.7MB/s eta 0:00:01\r\u001b[K     |███████████████████████████████▏| 993kB 9.7MB/s eta 0:00:01\r\u001b[K     |███████████████████████████████▌| 1.0MB 9.7MB/s eta 0:00:01\r\u001b[K     |███████████████████████████████▉| 1.0MB 9.7MB/s eta 0:00:01\r\u001b[K     |████████████████████████████████| 1.0MB 9.7MB/s \n",
            "\u001b[?25h  Building wheel for tensorflow-docs (setup.py) ... \u001b[?25l\u001b[?25hdone\n"
          ],
          "name": "stdout"
        }
      ]
    },
    {
      "cell_type": "code",
      "metadata": {
        "colab": {
          "base_uri": "https://localhost:8080/"
        },
        "id": "dxnsK8pfxQQ8",
        "outputId": "0cdbcdb4-be4a-4a37-a7ad-f5375e6ce04c"
      },
      "source": [
        "# import libraries\n",
        "import tensorflow as tf\n",
        "from tensorflow import keras\n",
        "from tensorflow.keras import layers, models\n",
        "\n",
        "import tensorflow_docs as tfdocs\n",
        "import tensorflow_docs.plots\n",
        "import tensorflow_docs.modeling\n",
        "print(tf.__version__)"
      ],
      "execution_count": 28,
      "outputs": [
        {
          "output_type": "stream",
          "text": [
            "2.5.0\n"
          ],
          "name": "stdout"
        }
      ]
    },
    {
      "cell_type": "code",
      "metadata": {
        "id": "r31ZtyKgeDb0"
      },
      "source": [
        "# Build a base model with 3 dense layers\n",
        "\n",
        "def build_model():\n",
        "  model = keras.Sequential([layers.Dense(128, activation='relu', input_shape=[len(train_X.keys())]),\n",
        "                            layers.Dense(64, activation='relu'),\n",
        "                            layers.Dense(32, activation='relu'),\n",
        "                            layers.Dense(1)])\n",
        "\n",
        "  # Defining the optimizer with a specific learning rate of 0.001\n",
        "  optimizer = tf.keras.optimizers.Adam(0.001)\n",
        "\n",
        "  # Compiling the model\n",
        "  model.compile(loss='mse', optimizer=optimizer, metrics=['mae', 'mse'])\n",
        "  return model"
      ],
      "execution_count": 29,
      "outputs": []
    },
    {
      "cell_type": "code",
      "metadata": {
        "id": "YrKB8oNEeSdL",
        "colab": {
          "base_uri": "https://localhost:8080/"
        },
        "outputId": "500698b2-7558-4af0-c1d2-36343e8d358c"
      },
      "source": [
        "# Build and review model\n",
        "model = build_model()\n",
        "model.summary()"
      ],
      "execution_count": 30,
      "outputs": [
        {
          "output_type": "stream",
          "text": [
            "Model: \"sequential\"\n",
            "_________________________________________________________________\n",
            "Layer (type)                 Output Shape              Param #   \n",
            "=================================================================\n",
            "dense (Dense)                (None, 128)               41472     \n",
            "_________________________________________________________________\n",
            "dense_1 (Dense)              (None, 64)                8256      \n",
            "_________________________________________________________________\n",
            "dense_2 (Dense)              (None, 32)                2080      \n",
            "_________________________________________________________________\n",
            "dense_3 (Dense)              (None, 1)                 33        \n",
            "=================================================================\n",
            "Total params: 51,841\n",
            "Trainable params: 51,841\n",
            "Non-trainable params: 0\n",
            "_________________________________________________________________\n"
          ],
          "name": "stdout"
        }
      ]
    },
    {
      "cell_type": "markdown",
      "metadata": {
        "id": "w7FPN-6mNjIi"
      },
      "source": [
        "*Now try out the model. Taking a batch of 10 examples from training data and call model.predict on it*"
      ]
    },
    {
      "cell_type": "code",
      "metadata": {
        "colab": {
          "base_uri": "https://localhost:8080/"
        },
        "id": "gfxG5Znzx5BZ",
        "outputId": "9e06c46b-7705-45e7-d9a0-d8666b234f55"
      },
      "source": [
        "# Sample test\n",
        "example_batch = train_X[:10]\n",
        "example_result = model.predict(example_batch)\n",
        "example_result"
      ],
      "execution_count": 31,
      "outputs": [
        {
          "output_type": "execute_result",
          "data": {
            "text/plain": [
              "array([[-0.07247859],\n",
              "       [-0.01978023],\n",
              "       [-0.15672913],\n",
              "       [-0.09180939],\n",
              "       [ 0.00877832],\n",
              "       [-0.11050667],\n",
              "       [-0.07578295],\n",
              "       [-0.02712341],\n",
              "       [-0.05310708],\n",
              "       [-0.07587413]], dtype=float32)"
            ]
          },
          "metadata": {
            "tags": []
          },
          "execution_count": 31
        }
      ]
    },
    {
      "cell_type": "markdown",
      "metadata": {
        "id": "5XPybJm8fZ07"
      },
      "source": [
        "**Train model**<br>\n",
        "Train the model for 500 epochs, and record the training and validation accuracy in the history object. We will use early stopping callback that tests a training condition for every epoch. if a set amount of apochs elapses without showing improvement then the training is stopped automatically."
      ]
    },
    {
      "cell_type": "code",
      "metadata": {
        "colab": {
          "base_uri": "https://localhost:8080/"
        },
        "id": "MljOsjkufV7X",
        "outputId": "399103c3-8e75-4f1f-93d4-344f8e08e853"
      },
      "source": [
        "Epochs = 500\n",
        "\n",
        "early_stop = keras.callbacks.EarlyStopping(monitor='val_loss', mode='min', patience=10,restore_best_weights=True)\n",
        "\n",
        "history = model.fit(train_X, train_y, epochs=Epochs, validation_split=0.2,\n",
        "                    verbose=0, callbacks=[early_stop,tfdocs.modeling.EpochDots()])\n",
        "\n",
        "print(\"\\n Using early stopping, only\", len(history.history['val_loss']),\"epoch are run\")\n"
      ],
      "execution_count": 32,
      "outputs": [
        {
          "output_type": "stream",
          "text": [
            "\n",
            "Epoch: 0, loss:11229127.0000,  mae:2622.1680,  mse:11229127.0000,  val_loss:3925994.5000,  val_mae:1444.4833,  val_mse:3925994.5000,  \n",
            "..............................................................................................\n",
            " Using early stopping, only 94 epoch are run\n"
          ],
          "name": "stdout"
        }
      ]
    },
    {
      "cell_type": "markdown",
      "metadata": {
        "id": "4gJ24fAXOmwl"
      },
      "source": [
        "Visualize the model's training progress using the stats stored in the history object"
      ]
    },
    {
      "cell_type": "code",
      "metadata": {
        "colab": {
          "base_uri": "https://localhost:8080/",
          "height": 195
        },
        "id": "RvTIYqP8manP",
        "outputId": "ca0fcd15-fb6c-4045-c0f2-792200d1a841"
      },
      "source": [
        "hist = pd.DataFrame(history.history)\n",
        "hist['epoch'] = history.epoch\n",
        "hist.head()"
      ],
      "execution_count": 33,
      "outputs": [
        {
          "output_type": "execute_result",
          "data": {
            "text/html": [
              "<div>\n",
              "<style scoped>\n",
              "    .dataframe tbody tr th:only-of-type {\n",
              "        vertical-align: middle;\n",
              "    }\n",
              "\n",
              "    .dataframe tbody tr th {\n",
              "        vertical-align: top;\n",
              "    }\n",
              "\n",
              "    .dataframe thead th {\n",
              "        text-align: right;\n",
              "    }\n",
              "</style>\n",
              "<table border=\"1\" class=\"dataframe\">\n",
              "  <thead>\n",
              "    <tr style=\"text-align: right;\">\n",
              "      <th></th>\n",
              "      <th>loss</th>\n",
              "      <th>mae</th>\n",
              "      <th>mse</th>\n",
              "      <th>val_loss</th>\n",
              "      <th>val_mae</th>\n",
              "      <th>val_mse</th>\n",
              "      <th>epoch</th>\n",
              "    </tr>\n",
              "  </thead>\n",
              "  <tbody>\n",
              "    <tr>\n",
              "      <th>0</th>\n",
              "      <td>11229127.00</td>\n",
              "      <td>2622.167969</td>\n",
              "      <td>11229127.00</td>\n",
              "      <td>3925994.50</td>\n",
              "      <td>1444.483276</td>\n",
              "      <td>3925994.50</td>\n",
              "      <td>0</td>\n",
              "    </tr>\n",
              "    <tr>\n",
              "      <th>1</th>\n",
              "      <td>2796391.00</td>\n",
              "      <td>1212.902832</td>\n",
              "      <td>2796391.00</td>\n",
              "      <td>2596238.25</td>\n",
              "      <td>1090.974609</td>\n",
              "      <td>2596238.25</td>\n",
              "      <td>1</td>\n",
              "    </tr>\n",
              "    <tr>\n",
              "      <th>2</th>\n",
              "      <td>1958709.25</td>\n",
              "      <td>977.628723</td>\n",
              "      <td>1958709.25</td>\n",
              "      <td>2045203.25</td>\n",
              "      <td>961.916199</td>\n",
              "      <td>2045203.25</td>\n",
              "      <td>2</td>\n",
              "    </tr>\n",
              "    <tr>\n",
              "      <th>3</th>\n",
              "      <td>1551115.50</td>\n",
              "      <td>863.575684</td>\n",
              "      <td>1551115.50</td>\n",
              "      <td>1720490.75</td>\n",
              "      <td>867.846863</td>\n",
              "      <td>1720490.75</td>\n",
              "      <td>3</td>\n",
              "    </tr>\n",
              "    <tr>\n",
              "      <th>4</th>\n",
              "      <td>1316568.25</td>\n",
              "      <td>787.580322</td>\n",
              "      <td>1316568.25</td>\n",
              "      <td>1517516.75</td>\n",
              "      <td>806.112976</td>\n",
              "      <td>1517516.75</td>\n",
              "      <td>4</td>\n",
              "    </tr>\n",
              "  </tbody>\n",
              "</table>\n",
              "</div>"
            ],
            "text/plain": [
              "          loss          mae          mse    val_loss      val_mae     val_mse  \\\n",
              "0  11229127.00  2622.167969  11229127.00  3925994.50  1444.483276  3925994.50   \n",
              "1   2796391.00  1212.902832   2796391.00  2596238.25  1090.974609  2596238.25   \n",
              "2   1958709.25   977.628723   1958709.25  2045203.25   961.916199  2045203.25   \n",
              "3   1551115.50   863.575684   1551115.50  1720490.75   867.846863  1720490.75   \n",
              "4   1316568.25   787.580322   1316568.25  1517516.75   806.112976  1517516.75   \n",
              "\n",
              "   epoch  \n",
              "0      0  \n",
              "1      1  \n",
              "2      2  \n",
              "3      3  \n",
              "4      4  "
            ]
          },
          "metadata": {
            "tags": []
          },
          "execution_count": 33
        }
      ]
    },
    {
      "cell_type": "code",
      "metadata": {
        "colab": {
          "base_uri": "https://localhost:8080/",
          "height": 290
        },
        "id": "jFEG0zAR2DEF",
        "outputId": "eb64d487-a1cb-48af-b520-d2f1363fdd51"
      },
      "source": [
        "plotter = tfdocs.plots.HistoryPlotter(smoothing_std=2)\n",
        "plotter.plot({'Basic': history}, metric=\"loss\")"
      ],
      "execution_count": 34,
      "outputs": [
        {
          "output_type": "display_data",
          "data": {
            "image/png": "[encoded data removed]",
            "text/plain": [
              "<Figure size 432x288 with 1 Axes>"
            ]
          },
          "metadata": {
            "tags": [],
            "needs_background": "light"
          }
        }
      ]
    },
    {
      "cell_type": "code",
      "metadata": {
        "colab": {
          "base_uri": "https://localhost:8080/",
          "height": 279
        },
        "id": "CQaX5l8zmqdd",
        "outputId": "9fb38b44-717f-4aea-be52-f2a7d95a2055"
      },
      "source": [
        "plotter = tfdocs.plots.HistoryPlotter(smoothing_std=2)\n",
        "plotter.plot({'Basic': history}, metric=\"mae\")"
      ],
      "execution_count": 35,
      "outputs": [
        {
          "output_type": "display_data",
          "data": {
            "image/png": "[encoded data removed]",
            "text/plain": [
              "<Figure size 432x288 with 1 Axes>"
            ]
          },
          "metadata": {
            "tags": [],
            "needs_background": "light"
          }
        }
      ]
    },
    {
      "cell_type": "code",
      "metadata": {
        "colab": {
          "base_uri": "https://localhost:8080/",
          "height": 290
        },
        "id": "LHe_kduuzQn7",
        "outputId": "09eaecc5-8b8e-4f0d-a1dc-3ba49163a81e"
      },
      "source": [
        "plotter.plot({'Basic': history}, metric=\"mse\")"
      ],
      "execution_count": 36,
      "outputs": [
        {
          "output_type": "display_data",
          "data": {
            "image/png": "[encoded data removed]",
            "text/plain": [
              "<Figure size 432x288 with 1 Axes>"
            ]
          },
          "metadata": {
            "tags": [],
            "needs_background": "light"
          }
        }
      ]
    },
    {
      "cell_type": "code",
      "metadata": {
        "colab": {
          "base_uri": "https://localhost:8080/"
        },
        "id": "aReNq3F10zTh",
        "outputId": "e0ed5bc7-985c-4a87-9eec-166b821422de"
      },
      "source": [
        "loss, mae, mse = model.evaluate(test_X,test_y,verbose=2)\n",
        "print(\"Test-set Mean absolute error: {:5.2f}\".format(mae))"
      ],
      "execution_count": 37,
      "outputs": [
        {
          "output_type": "stream",
          "text": [
            "62/62 - 0s - loss: 696317.8750 - mae: 479.9268 - mse: 696317.8750\n",
            "Test-set Mean absolute error: 479.93\n"
          ],
          "name": "stdout"
        }
      ]
    },
    {
      "cell_type": "code",
      "metadata": {
        "colab": {
          "base_uri": "https://localhost:8080/",
          "height": 279
        },
        "id": "CHg9HQAp2cAM",
        "outputId": "ab90eccd-9a58-4dd1-87fd-36fe6ca376cf"
      },
      "source": [
        "y_pred_test = model.predict(test_X).flatten()\n",
        "\n",
        "plt.scatter(test_y,y_pred_test)\n",
        "plt.xlabel('Actual')\n",
        "plt.ylabel('Prediction')\n",
        "\n",
        "lims = [0,max(test_y)]\n",
        "plt.xlim(lims)\n",
        "plt.ylim(lims)\n",
        "_ = plt.plot(lims,lims)"
      ],
      "execution_count": 38,
      "outputs": [
        {
          "output_type": "display_data",
          "data": {
            "image/png": "[encoded data removed]",
            "text/plain": [
              "<Figure size 432x288 with 1 Axes>"
            ]
          },
          "metadata": {
            "tags": [],
            "needs_background": "light"
          }
        }
      ]
    },
    {
      "cell_type": "markdown",
      "metadata": {
        "id": "DW7OrPHtP_yb"
      },
      "source": [
        "It appears that model is predicting reasonably well."
      ]
    },
    {
      "cell_type": "code",
      "metadata": {
        "colab": {
          "base_uri": "https://localhost:8080/",
          "height": 279
        },
        "id": "Vw3DKe0B3Gnn",
        "outputId": "ee191ccd-b80a-4c38-e71e-0bc8f554f7bb"
      },
      "source": [
        "# Error Distribution\n",
        "\n",
        "error = y_pred_test-test_y\n",
        "plt.hist(error, bins=25)\n",
        "plt.xlabel('Prediction error')\n",
        "_ = plt.ylabel('Count')"
      ],
      "execution_count": 39,
      "outputs": [
        {
          "output_type": "display_data",
          "data": {
            "image/png": "[encoded data removed]",
            "text/plain": [
              "<Figure size 432x288 with 1 Axes>"
            ]
          },
          "metadata": {
            "tags": [],
            "needs_background": "light"
          }
        }
      ]
    },
    {
      "cell_type": "markdown",
      "metadata": {
        "id": "eGPwRwYzQPZ7"
      },
      "source": [
        "Error distribution appears to be Gaussian"
      ]
    },
    {
      "cell_type": "code",
      "metadata": {
        "id": "QJsv_9fv3tXa"
      },
      "source": [
        "y_pred_train = model.predict(train_X).flatten()"
      ],
      "execution_count": 40,
      "outputs": []
    },
    {
      "cell_type": "code",
      "metadata": {
        "colab": {
          "base_uri": "https://localhost:8080/"
        },
        "id": "QZ7p3BO237q_",
        "outputId": "34f9908d-6e0f-4298-98b1-b0e9665067b1"
      },
      "source": [
        "print(\"Accuracy obtained using train_X and x_val sets from the original x!\")\n",
        "print(\"Training accuracy: \",r2_score(train_y, y_pred_train))\n",
        "print(\"Test accuracy: \",r2_score(test_y, y_pred_test))\n",
        "print(\"Test mean-squared error: \",np.sqrt(mean_squared_error(test_y, y_pred_test)))"
      ],
      "execution_count": 41,
      "outputs": [
        {
          "output_type": "stream",
          "text": [
            "Accuracy obtained using train_X and x_val sets from the original x!\n",
            "Training accuracy:  0.9060205245805296\n",
            "Test accuracy:  0.8593301790488188\n",
            "Test mean-squared error:  834.4566404836867\n"
          ],
          "name": "stdout"
        }
      ]
    },
    {
      "cell_type": "markdown",
      "metadata": {
        "id": "OTvC9X-7djsa"
      },
      "source": [
        "<a name = Section8></a>\n",
        "### **8. Use of Optimization - Random Search**\n",
        "Random search worked well for this dataset compare to Bayesian optimization"
      ]
    },
    {
      "cell_type": "code",
      "metadata": {
        "colab": {
          "base_uri": "https://localhost:8080/"
        },
        "id": "xEcf7pwkd4De",
        "outputId": "0b828a53-d4c4-4db7-acdb-97f568e2d8ec"
      },
      "source": [
        "# Install keras-tuner\n",
        "!pip install keras-tuner"
      ],
      "execution_count": 42,
      "outputs": [
        {
          "output_type": "stream",
          "text": [
            "Collecting keras-tuner\n",
            "\u001b[?25l  Downloading https://files.pythonhosted.org/packages/20/ec/1ef246787174b1e2bb591c95f29d3c1310070cad877824f907faba3dade9/keras-tuner-1.0.2.tar.gz (62kB)\n",
            "\r\u001b[K     |█████▏                          | 10kB 13.3MB/s eta 0:00:01\r\u001b[K     |██████████▍                     | 20kB 16.8MB/s eta 0:00:01\r\u001b[K     |███████████████▋                | 30kB 21.2MB/s eta 0:00:01\r\u001b[K     |████████████████████▉           | 40kB 19.3MB/s eta 0:00:01\r\u001b[K     |██████████████████████████      | 51kB 9.9MB/s eta 0:00:01\r\u001b[K     |███████████████████████████████▎| 61kB 11.3MB/s eta 0:00:01\r\u001b[K     |████████████████████████████████| 71kB 5.5MB/s \n",
            "\u001b[?25hRequirement already satisfied: packaging in /usr/local/lib/python3.7/dist-packages (from keras-tuner) (20.9)\n",
            "Requirement already satisfied: future in /usr/local/lib/python3.7/dist-packages (from keras-tuner) (0.16.0)\n",
            "Requirement already satisfied: numpy in /usr/local/lib/python3.7/dist-packages (from keras-tuner) (1.19.5)\n",
            "Requirement already satisfied: tabulate in /usr/local/lib/python3.7/dist-packages (from keras-tuner) (0.8.9)\n",
            "Collecting terminaltables\n",
            "  Downloading https://files.pythonhosted.org/packages/9b/c4/4a21174f32f8a7e1104798c445dacdc1d4df86f2f26722767034e4de4bff/terminaltables-3.1.0.tar.gz\n",
            "Collecting colorama\n",
            "  Downloading https://files.pythonhosted.org/packages/44/98/5b86278fbbf250d239ae0ecb724f8572af1c91f4a11edf4d36a206189440/colorama-0.4.4-py2.py3-none-any.whl\n",
            "Requirement already satisfied: tqdm in /usr/local/lib/python3.7/dist-packages (from keras-tuner) (4.41.1)\n",
            "Requirement already satisfied: requests in /usr/local/lib/python3.7/dist-packages (from keras-tuner) (2.23.0)\n",
            "Requirement already satisfied: scipy in /usr/local/lib/python3.7/dist-packages (from keras-tuner) (1.4.1)\n",
            "Requirement already satisfied: scikit-learn in /usr/local/lib/python3.7/dist-packages (from keras-tuner) (0.22.2.post1)\n",
            "Requirement already satisfied: pyparsing>=2.0.2 in /usr/local/lib/python3.7/dist-packages (from packaging->keras-tuner) (2.4.7)\n",
            "Requirement already satisfied: urllib3!=1.25.0,!=1.25.1,<1.26,>=1.21.1 in /usr/local/lib/python3.7/dist-packages (from requests->keras-tuner) (1.24.3)\n",
            "Requirement already satisfied: idna<3,>=2.5 in /usr/local/lib/python3.7/dist-packages (from requests->keras-tuner) (2.10)\n",
            "Requirement already satisfied: chardet<4,>=3.0.2 in /usr/local/lib/python3.7/dist-packages (from requests->keras-tuner) (3.0.4)\n",
            "Requirement already satisfied: certifi>=2017.4.17 in /usr/local/lib/python3.7/dist-packages (from requests->keras-tuner) (2021.5.30)\n",
            "Requirement already satisfied: joblib>=0.11 in /usr/local/lib/python3.7/dist-packages (from scikit-learn->keras-tuner) (1.0.1)\n",
            "Building wheels for collected packages: keras-tuner, terminaltables\n",
            "  Building wheel for keras-tuner (setup.py) ... \u001b[?25l\u001b[?25hdone\n",
            "  Created wheel for keras-tuner: filename=keras_tuner-1.0.2-cp37-none-any.whl size=78935 sha256=64a60c1e1bc15422a0f5ea95ecb68ae775c9abe27608a290c74e09cf526dd1b6\n",
            "  Stored in directory: /root/.cache/pip/wheels/bb/a1/8a/7c3de0efb3707a1701b36ebbfdbc4e67aedf6d4943a1f463d6\n",
            "  Building wheel for terminaltables (setup.py) ... \u001b[?25l\u001b[?25hdone\n",
            "  Created wheel for terminaltables: filename=terminaltables-3.1.0-cp37-none-any.whl size=15356 sha256=a36c5cc8dc349a952b54b8e7c920b682417d56f42fe1df06e2a41b5006e37a0e\n",
            "  Stored in directory: /root/.cache/pip/wheels/30/6b/50/6c75775b681fb36cdfac7f19799888ef9d8813aff9e379663e\n",
            "Successfully built keras-tuner terminaltables\n",
            "Installing collected packages: terminaltables, colorama, keras-tuner\n",
            "Successfully installed colorama-0.4.4 keras-tuner-1.0.2 terminaltables-3.1.0\n"
          ],
          "name": "stdout"
        }
      ]
    },
    {
      "cell_type": "code",
      "metadata": {
        "id": "voLZPfs24cpC"
      },
      "source": [
        "# Import libraries\n",
        "import tensorflow as tf\n",
        "import kerastuner as kt\n",
        "from tensorflow import keras"
      ],
      "execution_count": 43,
      "outputs": []
    },
    {
      "cell_type": "code",
      "metadata": {
        "id": "aYXlULFSJbtu"
      },
      "source": [
        "from kerastuner import HyperModel as hp\n",
        "from keras.layers import Dense, BatchNormalization,Dropout\n",
        "from kerastuner import RandomSearch, Hyperband, BayesianOptimization\n",
        "from keras import layers\n",
        "from keras.layers import Dense\n",
        "#from keras.models import Sequential\n",
        "from tensorflow.keras.models import Sequential"
      ],
      "execution_count": 44,
      "outputs": []
    },
    {
      "cell_type": "markdown",
      "metadata": {
        "id": "u_xw6jQMSROr"
      },
      "source": [
        "**Defining the model for hypertuning**"
      ]
    },
    {
      "cell_type": "code",
      "metadata": {
        "id": "r5EikIyiJhqp"
      },
      "source": [
        " #for activation function - hp.Choice('activation', ['relu','sigmoid','tanh']) relu worked better when tested- took almost= 100mins to ruh the experiment\n",
        "\n",
        "def build_model(hp):\n",
        "    model = Sequential()\n",
        "    for i in range(hp.Int('num_layers1', 2, 4)):\n",
        "        model.add(layers.Dense(units=hp.Int('units_1' + str(i), min_value=16, max_value=128, step=16),input_shape=[len(train_X.keys())],activation='relu'))\n",
        "        model.add(layers.Dense(units=hp.Int('units_2' + str(i), min_value=10, max_value=50, step=10), activation='relu'))\n",
        "        #model.add(layers.Dense(units=hp.Int('units_3' + str(i), min_value=8, max_value=32, step=8), activation='relu'))\n",
        "        model.add(layers.BatchNormalization())\n",
        "        model.add(layers.Dropout(rate=hp.Float('drop_rate', min_value=0.1, max_value=0.8, step=0.1)))\n",
        "    for i in range(hp.Int('num_layers2', 2, 3)):\n",
        "        model.add(layers.Dense(units=hp.Int('units_4' + str(i), min_value=16, max_value=128, step=16), activation='relu'))\n",
        "        #model.add(layers.Dense(units=hp.Int('units_5' + str(i), min_value=8, max_value=32, step=8), activation='relu'))\n",
        "        model.add(layers.BatchNormalization())\n",
        "        model.add(layers.Dense(1))\n",
        "    model.compile(optimizer=tf.keras.optimizers.Adam(hp.Choice('learning_rate', [1e-2, 1e-3, 1e-4])), loss='mse', metrics=['mae','mse'])\n",
        "    return model"
      ],
      "execution_count": 45,
      "outputs": []
    },
    {
      "cell_type": "markdown",
      "metadata": {
        "id": "246Rb2_YSoa7"
      },
      "source": [
        "This is the same model we built earlier as base model, except that for every hyperparameter, we defined a search space. You may have noticed hp.Int, hp.Float, and hp.Choice, these are used to define a search space for a hyperparameter that accepts an integer, float and a category respectively. ‘hp’ is an alias for Keras Tuner’s HyperParameters class."
      ]
    },
    {
      "cell_type": "code",
      "metadata": {
        "id": "e90QJa5qFO7-"
      },
      "source": [
        "# Random Search tuner used\n",
        "\n",
        "MAX_TRIALS = 20\n",
        "EXECUTION_PER_TRIAL = 2\n",
        "\n",
        "tuner_rs= RandomSearch(build_model, objective='val_mae', max_trials=MAX_TRIALS, seed=42,\n",
        "            executions_per_trial=EXECUTION_PER_TRIAL, directory= 'random_search',\n",
        "            project_name='low_prices', overwrite=True)"
      ],
      "execution_count": 46,
      "outputs": []
    },
    {
      "cell_type": "markdown",
      "metadata": {
        "id": "ypN27yoATyC3"
      },
      "source": [
        "'MAX_TRIALS' variable represents the number of hyperparameter combinations that will be tested by the tuner, while the 'EXECUTION_PER_TRIAL' variable is the number of models that should be built and fit for each trial for robustness purposes."
      ]
    },
    {
      "cell_type": "code",
      "metadata": {
        "id": "Tywi49wmGPjL"
      },
      "source": [
        "# Once the model and the tuner are set up, a summary of the task is easily available:\n",
        "# tuner_rs.search_space_summary()"
      ],
      "execution_count": 47,
      "outputs": []
    },
    {
      "cell_type": "markdown",
      "metadata": {
        "id": "NlFFcLLBV8et"
      },
      "source": [
        "Before running the hyperparameter search, define a callback to clear the training outputs at the end of every training step."
      ]
    },
    {
      "cell_type": "code",
      "metadata": {
        "id": "WzofUKaKHUHQ"
      },
      "source": [
        "class ClearTrainingOutput(tf.keras.callbacks.Callback):\n",
        "    def on_train_end(*args, **kwargs):\n",
        "        IPython.display.clear_output(wait = True)"
      ],
      "execution_count": 48,
      "outputs": []
    },
    {
      "cell_type": "markdown",
      "metadata": {
        "id": "VfFEwZioaDcs"
      },
      "source": [
        "<a name = Section9></a>\n",
        "### **9. Best Model parameters Identification**\n",
        "Run the hyperparameter search.\n",
        "The arguments for the search method are the same as those used for tf.keras.model.fit in addition to the callback above."
      ]
    },
    {
      "cell_type": "code",
      "metadata": {
        "colab": {
          "base_uri": "https://localhost:8080/"
        },
        "id": "IGQaWm9WZc-E",
        "outputId": "982dd853-0949-447f-ea65-22904d9056a4"
      },
      "source": [
        "print('searching for the best params!')\n",
        "N_EPOCH_SEARCH=50\n",
        "\n",
        "t1= time()\n",
        "tuner_rs.search(x= train_X,\n",
        "             y= train_y,\n",
        "             epochs=N_EPOCH_SEARCH,\n",
        "             batch_size= 100,\n",
        "             validation_split = 0.2,\n",
        "             verbose=1\n",
        "            )\n",
        "print(time()- t1,\" secs\")\n",
        "\n",
        "# Retreive the optimal hyperparameters\n",
        "best_hps_rs= tuner_rs.get_best_hyperparameters(num_trials=1)[0]\n",
        "# Retrieve the best model\n",
        "best_model_rs = tuner_rs.get_best_models(num_models=1)[0]"
      ],
      "execution_count": 50,
      "outputs": [
        {
          "output_type": "stream",
          "text": [
            "2021-06-15 13:35:31,493 : INFO :Oracle triggered exit\n"
          ],
          "name": "stderr"
        },
        {
          "output_type": "stream",
          "text": [
            "Trial 20 Complete [00h 01m 29s]\n",
            "val_mae: 2216.7642822265625\n",
            "\n",
            "Best val_mae So Far: 460.28338623046875\n",
            "Total elapsed time: 00h 22m 55s\n",
            "1375.2259273529053  secs\n"
          ],
          "name": "stdout"
        }
      ]
    },
    {
      "cell_type": "code",
      "metadata": {
        "colab": {
          "base_uri": "https://localhost:8080/"
        },
        "id": "jcwOQjgG4TB6",
        "outputId": "6f5670d3-1ada-4652-f2a3-31206fcb2a9a"
      },
      "source": [
        "print(best_hps_rs.get('num_layers1'))\n",
        "print(best_hps_rs.get('num_layers2'))\n",
        "print(best_hps_rs.get('drop_rate'))\n",
        "print(best_hps_rs.get('learning_rate'))"
      ],
      "execution_count": 51,
      "outputs": [
        {
          "output_type": "stream",
          "text": [
            "2\n",
            "3\n",
            "0.2\n",
            "0.01\n"
          ],
          "name": "stdout"
        }
      ]
    },
    {
      "cell_type": "markdown",
      "metadata": {
        "id": "0vzDhCA7vMBG"
      },
      "source": [
        "Retrain the model with the optimal hyper parameters from the search"
      ]
    },
    {
      "cell_type": "code",
      "metadata": {
        "id": "iMCrFChR-HpA"
      },
      "source": [
        "models = tuner_rs.get_best_models(num_models=3)"
      ],
      "execution_count": 52,
      "outputs": []
    },
    {
      "cell_type": "code",
      "metadata": {
        "colab": {
          "base_uri": "https://localhost:8080/"
        },
        "id": "sDPP0aKM-PVU",
        "outputId": "77f16c20-8c8c-49af-e161-c39e768dcc88"
      },
      "source": [
        "models[0].evaluate(train_X, train_y)"
      ],
      "execution_count": 53,
      "outputs": [
        {
          "output_type": "stream",
          "text": [
            "245/245 [==============================] - 1s 2ms/step - loss: 449663.3125 - mae: 396.4717 - mse: 449663.3125\n"
          ],
          "name": "stdout"
        },
        {
          "output_type": "execute_result",
          "data": {
            "text/plain": [
              "[449663.3125, 396.4717102050781, 449663.3125]"
            ]
          },
          "metadata": {
            "tags": []
          },
          "execution_count": 53
        }
      ]
    },
    {
      "cell_type": "code",
      "metadata": {
        "colab": {
          "base_uri": "https://localhost:8080/"
        },
        "id": "ohTbtpC1-YBF",
        "outputId": "e0d5ea9d-4adc-43d7-b1f8-f3057e0997ea"
      },
      "source": [
        "models[0].summary()"
      ],
      "execution_count": 54,
      "outputs": [
        {
          "output_type": "stream",
          "text": [
            "Model: \"sequential\"\n",
            "_________________________________________________________________\n",
            "Layer (type)                 Output Shape              Param #   \n",
            "=================================================================\n",
            "module_wrapper (ModuleWrappe (None, 64)                20736     \n",
            "_________________________________________________________________\n",
            "module_wrapper_1 (ModuleWrap (None, 40)                2600      \n",
            "_________________________________________________________________\n",
            "module_wrapper_2 (ModuleWrap (None, 40)                160       \n",
            "_________________________________________________________________\n",
            "module_wrapper_3 (ModuleWrap (None, 40)                0         \n",
            "_________________________________________________________________\n",
            "module_wrapper_4 (ModuleWrap (None, 16)                656       \n",
            "_________________________________________________________________\n",
            "module_wrapper_5 (ModuleWrap (None, 30)                510       \n",
            "_________________________________________________________________\n",
            "module_wrapper_6 (ModuleWrap (None, 30)                120       \n",
            "_________________________________________________________________\n",
            "module_wrapper_7 (ModuleWrap (None, 30)                0         \n",
            "_________________________________________________________________\n",
            "module_wrapper_8 (ModuleWrap (None, 96)                2976      \n",
            "_________________________________________________________________\n",
            "module_wrapper_9 (ModuleWrap (None, 96)                384       \n",
            "_________________________________________________________________\n",
            "module_wrapper_10 (ModuleWra (None, 1)                 97        \n",
            "_________________________________________________________________\n",
            "module_wrapper_11 (ModuleWra (None, 80)                160       \n",
            "_________________________________________________________________\n",
            "module_wrapper_12 (ModuleWra (None, 80)                320       \n",
            "_________________________________________________________________\n",
            "module_wrapper_13 (ModuleWra (None, 1)                 81        \n",
            "_________________________________________________________________\n",
            "module_wrapper_14 (ModuleWra (None, 64)                128       \n",
            "_________________________________________________________________\n",
            "module_wrapper_15 (ModuleWra (None, 64)                256       \n",
            "_________________________________________________________________\n",
            "module_wrapper_16 (ModuleWra (None, 1)                 65        \n",
            "=================================================================\n",
            "Total params: 29,249\n",
            "Trainable params: 28,629\n",
            "Non-trainable params: 620\n",
            "_________________________________________________________________\n"
          ],
          "name": "stdout"
        }
      ]
    },
    {
      "cell_type": "markdown",
      "metadata": {
        "id": "VG8NZ47BaWBy"
      },
      "source": [
        "<a name = Section10></a>\n",
        "### **10. Test Data evaluation with Best Model**"
      ]
    },
    {
      "cell_type": "code",
      "metadata": {
        "id": "NB26cUiY-wRA"
      },
      "source": [
        "# Retreive the optimal hyperparameters\n",
        "best_hps= tuner_rs.get_best_hyperparameters(num_trials=1)[0]\n",
        "# Retrieve the best model\n",
        "best_model = tuner_rs.get_best_models(num_models=1)[0]"
      ],
      "execution_count": 55,
      "outputs": []
    },
    {
      "cell_type": "code",
      "metadata": {
        "colab": {
          "base_uri": "https://localhost:8080/"
        },
        "id": "3H2LlaqxBDgf",
        "outputId": "421b80f9-b130-46a1-92ff-1eb126099ce1"
      },
      "source": [
        "# Evaluate the best model.\n",
        "print(best_model.metrics_names)\n",
        "loss, mae, mse = best_model.evaluate(test_X, test_y)\n",
        "print(f'loss:{loss} mae: {mae} mse: {mse}')"
      ],
      "execution_count": 56,
      "outputs": [
        {
          "output_type": "stream",
          "text": [
            "[]\n",
            "62/62 [==============================] - 1s 2ms/step - loss: 684564.1250 - mae: 484.8443 - mse: 684564.1250\n",
            "loss:684564.125 mae: 484.8442687988281 mse: 684564.125\n"
          ],
          "name": "stdout"
        }
      ]
    },
    {
      "cell_type": "code",
      "metadata": {
        "colab": {
          "base_uri": "https://localhost:8080/"
        },
        "id": "5c1dexsuBfN5",
        "outputId": "0cec4b89-1c04-4c9c-c9c5-b634c3a0c150"
      },
      "source": [
        "# Build the model with the optimal hyperparameters and train it on the data\n",
        "tuned_model = tuner_rs.hypermodel.build(best_hps)\n",
        "\n",
        "t00= time()\n",
        "history_tuned= tuned_model.fit(train_X, train_y, \n",
        "          epochs = 100, \n",
        "          validation_data = (test_X, test_y),\n",
        "          verbose=1,\n",
        "          callbacks= early_stop)\n",
        "\n",
        "print(time()- t00,\" secs\")\n",
        "\n",
        "print(\"\\n Using Early stopping, needed only \",len(history_tuned.history['val_mae']),\"epochs to converge!\")"
      ],
      "execution_count": 57,
      "outputs": [
        {
          "output_type": "stream",
          "text": [
            "Epoch 1/100\n",
            "245/245 [==============================] - 3s 6ms/step - loss: 14309984.0000 - mae: 3247.8350 - mse: 14309984.0000 - val_loss: 10017049.0000 - val_mae: 2964.5388 - val_mse: 10017049.0000\n",
            "Epoch 2/100\n",
            "245/245 [==============================] - 1s 5ms/step - loss: 5049913.5000 - mae: 1907.0216 - mse: 5049913.5000 - val_loss: 7728645.5000 - val_mae: 2462.7546 - val_mse: 7728645.5000\n",
            "Epoch 3/100\n",
            "245/245 [==============================] - 1s 4ms/step - loss: 1381669.8750 - mae: 839.3425 - mse: 1381669.8750 - val_loss: 896534.8125 - val_mae: 592.6625 - val_mse: 896534.8125\n",
            "Epoch 4/100\n",
            "245/245 [==============================] - 1s 4ms/step - loss: 1027678.8125 - mae: 685.9868 - mse: 1027678.8125 - val_loss: 830470.6875 - val_mae: 573.6605 - val_mse: 830470.6875\n",
            "Epoch 5/100\n",
            "245/245 [==============================] - 1s 5ms/step - loss: 1005445.6250 - mae: 684.8395 - mse: 1005445.6250 - val_loss: 759047.3750 - val_mae: 538.8746 - val_mse: 759047.3750\n",
            "Epoch 6/100\n",
            "245/245 [==============================] - 1s 5ms/step - loss: 1001024.3750 - mae: 673.8005 - mse: 1001024.3750 - val_loss: 832215.0625 - val_mae: 572.0415 - val_mse: 832215.0625\n",
            "Epoch 7/100\n",
            "245/245 [==============================] - 1s 4ms/step - loss: 957776.5000 - mae: 660.3917 - mse: 957776.5000 - val_loss: 825349.8750 - val_mae: 560.8066 - val_mse: 825349.8750\n",
            "Epoch 8/100\n",
            "245/245 [==============================] - 1s 4ms/step - loss: 944629.5000 - mae: 658.2277 - mse: 944629.5000 - val_loss: 803322.1875 - val_mae: 551.3071 - val_mse: 803322.1875\n",
            "Epoch 9/100\n",
            "245/245 [==============================] - 1s 4ms/step - loss: 924965.8750 - mae: 653.9377 - mse: 924965.8750 - val_loss: 1098989.3750 - val_mae: 644.2376 - val_mse: 1098989.3750\n",
            "Epoch 10/100\n",
            "245/245 [==============================] - 1s 5ms/step - loss: 903023.8750 - mae: 638.0976 - mse: 903023.8750 - val_loss: 1056973.3750 - val_mae: 642.5717 - val_mse: 1056973.3750\n",
            "Epoch 11/100\n",
            "245/245 [==============================] - 1s 5ms/step - loss: 911811.3750 - mae: 640.1901 - mse: 911811.3750 - val_loss: 803433.5000 - val_mae: 537.9806 - val_mse: 803433.5000\n",
            "Epoch 12/100\n",
            "245/245 [==============================] - 1s 5ms/step - loss: 922665.6875 - mae: 643.2029 - mse: 922665.6875 - val_loss: 749067.1875 - val_mae: 517.9951 - val_mse: 749067.1875\n",
            "Epoch 13/100\n",
            "245/245 [==============================] - 1s 5ms/step - loss: 869033.6875 - mae: 626.7924 - mse: 869033.6875 - val_loss: 1120252.0000 - val_mae: 703.0189 - val_mse: 1120252.0000\n",
            "Epoch 14/100\n",
            "245/245 [==============================] - 1s 4ms/step - loss: 896331.5000 - mae: 648.3193 - mse: 896331.5000 - val_loss: 797724.6875 - val_mae: 566.5707 - val_mse: 797724.6875\n",
            "Epoch 15/100\n",
            "245/245 [==============================] - 1s 5ms/step - loss: 855699.1875 - mae: 620.6364 - mse: 855699.1875 - val_loss: 728201.8750 - val_mae: 498.4019 - val_mse: 728201.8750\n",
            "Epoch 16/100\n",
            "245/245 [==============================] - 1s 5ms/step - loss: 851739.0000 - mae: 616.6155 - mse: 851739.0000 - val_loss: 915053.3125 - val_mae: 622.9191 - val_mse: 915053.3125\n",
            "Epoch 17/100\n",
            "245/245 [==============================] - 1s 4ms/step - loss: 834395.1250 - mae: 623.3433 - mse: 834395.1250 - val_loss: 902480.9375 - val_mae: 572.8975 - val_mse: 902480.9375\n",
            "Epoch 18/100\n",
            "245/245 [==============================] - 1s 4ms/step - loss: 842674.5000 - mae: 620.3203 - mse: 842674.5000 - val_loss: 755063.5000 - val_mae: 514.2593 - val_mse: 755063.5000\n",
            "Epoch 19/100\n",
            "245/245 [==============================] - 1s 4ms/step - loss: 843443.5000 - mae: 619.1907 - mse: 843443.5000 - val_loss: 721399.4375 - val_mae: 519.9603 - val_mse: 721399.4375\n",
            "Epoch 20/100\n",
            "245/245 [==============================] - 1s 4ms/step - loss: 855582.8125 - mae: 621.0000 - mse: 855582.8125 - val_loss: 1127663.2500 - val_mae: 717.5963 - val_mse: 1127663.2500\n",
            "Epoch 21/100\n",
            "245/245 [==============================] - 1s 5ms/step - loss: 855419.3750 - mae: 621.2465 - mse: 855419.3750 - val_loss: 711933.4375 - val_mae: 520.0201 - val_mse: 711933.4375\n",
            "Epoch 22/100\n",
            "245/245 [==============================] - 1s 5ms/step - loss: 786842.8750 - mae: 604.3957 - mse: 786842.8750 - val_loss: 761339.3125 - val_mae: 559.9695 - val_mse: 761339.3125\n",
            "Epoch 23/100\n",
            "245/245 [==============================] - 1s 5ms/step - loss: 847873.1875 - mae: 621.6025 - mse: 847873.1875 - val_loss: 767722.1875 - val_mae: 508.2830 - val_mse: 767722.1875\n",
            "Epoch 24/100\n",
            "245/245 [==============================] - 1s 4ms/step - loss: 800978.6875 - mae: 601.9001 - mse: 800978.6875 - val_loss: 819772.3750 - val_mae: 597.0738 - val_mse: 819772.3750\n",
            "Epoch 25/100\n",
            "245/245 [==============================] - 1s 5ms/step - loss: 810342.0625 - mae: 606.8402 - mse: 810342.0625 - val_loss: 712394.1250 - val_mae: 496.6678 - val_mse: 712394.1250\n",
            "Epoch 26/100\n",
            "245/245 [==============================] - 1s 4ms/step - loss: 815556.1875 - mae: 611.4363 - mse: 815556.1875 - val_loss: 719142.6875 - val_mae: 533.6033 - val_mse: 719142.6875\n",
            "Epoch 27/100\n",
            "245/245 [==============================] - 1s 4ms/step - loss: 785948.9375 - mae: 599.2315 - mse: 785948.9375 - val_loss: 719599.9375 - val_mae: 538.1075 - val_mse: 719599.9375\n",
            "Epoch 28/100\n",
            "245/245 [==============================] - 1s 4ms/step - loss: 824670.6250 - mae: 606.6199 - mse: 824670.6250 - val_loss: 804860.2500 - val_mae: 596.6295 - val_mse: 804860.2500\n",
            "Epoch 29/100\n",
            "245/245 [==============================] - 1s 4ms/step - loss: 765962.5625 - mae: 593.4644 - mse: 765962.5625 - val_loss: 688833.1875 - val_mae: 510.5514 - val_mse: 688833.1875\n",
            "Epoch 30/100\n",
            "245/245 [==============================] - 1s 5ms/step - loss: 805570.3125 - mae: 601.8250 - mse: 805570.3125 - val_loss: 702948.8750 - val_mae: 496.8479 - val_mse: 702948.8750\n",
            "Epoch 31/100\n",
            "245/245 [==============================] - 1s 4ms/step - loss: 776735.1875 - mae: 596.5558 - mse: 776735.1875 - val_loss: 799823.1250 - val_mae: 609.5806 - val_mse: 799823.1250\n",
            "Epoch 32/100\n",
            "245/245 [==============================] - 1s 5ms/step - loss: 779573.1875 - mae: 597.3320 - mse: 779573.1875 - val_loss: 740401.1250 - val_mae: 545.4146 - val_mse: 740401.1250\n",
            "Epoch 33/100\n",
            "245/245 [==============================] - 1s 4ms/step - loss: 751563.1250 - mae: 578.9400 - mse: 751563.1250 - val_loss: 782470.7500 - val_mae: 594.2383 - val_mse: 782470.7500\n",
            "Epoch 34/100\n",
            "245/245 [==============================] - 1s 4ms/step - loss: 781437.7500 - mae: 596.4490 - mse: 781437.7500 - val_loss: 1987192.7500 - val_mae: 1007.7486 - val_mse: 1987192.7500\n",
            "Epoch 35/100\n",
            "245/245 [==============================] - 1s 4ms/step - loss: 789230.1250 - mae: 602.4446 - mse: 789230.1250 - val_loss: 1169775.6250 - val_mae: 760.9834 - val_mse: 1169775.6250\n",
            "Epoch 36/100\n",
            "245/245 [==============================] - 1s 4ms/step - loss: 799618.1250 - mae: 601.0928 - mse: 799618.1250 - val_loss: 840480.9375 - val_mae: 616.2945 - val_mse: 840480.9375\n",
            "Epoch 37/100\n",
            "245/245 [==============================] - 1s 5ms/step - loss: 779964.2500 - mae: 592.6855 - mse: 779964.2500 - val_loss: 950379.6875 - val_mae: 715.3130 - val_mse: 950379.6875\n",
            "Epoch 38/100\n",
            "245/245 [==============================] - 1s 5ms/step - loss: 789514.5000 - mae: 596.9469 - mse: 789514.5000 - val_loss: 815760.2500 - val_mae: 583.0295 - val_mse: 815760.2500\n",
            "Epoch 39/100\n",
            "245/245 [==============================] - 1s 4ms/step - loss: 779082.6250 - mae: 594.1367 - mse: 779082.6250 - val_loss: 696203.8125 - val_mae: 501.4666 - val_mse: 696203.8125\n",
            "45.703200578689575  secs\n",
            "\n",
            " Using Early stopping, needed only  39 epochs to converge!\n"
          ],
          "name": "stdout"
        }
      ]
    },
    {
      "cell_type": "code",
      "metadata": {
        "colab": {
          "base_uri": "https://localhost:8080/"
        },
        "id": "F7h6Ng9qCAwD",
        "outputId": "0e40baf2-daf1-4bbf-9605-a67dbe57eb39"
      },
      "source": [
        "tuned_model.summary()"
      ],
      "execution_count": 58,
      "outputs": [
        {
          "output_type": "stream",
          "text": [
            "Model: \"sequential\"\n",
            "_________________________________________________________________\n",
            "Layer (type)                 Output Shape              Param #   \n",
            "=================================================================\n",
            "module_wrapper (ModuleWrappe (None, 64)                20736     \n",
            "_________________________________________________________________\n",
            "module_wrapper_1 (ModuleWrap (None, 40)                2600      \n",
            "_________________________________________________________________\n",
            "module_wrapper_2 (ModuleWrap (None, 40)                160       \n",
            "_________________________________________________________________\n",
            "module_wrapper_3 (ModuleWrap (None, 40)                0         \n",
            "_________________________________________________________________\n",
            "module_wrapper_4 (ModuleWrap (None, 16)                656       \n",
            "_________________________________________________________________\n",
            "module_wrapper_5 (ModuleWrap (None, 30)                510       \n",
            "_________________________________________________________________\n",
            "module_wrapper_6 (ModuleWrap (None, 30)                120       \n",
            "_________________________________________________________________\n",
            "module_wrapper_7 (ModuleWrap (None, 30)                0         \n",
            "_________________________________________________________________\n",
            "module_wrapper_8 (ModuleWrap (None, 96)                2976      \n",
            "_________________________________________________________________\n",
            "module_wrapper_9 (ModuleWrap (None, 96)                384       \n",
            "_________________________________________________________________\n",
            "module_wrapper_10 (ModuleWra (None, 1)                 97        \n",
            "_________________________________________________________________\n",
            "module_wrapper_11 (ModuleWra (None, 80)                160       \n",
            "_________________________________________________________________\n",
            "module_wrapper_12 (ModuleWra (None, 80)                320       \n",
            "_________________________________________________________________\n",
            "module_wrapper_13 (ModuleWra (None, 1)                 81        \n",
            "_________________________________________________________________\n",
            "module_wrapper_14 (ModuleWra (None, 64)                128       \n",
            "_________________________________________________________________\n",
            "module_wrapper_15 (ModuleWra (None, 64)                256       \n",
            "_________________________________________________________________\n",
            "module_wrapper_16 (ModuleWra (None, 1)                 65        \n",
            "=================================================================\n",
            "Total params: 29,249\n",
            "Trainable params: 28,629\n",
            "Non-trainable params: 620\n",
            "_________________________________________________________________\n"
          ],
          "name": "stdout"
        }
      ]
    },
    {
      "cell_type": "code",
      "metadata": {
        "colab": {
          "base_uri": "https://localhost:8080/"
        },
        "id": "pjNo4kPOvHx9",
        "outputId": "3b8da9e7-6dcd-4227-f60e-c37bb81634dd"
      },
      "source": [
        "y_pred_train_tuned= tuned_model.predict(train_X).flatten()\n",
        "y_pred_test_tuned= tuned_model.predict(test_X).flatten()\n",
        "\n",
        "print(\"Training accuracy: \",r2_score(train_y, y_pred_train_tuned))\n",
        "\n",
        "print(\"Test accuracy: \",r2_score(test_y, y_pred_test_tuned))\n",
        "\n",
        "print(\"Test mean-squared error: \",np.sqrt(mean_squared_error(test_y, y_pred_test_tuned)))"
      ],
      "execution_count": 59,
      "outputs": [
        {
          "output_type": "stream",
          "text": [
            "Training accuracy:  0.8976291708042548\n",
            "Test accuracy:  0.8608422158783218\n",
            "Test mean-squared error:  829.9598051286465\n"
          ],
          "name": "stdout"
        }
      ]
    },
    {
      "cell_type": "markdown",
      "metadata": {
        "id": "cjAayFVeannx"
      },
      "source": [
        "<a name = Section11></a>\n",
        "### **11. Conclusion**\n",
        "\n",
        "The model accuracy is about 86% against the training accuracy of 89%.\n",
        "Random Search tuner worked better for this dataset compared to Bayesian Optimization."
      ]
    }
  ]
}