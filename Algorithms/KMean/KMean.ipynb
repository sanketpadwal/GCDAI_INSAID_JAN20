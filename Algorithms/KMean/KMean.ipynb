{
  "nbformat": 4,
  "nbformat_minor": 0,
  "metadata": {
    "colab": {
      "name": "KMean.ipynb",
      "provenance": [],
      "collapsed_sections": [],
      "authorship_tag": "ABX9TyNOAS5jSBcIymDUhvlfH3iT",
      "include_colab_link": true
    },
    "kernelspec": {
      "name": "python3",
      "display_name": "Python 3"
    }
  },
  "cells": [
    {
      "cell_type": "markdown",
      "metadata": {
        "id": "view-in-github",
        "colab_type": "text"
      },
      "source": [
        "<a href=\"https://colab.research.google.com/github/sanketpadwal/GCDAI_INSAID_JAN20/blob/main/Algorithms/KMean/KMean.ipynb\" target=\"_parent\"><img src=\"https://colab.research.google.com/assets/colab-badge.svg\" alt=\"Open In Colab\"/></a>"
      ]
    },
    {
      "cell_type": "markdown",
      "metadata": {
        "id": "D8hKtU949DWH"
      },
      "source": [
        "# **Credit Card Customers Segmentation**\r\n",
        "### *KMean Cluster Algorithm*\r\n",
        "\r\n",
        "<img src=\"https://github.com/sanketpadwal/GCDAI_INSAID_JAN20/blob/main/Algorithms/KMean/download.jfif?raw=true\" width=\"500\" height=\"300\" /><img src=\"https://github.com/sanketpadwal/GCDAI_INSAID_JAN20/blob/main/Algorithms/KMean/10-Behavioral-Segmentation-Methods-Types.png?raw=true\" width=\"500\" height=\"300\" />\r\n",
        "\r\n",
        "\r\n",
        "*image source - https://www.latimes.com/business/story/2020-03-25/coronavirus-credit-card-losses-echo-of-2008*<br>\r\n",
        "*image source - https://www.pointillist.com/blog/behavioral-segmentation//*\r\n",
        "\r\n",
        "\r\n",
        "## Problem Statement\r\n",
        "Segmentation of credit card customers based on their behaviour observed for 6 months.\r\n",
        "\r\n",
        "\r\n",
        "## Objective\r\n",
        " - Explore K-Mean algorithm\r\n",
        " - Build interactive application using streamlit library \r\n",
        "\r\n",
        "\r\n",
        "## About this dataset\r\n",
        "This case requires to develop a customer segmentation to define marketing strategy. The\r\n",
        "sample Dataset summarizes the usage behavior of about 9000 active credit card holders during the last 6 months. The file is at a customer level with 18 behavioral variables.<br>\r\n",
        "*data source - https://www.kaggle.com/arjunbhasin2013/ccdata*\r\n",
        "\r\n",
        "**Attribute Information:**\r\n",
        "\r\n",
        "Following is the Data Dictionary for Credit Card dataset :-\r\n",
        "\r\n",
        "CUSTID : Identification of Credit Card holder (Categorical)<br>\r\n",
        "BALANCE : Balance amount left in their account to make purchases<br>\r\n",
        "BALANCEFREQUENCY : How frequently the Balance is updated, score between 0 and 1 (1 = frequently updated, 0 = not frequently updated)<br>\r\n",
        "PURCHASES : Amount of purchases made from account<br>\r\n",
        "ONEOFFPURCHASES : Maximum purchase amount done in one-go<br>\r\n",
        "INSTALLMENTSPURCHASES : Amount of purchase done in installment<br>\r\n",
        "CASHADVANCE : Cash in advance given by the user<br>\r\n",
        "PURCHASESFREQUENCY : How frequently the Purchases are being made, score between 0 and 1 (1 = frequently purchased, 0 = not frequently purchased)<br>\r\n",
        "ONEOFFPURCHASESFREQUENCY : How frequently Purchases are happening in one-go (1 = frequently purchased, 0 = not frequently purchased)<br>\r\n",
        "PURCHASESINSTALLMENTSFREQUENCY : How frequently purchases in installments are being done (1 = frequently done, 0 = not frequently done)<br>\r\n",
        "CASHADVANCEFREQUENCY : How frequently the cash in advance being paid<br>\r\n",
        "CASHADVANCETRX : Number of Transactions made with \"Cash in Advanced\"<br>\r\n",
        "PURCHASESTRX : Numbe of purchase transactions made<br>\r\n",
        "CREDITLIMIT : Limit of Credit Card for user<br>\r\n",
        "PAYMENTS : Amount of Payment done by user<br>\r\n",
        "MINIMUM_PAYMENTS : Minimum amount of payments made by user<br>\r\n",
        "PRCFULLPAYMENT : Percent of full payment paid by user<br>\r\n",
        "TENURE : Tenure of credit card service for user<br>\r\n"
      ]
    },
    {
      "cell_type": "code",
      "metadata": {
        "id": "6ndMACt78Xul"
      },
      "source": [
        "# Load Libraries\r\n",
        "\r\n",
        "import pandas as pd\r\n",
        "import numpy as np\r\n",
        "from sklearn.cluster import KMeans\r\n",
        "from sklearn.preprocessing import LabelEncoder\r\n",
        "from sklearn.preprocessing import StandardScaler\r\n",
        "from sklearn.preprocessing import MinMaxScaler\r\n",
        "from sklearn.mixture import GaussianMixture #For GMM clustering\r\n",
        "import seaborn as sns\r\n",
        "import matplotlib.pyplot as plt\r\n",
        "\r\n",
        "%matplotlib inline"
      ],
      "execution_count": 1,
      "outputs": []
    },
    {
      "cell_type": "code",
      "metadata": {
        "id": "b32qEIW5tGAw"
      },
      "source": [
        "# data source\r\n",
        "url = \"https://raw.githubusercontent.com/sanketpadwal/GCDAI_INSAID_JAN20/main/Algorithms/KMean/CC%20GENERAL.csv?_sm_au_=iVVfNH7hPHhMDT0QL321jK0f1JH33\""
      ],
      "execution_count": 3,
      "outputs": []
    },
    {
      "cell_type": "code",
      "metadata": {
        "colab": {
          "base_uri": "https://localhost:8080/",
          "height": 223
        },
        "id": "ZlMyF3nCpcut",
        "outputId": "665040c2-166c-47e8-e514-089e040a6a73"
      },
      "source": [
        "# Load Data\r\n",
        "\r\n",
        "data = pd.read_csv(url,sep=',')\r\n",
        "data.head()"
      ],
      "execution_count": 4,
      "outputs": [
        {
          "output_type": "execute_result",
          "data": {
            "text/html": [
              "<div>\n",
              "<style scoped>\n",
              "    .dataframe tbody tr th:only-of-type {\n",
              "        vertical-align: middle;\n",
              "    }\n",
              "\n",
              "    .dataframe tbody tr th {\n",
              "        vertical-align: top;\n",
              "    }\n",
              "\n",
              "    .dataframe thead th {\n",
              "        text-align: right;\n",
              "    }\n",
              "</style>\n",
              "<table border=\"1\" class=\"dataframe\">\n",
              "  <thead>\n",
              "    <tr style=\"text-align: right;\">\n",
              "      <th></th>\n",
              "      <th>CUST_ID</th>\n",
              "      <th>BALANCE</th>\n",
              "      <th>BALANCE_FREQUENCY</th>\n",
              "      <th>PURCHASES</th>\n",
              "      <th>ONEOFF_PURCHASES</th>\n",
              "      <th>INSTALLMENTS_PURCHASES</th>\n",
              "      <th>CASH_ADVANCE</th>\n",
              "      <th>PURCHASES_FREQUENCY</th>\n",
              "      <th>ONEOFF_PURCHASES_FREQUENCY</th>\n",
              "      <th>PURCHASES_INSTALLMENTS_FREQUENCY</th>\n",
              "      <th>CASH_ADVANCE_FREQUENCY</th>\n",
              "      <th>CASH_ADVANCE_TRX</th>\n",
              "      <th>PURCHASES_TRX</th>\n",
              "      <th>CREDIT_LIMIT</th>\n",
              "      <th>PAYMENTS</th>\n",
              "      <th>MINIMUM_PAYMENTS</th>\n",
              "      <th>PRC_FULL_PAYMENT</th>\n",
              "      <th>TENURE</th>\n",
              "    </tr>\n",
              "  </thead>\n",
              "  <tbody>\n",
              "    <tr>\n",
              "      <th>0</th>\n",
              "      <td>C10001</td>\n",
              "      <td>40.900749</td>\n",
              "      <td>0.818182</td>\n",
              "      <td>95.40</td>\n",
              "      <td>0.00</td>\n",
              "      <td>95.4</td>\n",
              "      <td>0.000000</td>\n",
              "      <td>0.166667</td>\n",
              "      <td>0.000000</td>\n",
              "      <td>0.083333</td>\n",
              "      <td>0.000000</td>\n",
              "      <td>0</td>\n",
              "      <td>2</td>\n",
              "      <td>1000.0</td>\n",
              "      <td>201.802084</td>\n",
              "      <td>139.509787</td>\n",
              "      <td>0.000000</td>\n",
              "      <td>12</td>\n",
              "    </tr>\n",
              "    <tr>\n",
              "      <th>1</th>\n",
              "      <td>C10002</td>\n",
              "      <td>3202.467416</td>\n",
              "      <td>0.909091</td>\n",
              "      <td>0.00</td>\n",
              "      <td>0.00</td>\n",
              "      <td>0.0</td>\n",
              "      <td>6442.945483</td>\n",
              "      <td>0.000000</td>\n",
              "      <td>0.000000</td>\n",
              "      <td>0.000000</td>\n",
              "      <td>0.250000</td>\n",
              "      <td>4</td>\n",
              "      <td>0</td>\n",
              "      <td>7000.0</td>\n",
              "      <td>4103.032597</td>\n",
              "      <td>1072.340217</td>\n",
              "      <td>0.222222</td>\n",
              "      <td>12</td>\n",
              "    </tr>\n",
              "    <tr>\n",
              "      <th>2</th>\n",
              "      <td>C10003</td>\n",
              "      <td>2495.148862</td>\n",
              "      <td>1.000000</td>\n",
              "      <td>773.17</td>\n",
              "      <td>773.17</td>\n",
              "      <td>0.0</td>\n",
              "      <td>0.000000</td>\n",
              "      <td>1.000000</td>\n",
              "      <td>1.000000</td>\n",
              "      <td>0.000000</td>\n",
              "      <td>0.000000</td>\n",
              "      <td>0</td>\n",
              "      <td>12</td>\n",
              "      <td>7500.0</td>\n",
              "      <td>622.066742</td>\n",
              "      <td>627.284787</td>\n",
              "      <td>0.000000</td>\n",
              "      <td>12</td>\n",
              "    </tr>\n",
              "    <tr>\n",
              "      <th>3</th>\n",
              "      <td>C10004</td>\n",
              "      <td>1666.670542</td>\n",
              "      <td>0.636364</td>\n",
              "      <td>1499.00</td>\n",
              "      <td>1499.00</td>\n",
              "      <td>0.0</td>\n",
              "      <td>205.788017</td>\n",
              "      <td>0.083333</td>\n",
              "      <td>0.083333</td>\n",
              "      <td>0.000000</td>\n",
              "      <td>0.083333</td>\n",
              "      <td>1</td>\n",
              "      <td>1</td>\n",
              "      <td>7500.0</td>\n",
              "      <td>0.000000</td>\n",
              "      <td>NaN</td>\n",
              "      <td>0.000000</td>\n",
              "      <td>12</td>\n",
              "    </tr>\n",
              "    <tr>\n",
              "      <th>4</th>\n",
              "      <td>C10005</td>\n",
              "      <td>817.714335</td>\n",
              "      <td>1.000000</td>\n",
              "      <td>16.00</td>\n",
              "      <td>16.00</td>\n",
              "      <td>0.0</td>\n",
              "      <td>0.000000</td>\n",
              "      <td>0.083333</td>\n",
              "      <td>0.083333</td>\n",
              "      <td>0.000000</td>\n",
              "      <td>0.000000</td>\n",
              "      <td>0</td>\n",
              "      <td>1</td>\n",
              "      <td>1200.0</td>\n",
              "      <td>678.334763</td>\n",
              "      <td>244.791237</td>\n",
              "      <td>0.000000</td>\n",
              "      <td>12</td>\n",
              "    </tr>\n",
              "  </tbody>\n",
              "</table>\n",
              "</div>"
            ],
            "text/plain": [
              "  CUST_ID      BALANCE  ...  PRC_FULL_PAYMENT  TENURE\n",
              "0  C10001    40.900749  ...          0.000000      12\n",
              "1  C10002  3202.467416  ...          0.222222      12\n",
              "2  C10003  2495.148862  ...          0.000000      12\n",
              "3  C10004  1666.670542  ...          0.000000      12\n",
              "4  C10005   817.714335  ...          0.000000      12\n",
              "\n",
              "[5 rows x 18 columns]"
            ]
          },
          "metadata": {
            "tags": []
          },
          "execution_count": 4
        }
      ]
    },
    {
      "cell_type": "code",
      "metadata": {
        "colab": {
          "base_uri": "https://localhost:8080/"
        },
        "id": "onja7KnBuSoq",
        "outputId": "73dda09a-3c16-45b8-961c-1ecd291eb1c7"
      },
      "source": [
        "data.shape"
      ],
      "execution_count": 8,
      "outputs": [
        {
          "output_type": "execute_result",
          "data": {
            "text/plain": [
              "(8950, 18)"
            ]
          },
          "metadata": {
            "tags": []
          },
          "execution_count": 8
        }
      ]
    },
    {
      "cell_type": "code",
      "metadata": {
        "colab": {
          "base_uri": "https://localhost:8080/"
        },
        "id": "QqH7p9rYuDnn",
        "outputId": "264fd2c7-4c3e-4838-e219-b96429dc77a6"
      },
      "source": [
        "data.columns"
      ],
      "execution_count": 6,
      "outputs": [
        {
          "output_type": "execute_result",
          "data": {
            "text/plain": [
              "Index(['CUST_ID', 'BALANCE', 'BALANCE_FREQUENCY', 'PURCHASES',\n",
              "       'ONEOFF_PURCHASES', 'INSTALLMENTS_PURCHASES', 'CASH_ADVANCE',\n",
              "       'PURCHASES_FREQUENCY', 'ONEOFF_PURCHASES_FREQUENCY',\n",
              "       'PURCHASES_INSTALLMENTS_FREQUENCY', 'CASH_ADVANCE_FREQUENCY',\n",
              "       'CASH_ADVANCE_TRX', 'PURCHASES_TRX', 'CREDIT_LIMIT', 'PAYMENTS',\n",
              "       'MINIMUM_PAYMENTS', 'PRC_FULL_PAYMENT', 'TENURE'],\n",
              "      dtype='object')"
            ]
          },
          "metadata": {
            "tags": []
          },
          "execution_count": 6
        }
      ]
    },
    {
      "cell_type": "code",
      "metadata": {
        "colab": {
          "base_uri": "https://localhost:8080/"
        },
        "id": "hWTibq0Mudg2",
        "outputId": "e2a5f19b-ae67-4f5f-8267-43915100c4a4"
      },
      "source": [
        "data.info()"
      ],
      "execution_count": 9,
      "outputs": [
        {
          "output_type": "stream",
          "text": [
            "<class 'pandas.core.frame.DataFrame'>\n",
            "RangeIndex: 8950 entries, 0 to 8949\n",
            "Data columns (total 18 columns):\n",
            " #   Column                            Non-Null Count  Dtype  \n",
            "---  ------                            --------------  -----  \n",
            " 0   CUST_ID                           8950 non-null   object \n",
            " 1   BALANCE                           8950 non-null   float64\n",
            " 2   BALANCE_FREQUENCY                 8950 non-null   float64\n",
            " 3   PURCHASES                         8950 non-null   float64\n",
            " 4   ONEOFF_PURCHASES                  8950 non-null   float64\n",
            " 5   INSTALLMENTS_PURCHASES            8950 non-null   float64\n",
            " 6   CASH_ADVANCE                      8950 non-null   float64\n",
            " 7   PURCHASES_FREQUENCY               8950 non-null   float64\n",
            " 8   ONEOFF_PURCHASES_FREQUENCY        8950 non-null   float64\n",
            " 9   PURCHASES_INSTALLMENTS_FREQUENCY  8950 non-null   float64\n",
            " 10  CASH_ADVANCE_FREQUENCY            8950 non-null   float64\n",
            " 11  CASH_ADVANCE_TRX                  8950 non-null   int64  \n",
            " 12  PURCHASES_TRX                     8950 non-null   int64  \n",
            " 13  CREDIT_LIMIT                      8949 non-null   float64\n",
            " 14  PAYMENTS                          8950 non-null   float64\n",
            " 15  MINIMUM_PAYMENTS                  8637 non-null   float64\n",
            " 16  PRC_FULL_PAYMENT                  8950 non-null   float64\n",
            " 17  TENURE                            8950 non-null   int64  \n",
            "dtypes: float64(14), int64(3), object(1)\n",
            "memory usage: 1.2+ MB\n"
          ],
          "name": "stdout"
        }
      ]
    },
    {
      "cell_type": "code",
      "metadata": {
        "colab": {
          "base_uri": "https://localhost:8080/",
          "height": 573
        },
        "id": "ibNppc_0uinv",
        "outputId": "96564ea7-67f4-4022-8b68-443b7f0e7950"
      },
      "source": [
        "data.describe().T"
      ],
      "execution_count": 10,
      "outputs": [
        {
          "output_type": "execute_result",
          "data": {
            "text/html": [
              "<div>\n",
              "<style scoped>\n",
              "    .dataframe tbody tr th:only-of-type {\n",
              "        vertical-align: middle;\n",
              "    }\n",
              "\n",
              "    .dataframe tbody tr th {\n",
              "        vertical-align: top;\n",
              "    }\n",
              "\n",
              "    .dataframe thead th {\n",
              "        text-align: right;\n",
              "    }\n",
              "</style>\n",
              "<table border=\"1\" class=\"dataframe\">\n",
              "  <thead>\n",
              "    <tr style=\"text-align: right;\">\n",
              "      <th></th>\n",
              "      <th>count</th>\n",
              "      <th>mean</th>\n",
              "      <th>std</th>\n",
              "      <th>min</th>\n",
              "      <th>25%</th>\n",
              "      <th>50%</th>\n",
              "      <th>75%</th>\n",
              "      <th>max</th>\n",
              "    </tr>\n",
              "  </thead>\n",
              "  <tbody>\n",
              "    <tr>\n",
              "      <th>BALANCE</th>\n",
              "      <td>8950.0</td>\n",
              "      <td>1564.474828</td>\n",
              "      <td>2081.531879</td>\n",
              "      <td>0.000000</td>\n",
              "      <td>128.281915</td>\n",
              "      <td>873.385231</td>\n",
              "      <td>2054.140036</td>\n",
              "      <td>19043.13856</td>\n",
              "    </tr>\n",
              "    <tr>\n",
              "      <th>BALANCE_FREQUENCY</th>\n",
              "      <td>8950.0</td>\n",
              "      <td>0.877271</td>\n",
              "      <td>0.236904</td>\n",
              "      <td>0.000000</td>\n",
              "      <td>0.888889</td>\n",
              "      <td>1.000000</td>\n",
              "      <td>1.000000</td>\n",
              "      <td>1.00000</td>\n",
              "    </tr>\n",
              "    <tr>\n",
              "      <th>PURCHASES</th>\n",
              "      <td>8950.0</td>\n",
              "      <td>1003.204834</td>\n",
              "      <td>2136.634782</td>\n",
              "      <td>0.000000</td>\n",
              "      <td>39.635000</td>\n",
              "      <td>361.280000</td>\n",
              "      <td>1110.130000</td>\n",
              "      <td>49039.57000</td>\n",
              "    </tr>\n",
              "    <tr>\n",
              "      <th>ONEOFF_PURCHASES</th>\n",
              "      <td>8950.0</td>\n",
              "      <td>592.437371</td>\n",
              "      <td>1659.887917</td>\n",
              "      <td>0.000000</td>\n",
              "      <td>0.000000</td>\n",
              "      <td>38.000000</td>\n",
              "      <td>577.405000</td>\n",
              "      <td>40761.25000</td>\n",
              "    </tr>\n",
              "    <tr>\n",
              "      <th>INSTALLMENTS_PURCHASES</th>\n",
              "      <td>8950.0</td>\n",
              "      <td>411.067645</td>\n",
              "      <td>904.338115</td>\n",
              "      <td>0.000000</td>\n",
              "      <td>0.000000</td>\n",
              "      <td>89.000000</td>\n",
              "      <td>468.637500</td>\n",
              "      <td>22500.00000</td>\n",
              "    </tr>\n",
              "    <tr>\n",
              "      <th>CASH_ADVANCE</th>\n",
              "      <td>8950.0</td>\n",
              "      <td>978.871112</td>\n",
              "      <td>2097.163877</td>\n",
              "      <td>0.000000</td>\n",
              "      <td>0.000000</td>\n",
              "      <td>0.000000</td>\n",
              "      <td>1113.821139</td>\n",
              "      <td>47137.21176</td>\n",
              "    </tr>\n",
              "    <tr>\n",
              "      <th>PURCHASES_FREQUENCY</th>\n",
              "      <td>8950.0</td>\n",
              "      <td>0.490351</td>\n",
              "      <td>0.401371</td>\n",
              "      <td>0.000000</td>\n",
              "      <td>0.083333</td>\n",
              "      <td>0.500000</td>\n",
              "      <td>0.916667</td>\n",
              "      <td>1.00000</td>\n",
              "    </tr>\n",
              "    <tr>\n",
              "      <th>ONEOFF_PURCHASES_FREQUENCY</th>\n",
              "      <td>8950.0</td>\n",
              "      <td>0.202458</td>\n",
              "      <td>0.298336</td>\n",
              "      <td>0.000000</td>\n",
              "      <td>0.000000</td>\n",
              "      <td>0.083333</td>\n",
              "      <td>0.300000</td>\n",
              "      <td>1.00000</td>\n",
              "    </tr>\n",
              "    <tr>\n",
              "      <th>PURCHASES_INSTALLMENTS_FREQUENCY</th>\n",
              "      <td>8950.0</td>\n",
              "      <td>0.364437</td>\n",
              "      <td>0.397448</td>\n",
              "      <td>0.000000</td>\n",
              "      <td>0.000000</td>\n",
              "      <td>0.166667</td>\n",
              "      <td>0.750000</td>\n",
              "      <td>1.00000</td>\n",
              "    </tr>\n",
              "    <tr>\n",
              "      <th>CASH_ADVANCE_FREQUENCY</th>\n",
              "      <td>8950.0</td>\n",
              "      <td>0.135144</td>\n",
              "      <td>0.200121</td>\n",
              "      <td>0.000000</td>\n",
              "      <td>0.000000</td>\n",
              "      <td>0.000000</td>\n",
              "      <td>0.222222</td>\n",
              "      <td>1.50000</td>\n",
              "    </tr>\n",
              "    <tr>\n",
              "      <th>CASH_ADVANCE_TRX</th>\n",
              "      <td>8950.0</td>\n",
              "      <td>3.248827</td>\n",
              "      <td>6.824647</td>\n",
              "      <td>0.000000</td>\n",
              "      <td>0.000000</td>\n",
              "      <td>0.000000</td>\n",
              "      <td>4.000000</td>\n",
              "      <td>123.00000</td>\n",
              "    </tr>\n",
              "    <tr>\n",
              "      <th>PURCHASES_TRX</th>\n",
              "      <td>8950.0</td>\n",
              "      <td>14.709832</td>\n",
              "      <td>24.857649</td>\n",
              "      <td>0.000000</td>\n",
              "      <td>1.000000</td>\n",
              "      <td>7.000000</td>\n",
              "      <td>17.000000</td>\n",
              "      <td>358.00000</td>\n",
              "    </tr>\n",
              "    <tr>\n",
              "      <th>CREDIT_LIMIT</th>\n",
              "      <td>8949.0</td>\n",
              "      <td>4494.449450</td>\n",
              "      <td>3638.815725</td>\n",
              "      <td>50.000000</td>\n",
              "      <td>1600.000000</td>\n",
              "      <td>3000.000000</td>\n",
              "      <td>6500.000000</td>\n",
              "      <td>30000.00000</td>\n",
              "    </tr>\n",
              "    <tr>\n",
              "      <th>PAYMENTS</th>\n",
              "      <td>8950.0</td>\n",
              "      <td>1733.143852</td>\n",
              "      <td>2895.063757</td>\n",
              "      <td>0.000000</td>\n",
              "      <td>383.276166</td>\n",
              "      <td>856.901546</td>\n",
              "      <td>1901.134317</td>\n",
              "      <td>50721.48336</td>\n",
              "    </tr>\n",
              "    <tr>\n",
              "      <th>MINIMUM_PAYMENTS</th>\n",
              "      <td>8637.0</td>\n",
              "      <td>864.206542</td>\n",
              "      <td>2372.446607</td>\n",
              "      <td>0.019163</td>\n",
              "      <td>169.123707</td>\n",
              "      <td>312.343947</td>\n",
              "      <td>825.485459</td>\n",
              "      <td>76406.20752</td>\n",
              "    </tr>\n",
              "    <tr>\n",
              "      <th>PRC_FULL_PAYMENT</th>\n",
              "      <td>8950.0</td>\n",
              "      <td>0.153715</td>\n",
              "      <td>0.292499</td>\n",
              "      <td>0.000000</td>\n",
              "      <td>0.000000</td>\n",
              "      <td>0.000000</td>\n",
              "      <td>0.142857</td>\n",
              "      <td>1.00000</td>\n",
              "    </tr>\n",
              "    <tr>\n",
              "      <th>TENURE</th>\n",
              "      <td>8950.0</td>\n",
              "      <td>11.517318</td>\n",
              "      <td>1.338331</td>\n",
              "      <td>6.000000</td>\n",
              "      <td>12.000000</td>\n",
              "      <td>12.000000</td>\n",
              "      <td>12.000000</td>\n",
              "      <td>12.00000</td>\n",
              "    </tr>\n",
              "  </tbody>\n",
              "</table>\n",
              "</div>"
            ],
            "text/plain": [
              "                                   count         mean  ...          75%          max\n",
              "BALANCE                           8950.0  1564.474828  ...  2054.140036  19043.13856\n",
              "BALANCE_FREQUENCY                 8950.0     0.877271  ...     1.000000      1.00000\n",
              "PURCHASES                         8950.0  1003.204834  ...  1110.130000  49039.57000\n",
              "ONEOFF_PURCHASES                  8950.0   592.437371  ...   577.405000  40761.25000\n",
              "INSTALLMENTS_PURCHASES            8950.0   411.067645  ...   468.637500  22500.00000\n",
              "CASH_ADVANCE                      8950.0   978.871112  ...  1113.821139  47137.21176\n",
              "PURCHASES_FREQUENCY               8950.0     0.490351  ...     0.916667      1.00000\n",
              "ONEOFF_PURCHASES_FREQUENCY        8950.0     0.202458  ...     0.300000      1.00000\n",
              "PURCHASES_INSTALLMENTS_FREQUENCY  8950.0     0.364437  ...     0.750000      1.00000\n",
              "CASH_ADVANCE_FREQUENCY            8950.0     0.135144  ...     0.222222      1.50000\n",
              "CASH_ADVANCE_TRX                  8950.0     3.248827  ...     4.000000    123.00000\n",
              "PURCHASES_TRX                     8950.0    14.709832  ...    17.000000    358.00000\n",
              "CREDIT_LIMIT                      8949.0  4494.449450  ...  6500.000000  30000.00000\n",
              "PAYMENTS                          8950.0  1733.143852  ...  1901.134317  50721.48336\n",
              "MINIMUM_PAYMENTS                  8637.0   864.206542  ...   825.485459  76406.20752\n",
              "PRC_FULL_PAYMENT                  8950.0     0.153715  ...     0.142857      1.00000\n",
              "TENURE                            8950.0    11.517318  ...    12.000000     12.00000\n",
              "\n",
              "[17 rows x 8 columns]"
            ]
          },
          "metadata": {
            "tags": []
          },
          "execution_count": 10
        }
      ]
    },
    {
      "cell_type": "code",
      "metadata": {
        "colab": {
          "base_uri": "https://localhost:8080/"
        },
        "id": "DBvSma_Ru4GH",
        "outputId": "3f35f96b-7e59-4742-fa82-9590fa698032"
      },
      "source": [
        "data.isnull().sum()"
      ],
      "execution_count": 11,
      "outputs": [
        {
          "output_type": "execute_result",
          "data": {
            "text/plain": [
              "CUST_ID                               0\n",
              "BALANCE                               0\n",
              "BALANCE_FREQUENCY                     0\n",
              "PURCHASES                             0\n",
              "ONEOFF_PURCHASES                      0\n",
              "INSTALLMENTS_PURCHASES                0\n",
              "CASH_ADVANCE                          0\n",
              "PURCHASES_FREQUENCY                   0\n",
              "ONEOFF_PURCHASES_FREQUENCY            0\n",
              "PURCHASES_INSTALLMENTS_FREQUENCY      0\n",
              "CASH_ADVANCE_FREQUENCY                0\n",
              "CASH_ADVANCE_TRX                      0\n",
              "PURCHASES_TRX                         0\n",
              "CREDIT_LIMIT                          1\n",
              "PAYMENTS                              0\n",
              "MINIMUM_PAYMENTS                    313\n",
              "PRC_FULL_PAYMENT                      0\n",
              "TENURE                                0\n",
              "dtype: int64"
            ]
          },
          "metadata": {
            "tags": []
          },
          "execution_count": 11
        }
      ]
    },
    {
      "cell_type": "code",
      "metadata": {
        "colab": {
          "base_uri": "https://localhost:8080/"
        },
        "id": "rGsJ5WrfvJNm",
        "outputId": "33300fbf-fa09-45ef-9b99-e7d18fc68cd8"
      },
      "source": [
        "data.nunique()"
      ],
      "execution_count": 12,
      "outputs": [
        {
          "output_type": "execute_result",
          "data": {
            "text/plain": [
              "CUST_ID                             8950\n",
              "BALANCE                             8871\n",
              "BALANCE_FREQUENCY                     43\n",
              "PURCHASES                           6203\n",
              "ONEOFF_PURCHASES                    4014\n",
              "INSTALLMENTS_PURCHASES              4452\n",
              "CASH_ADVANCE                        4323\n",
              "PURCHASES_FREQUENCY                   47\n",
              "ONEOFF_PURCHASES_FREQUENCY            47\n",
              "PURCHASES_INSTALLMENTS_FREQUENCY      47\n",
              "CASH_ADVANCE_FREQUENCY                54\n",
              "CASH_ADVANCE_TRX                      65\n",
              "PURCHASES_TRX                        173\n",
              "CREDIT_LIMIT                         205\n",
              "PAYMENTS                            8711\n",
              "MINIMUM_PAYMENTS                    8636\n",
              "PRC_FULL_PAYMENT                      47\n",
              "TENURE                                 7\n",
              "dtype: int64"
            ]
          },
          "metadata": {
            "tags": []
          },
          "execution_count": 12
        }
      ]
    }
  ]
}