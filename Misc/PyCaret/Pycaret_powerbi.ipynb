{
  "nbformat": 4,
  "nbformat_minor": 0,
  "metadata": {
    "colab": {
      "name": "Pycaret_powerbi.ipynb",
      "provenance": [],
      "authorship_tag": "ABX9TyM/GY0J7+aluSqXf8JFv6yd",
      "include_colab_link": true
    },
    "kernelspec": {
      "name": "python3",
      "display_name": "Python 3"
    },
    "language_info": {
      "name": "python"
    }
  },
  "cells": [
    {
      "cell_type": "markdown",
      "metadata": {
        "id": "view-in-github",
        "colab_type": "text"
      },
      "source": [
        "<a href=\"https://colab.research.google.com/github/sanketpadwal/GCDAI_INSAID_JAN20/blob/main/Misc/PyCaret/Pycaret_powerbi.ipynb\" target=\"_parent\"><img src=\"https://colab.research.google.com/assets/colab-badge.svg\" alt=\"Open In Colab\"/></a>"
      ]
    },
    {
      "cell_type": "code",
      "metadata": {
        "colab": {
          "base_uri": "https://localhost:8080/"
        },
        "id": "6fK8uiuxYckE",
        "outputId": "a97b3dc5-396d-4351-cbc3-1e1050cc1403"
      },
      "source": [
        "# Clone the entire repo.\n",
        "!git clone -l -s https://github.com/sanketpadwal/GCDAI_INSAID_JAN20.git cloned-repo\n",
        "%cd cloned-repo\n",
        "!ls"
      ],
      "execution_count": 1,
      "outputs": [
        {
          "output_type": "stream",
          "name": "stdout",
          "text": [
            "Cloning into 'cloned-repo'...\n",
            "warning: --local is ignored\n",
            "remote: Enumerating objects: 748, done.\u001b[K\n",
            "remote: Counting objects: 100% (341/341), done.\u001b[K\n",
            "remote: Compressing objects: 100% (334/334), done.\u001b[K\n",
            "remote: Total 748 (delta 177), reused 0 (delta 0), pack-reused 407\u001b[K\n",
            "Receiving objects: 100% (748/748), 47.31 MiB | 31.38 MiB/s, done.\n",
            "Resolving deltas: 100% (357/357), done.\n",
            "/content/cloned-repo\n",
            "Algorithms  Datasets\t\t       Misc\t  Term1_2  Term4   Term5\n",
            "Capstone2   DataVisualization_Tableau  README.md  Term3    Term4a  Term7\n"
          ]
        }
      ]
    },
    {
      "cell_type": "markdown",
      "metadata": {
        "id": "UFjUAP79by-I"
      },
      "source": [
        "# New Section"
      ]
    }
  ]
}