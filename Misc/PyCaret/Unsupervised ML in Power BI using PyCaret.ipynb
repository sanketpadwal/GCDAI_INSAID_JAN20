{
 "cells": [
  {
   "cell_type": "markdown",
   "metadata": {},
   "source": [
    "<center><img src=\"https://github.com/insaid2018/Term-1/blob/master/Images/INSAID_Full%20Logo.png?raw=true\" width=\"240\" height=\"100\" /></center>"
   ]
  },
  {
   "cell_type": "markdown",
   "metadata": {},
   "source": [
    "# Unsupervised ML in Power BI using PyCaret"
   ]
  },
  {
   "cell_type": "markdown",
   "metadata": {},
   "source": [
    "<center><img src=\"https://pycaret.org/wp-content/uploads/2020/03/Divi93_43.png\" width=\"250\" height=\"200\" /></center>"
   ]
  },
  {
   "cell_type": "markdown",
   "metadata": {},
   "source": [
    "## Table of Contents\n",
    "\n",
    "\n",
    "1.0. [Installing PyCaret](#section100)<br>\n",
    "1.1. [Pre-Requisites](#section101)<br>\n",
    "2.0. [What is Clustering?](#section200)<br>\n",
    "3.0. [Overview of Clustering with PyCaret](#section300)<br>\n",
    "4.0. [Dataset of the tutorial](#section400)<br>\n",
    "5.0. [Getting the Data](#section500)<br>\n",
    "6.0. [Setting up environment in PyCaret](#section600)<br>\n",
    "7.0. [Create a model](#section700)<br>\n",
    "8.0. [Assign a model](#section800)<br>\n",
    "9.0. [Plot a model](#section900)<br>\n",
    "10.0. [Predict on unseen data](#section1000)<br>\n",
    "11.0. [Saving the model](#section1100)<br>\n",
    "12.0. [Loading the model](#section1200)<br>\n",
    "\n"
   ]
  },
  {
   "cell_type": "markdown",
   "metadata": {},
   "source": [
    "## 1.1 Installing PyCaret\n",
    "The first step to get started with PyCaret is to install pycaret. Installation is easy and will only take a few minutes. Follow the instructions below:\n",
    "\n",
    "#### Installing PyCaret in Local Jupyter Notebook\n",
    "`pip install pycaret`  <br />\n",
    "\n",
    "#### Installing PyCaret on Google Colab or Azure Notebooks\n",
    "`!pip install pycaret`\n",
    "\n",
    "\n",
    "## 1.2 Pre-Requisites\n",
    "- Python 3.x\n",
    "- Latest version of pycaret\n",
    "- Internet connection to load data from pycaret's repository\n",
    "- Basic Knowledge of Clustering"
   ]
  },
  {
   "cell_type": "code",
   "execution_count": 1,
   "metadata": {},
   "outputs": [
    {
     "name": "stdout",
     "output_type": "stream",
     "text": [
      "Requirement already satisfied: pycaret in c:\\users\\lenovo\\anaconda3\\lib\\site-packages (2.1.2)\n",
      "Requirement already satisfied: mlflow in c:\\users\\lenovo\\anaconda3\\lib\\site-packages (from pycaret) (1.11.0)\n",
      "Requirement already satisfied: textblob in c:\\users\\lenovo\\anaconda3\\lib\\site-packages (from pycaret) (0.15.3)\n",
      "Requirement already satisfied: imbalanced-learn>=0.6.2 in c:\\users\\lenovo\\anaconda3\\lib\\site-packages (from pycaret) (0.6.2)\n",
      "Requirement already satisfied: pyLDAvis in c:\\users\\lenovo\\anaconda3\\lib\\site-packages (from pycaret) (2.1.2)\n",
      "Requirement already satisfied: pandas in c:\\users\\lenovo\\anaconda3\\lib\\site-packages (from pycaret) (0.25.3)\n",
      "Requirement already satisfied: nltk in c:\\users\\lenovo\\anaconda3\\lib\\site-packages (from pycaret) (3.3)\n",
      "Requirement already satisfied: pyod in c:\\users\\lenovo\\anaconda3\\lib\\site-packages (from pycaret) (0.8.1)\n",
      "Requirement already satisfied: scikit-learn>=0.23 in c:\\users\\lenovo\\anaconda3\\lib\\site-packages (from pycaret) (0.23.1)\n",
      "Requirement already satisfied: spacy in c:\\users\\lenovo\\anaconda3\\lib\\site-packages (from pycaret) (2.3.2)\n",
      "Requirement already satisfied: catboost>=0.23.2 in c:\\users\\lenovo\\anaconda3\\lib\\site-packages (from pycaret) (0.24)\n",
      "Requirement already satisfied: mlxtend in c:\\users\\lenovo\\anaconda3\\lib\\site-packages (from pycaret) (0.17.3)\n",
      "Requirement already satisfied: lightgbm>=2.3.1 in c:\\users\\lenovo\\anaconda3\\lib\\site-packages (from pycaret) (3.0.0)\n",
      "Requirement already satisfied: kmodes>=0.10.1 in c:\\users\\lenovo\\anaconda3\\lib\\site-packages (from pycaret) (0.10.2)\n",
      "Requirement already satisfied: plotly>=4.4.1 in c:\\users\\lenovo\\anaconda3\\lib\\site-packages (from pycaret) (4.8.2)\n",
      "Requirement already satisfied: matplotlib in c:\\users\\lenovo\\anaconda3\\lib\\site-packages (from pycaret) (3.2.0)\n",
      "Requirement already satisfied: seaborn in c:\\users\\lenovo\\anaconda3\\lib\\site-packages (from pycaret) (0.9.0)\n",
      "Requirement already satisfied: xgboost>=0.90 in c:\\users\\lenovo\\anaconda3\\lib\\site-packages (from pycaret) (1.2.0)\n",
      "Requirement already satisfied: numpy>=1.17 in c:\\users\\lenovo\\anaconda3\\lib\\site-packages (from pycaret) (1.18.1)\n",
      "Requirement already satisfied: joblib in c:\\users\\lenovo\\anaconda3\\lib\\site-packages (from pycaret) (0.16.0)\n",
      "Requirement already satisfied: yellowbrick>=1.0.1 in c:\\users\\lenovo\\anaconda3\\lib\\site-packages (from pycaret) (1.1)\n",
      "Requirement already satisfied: umap-learn in c:\\users\\lenovo\\anaconda3\\lib\\site-packages (from pycaret) (0.4.6)\n",
      "Requirement already satisfied: datefinder>=0.7.0 in c:\\users\\lenovo\\anaconda3\\lib\\site-packages (from pycaret) (0.7.1)\n",
      "Requirement already satisfied: IPython in c:\\users\\lenovo\\anaconda3\\lib\\site-packages (from pycaret) (7.15.0)\n",
      "Requirement already satisfied: gensim in c:\\users\\lenovo\\anaconda3\\lib\\site-packages (from pycaret) (3.8.3)\n",
      "Requirement already satisfied: wordcloud in c:\\users\\lenovo\\anaconda3\\lib\\site-packages (from pycaret) (1.8.0)\n",
      "Requirement already satisfied: ipywidgets in c:\\users\\lenovo\\anaconda3\\lib\\site-packages (from pycaret) (7.5.1)\n",
      "Requirement already satisfied: pandas-profiling>=2.8.0 in c:\\users\\lenovo\\anaconda3\\lib\\site-packages (from pycaret) (2.8.0)\n",
      "Requirement already satisfied: cufflinks>=0.17.0 in c:\\users\\lenovo\\anaconda3\\lib\\site-packages (from pycaret) (0.17.3)\n",
      "Requirement already satisfied: entrypoints in c:\\users\\lenovo\\anaconda3\\lib\\site-packages (from mlflow->pycaret) (0.2.3)\n",
      "Requirement already satisfied: click>=7.0 in c:\\users\\lenovo\\anaconda3\\lib\\site-packages (from mlflow->pycaret) (7.1.2)\n",
      "Requirement already satisfied: prometheus-flask-exporter in c:\\users\\lenovo\\anaconda3\\lib\\site-packages (from mlflow->pycaret) (0.15.4)\n",
      "Requirement already satisfied: azure-storage-blob>=12.0 in c:\\users\\lenovo\\anaconda3\\lib\\site-packages (from mlflow->pycaret) (12.4.0)\n",
      "Requirement already satisfied: python-dateutil in c:\\users\\lenovo\\anaconda3\\lib\\site-packages (from mlflow->pycaret) (2.7.3)\n",
      "Requirement already satisfied: waitress; platform_system == \"Windows\" in c:\\users\\lenovo\\anaconda3\\lib\\site-packages (from mlflow->pycaret) (1.4.4)\n",
      "Requirement already satisfied: cloudpickle in c:\\users\\lenovo\\anaconda3\\lib\\site-packages (from mlflow->pycaret) (1.5.0)\n",
      "Requirement already satisfied: alembic<=1.4.1 in c:\\users\\lenovo\\anaconda3\\lib\\site-packages (from mlflow->pycaret) (1.4.1)\n",
      "Requirement already satisfied: gorilla in c:\\users\\lenovo\\anaconda3\\lib\\site-packages (from mlflow->pycaret) (0.3.0)\n",
      "Requirement already satisfied: gitpython>=2.1.0 in c:\\users\\lenovo\\anaconda3\\lib\\site-packages (from mlflow->pycaret) (3.1.7)\n",
      "Requirement already satisfied: Flask in c:\\users\\lenovo\\anaconda3\\lib\\site-packages (from mlflow->pycaret) (1.0.2)\n",
      "Requirement already satisfied: querystring-parser in c:\\users\\lenovo\\anaconda3\\lib\\site-packages (from mlflow->pycaret) (1.2.4)\n",
      "Requirement already satisfied: databricks-cli>=0.8.7 in c:\\users\\lenovo\\anaconda3\\lib\\site-packages (from mlflow->pycaret) (0.11.0)\n",
      "Requirement already satisfied: pyyaml in c:\\users\\lenovo\\anaconda3\\lib\\site-packages (from mlflow->pycaret) (3.13)\n",
      "Requirement already satisfied: requests>=2.17.3 in c:\\users\\lenovo\\anaconda3\\lib\\site-packages (from mlflow->pycaret) (2.23.0)\n",
      "Requirement already satisfied: sqlparse in c:\\users\\lenovo\\anaconda3\\lib\\site-packages (from mlflow->pycaret) (0.3.1)\n",
      "Requirement already satisfied: protobuf>=3.6.0 in c:\\users\\lenovo\\anaconda3\\lib\\site-packages (from mlflow->pycaret) (3.13.0)\n",
      "Requirement already satisfied: six>=1.10.0 in c:\\users\\lenovo\\anaconda3\\lib\\site-packages (from mlflow->pycaret) (1.14.0)\n",
      "Requirement already satisfied: docker>=4.0.0 in c:\\users\\lenovo\\anaconda3\\lib\\site-packages (from mlflow->pycaret) (4.3.1)\n",
      "Requirement already satisfied: sqlalchemy<=1.3.13 in c:\\users\\lenovo\\anaconda3\\lib\\site-packages (from mlflow->pycaret) (1.2.11)\n",
      "Requirement already satisfied: scipy>=0.17 in c:\\users\\lenovo\\anaconda3\\lib\\site-packages (from imbalanced-learn>=0.6.2->pycaret) (1.4.1)\n",
      "Requirement already satisfied: jinja2>=2.7.2 in c:\\users\\lenovo\\anaconda3\\lib\\site-packages (from pyLDAvis->pycaret) (2.11.1)\n",
      "Requirement already satisfied: numexpr in c:\\users\\lenovo\\anaconda3\\lib\\site-packages (from pyLDAvis->pycaret) (2.6.8)\n",
      "Requirement already satisfied: funcy in c:\\users\\lenovo\\anaconda3\\lib\\site-packages (from pyLDAvis->pycaret) (1.14)\n",
      "Requirement already satisfied: future in c:\\users\\lenovo\\anaconda3\\lib\\site-packages (from pyLDAvis->pycaret) (0.18.2)\n",
      "Requirement already satisfied: wheel>=0.23.0 in c:\\users\\lenovo\\anaconda3\\lib\\site-packages (from pyLDAvis->pycaret) (0.34.2)\n",
      "Requirement already satisfied: pytest in c:\\users\\lenovo\\anaconda3\\lib\\site-packages (from pyLDAvis->pycaret) (5.4.1)\n",
      "Requirement already satisfied: pytz>=2017.2 in c:\\users\\lenovo\\anaconda3\\lib\\site-packages (from pandas->pycaret) (2018.5)\n",
      "Requirement already satisfied: combo in c:\\users\\lenovo\\anaconda3\\lib\\site-packages (from pyod->pycaret) (0.1.1)\n",
      "Requirement already satisfied: suod in c:\\users\\lenovo\\anaconda3\\lib\\site-packages (from pyod->pycaret) (0.0.4)\n",
      "Requirement already satisfied: numba>=0.35 in c:\\users\\lenovo\\anaconda3\\lib\\site-packages (from pyod->pycaret) (0.39.0)\n",
      "Requirement already satisfied: threadpoolctl>=2.0.0 in c:\\users\\lenovo\\anaconda3\\lib\\site-packages (from scikit-learn>=0.23->pycaret) (2.1.0)\n",
      "Requirement already satisfied: murmurhash<1.1.0,>=0.28.0 in c:\\users\\lenovo\\anaconda3\\lib\\site-packages (from spacy->pycaret) (1.0.2)\n",
      "Requirement already satisfied: srsly<1.1.0,>=1.0.2 in c:\\users\\lenovo\\anaconda3\\lib\\site-packages (from spacy->pycaret) (1.0.2)\n",
      "Requirement already satisfied: plac<1.2.0,>=0.9.6 in c:\\users\\lenovo\\anaconda3\\lib\\site-packages (from spacy->pycaret) (1.1.3)\n",
      "Requirement already satisfied: catalogue<1.1.0,>=0.0.7 in c:\\users\\lenovo\\anaconda3\\lib\\site-packages (from spacy->pycaret) (1.0.0)\n",
      "Requirement already satisfied: cymem<2.1.0,>=2.0.2 in c:\\users\\lenovo\\anaconda3\\lib\\site-packages (from spacy->pycaret) (2.0.3)\n",
      "Requirement already satisfied: thinc==7.4.1 in c:\\users\\lenovo\\anaconda3\\lib\\site-packages (from spacy->pycaret) (7.4.1)\n",
      "Requirement already satisfied: setuptools in c:\\users\\lenovo\\anaconda3\\lib\\site-packages (from spacy->pycaret) (45.1.0)\n",
      "Requirement already satisfied: preshed<3.1.0,>=3.0.2 in c:\\users\\lenovo\\anaconda3\\lib\\site-packages (from spacy->pycaret) (3.0.2)\n",
      "Requirement already satisfied: wasabi<1.1.0,>=0.4.0 in c:\\users\\lenovo\\anaconda3\\lib\\site-packages (from spacy->pycaret) (0.8.0)\n",
      "Requirement already satisfied: tqdm<5.0.0,>=4.38.0 in c:\\users\\lenovo\\anaconda3\\lib\\site-packages (from spacy->pycaret) (4.46.0)\n",
      "Requirement already satisfied: blis<0.5.0,>=0.4.0 in c:\\users\\lenovo\\anaconda3\\lib\\site-packages (from spacy->pycaret) (0.4.1)\n",
      "Requirement already satisfied: graphviz in c:\\users\\lenovo\\anaconda3\\lib\\site-packages (from catboost>=0.23.2->pycaret) (0.14.1)\n",
      "Requirement already satisfied: retrying>=1.3.3 in c:\\users\\lenovo\\anaconda3\\lib\\site-packages (from plotly>=4.4.1->pycaret) (1.3.3)\n",
      "Requirement already satisfied: pyparsing!=2.0.4,!=2.1.2,!=2.1.6,>=2.0.1 in c:\\users\\lenovo\\anaconda3\\lib\\site-packages (from matplotlib->pycaret) (2.2.0)\n",
      "Requirement already satisfied: kiwisolver>=1.0.1 in c:\\users\\lenovo\\anaconda3\\lib\\site-packages (from matplotlib->pycaret) (1.0.1)\n",
      "Requirement already satisfied: cycler>=0.10 in c:\\users\\lenovo\\anaconda3\\lib\\site-packages (from matplotlib->pycaret) (0.10.0)\n",
      "Requirement already satisfied: regex>=2017.02.08 in c:\\users\\lenovo\\anaconda3\\lib\\site-packages (from datefinder>=0.7.0->pycaret) (2020.7.14)"
     ]
    },
    {
     "name": "stderr",
     "output_type": "stream",
     "text": [
      "WARNING: You are using pip version 20.1.1; however, version 20.2.3 is available.\n",
      "You should consider upgrading via the 'c:\\users\\lenovo\\anaconda3\\python.exe -m pip install --upgrade pip' command.\n"
     ]
    },
    {
     "name": "stdout",
     "output_type": "stream",
     "text": [
      "\n",
      "Requirement already satisfied: backcall in c:\\users\\lenovo\\anaconda3\\lib\\site-packages (from IPython->pycaret) (0.1.0)\n",
      "Requirement already satisfied: jedi>=0.10 in c:\\users\\lenovo\\anaconda3\\lib\\site-packages (from IPython->pycaret) (0.12.1)\n",
      "Requirement already satisfied: traitlets>=4.2 in c:\\users\\lenovo\\anaconda3\\lib\\site-packages (from IPython->pycaret) (4.3.2)\n",
      "Requirement already satisfied: pygments in c:\\users\\lenovo\\anaconda3\\lib\\site-packages (from IPython->pycaret) (2.2.0)\n",
      "Requirement already satisfied: colorama; sys_platform == \"win32\" in c:\\users\\lenovo\\anaconda3\\lib\\site-packages (from IPython->pycaret) (0.3.9)\n",
      "Requirement already satisfied: pickleshare in c:\\users\\lenovo\\anaconda3\\lib\\site-packages (from IPython->pycaret) (0.7.4)\n",
      "Requirement already satisfied: decorator in c:\\users\\lenovo\\anaconda3\\lib\\site-packages (from IPython->pycaret) (4.3.0)\n",
      "Requirement already satisfied: prompt-toolkit!=3.0.0,!=3.0.1,<3.1.0,>=2.0.0 in c:\\users\\lenovo\\anaconda3\\lib\\site-packages (from IPython->pycaret) (3.0.5)\n",
      "Requirement already satisfied: smart-open>=1.8.1 in c:\\users\\lenovo\\anaconda3\\lib\\site-packages (from gensim->pycaret) (2.1.1)\n",
      "Requirement already satisfied: Cython==0.29.14 in c:\\users\\lenovo\\anaconda3\\lib\\site-packages (from gensim->pycaret) (0.29.14)\n",
      "Requirement already satisfied: pillow in c:\\users\\lenovo\\anaconda3\\lib\\site-packages (from wordcloud->pycaret) (5.2.0)\n",
      "Requirement already satisfied: nbformat>=4.2.0 in c:\\users\\lenovo\\anaconda3\\lib\\site-packages (from ipywidgets->pycaret) (4.4.0)\n",
      "Requirement already satisfied: ipykernel>=4.5.1 in c:\\users\\lenovo\\anaconda3\\lib\\site-packages (from ipywidgets->pycaret) (4.10.0)\n",
      "Requirement already satisfied: widgetsnbextension~=3.5.0 in c:\\users\\lenovo\\anaconda3\\lib\\site-packages (from ipywidgets->pycaret) (3.5.1)\n",
      "Requirement already satisfied: visions[type_image_path]==0.4.4 in c:\\users\\lenovo\\anaconda3\\lib\\site-packages (from pandas-profiling>=2.8.0->pycaret) (0.4.4)\n",
      "Requirement already satisfied: phik>=0.9.10 in c:\\users\\lenovo\\anaconda3\\lib\\site-packages (from pandas-profiling>=2.8.0->pycaret) (0.9.11)\n",
      "Requirement already satisfied: tangled-up-in-unicode>=0.0.6 in c:\\users\\lenovo\\anaconda3\\lib\\site-packages (from pandas-profiling>=2.8.0->pycaret) (0.0.6)\n",
      "Requirement already satisfied: confuse>=1.0.0 in c:\\users\\lenovo\\anaconda3\\lib\\site-packages (from pandas-profiling>=2.8.0->pycaret) (1.0.0)\n",
      "Requirement already satisfied: missingno>=0.4.2 in c:\\users\\lenovo\\anaconda3\\lib\\site-packages (from pandas-profiling>=2.8.0->pycaret) (0.4.2)\n",
      "Requirement already satisfied: astropy>=4.0 in c:\\users\\lenovo\\anaconda3\\lib\\site-packages (from pandas-profiling>=2.8.0->pycaret) (4.0)\n",
      "Requirement already satisfied: htmlmin>=0.1.12 in c:\\users\\lenovo\\anaconda3\\lib\\site-packages (from pandas-profiling>=2.8.0->pycaret) (0.1.12)\n",
      "Requirement already satisfied: colorlover>=0.2.1 in c:\\users\\lenovo\\anaconda3\\lib\\site-packages (from cufflinks>=0.17.0->pycaret) (0.3.0)\n",
      "Requirement already satisfied: prometheus-client in c:\\users\\lenovo\\anaconda3\\lib\\site-packages (from prometheus-flask-exporter->mlflow->pycaret) (0.3.1)\n",
      "Requirement already satisfied: msrest>=0.6.10 in c:\\users\\lenovo\\anaconda3\\lib\\site-packages (from azure-storage-blob>=12.0->mlflow->pycaret) (0.6.18)\n",
      "Requirement already satisfied: azure-core<2.0.0,>=1.6.0 in c:\\users\\lenovo\\anaconda3\\lib\\site-packages (from azure-storage-blob>=12.0->mlflow->pycaret) (1.8.0)\n",
      "Requirement already satisfied: cryptography>=2.1.4 in c:\\users\\lenovo\\anaconda3\\lib\\site-packages (from azure-storage-blob>=12.0->mlflow->pycaret) (2.9.2)\n",
      "Requirement already satisfied: Mako in c:\\users\\lenovo\\anaconda3\\lib\\site-packages (from alembic<=1.4.1->mlflow->pycaret) (1.1.3)\n",
      "Requirement already satisfied: python-editor>=0.3 in c:\\users\\lenovo\\anaconda3\\lib\\site-packages (from alembic<=1.4.1->mlflow->pycaret) (1.0.4)\n",
      "Requirement already satisfied: gitdb<5,>=4.0.1 in c:\\users\\lenovo\\anaconda3\\lib\\site-packages (from gitpython>=2.1.0->mlflow->pycaret) (4.0.5)\n",
      "Requirement already satisfied: itsdangerous>=0.24 in c:\\users\\lenovo\\anaconda3\\lib\\site-packages (from Flask->mlflow->pycaret) (0.24)\n",
      "Requirement already satisfied: Werkzeug>=0.14 in c:\\users\\lenovo\\anaconda3\\lib\\site-packages (from Flask->mlflow->pycaret) (0.14.1)\n",
      "Requirement already satisfied: tabulate>=0.7.7 in c:\\users\\lenovo\\anaconda3\\lib\\site-packages (from databricks-cli>=0.8.7->mlflow->pycaret) (0.8.7)\n",
      "Requirement already satisfied: certifi>=2017.4.17 in c:\\users\\lenovo\\anaconda3\\lib\\site-packages (from requests>=2.17.3->mlflow->pycaret) (2020.6.20)\n",
      "Requirement already satisfied: chardet<4,>=3.0.2 in c:\\users\\lenovo\\anaconda3\\lib\\site-packages (from requests>=2.17.3->mlflow->pycaret) (3.0.4)\n",
      "Requirement already satisfied: urllib3!=1.25.0,!=1.25.1,<1.26,>=1.21.1 in c:\\users\\lenovo\\anaconda3\\lib\\site-packages (from requests>=2.17.3->mlflow->pycaret) (1.23)\n",
      "Requirement already satisfied: idna<3,>=2.5 in c:\\users\\lenovo\\anaconda3\\lib\\site-packages (from requests>=2.17.3->mlflow->pycaret) (2.7)\n",
      "Requirement already satisfied: websocket-client>=0.32.0 in c:\\users\\lenovo\\anaconda3\\lib\\site-packages (from docker>=4.0.0->mlflow->pycaret) (0.57.0)\n",
      "Requirement already satisfied: pywin32==227; sys_platform == \"win32\" in c:\\users\\lenovo\\anaconda3\\lib\\site-packages (from docker>=4.0.0->mlflow->pycaret) (227)\n",
      "Requirement already satisfied: MarkupSafe>=0.23 in c:\\users\\lenovo\\anaconda3\\lib\\site-packages (from jinja2>=2.7.2->pyLDAvis->pycaret) (1.0)\n",
      "Requirement already satisfied: packaging in c:\\users\\lenovo\\anaconda3\\lib\\site-packages (from pytest->pyLDAvis->pycaret) (17.1)\n",
      "Requirement already satisfied: more-itertools>=4.0.0 in c:\\users\\lenovo\\anaconda3\\lib\\site-packages (from pytest->pyLDAvis->pycaret) (4.3.0)\n",
      "Requirement already satisfied: pluggy<1.0,>=0.12 in c:\\users\\lenovo\\anaconda3\\lib\\site-packages (from pytest->pyLDAvis->pycaret) (0.13.1)\n",
      "Requirement already satisfied: atomicwrites>=1.0; sys_platform == \"win32\" in c:\\users\\lenovo\\anaconda3\\lib\\site-packages (from pytest->pyLDAvis->pycaret) (1.2.1)\n",
      "Requirement already satisfied: py>=1.5.0 in c:\\users\\lenovo\\anaconda3\\lib\\site-packages (from pytest->pyLDAvis->pycaret) (1.6.0)\n",
      "Requirement already satisfied: importlib-metadata>=0.12; python_version < \"3.8\" in c:\\users\\lenovo\\anaconda3\\lib\\site-packages (from pytest->pyLDAvis->pycaret) (1.7.0)\n",
      "Requirement already satisfied: wcwidth in c:\\users\\lenovo\\anaconda3\\lib\\site-packages (from pytest->pyLDAvis->pycaret) (0.1.7)\n",
      "Requirement already satisfied: attrs>=17.4.0 in c:\\users\\lenovo\\anaconda3\\lib\\site-packages (from pytest->pyLDAvis->pycaret) (19.3.0)\n",
      "Requirement already satisfied: llvmlite>=0.24.0dev0 in c:\\users\\lenovo\\anaconda3\\lib\\site-packages (from numba>=0.35->pyod->pycaret) (0.24.0)\n",
      "Requirement already satisfied: parso>=0.3.0 in c:\\users\\lenovo\\anaconda3\\lib\\site-packages (from jedi>=0.10->IPython->pycaret) (0.3.1)\n",
      "Requirement already satisfied: ipython-genutils in c:\\users\\lenovo\\anaconda3\\lib\\site-packages (from traitlets>=4.2->IPython->pycaret) (0.2.0)\n",
      "Requirement already satisfied: boto in c:\\users\\lenovo\\anaconda3\\lib\\site-packages (from smart-open>=1.8.1->gensim->pycaret) (2.49.0)\n",
      "Requirement already satisfied: boto3 in c:\\users\\lenovo\\anaconda3\\lib\\site-packages (from smart-open>=1.8.1->gensim->pycaret) (1.13.26)\n",
      "Requirement already satisfied: jsonschema!=2.5.0,>=2.4 in c:\\users\\lenovo\\anaconda3\\lib\\site-packages (from nbformat>=4.2.0->ipywidgets->pycaret) (2.6.0)\n",
      "Requirement already satisfied: jupyter-core in c:\\users\\lenovo\\anaconda3\\lib\\site-packages (from nbformat>=4.2.0->ipywidgets->pycaret) (4.4.0)\n",
      "Requirement already satisfied: jupyter_client in c:\\users\\lenovo\\anaconda3\\lib\\site-packages (from ipykernel>=4.5.1->ipywidgets->pycaret) (5.2.3)\n",
      "Requirement already satisfied: tornado>=4.0 in c:\\users\\lenovo\\anaconda3\\lib\\site-packages (from ipykernel>=4.5.1->ipywidgets->pycaret) (5.1)\n",
      "Requirement already satisfied: notebook>=4.4.1 in c:\\users\\lenovo\\anaconda3\\lib\\site-packages (from widgetsnbextension~=3.5.0->ipywidgets->pycaret) (5.6.0)\n",
      "Requirement already satisfied: networkx>=2.4 in c:\\users\\lenovo\\anaconda3\\lib\\site-packages (from visions[type_image_path]==0.4.4->pandas-profiling>=2.8.0->pycaret) (2.4)\n",
      "Requirement already satisfied: imagehash; extra == \"type_image_path\" in c:\\users\\lenovo\\anaconda3\\lib\\site-packages (from visions[type_image_path]==0.4.4->pandas-profiling>=2.8.0->pycaret) (4.1.0)\n",
      "Requirement already satisfied: requests-oauthlib>=0.5.0 in c:\\users\\lenovo\\anaconda3\\lib\\site-packages (from msrest>=0.6.10->azure-storage-blob>=12.0->mlflow->pycaret) (1.3.0)\n",
      "Requirement already satisfied: isodate>=0.6.0 in c:\\users\\lenovo\\anaconda3\\lib\\site-packages (from msrest>=0.6.10->azure-storage-blob>=12.0->mlflow->pycaret) (0.6.0)\n",
      "Requirement already satisfied: cffi!=1.11.3,>=1.8 in c:\\users\\lenovo\\anaconda3\\lib\\site-packages (from cryptography>=2.1.4->azure-storage-blob>=12.0->mlflow->pycaret) (1.11.5)\n",
      "Requirement already satisfied: smmap<4,>=3.0.1 in c:\\users\\lenovo\\anaconda3\\lib\\site-packages (from gitdb<5,>=4.0.1->gitpython>=2.1.0->mlflow->pycaret) (3.0.4)\n",
      "Requirement already satisfied: zipp>=0.5 in c:\\users\\lenovo\\anaconda3\\lib\\site-packages (from importlib-metadata>=0.12; python_version < \"3.8\"->pytest->pyLDAvis->pycaret) (3.1.0)\n",
      "Requirement already satisfied: botocore<1.17.0,>=1.16.26 in c:\\users\\lenovo\\anaconda3\\lib\\site-packages (from boto3->smart-open>=1.8.1->gensim->pycaret) (1.16.26)\n",
      "Requirement already satisfied: s3transfer<0.4.0,>=0.3.0 in c:\\users\\lenovo\\anaconda3\\lib\\site-packages (from boto3->smart-open>=1.8.1->gensim->pycaret) (0.3.3)\n",
      "Requirement already satisfied: jmespath<1.0.0,>=0.7.1 in c:\\users\\lenovo\\anaconda3\\lib\\site-packages (from boto3->smart-open>=1.8.1->gensim->pycaret) (0.10.0)\n",
      "Requirement already satisfied: pyzmq>=13 in c:\\users\\lenovo\\anaconda3\\lib\\site-packages (from jupyter_client->ipykernel>=4.5.1->ipywidgets->pycaret) (17.1.2)\n",
      "Requirement already satisfied: nbconvert in c:\\users\\lenovo\\anaconda3\\lib\\site-packages (from notebook>=4.4.1->widgetsnbextension~=3.5.0->ipywidgets->pycaret) (5.4.0)\n",
      "Requirement already satisfied: terminado>=0.8.1 in c:\\users\\lenovo\\anaconda3\\lib\\site-packages (from notebook>=4.4.1->widgetsnbextension~=3.5.0->ipywidgets->pycaret) (0.8.1)\n",
      "Requirement already satisfied: Send2Trash in c:\\users\\lenovo\\anaconda3\\lib\\site-packages (from notebook>=4.4.1->widgetsnbextension~=3.5.0->ipywidgets->pycaret) (1.5.0)\n",
      "Requirement already satisfied: PyWavelets in c:\\users\\lenovo\\anaconda3\\lib\\site-packages (from imagehash; extra == \"type_image_path\"->visions[type_image_path]==0.4.4->pandas-profiling>=2.8.0->pycaret) (1.0.0)\n",
      "Requirement already satisfied: oauthlib>=3.0.0 in c:\\users\\lenovo\\anaconda3\\lib\\site-packages (from requests-oauthlib>=0.5.0->msrest>=0.6.10->azure-storage-blob>=12.0->mlflow->pycaret) (3.1.0)\n",
      "Requirement already satisfied: pycparser in c:\\users\\lenovo\\anaconda3\\lib\\site-packages (from cffi!=1.11.3,>=1.8->cryptography>=2.1.4->azure-storage-blob>=12.0->mlflow->pycaret) (2.18)\n",
      "Requirement already satisfied: docutils<0.16,>=0.10 in c:\\users\\lenovo\\anaconda3\\lib\\site-packages (from botocore<1.17.0,>=1.16.26->boto3->smart-open>=1.8.1->gensim->pycaret) (0.14)\n",
      "Requirement already satisfied: mistune>=0.8.1 in c:\\users\\lenovo\\anaconda3\\lib\\site-packages (from nbconvert->notebook>=4.4.1->widgetsnbextension~=3.5.0->ipywidgets->pycaret) (0.8.3)\n",
      "Requirement already satisfied: bleach in c:\\users\\lenovo\\anaconda3\\lib\\site-packages (from nbconvert->notebook>=4.4.1->widgetsnbextension~=3.5.0->ipywidgets->pycaret) (2.1.4)\n",
      "Requirement already satisfied: pandocfilters>=1.4.1 in c:\\users\\lenovo\\anaconda3\\lib\\site-packages (from nbconvert->notebook>=4.4.1->widgetsnbextension~=3.5.0->ipywidgets->pycaret) (1.4.2)\n",
      "Requirement already satisfied: testpath in c:\\users\\lenovo\\anaconda3\\lib\\site-packages (from nbconvert->notebook>=4.4.1->widgetsnbextension~=3.5.0->ipywidgets->pycaret) (0.3.1)\n",
      "Requirement already satisfied: defusedxml in c:\\users\\lenovo\\anaconda3\\lib\\site-packages (from nbconvert->notebook>=4.4.1->widgetsnbextension~=3.5.0->ipywidgets->pycaret) (0.5.0)\n",
      "Requirement already satisfied: html5lib!=1.0b1,!=1.0b2,!=1.0b3,!=1.0b4,!=1.0b5,!=1.0b6,!=1.0b7,!=1.0b8,>=0.99999999pre in c:\\users\\lenovo\\anaconda3\\lib\\site-packages (from bleach->nbconvert->notebook>=4.4.1->widgetsnbextension~=3.5.0->ipywidgets->pycaret) (1.0.1)\n",
      "Requirement already satisfied: webencodings in c:\\users\\lenovo\\anaconda3\\lib\\site-packages (from html5lib!=1.0b1,!=1.0b2,!=1.0b3,!=1.0b4,!=1.0b5,!=1.0b6,!=1.0b7,!=1.0b8,>=0.99999999pre->bleach->nbconvert->notebook>=4.4.1->widgetsnbextension~=3.5.0->ipywidgets->pycaret) (0.5.1)\n"
     ]
    }
   ],
   "source": [
    "!pip install pycaret"
   ]
  },
  {
   "cell_type": "markdown",
   "metadata": {},
   "source": [
    "## 2.0 What is Clustering?\n",
    "Clustering is the task of grouping a set of objects in such a way that those in the same group (called a cluster) are more similar to each other than to those in other groups. Some common real life use cases of clustering are:\n",
    "\n",
    "- Customer segmentation based on purchase history or interests to design targetted marketing compaigns.\n",
    "\n",
    "\n",
    "- Cluster documents into multiple categories based on tags, topics, and the content of the document.\n",
    "\n",
    "\n",
    "- Analysis of outcome in social / life science experiments to find natural groupings and patterns in the data.\n"
   ]
  },
  {
   "cell_type": "markdown",
   "metadata": {},
   "source": [
    "## 3.0 Overview of Clustering Module in PyCaret\n",
    "- PyCaret's clustering module (`pycaret.clustering`) is a an unsupervised machine learning module which performs the task of grouping a set of objects in such a way that those in the same group (called a cluster) are more similar to each other than to those in other groups. \n",
    "\n",
    "\n",
    "- PyCaret's clustering module provides several pre-processing features that can be configured when initializing the setup through the `setup()` function. It has over 8 algorithms and several plots to analyze the results."
   ]
  },
  {
   "cell_type": "markdown",
   "metadata": {},
   "source": [
    "## 4.0 Problem Statement"
   ]
  },
  {
   "cell_type": "markdown",
   "metadata": {},
   "source": [
    "We will use the current health expenditure dataset from the World Health Organization’s Global Health Expenditure database. The dataset contains health expenditure as a % of National GDP for over 150 countries from year 2000 through 2017. Our objective is to group countries having similar pattens in this data by using K-Means Clustering algorithm."
   ]
  },
  {
   "cell_type": "markdown",
   "metadata": {},
   "source": [
    "<center><img src=\"https://www.investopedia.com/thmb/TMoeAs2fSgRo7_TMADBgA1oYcy0=/500x325/filters:no_upscale():max_bytes(150000):strip_icc()/us-healthcare-costs-56a749eb3df78cf772941acc.jpg\" width=\"500\" height=\"100\" /></center>"
   ]
  },
  {
   "cell_type": "markdown",
   "metadata": {},
   "source": [
    "## 5.0 Getting the Data"
   ]
  },
  {
   "cell_type": "code",
   "execution_count": 1,
   "metadata": {},
   "outputs": [
    {
     "data": {
      "text/html": [
       "<div>\n",
       "<style scoped>\n",
       "    .dataframe tbody tr th:only-of-type {\n",
       "        vertical-align: middle;\n",
       "    }\n",
       "\n",
       "    .dataframe tbody tr th {\n",
       "        vertical-align: top;\n",
       "    }\n",
       "\n",
       "    .dataframe thead th {\n",
       "        text-align: right;\n",
       "    }\n",
       "</style>\n",
       "<table border=\"1\" class=\"dataframe\">\n",
       "  <thead>\n",
       "    <tr style=\"text-align: right;\">\n",
       "      <th></th>\n",
       "      <th>Country</th>\n",
       "      <th>2000</th>\n",
       "      <th>2001</th>\n",
       "      <th>2002</th>\n",
       "      <th>2003</th>\n",
       "      <th>2004</th>\n",
       "      <th>2005</th>\n",
       "      <th>2006</th>\n",
       "      <th>2007</th>\n",
       "      <th>2008</th>\n",
       "      <th>2009</th>\n",
       "      <th>2010</th>\n",
       "      <th>2011</th>\n",
       "      <th>2012</th>\n",
       "      <th>2013</th>\n",
       "      <th>2014</th>\n",
       "      <th>2015</th>\n",
       "      <th>2016</th>\n",
       "      <th>2017</th>\n",
       "    </tr>\n",
       "  </thead>\n",
       "  <tbody>\n",
       "    <tr>\n",
       "      <th>0</th>\n",
       "      <td>Afghanistan</td>\n",
       "      <td>0.0926</td>\n",
       "      <td>0.0940</td>\n",
       "      <td>0.0944</td>\n",
       "      <td>0.0894</td>\n",
       "      <td>0.0981</td>\n",
       "      <td>0.0995</td>\n",
       "      <td>0.1062</td>\n",
       "      <td>0.0990</td>\n",
       "      <td>0.1026</td>\n",
       "      <td>0.0982</td>\n",
       "      <td>0.0857</td>\n",
       "      <td>0.0856</td>\n",
       "      <td>0.0790</td>\n",
       "      <td>0.0881</td>\n",
       "      <td>0.0953</td>\n",
       "      <td>0.1011</td>\n",
       "      <td>0.1096</td>\n",
       "      <td>0.1178</td>\n",
       "    </tr>\n",
       "    <tr>\n",
       "      <th>1</th>\n",
       "      <td>Angola</td>\n",
       "      <td>0.0191</td>\n",
       "      <td>0.0448</td>\n",
       "      <td>0.0333</td>\n",
       "      <td>0.0355</td>\n",
       "      <td>0.0397</td>\n",
       "      <td>0.0285</td>\n",
       "      <td>0.0269</td>\n",
       "      <td>0.0297</td>\n",
       "      <td>0.0332</td>\n",
       "      <td>0.0384</td>\n",
       "      <td>0.0270</td>\n",
       "      <td>0.0265</td>\n",
       "      <td>0.0240</td>\n",
       "      <td>0.0273</td>\n",
       "      <td>0.0243</td>\n",
       "      <td>0.0261</td>\n",
       "      <td>0.0271</td>\n",
       "      <td>0.0279</td>\n",
       "    </tr>\n",
       "    <tr>\n",
       "      <th>2</th>\n",
       "      <td>Andorra</td>\n",
       "      <td>0.0935</td>\n",
       "      <td>0.0936</td>\n",
       "      <td>0.0912</td>\n",
       "      <td>0.0846</td>\n",
       "      <td>0.0821</td>\n",
       "      <td>0.0857</td>\n",
       "      <td>0.0843</td>\n",
       "      <td>0.0843</td>\n",
       "      <td>0.0879</td>\n",
       "      <td>0.0903</td>\n",
       "      <td>0.0945</td>\n",
       "      <td>0.0977</td>\n",
       "      <td>0.1005</td>\n",
       "      <td>0.1011</td>\n",
       "      <td>0.1028</td>\n",
       "      <td>0.1025</td>\n",
       "      <td>0.1032</td>\n",
       "      <td>0.1032</td>\n",
       "    </tr>\n",
       "    <tr>\n",
       "      <th>3</th>\n",
       "      <td>United Arab Emirates</td>\n",
       "      <td>0.0237</td>\n",
       "      <td>0.0248</td>\n",
       "      <td>0.0272</td>\n",
       "      <td>0.0265</td>\n",
       "      <td>0.0246</td>\n",
       "      <td>0.0232</td>\n",
       "      <td>0.0233</td>\n",
       "      <td>0.0257</td>\n",
       "      <td>0.0293</td>\n",
       "      <td>0.0405</td>\n",
       "      <td>0.0388</td>\n",
       "      <td>0.0367</td>\n",
       "      <td>0.0343</td>\n",
       "      <td>0.0359</td>\n",
       "      <td>0.0363</td>\n",
       "      <td>0.0358</td>\n",
       "      <td>0.0340</td>\n",
       "      <td>0.0333</td>\n",
       "    </tr>\n",
       "    <tr>\n",
       "      <th>4</th>\n",
       "      <td>Argentina</td>\n",
       "      <td>0.0847</td>\n",
       "      <td>0.0862</td>\n",
       "      <td>0.0765</td>\n",
       "      <td>0.0711</td>\n",
       "      <td>0.0723</td>\n",
       "      <td>0.0761</td>\n",
       "      <td>0.0755</td>\n",
       "      <td>0.0761</td>\n",
       "      <td>0.0767</td>\n",
       "      <td>0.0901</td>\n",
       "      <td>0.0861</td>\n",
       "      <td>0.0840</td>\n",
       "      <td>0.0846</td>\n",
       "      <td>0.0837</td>\n",
       "      <td>0.0826</td>\n",
       "      <td>0.0879</td>\n",
       "      <td>0.0754</td>\n",
       "      <td>0.0912</td>\n",
       "    </tr>\n",
       "  </tbody>\n",
       "</table>\n",
       "</div>"
      ],
      "text/plain": [
       "                Country    2000    2001    2002    2003    2004    2005  \\\n",
       "0           Afghanistan  0.0926  0.0940  0.0944  0.0894  0.0981  0.0995   \n",
       "1                Angola  0.0191  0.0448  0.0333  0.0355  0.0397  0.0285   \n",
       "2               Andorra  0.0935  0.0936  0.0912  0.0846  0.0821  0.0857   \n",
       "3  United Arab Emirates  0.0237  0.0248  0.0272  0.0265  0.0246  0.0232   \n",
       "4             Argentina  0.0847  0.0862  0.0765  0.0711  0.0723  0.0761   \n",
       "\n",
       "     2006    2007    2008    2009    2010    2011    2012    2013    2014  \\\n",
       "0  0.1062  0.0990  0.1026  0.0982  0.0857  0.0856  0.0790  0.0881  0.0953   \n",
       "1  0.0269  0.0297  0.0332  0.0384  0.0270  0.0265  0.0240  0.0273  0.0243   \n",
       "2  0.0843  0.0843  0.0879  0.0903  0.0945  0.0977  0.1005  0.1011  0.1028   \n",
       "3  0.0233  0.0257  0.0293  0.0405  0.0388  0.0367  0.0343  0.0359  0.0363   \n",
       "4  0.0755  0.0761  0.0767  0.0901  0.0861  0.0840  0.0846  0.0837  0.0826   \n",
       "\n",
       "     2015    2016    2017  \n",
       "0  0.1011  0.1096  0.1178  \n",
       "1  0.0261  0.0271  0.0279  \n",
       "2  0.1025  0.1032  0.1032  \n",
       "3  0.0358  0.0340  0.0333  \n",
       "4  0.0879  0.0754  0.0912  "
      ]
     },
     "execution_count": 1,
     "metadata": {},
     "output_type": "execute_result"
    }
   ],
   "source": [
    "import pandas as pd\n",
    "dataset = pd.read_csv('https://raw.githubusercontent.com/insaid2018/Term-2/master/Data/clustering.csv')\n",
    "dataset.head()"
   ]
  },
  {
   "cell_type": "markdown",
   "metadata": {},
   "source": [
    "| Id | Features | Description |\n",
    "| :--| :--| :--|\n",
    "|01|**Country**|Name of the Country|\n",
    "|02|**Years**|Year from 2000 to 2017|"
   ]
  },
  {
   "cell_type": "code",
   "execution_count": 2,
   "metadata": {},
   "outputs": [
    {
     "data": {
      "text/plain": [
       "(190, 19)"
      ]
     },
     "execution_count": 2,
     "metadata": {},
     "output_type": "execute_result"
    }
   ],
   "source": [
    "#check the shape of data\n",
    "dataset.shape"
   ]
  },
  {
   "cell_type": "markdown",
   "metadata": {},
   "source": [
    "- In order to demonstrate the predict_model() function on unseen data, a sample of 20% (38) has been withheld from the original dataset to be used for predictions at the end of experiment. "
   ]
  },
  {
   "cell_type": "code",
   "execution_count": 3,
   "metadata": {},
   "outputs": [
    {
     "name": "stdout",
     "output_type": "stream",
     "text": [
      "Data for Modeling: (152, 19)\n",
      "Unseen Data For Predictions: (38, 19)\n"
     ]
    }
   ],
   "source": [
    "data = dataset.sample(frac=0.80, random_state=786).reset_index(drop=True)\n",
    "data_unseen = dataset.drop(data.index).reset_index(drop=True)\n",
    "\n",
    "print('Data for Modeling: ' + str(data.shape))\n",
    "print('Unseen Data For Predictions: ' + str(data_unseen.shape))"
   ]
  },
  {
   "cell_type": "markdown",
   "metadata": {},
   "source": [
    "## 6.0 Setting up Environment in PyCaret"
   ]
  },
  {
   "cell_type": "markdown",
   "metadata": {},
   "source": [
    "- The setup() function initializes the environment in pycaret and creates the transformation pipeline to prepare the data for modeling and deployment. \n",
    "\n",
    "\n",
    "- setup() must be called before executing any other function in pycaret. It takes two mandatory parameters: a pandas dataframe and the name of the target column."
   ]
  },
  {
   "cell_type": "code",
   "execution_count": 4,
   "metadata": {},
   "outputs": [],
   "source": [
    "from pycaret.clustering import *"
   ]
  },
  {
   "cell_type": "code",
   "execution_count": 5,
   "metadata": {},
   "outputs": [
    {
     "name": "stdout",
     "output_type": "stream",
     "text": [
      "Setup Succesfully Completed!\n"
     ]
    },
    {
     "data": {
      "text/html": [
       "<style  type=\"text/css\" >\n",
       "    #T_9c0f8da8_024c_11eb_8fc8_c8d9d2ecb572row10_col1 {\n",
       "            background-color:  lightgreen;\n",
       "        }</style><table id=\"T_9c0f8da8_024c_11eb_8fc8_c8d9d2ecb572\" ><thead>    <tr>        <th class=\"blank level0\" ></th>        <th class=\"col_heading level0 col0\" >Description</th>        <th class=\"col_heading level0 col1\" >Value</th>    </tr></thead><tbody>\n",
       "                <tr>\n",
       "                        <th id=\"T_9c0f8da8_024c_11eb_8fc8_c8d9d2ecb572level0_row0\" class=\"row_heading level0 row0\" >0</th>\n",
       "                        <td id=\"T_9c0f8da8_024c_11eb_8fc8_c8d9d2ecb572row0_col0\" class=\"data row0 col0\" >session_id </td>\n",
       "                        <td id=\"T_9c0f8da8_024c_11eb_8fc8_c8d9d2ecb572row0_col1\" class=\"data row0 col1\" >897</td>\n",
       "            </tr>\n",
       "            <tr>\n",
       "                        <th id=\"T_9c0f8da8_024c_11eb_8fc8_c8d9d2ecb572level0_row1\" class=\"row_heading level0 row1\" >1</th>\n",
       "                        <td id=\"T_9c0f8da8_024c_11eb_8fc8_c8d9d2ecb572row1_col0\" class=\"data row1 col0\" >Original Data </td>\n",
       "                        <td id=\"T_9c0f8da8_024c_11eb_8fc8_c8d9d2ecb572row1_col1\" class=\"data row1 col1\" >(152, 19)</td>\n",
       "            </tr>\n",
       "            <tr>\n",
       "                        <th id=\"T_9c0f8da8_024c_11eb_8fc8_c8d9d2ecb572level0_row2\" class=\"row_heading level0 row2\" >2</th>\n",
       "                        <td id=\"T_9c0f8da8_024c_11eb_8fc8_c8d9d2ecb572row2_col0\" class=\"data row2 col0\" >Missing Values </td>\n",
       "                        <td id=\"T_9c0f8da8_024c_11eb_8fc8_c8d9d2ecb572row2_col1\" class=\"data row2 col1\" >False</td>\n",
       "            </tr>\n",
       "            <tr>\n",
       "                        <th id=\"T_9c0f8da8_024c_11eb_8fc8_c8d9d2ecb572level0_row3\" class=\"row_heading level0 row3\" >3</th>\n",
       "                        <td id=\"T_9c0f8da8_024c_11eb_8fc8_c8d9d2ecb572row3_col0\" class=\"data row3 col0\" >Numeric Features </td>\n",
       "                        <td id=\"T_9c0f8da8_024c_11eb_8fc8_c8d9d2ecb572row3_col1\" class=\"data row3 col1\" >17</td>\n",
       "            </tr>\n",
       "            <tr>\n",
       "                        <th id=\"T_9c0f8da8_024c_11eb_8fc8_c8d9d2ecb572level0_row4\" class=\"row_heading level0 row4\" >4</th>\n",
       "                        <td id=\"T_9c0f8da8_024c_11eb_8fc8_c8d9d2ecb572row4_col0\" class=\"data row4 col0\" >Categorical Features </td>\n",
       "                        <td id=\"T_9c0f8da8_024c_11eb_8fc8_c8d9d2ecb572row4_col1\" class=\"data row4 col1\" >2</td>\n",
       "            </tr>\n",
       "            <tr>\n",
       "                        <th id=\"T_9c0f8da8_024c_11eb_8fc8_c8d9d2ecb572level0_row5\" class=\"row_heading level0 row5\" >5</th>\n",
       "                        <td id=\"T_9c0f8da8_024c_11eb_8fc8_c8d9d2ecb572row5_col0\" class=\"data row5 col0\" >Ordinal Features </td>\n",
       "                        <td id=\"T_9c0f8da8_024c_11eb_8fc8_c8d9d2ecb572row5_col1\" class=\"data row5 col1\" >False</td>\n",
       "            </tr>\n",
       "            <tr>\n",
       "                        <th id=\"T_9c0f8da8_024c_11eb_8fc8_c8d9d2ecb572level0_row6\" class=\"row_heading level0 row6\" >6</th>\n",
       "                        <td id=\"T_9c0f8da8_024c_11eb_8fc8_c8d9d2ecb572row6_col0\" class=\"data row6 col0\" >High Cardinality Features </td>\n",
       "                        <td id=\"T_9c0f8da8_024c_11eb_8fc8_c8d9d2ecb572row6_col1\" class=\"data row6 col1\" >False</td>\n",
       "            </tr>\n",
       "            <tr>\n",
       "                        <th id=\"T_9c0f8da8_024c_11eb_8fc8_c8d9d2ecb572level0_row7\" class=\"row_heading level0 row7\" >7</th>\n",
       "                        <td id=\"T_9c0f8da8_024c_11eb_8fc8_c8d9d2ecb572row7_col0\" class=\"data row7 col0\" >Transformed Data </td>\n",
       "                        <td id=\"T_9c0f8da8_024c_11eb_8fc8_c8d9d2ecb572row7_col1\" class=\"data row7 col1\" >(152, 170)</td>\n",
       "            </tr>\n",
       "            <tr>\n",
       "                        <th id=\"T_9c0f8da8_024c_11eb_8fc8_c8d9d2ecb572level0_row8\" class=\"row_heading level0 row8\" >8</th>\n",
       "                        <td id=\"T_9c0f8da8_024c_11eb_8fc8_c8d9d2ecb572row8_col0\" class=\"data row8 col0\" >Numeric Imputer </td>\n",
       "                        <td id=\"T_9c0f8da8_024c_11eb_8fc8_c8d9d2ecb572row8_col1\" class=\"data row8 col1\" >mean</td>\n",
       "            </tr>\n",
       "            <tr>\n",
       "                        <th id=\"T_9c0f8da8_024c_11eb_8fc8_c8d9d2ecb572level0_row9\" class=\"row_heading level0 row9\" >9</th>\n",
       "                        <td id=\"T_9c0f8da8_024c_11eb_8fc8_c8d9d2ecb572row9_col0\" class=\"data row9 col0\" >Categorical Imputer </td>\n",
       "                        <td id=\"T_9c0f8da8_024c_11eb_8fc8_c8d9d2ecb572row9_col1\" class=\"data row9 col1\" >constant</td>\n",
       "            </tr>\n",
       "            <tr>\n",
       "                        <th id=\"T_9c0f8da8_024c_11eb_8fc8_c8d9d2ecb572level0_row10\" class=\"row_heading level0 row10\" >10</th>\n",
       "                        <td id=\"T_9c0f8da8_024c_11eb_8fc8_c8d9d2ecb572row10_col0\" class=\"data row10 col0\" >Normalize </td>\n",
       "                        <td id=\"T_9c0f8da8_024c_11eb_8fc8_c8d9d2ecb572row10_col1\" class=\"data row10 col1\" >True</td>\n",
       "            </tr>\n",
       "            <tr>\n",
       "                        <th id=\"T_9c0f8da8_024c_11eb_8fc8_c8d9d2ecb572level0_row11\" class=\"row_heading level0 row11\" >11</th>\n",
       "                        <td id=\"T_9c0f8da8_024c_11eb_8fc8_c8d9d2ecb572row11_col0\" class=\"data row11 col0\" >Normalize Method </td>\n",
       "                        <td id=\"T_9c0f8da8_024c_11eb_8fc8_c8d9d2ecb572row11_col1\" class=\"data row11 col1\" >zscore</td>\n",
       "            </tr>\n",
       "            <tr>\n",
       "                        <th id=\"T_9c0f8da8_024c_11eb_8fc8_c8d9d2ecb572level0_row12\" class=\"row_heading level0 row12\" >12</th>\n",
       "                        <td id=\"T_9c0f8da8_024c_11eb_8fc8_c8d9d2ecb572row12_col0\" class=\"data row12 col0\" >Transformation </td>\n",
       "                        <td id=\"T_9c0f8da8_024c_11eb_8fc8_c8d9d2ecb572row12_col1\" class=\"data row12 col1\" >False</td>\n",
       "            </tr>\n",
       "            <tr>\n",
       "                        <th id=\"T_9c0f8da8_024c_11eb_8fc8_c8d9d2ecb572level0_row13\" class=\"row_heading level0 row13\" >13</th>\n",
       "                        <td id=\"T_9c0f8da8_024c_11eb_8fc8_c8d9d2ecb572row13_col0\" class=\"data row13 col0\" >Transformation Method </td>\n",
       "                        <td id=\"T_9c0f8da8_024c_11eb_8fc8_c8d9d2ecb572row13_col1\" class=\"data row13 col1\" >None</td>\n",
       "            </tr>\n",
       "            <tr>\n",
       "                        <th id=\"T_9c0f8da8_024c_11eb_8fc8_c8d9d2ecb572level0_row14\" class=\"row_heading level0 row14\" >14</th>\n",
       "                        <td id=\"T_9c0f8da8_024c_11eb_8fc8_c8d9d2ecb572row14_col0\" class=\"data row14 col0\" >PCA </td>\n",
       "                        <td id=\"T_9c0f8da8_024c_11eb_8fc8_c8d9d2ecb572row14_col1\" class=\"data row14 col1\" >False</td>\n",
       "            </tr>\n",
       "            <tr>\n",
       "                        <th id=\"T_9c0f8da8_024c_11eb_8fc8_c8d9d2ecb572level0_row15\" class=\"row_heading level0 row15\" >15</th>\n",
       "                        <td id=\"T_9c0f8da8_024c_11eb_8fc8_c8d9d2ecb572row15_col0\" class=\"data row15 col0\" >PCA Method </td>\n",
       "                        <td id=\"T_9c0f8da8_024c_11eb_8fc8_c8d9d2ecb572row15_col1\" class=\"data row15 col1\" >None</td>\n",
       "            </tr>\n",
       "            <tr>\n",
       "                        <th id=\"T_9c0f8da8_024c_11eb_8fc8_c8d9d2ecb572level0_row16\" class=\"row_heading level0 row16\" >16</th>\n",
       "                        <td id=\"T_9c0f8da8_024c_11eb_8fc8_c8d9d2ecb572row16_col0\" class=\"data row16 col0\" >PCA components </td>\n",
       "                        <td id=\"T_9c0f8da8_024c_11eb_8fc8_c8d9d2ecb572row16_col1\" class=\"data row16 col1\" >None</td>\n",
       "            </tr>\n",
       "            <tr>\n",
       "                        <th id=\"T_9c0f8da8_024c_11eb_8fc8_c8d9d2ecb572level0_row17\" class=\"row_heading level0 row17\" >17</th>\n",
       "                        <td id=\"T_9c0f8da8_024c_11eb_8fc8_c8d9d2ecb572row17_col0\" class=\"data row17 col0\" >Ignore Low Variance </td>\n",
       "                        <td id=\"T_9c0f8da8_024c_11eb_8fc8_c8d9d2ecb572row17_col1\" class=\"data row17 col1\" >False</td>\n",
       "            </tr>\n",
       "            <tr>\n",
       "                        <th id=\"T_9c0f8da8_024c_11eb_8fc8_c8d9d2ecb572level0_row18\" class=\"row_heading level0 row18\" >18</th>\n",
       "                        <td id=\"T_9c0f8da8_024c_11eb_8fc8_c8d9d2ecb572row18_col0\" class=\"data row18 col0\" >Combine Rare Levels </td>\n",
       "                        <td id=\"T_9c0f8da8_024c_11eb_8fc8_c8d9d2ecb572row18_col1\" class=\"data row18 col1\" >False</td>\n",
       "            </tr>\n",
       "            <tr>\n",
       "                        <th id=\"T_9c0f8da8_024c_11eb_8fc8_c8d9d2ecb572level0_row19\" class=\"row_heading level0 row19\" >19</th>\n",
       "                        <td id=\"T_9c0f8da8_024c_11eb_8fc8_c8d9d2ecb572row19_col0\" class=\"data row19 col0\" >Rare Level Threshold </td>\n",
       "                        <td id=\"T_9c0f8da8_024c_11eb_8fc8_c8d9d2ecb572row19_col1\" class=\"data row19 col1\" >None</td>\n",
       "            </tr>\n",
       "            <tr>\n",
       "                        <th id=\"T_9c0f8da8_024c_11eb_8fc8_c8d9d2ecb572level0_row20\" class=\"row_heading level0 row20\" >20</th>\n",
       "                        <td id=\"T_9c0f8da8_024c_11eb_8fc8_c8d9d2ecb572row20_col0\" class=\"data row20 col0\" >Numeric Binning </td>\n",
       "                        <td id=\"T_9c0f8da8_024c_11eb_8fc8_c8d9d2ecb572row20_col1\" class=\"data row20 col1\" >False</td>\n",
       "            </tr>\n",
       "            <tr>\n",
       "                        <th id=\"T_9c0f8da8_024c_11eb_8fc8_c8d9d2ecb572level0_row21\" class=\"row_heading level0 row21\" >21</th>\n",
       "                        <td id=\"T_9c0f8da8_024c_11eb_8fc8_c8d9d2ecb572row21_col0\" class=\"data row21 col0\" >Remove Multicollinearity </td>\n",
       "                        <td id=\"T_9c0f8da8_024c_11eb_8fc8_c8d9d2ecb572row21_col1\" class=\"data row21 col1\" >False</td>\n",
       "            </tr>\n",
       "            <tr>\n",
       "                        <th id=\"T_9c0f8da8_024c_11eb_8fc8_c8d9d2ecb572level0_row22\" class=\"row_heading level0 row22\" >22</th>\n",
       "                        <td id=\"T_9c0f8da8_024c_11eb_8fc8_c8d9d2ecb572row22_col0\" class=\"data row22 col0\" >Multicollinearity Threshold </td>\n",
       "                        <td id=\"T_9c0f8da8_024c_11eb_8fc8_c8d9d2ecb572row22_col1\" class=\"data row22 col1\" >None</td>\n",
       "            </tr>\n",
       "            <tr>\n",
       "                        <th id=\"T_9c0f8da8_024c_11eb_8fc8_c8d9d2ecb572level0_row23\" class=\"row_heading level0 row23\" >23</th>\n",
       "                        <td id=\"T_9c0f8da8_024c_11eb_8fc8_c8d9d2ecb572row23_col0\" class=\"data row23 col0\" >Group Features </td>\n",
       "                        <td id=\"T_9c0f8da8_024c_11eb_8fc8_c8d9d2ecb572row23_col1\" class=\"data row23 col1\" >False</td>\n",
       "            </tr>\n",
       "    </tbody></table>"
      ],
      "text/plain": [
       "<pandas.io.formats.style.Styler at 0x18112c3bcf8>"
      ]
     },
     "metadata": {},
     "output_type": "display_data"
    }
   ],
   "source": [
    "clu = setup(data, normalize = True, session_id=897)"
   ]
  },
  {
   "cell_type": "markdown",
   "metadata": {},
   "source": [
    "Once the setup has been succesfully executed it prints the information grid which contains several important pieces of information. \n",
    "\n",
    "A few important things to note at this stage include:\n",
    "\n",
    "- **session_id**: A pseduo-random number distributed as a seed in all functions for later reproducibility. If no session_id is passed, a random number is automatically generated that is distributed to all functions. In this experiment, the session_id is set as 897 for later reproducibility.\n",
    "\n",
    "\n",
    "- **Missing Values**: When there are missing values in original data this will show as True. Notice that Missing Values in the information grid above is True as the data contains missing values which are automatically imputed using mean for numeric features and constant for categorical features.\n",
    "\n",
    "\n",
    "- **Original Data**: Displays the original shape of dataset. \n",
    "\n",
    "\n",
    "- **Numeric Features**: The number of features inferred as numeric. \n",
    "\n",
    "\n",
    "- **Categorical Features**: The number of features inferred as categorical.\n"
   ]
  },
  {
   "cell_type": "markdown",
   "metadata": {},
   "source": [
    "## 7.0 Create a Model"
   ]
  },
  {
   "cell_type": "markdown",
   "metadata": {},
   "source": [
    "Creating a cluster model in PyCaret is simple and similar to how you would create a model in the supervised learning modules. A clustering model is created using the create_model() function which takes one mandatory parameter: the name of model as a string. This function returns a trained model object."
   ]
  },
  {
   "cell_type": "code",
   "execution_count": 6,
   "metadata": {},
   "outputs": [
    {
     "data": {
      "text/html": [
       "<div>\n",
       "<style scoped>\n",
       "    .dataframe tbody tr th:only-of-type {\n",
       "        vertical-align: middle;\n",
       "    }\n",
       "\n",
       "    .dataframe tbody tr th {\n",
       "        vertical-align: top;\n",
       "    }\n",
       "\n",
       "    .dataframe thead th {\n",
       "        text-align: right;\n",
       "    }\n",
       "</style>\n",
       "<table border=\"1\" class=\"dataframe\">\n",
       "  <thead>\n",
       "    <tr style=\"text-align: right;\">\n",
       "      <th></th>\n",
       "      <th>Metric</th>\n",
       "    </tr>\n",
       "  </thead>\n",
       "  <tbody>\n",
       "    <tr>\n",
       "      <th>Silhouette</th>\n",
       "      <td>0.2745</td>\n",
       "    </tr>\n",
       "    <tr>\n",
       "      <th>Calinski-Harabasz</th>\n",
       "      <td>132.8896</td>\n",
       "    </tr>\n",
       "    <tr>\n",
       "      <th>Davies-Bouldin</th>\n",
       "      <td>1.0987</td>\n",
       "    </tr>\n",
       "  </tbody>\n",
       "</table>\n",
       "</div>"
      ],
      "text/plain": [
       "                     Metric\n",
       "Silhouette           0.2745\n",
       "Calinski-Harabasz  132.8896\n",
       "Davies-Bouldin       1.0987"
      ]
     },
     "metadata": {},
     "output_type": "display_data"
    }
   ],
   "source": [
    "kmeans = create_model('kmeans', num_clusters=5)"
   ]
  },
  {
   "cell_type": "code",
   "execution_count": 7,
   "metadata": {},
   "outputs": [
    {
     "name": "stdout",
     "output_type": "stream",
     "text": [
      "KMeans(algorithm='auto', copy_x=True, init='k-means++', max_iter=300,\n",
      "       n_clusters=5, n_init=10, n_jobs=-1, precompute_distances='deprecated',\n",
      "       random_state=897, tol=0.0001, verbose=0)\n"
     ]
    }
   ],
   "source": [
    "print(kmeans)"
   ]
  },
  {
   "cell_type": "markdown",
   "metadata": {},
   "source": [
    "We have created a kmeans model using create_model(). Notice the n_clusters parameter is set to 4 which is the default when you do not pass a value to the num_clusters parameter."
   ]
  },
  {
   "cell_type": "markdown",
   "metadata": {},
   "source": [
    "## 8.0 Assign a Model"
   ]
  },
  {
   "cell_type": "markdown",
   "metadata": {},
   "source": [
    "Now that we have created a model, we would like to assign the cluster labels to our dataset (1080 samples) to analyze the results. We will achieve this by using the `assign_model()` function. See an example below:"
   ]
  },
  {
   "cell_type": "code",
   "execution_count": 8,
   "metadata": {},
   "outputs": [
    {
     "data": {
      "text/html": [
       "<div>\n",
       "<style scoped>\n",
       "    .dataframe tbody tr th:only-of-type {\n",
       "        vertical-align: middle;\n",
       "    }\n",
       "\n",
       "    .dataframe tbody tr th {\n",
       "        vertical-align: top;\n",
       "    }\n",
       "\n",
       "    .dataframe thead th {\n",
       "        text-align: right;\n",
       "    }\n",
       "</style>\n",
       "<table border=\"1\" class=\"dataframe\">\n",
       "  <thead>\n",
       "    <tr style=\"text-align: right;\">\n",
       "      <th></th>\n",
       "      <th>Country</th>\n",
       "      <th>2000</th>\n",
       "      <th>2001</th>\n",
       "      <th>2002</th>\n",
       "      <th>2003</th>\n",
       "      <th>2004</th>\n",
       "      <th>2005</th>\n",
       "      <th>2006</th>\n",
       "      <th>2007</th>\n",
       "      <th>2008</th>\n",
       "      <th>2009</th>\n",
       "      <th>2010</th>\n",
       "      <th>2011</th>\n",
       "      <th>2012</th>\n",
       "      <th>2013</th>\n",
       "      <th>2014</th>\n",
       "      <th>2015</th>\n",
       "      <th>2016</th>\n",
       "      <th>2017</th>\n",
       "      <th>Cluster</th>\n",
       "    </tr>\n",
       "  </thead>\n",
       "  <tbody>\n",
       "    <tr>\n",
       "      <th>0</th>\n",
       "      <td>Italy</td>\n",
       "      <td>0.0758</td>\n",
       "      <td>0.0777</td>\n",
       "      <td>0.0789</td>\n",
       "      <td>0.0786</td>\n",
       "      <td>0.0819</td>\n",
       "      <td>0.0836</td>\n",
       "      <td>0.0846</td>\n",
       "      <td>0.0816</td>\n",
       "      <td>0.0856</td>\n",
       "      <td>0.0898</td>\n",
       "      <td>0.0895</td>\n",
       "      <td>0.0883</td>\n",
       "      <td>0.0896</td>\n",
       "      <td>0.0895</td>\n",
       "      <td>0.0901</td>\n",
       "      <td>0.0899</td>\n",
       "      <td>0.0888</td>\n",
       "      <td>0.0884</td>\n",
       "      <td>Cluster 1</td>\n",
       "    </tr>\n",
       "    <tr>\n",
       "      <th>1</th>\n",
       "      <td>Chad</td>\n",
       "      <td>0.0546</td>\n",
       "      <td>0.0529</td>\n",
       "      <td>0.0727</td>\n",
       "      <td>0.0551</td>\n",
       "      <td>0.0550</td>\n",
       "      <td>0.0484</td>\n",
       "      <td>0.0487</td>\n",
       "      <td>0.0434</td>\n",
       "      <td>0.0406</td>\n",
       "      <td>0.0444</td>\n",
       "      <td>0.0406</td>\n",
       "      <td>0.0391</td>\n",
       "      <td>0.0386</td>\n",
       "      <td>0.0407</td>\n",
       "      <td>0.0427</td>\n",
       "      <td>0.0452</td>\n",
       "      <td>0.0496</td>\n",
       "      <td>0.0449</td>\n",
       "      <td>Cluster 0</td>\n",
       "    </tr>\n",
       "    <tr>\n",
       "      <th>2</th>\n",
       "      <td>Paraguay</td>\n",
       "      <td>0.0550</td>\n",
       "      <td>0.0504</td>\n",
       "      <td>0.0419</td>\n",
       "      <td>0.0430</td>\n",
       "      <td>0.0423</td>\n",
       "      <td>0.0408</td>\n",
       "      <td>0.0423</td>\n",
       "      <td>0.0418</td>\n",
       "      <td>0.0416</td>\n",
       "      <td>0.0447</td>\n",
       "      <td>0.0462</td>\n",
       "      <td>0.0505</td>\n",
       "      <td>0.0654</td>\n",
       "      <td>0.0607</td>\n",
       "      <td>0.0665</td>\n",
       "      <td>0.0675</td>\n",
       "      <td>0.0673</td>\n",
       "      <td>0.0665</td>\n",
       "      <td>Cluster 0</td>\n",
       "    </tr>\n",
       "    <tr>\n",
       "      <th>3</th>\n",
       "      <td>Lao PDR</td>\n",
       "      <td>0.0428</td>\n",
       "      <td>0.0429</td>\n",
       "      <td>0.0370</td>\n",
       "      <td>0.0448</td>\n",
       "      <td>0.0354</td>\n",
       "      <td>0.0334</td>\n",
       "      <td>0.0293</td>\n",
       "      <td>0.0315</td>\n",
       "      <td>0.0277</td>\n",
       "      <td>0.0346</td>\n",
       "      <td>0.0291</td>\n",
       "      <td>0.0194</td>\n",
       "      <td>0.0208</td>\n",
       "      <td>0.0240</td>\n",
       "      <td>0.0230</td>\n",
       "      <td>0.0245</td>\n",
       "      <td>0.0236</td>\n",
       "      <td>0.0253</td>\n",
       "      <td>Cluster 4</td>\n",
       "    </tr>\n",
       "    <tr>\n",
       "      <th>4</th>\n",
       "      <td>Guyana</td>\n",
       "      <td>0.0389</td>\n",
       "      <td>0.0402</td>\n",
       "      <td>0.0419</td>\n",
       "      <td>0.0428</td>\n",
       "      <td>0.0486</td>\n",
       "      <td>0.0519</td>\n",
       "      <td>0.0502</td>\n",
       "      <td>0.0518</td>\n",
       "      <td>0.0489</td>\n",
       "      <td>0.0521</td>\n",
       "      <td>0.0546</td>\n",
       "      <td>0.0517</td>\n",
       "      <td>0.0489</td>\n",
       "      <td>0.0505</td>\n",
       "      <td>0.0514</td>\n",
       "      <td>0.0452</td>\n",
       "      <td>0.0514</td>\n",
       "      <td>0.0495</td>\n",
       "      <td>Cluster 0</td>\n",
       "    </tr>\n",
       "  </tbody>\n",
       "</table>\n",
       "</div>"
      ],
      "text/plain": [
       "    Country    2000    2001    2002    2003    2004    2005    2006    2007  \\\n",
       "0     Italy  0.0758  0.0777  0.0789  0.0786  0.0819  0.0836  0.0846  0.0816   \n",
       "1      Chad  0.0546  0.0529  0.0727  0.0551  0.0550  0.0484  0.0487  0.0434   \n",
       "2  Paraguay  0.0550  0.0504  0.0419  0.0430  0.0423  0.0408  0.0423  0.0418   \n",
       "3   Lao PDR  0.0428  0.0429  0.0370  0.0448  0.0354  0.0334  0.0293  0.0315   \n",
       "4    Guyana  0.0389  0.0402  0.0419  0.0428  0.0486  0.0519  0.0502  0.0518   \n",
       "\n",
       "     2008    2009    2010    2011    2012    2013    2014    2015    2016  \\\n",
       "0  0.0856  0.0898  0.0895  0.0883  0.0896  0.0895  0.0901  0.0899  0.0888   \n",
       "1  0.0406  0.0444  0.0406  0.0391  0.0386  0.0407  0.0427  0.0452  0.0496   \n",
       "2  0.0416  0.0447  0.0462  0.0505  0.0654  0.0607  0.0665  0.0675  0.0673   \n",
       "3  0.0277  0.0346  0.0291  0.0194  0.0208  0.0240  0.0230  0.0245  0.0236   \n",
       "4  0.0489  0.0521  0.0546  0.0517  0.0489  0.0505  0.0514  0.0452  0.0514   \n",
       "\n",
       "     2017    Cluster  \n",
       "0  0.0884  Cluster 1  \n",
       "1  0.0449  Cluster 0  \n",
       "2  0.0665  Cluster 0  \n",
       "3  0.0253  Cluster 4  \n",
       "4  0.0495  Cluster 0  "
      ]
     },
     "execution_count": 8,
     "metadata": {},
     "output_type": "execute_result"
    }
   ],
   "source": [
    "kmean_results = assign_model(kmeans)\n",
    "kmean_results.head()"
   ]
  },
  {
   "cell_type": "markdown",
   "metadata": {},
   "source": [
    "Notice that a new column called Cluster has been added to the original dataset. kmean_results also includes the MouseID feature that we dropped during the setup() but it was not used for the model and is only appended to the dataset when you use assign_model(). In the next section we will see how to analyze the results of clustering using plot_model()."
   ]
  },
  {
   "cell_type": "markdown",
   "metadata": {},
   "source": [
    "## 9.0 Plot a Model"
   ]
  },
  {
   "cell_type": "markdown",
   "metadata": {},
   "source": [
    "### 2D Cluster plot"
   ]
  },
  {
   "cell_type": "markdown",
   "metadata": {},
   "source": [
    "The plot_model() function can be used to analyze different aspects of the clustering model. This function takes a trained model object and returns a plot."
   ]
  },
  {
   "cell_type": "code",
   "execution_count": 9,
   "metadata": {},
   "outputs": [
    {
     "data": {
      "text/html": [
       "        <script type=\"text/javascript\">\n",
       "        window.PlotlyConfig = {MathJaxConfig: 'local'};\n",
       "        if (window.MathJax) {MathJax.Hub.Config({SVG: {font: \"STIX-Web\"}});}\n",
       "        if (typeof require !== 'undefined') {\n",
       "        require.undef(\"plotly\");\n",
       "        requirejs.config({\n",
       "            paths: {\n",
       "                'plotly': ['https://cdn.plot.ly/plotly-latest.min']\n",
       "            }\n",
       "        });\n",
       "        require(['plotly'], function(Plotly) {\n",
       "            window._Plotly = Plotly;\n",
       "        });\n",
       "        }\n",
       "        </script>\n",
       "        "
      ]
     },
     "metadata": {},
     "output_type": "display_data"
    },
    {
     "data": {
      "application/vnd.plotly.v1+json": {
       "config": {
        "plotlyServerURL": "https://plot.ly"
       },
       "data": [
        {
         "customdata": [
          [
           "Peru"
          ],
          [
           "Jamaica"
          ],
          [
           "Cote d'Ivoire"
          ],
          [
           "St. Kitts and Nevis"
          ],
          [
           "Korea, Rep."
          ],
          [
           "Burkina Faso"
          ],
          [
           "Tajikistan"
          ],
          [
           "Morocco"
          ],
          [
           "Djibouti"
          ],
          [
           "Dominica"
          ],
          [
           "Mozambique"
          ],
          [
           "Azerbaijan"
          ],
          [
           "Tonga"
          ],
          [
           "Botswana"
          ],
          [
           "Mali"
          ],
          [
           "Ethiopia"
          ],
          [
           "Mauritania"
          ],
          [
           "Central African Republic"
          ],
          [
           "Mexico"
          ],
          [
           "Late-demographic dividend"
          ],
          [
           "Tanzania"
          ],
          [
           "Antigua and Barbuda"
          ],
          [
           "Saudi Arabia"
          ],
          [
           "Vietnam"
          ],
          [
           "Egypt, Arab Rep."
          ],
          [
           "Nepal"
          ],
          [
           "Grenada"
          ],
          [
           "Bolivia"
          ],
          [
           "Suriname"
          ],
          [
           "Cameroon"
          ],
          [
           "Chad"
          ],
          [
           "Paraguay"
          ],
          [
           "Mauritius"
          ],
          [
           "Guyana"
          ],
          [
           "Trinidad and Tobago"
          ],
          [
           "Russian Federation"
          ],
          [
           "Seychelles"
          ],
          [
           "Dominican Republic"
          ],
          [
           "Pacific island small states"
          ],
          [
           "Sub-Saharan Africa"
          ],
          [
           "Yemen, Rep."
          ],
          [
           "Bahamas, The"
          ],
          [
           "Romania"
          ],
          [
           "Togo"
          ],
          [
           "China"
          ],
          [
           "Cabo Verde"
          ],
          [
           "Uzbekistan"
          ]
         ],
         "hovertemplate": "Cluster=Cluster 0<br>PCA1=%{x}<br>PCA2=%{y}<br>Feature=%{customdata[0]}<extra></extra>",
         "legendgroup": "Cluster 0",
         "marker": {
          "color": "#636efa",
          "opacity": 0.5,
          "symbol": "circle"
         },
         "mode": "markers",
         "name": "Cluster 0",
         "orientation": "v",
         "showlegend": true,
         "textposition": "top center",
         "type": "scatter",
         "x": [
          -2.2161469037179824,
          -1.6838962972659721,
          -1.3643516453234412,
          -2.141577204635166,
          -0.7397484885287862,
          -1.7061405161888832,
          -0.8561767475850498,
          -1.7345674954449313,
          -2.7604170577581124,
          -1.2638169948975626,
          -1.5732894683360097,
          -1.328854185757758,
          -2.7631604709191113,
          -0.5828651549517728,
          -2.4069571879217904,
          -2.8219870449050855,
          -3.118852570628949,
          -2.6681385296710327,
          -0.9139190478976904,
          -1.469313803492645,
          -1.8212971557520181,
          -1.9433771816151981,
          -3.0893793367134776,
          -1.2065516436460473,
          -2.1296155200345166,
          -2.136005148078389,
          -1.043665456166865,
          -1.2930614155259597,
          -1.23141330829657,
          -2.9804700914147633,
          -2.2570276985716378,
          -1.6291475591694138,
          -3.2063678595538807,
          -2.157126240843935,
          -2.070628198327268,
          -1.7737633448783525,
          -2.22564464732194,
          -1.6772896356911262,
          -1.4865589361593181,
          -1.643176752565529,
          -1.6792869052079258,
          -1.3921741019217782,
          -1.851043475758827,
          -2.0029288703800034,
          -2.845017913539545,
          -2.544823384101144,
          -1.0361940372378
         ],
         "xaxis": "x",
         "y": [
          0.25424415795621297,
          0.06937568015402533,
          0.1996559224621899,
          -0.15684677926112284,
          -1.2857308528597897,
          -1.223815358479945,
          -0.9845964883349181,
          -0.4043148076847221,
          0.6573158078388648,
          0.17848937055684988,
          0.24434457594265085,
          -0.19473994471269465,
          -0.40224173088383885,
          0.31549305819282875,
          1.1120504443670785,
          0.571815246980333,
          0.8384586768849762,
          -0.03541215519978728,
          0.01075071289153934,
          0.1685746677399966,
          0.8674904179226735,
          0.45132560156693796,
          -0.3836861918138595,
          -0.29344145538775207,
          0.49816803763790407,
          -0.633689992081394,
          0.5435659805112227,
          -0.5192877054399174,
          0.3947180296429258,
          0.06539134509786622,
          1.2431625258074683,
          -0.904043130635924,
          -1.100474526920118,
          -0.15767423853671958,
          -0.7209916985116674,
          0.25659687473923587,
          0.3023697546903932,
          -0.6150892782198396,
          0.35321117729090323,
          0.41246664741034117,
          0.5874052899349956,
          -0.7712986819724067,
          0.16747164720444097,
          -1.5866345590748154,
          -0.09555547160527283,
          -0.03091303628865442,
          -0.18588124396630268
         ],
         "yaxis": "y"
        },
        {
         "customdata": [
          [
           "Malta"
          ],
          [
           "Andorra"
          ],
          [
           "Post-demographic dividend"
          ],
          [
           "El Salvador"
          ],
          [
           "Comoros"
          ],
          [
           "Iceland"
          ],
          [
           "Portugal"
          ],
          [
           "Brazil"
          ],
          [
           "Uruguay"
          ],
          [
           "Moldova"
          ],
          [
           "New Zealand"
          ],
          [
           "Namibia"
          ],
          [
           "Austria"
          ],
          [
           "Kiribati"
          ],
          [
           "Serbia"
          ],
          [
           "Maldives"
          ],
          [
           "Lebanon"
          ],
          [
           "Slovenia"
          ],
          [
           "Australia"
          ],
          [
           "Germany"
          ],
          [
           "Japan"
          ],
          [
           "Italy"
          ],
          [
           "Norway"
          ],
          [
           "Cuba"
          ],
          [
           "Canada"
          ],
          [
           "Micronesia, Fed. Sts."
          ],
          [
           "Afghanistan"
          ],
          [
           "Netherlands"
          ],
          [
           "Jordan"
          ],
          [
           "Sao Tome and Principe"
          ],
          [
           "Palau"
          ],
          [
           "United Kingdom"
          ],
          [
           "Finland"
          ],
          [
           "Georgia"
          ],
          [
           "Switzerland"
          ],
          [
           "Ireland"
          ],
          [
           "Sweden"
          ],
          [
           "Bosnia and Herzegovina"
          ],
          [
           "Burundi"
          ]
         ],
         "hovertemplate": "Cluster=Cluster 1<br>PCA1=%{x}<br>PCA2=%{y}<br>Feature=%{customdata[0]}<extra></extra>",
         "legendgroup": "Cluster 1",
         "marker": {
          "color": "#EF553B",
          "opacity": 0.5,
          "symbol": "circle"
         },
         "mode": "markers",
         "name": "Cluster 1",
         "orientation": "v",
         "showlegend": true,
         "textposition": "top center",
         "type": "scatter",
         "x": [
          3.368941656479802,
          4.886806294935236,
          8.179791038349487,
          2.923721097020589,
          4.608502721458151,
          3.931088791134402,
          4.557204834206158,
          3.3306007613360245,
          4.5491156489212585,
          2.875093978171364,
          3.993507233621423,
          5.388085204565903,
          5.755362443767671,
          6.983124457712823,
          3.7726002400328134,
          3.7069148186683645,
          3.256962604293681,
          3.1218896189520158,
          3.4184398630657937,
          6.770506499254239,
          4.413094468886457,
          3.5961621730289304,
          4.178968470546997,
          5.586481421335544,
          5.539101088177392,
          8.530154881918419,
          5.360823811399914,
          5.2233816319782695,
          3.5650336118943478,
          3.4973401338486023,
          6.397433290168212,
          2.815313083741837,
          3.4116823658619606,
          3.224436946616483,
          7.358646876990122,
          3.276716028793379,
          4.825875056719491,
          4.164458533602463,
          3.145195075010867
         ],
         "xaxis": "x",
         "y": [
          -0.3904723123800121,
          -0.33384706552923693,
          -0.8431657814291755,
          1.0782176840574824,
          2.5732425916683814,
          1.2354439021192842,
          0.2493865282381624,
          0.4247339890653906,
          1.2304862153364562,
          -1.0918072141677309,
          -0.5928313007474861,
          1.187771601388192,
          -0.02202422765339815,
          2.0635260125067485,
          -0.35669375822507177,
          0.040699530962132274,
          1.554824975680849,
          0.020301174449112534,
          -0.25455973821776884,
          -0.04278735071357051,
          -1.720450762265573,
          -0.19910676418611087,
          -0.22215990763876417,
          -2.2692886002017087,
          -0.5290201402708261,
          -1.1800518473482378,
          0.5329627697688502,
          -0.6789149299865928,
          1.6025290097491094,
          3.60173264093522,
          -1.2981339115365047,
          -1.3809838895500341,
          -0.7846657612164434,
          0.1361052708259572,
          -0.08669206774121277,
          -1.1789163210580562,
          -1.3363169683890475,
          -0.33076041179345333,
          -0.1962176239766622
         ],
         "yaxis": "y"
        },
        {
         "customdata": [
          [
           "Nauru"
          ],
          [
           "United States"
          ],
          [
           "Tuvalu"
          ]
         ],
         "hovertemplate": "Cluster=Cluster 2<br>PCA1=%{x}<br>PCA2=%{y}<br>Feature=%{customdata[0]}<extra></extra>",
         "legendgroup": "Cluster 2",
         "marker": {
          "color": "#00cc96",
          "opacity": 0.5,
          "symbol": "circle"
         },
         "mode": "markers",
         "name": "Cluster 2",
         "orientation": "v",
         "showlegend": true,
         "textposition": "top center",
         "type": "scatter",
         "x": [
          10.436290587678638,
          14.400636729579043,
          14.22697801717902
         ],
         "xaxis": "x",
         "y": [
          4.26107619887019,
          -1.036739645209529,
          0.16086618704661634
         ],
         "yaxis": "y"
        },
        {
         "customdata": [
          [
           "Kyrgyz Republic"
          ],
          [
           "Ukraine"
          ],
          [
           "Malawi"
          ],
          [
           "Venezuela, RB"
          ],
          [
           "Colombia"
          ],
          [
           "Turkmenistan"
          ],
          [
           "Haiti"
          ],
          [
           "Hungary"
          ],
          [
           "Luxembourg"
          ],
          [
           "Costa Rica"
          ],
          [
           "South Africa"
          ],
          [
           "North Macedonia"
          ],
          [
           "Tunisia"
          ],
          [
           "Cambodia"
          ],
          [
           "Croatia"
          ],
          [
           "Ecuador"
          ],
          [
           "Lithuania"
          ],
          [
           "Solomon Islands"
          ],
          [
           "Slovak Republic"
          ],
          [
           "Guatemala"
          ],
          [
           "Bulgaria"
          ],
          [
           "Eswatini"
          ],
          [
           "Cyprus"
          ],
          [
           "Iran, Islamic Rep."
          ],
          [
           "Honduras"
          ],
          [
           "Poland"
          ],
          [
           "San Marino"
          ],
          [
           "Czech Republic"
          ],
          [
           "Liberia"
          ],
          [
           "Guinea-Bissau"
          ]
         ],
         "hovertemplate": "Cluster=Cluster 3<br>PCA1=%{x}<br>PCA2=%{y}<br>Feature=%{customdata[0]}<extra></extra>",
         "legendgroup": "Cluster 3",
         "marker": {
          "color": "#ab63fa",
          "opacity": 0.5,
          "symbol": "circle"
         },
         "mode": "markers",
         "name": "Cluster 3",
         "orientation": "v",
         "showlegend": true,
         "textposition": "top center",
         "type": "scatter",
         "x": [
          0.663114400845277,
          0.3778047083507621,
          1.6474160324505602,
          0.25659866997540737,
          0.595991467435546,
          0.8032867327850277,
          1.4088510825276,
          1.7540062834842252,
          0.278337233601437,
          1.7847050357615444,
          1.7058288037912828,
          1.6068069031646555,
          -0.38383784695594,
          0.7817854260578894,
          1.42647464415864,
          0.500294491513068,
          0.043761408072976224,
          1.6496065659520869,
          0.8386822654400959,
          -0.030158076759255074,
          1.5346552755298435,
          1.5659928835404504,
          -0.2046112057673603,
          -0.13629518494199253,
          2.517486255173262,
          -0.12896307172107757,
          -0.15339753904339987,
          0.7987754514032263,
          2.01469049066622,
          1.6659445599375458
         ],
         "xaxis": "x",
         "y": [
          -0.851729298567723,
          -0.29100611266072196,
          -2.923610606307528,
          2.0678680144596484,
          -0.4794819879295285,
          2.115534440854705,
          -1.2614564455113757,
          0.5612793574136375,
          0.9328467387011251,
          -0.3085202932843235,
          -0.19372702593894942,
          1.8792285376425606,
          -0.69178541770455,
          0.4327845498145345,
          0.21826384331480103,
          -2.166576409174784,
          0.02225960228509587,
          2.3105434810057863,
          -0.615483506992053,
          0.6060879341411104,
          -0.34997968497252857,
          -0.6055009111153079,
          -0.5410083094496931,
          -1.295475283974971,
          -0.5776648297931575,
          -0.05621627882976246,
          -1.4077647277766896,
          -0.42296149980248066,
          -2.589773260780487,
          0.21463265811578053
         ],
         "yaxis": "y"
        },
        {
         "customdata": [
          [
           "Congo, Dem. Rep."
          ],
          [
           "Fiji"
          ],
          [
           "Mongolia"
          ],
          [
           "Eritrea"
          ],
          [
           "Sri Lanka"
          ],
          [
           "Thailand"
          ],
          [
           "Kazakhstan"
          ],
          [
           "Kuwait"
          ],
          [
           "Brunei Darussalam"
          ],
          [
           "Nigeria"
          ],
          [
           "Malaysia"
          ],
          [
           "Lao PDR"
          ],
          [
           "United Arab Emirates"
          ],
          [
           "Bhutan"
          ],
          [
           "Oman"
          ],
          [
           "Equatorial Guinea"
          ],
          [
           "Pakistan"
          ],
          [
           "Myanmar"
          ],
          [
           "Papua New Guinea"
          ],
          [
           "India"
          ],
          [
           "South Asia"
          ],
          [
           "Bahrain"
          ],
          [
           "Guinea"
          ],
          [
           "Benin"
          ],
          [
           "Vanuatu"
          ],
          [
           "Congo, Rep."
          ],
          [
           "Angola"
          ],
          [
           "Bangladesh"
          ],
          [
           "Philippines"
          ],
          [
           "Qatar"
          ],
          [
           "Singapore"
          ],
          [
           "Gabon"
          ],
          [
           "Monaco"
          ]
         ],
         "hovertemplate": "Cluster=Cluster 4<br>PCA1=%{x}<br>PCA2=%{y}<br>Feature=%{customdata[0]}<extra></extra>",
         "legendgroup": "Cluster 4",
         "marker": {
          "color": "#FFA15A",
          "opacity": 0.5,
          "symbol": "circle"
         },
         "mode": "markers",
         "name": "Cluster 4",
         "orientation": "v",
         "showlegend": true,
         "textposition": "top center",
         "type": "scatter",
         "x": [
          -3.7471155444805406,
          -4.2097837866642545,
          -3.3632456044239976,
          -3.3311218744148436,
          -3.5820702670861464,
          -4.4143156866049935,
          -4.5737310349078335,
          -4.9254736393092475,
          -6.230375524849406,
          -3.9518826176442863,
          -4.6454424182904335,
          -4.946949824142146,
          -4.91678205606209,
          -3.728790584967013,
          -5.006353666625636,
          -6.5294791721760275,
          -5.5062703200438206,
          -5.6225678820398,
          -5.899162703635611,
          -3.9590420294256505,
          -4.177389639976268,
          -3.624011270379191,
          -3.932809196596483,
          -3.3917669752319166,
          -4.246932156565983,
          -6.0877466364239465,
          -5.019810042660644,
          -6.080324459589517,
          -3.6518101825082616,
          -6.035186537598756,
          -4.284911774410798,
          -5.068420215478083,
          -6.577810277818449
         ],
         "xaxis": "x",
         "y": [
          -0.14309610389781924,
          0.10270623968198529,
          0.2771659550886189,
          1.635909026630759,
          0.46041245002760234,
          -0.12349366030167395,
          0.6707917652532233,
          -0.17747913134386223,
          0.33142663053590454,
          0.4116174874945182,
          -0.4083614328693513,
          1.24322546915059,
          -0.5902751504850717,
          0.8640361714435103,
          -0.13852645587106385,
          -0.042594855596049266,
          0.21564445880004837,
          -1.0130090753664331,
          0.01295062962284943,
          0.5885125676173034,
          0.4525120425157933,
          -0.34757982431344686,
          -0.34017562155338565,
          0.37042399581620106,
          0.05290729679346243,
          -0.33858990094009284,
          0.6637481675963872,
          -0.08786194114683399,
          -0.5939735891748711,
          0.2885093412107976,
          -0.218268177976568,
          0.5198239623599715,
          -0.00549630877450858
         ],
         "yaxis": "y"
        }
       ],
       "layout": {
        "height": 600,
        "legend": {
         "title": {
          "text": "Cluster"
         },
         "tracegroupgap": 0
        },
        "margin": {
         "t": 60
        },
        "plot_bgcolor": "rgb(240,240,240)",
        "template": {
         "data": {
          "bar": [
           {
            "error_x": {
             "color": "#2a3f5f"
            },
            "error_y": {
             "color": "#2a3f5f"
            },
            "marker": {
             "line": {
              "color": "#E5ECF6",
              "width": 0.5
             }
            },
            "type": "bar"
           }
          ],
          "barpolar": [
           {
            "marker": {
             "line": {
              "color": "#E5ECF6",
              "width": 0.5
             }
            },
            "type": "barpolar"
           }
          ],
          "carpet": [
           {
            "aaxis": {
             "endlinecolor": "#2a3f5f",
             "gridcolor": "white",
             "linecolor": "white",
             "minorgridcolor": "white",
             "startlinecolor": "#2a3f5f"
            },
            "baxis": {
             "endlinecolor": "#2a3f5f",
             "gridcolor": "white",
             "linecolor": "white",
             "minorgridcolor": "white",
             "startlinecolor": "#2a3f5f"
            },
            "type": "carpet"
           }
          ],
          "choropleth": [
           {
            "colorbar": {
             "outlinewidth": 0,
             "ticks": ""
            },
            "type": "choropleth"
           }
          ],
          "contour": [
           {
            "colorbar": {
             "outlinewidth": 0,
             "ticks": ""
            },
            "colorscale": [
             [
              0,
              "#0d0887"
             ],
             [
              0.1111111111111111,
              "#46039f"
             ],
             [
              0.2222222222222222,
              "#7201a8"
             ],
             [
              0.3333333333333333,
              "#9c179e"
             ],
             [
              0.4444444444444444,
              "#bd3786"
             ],
             [
              0.5555555555555556,
              "#d8576b"
             ],
             [
              0.6666666666666666,
              "#ed7953"
             ],
             [
              0.7777777777777778,
              "#fb9f3a"
             ],
             [
              0.8888888888888888,
              "#fdca26"
             ],
             [
              1,
              "#f0f921"
             ]
            ],
            "type": "contour"
           }
          ],
          "contourcarpet": [
           {
            "colorbar": {
             "outlinewidth": 0,
             "ticks": ""
            },
            "type": "contourcarpet"
           }
          ],
          "heatmap": [
           {
            "colorbar": {
             "outlinewidth": 0,
             "ticks": ""
            },
            "colorscale": [
             [
              0,
              "#0d0887"
             ],
             [
              0.1111111111111111,
              "#46039f"
             ],
             [
              0.2222222222222222,
              "#7201a8"
             ],
             [
              0.3333333333333333,
              "#9c179e"
             ],
             [
              0.4444444444444444,
              "#bd3786"
             ],
             [
              0.5555555555555556,
              "#d8576b"
             ],
             [
              0.6666666666666666,
              "#ed7953"
             ],
             [
              0.7777777777777778,
              "#fb9f3a"
             ],
             [
              0.8888888888888888,
              "#fdca26"
             ],
             [
              1,
              "#f0f921"
             ]
            ],
            "type": "heatmap"
           }
          ],
          "heatmapgl": [
           {
            "colorbar": {
             "outlinewidth": 0,
             "ticks": ""
            },
            "colorscale": [
             [
              0,
              "#0d0887"
             ],
             [
              0.1111111111111111,
              "#46039f"
             ],
             [
              0.2222222222222222,
              "#7201a8"
             ],
             [
              0.3333333333333333,
              "#9c179e"
             ],
             [
              0.4444444444444444,
              "#bd3786"
             ],
             [
              0.5555555555555556,
              "#d8576b"
             ],
             [
              0.6666666666666666,
              "#ed7953"
             ],
             [
              0.7777777777777778,
              "#fb9f3a"
             ],
             [
              0.8888888888888888,
              "#fdca26"
             ],
             [
              1,
              "#f0f921"
             ]
            ],
            "type": "heatmapgl"
           }
          ],
          "histogram": [
           {
            "marker": {
             "colorbar": {
              "outlinewidth": 0,
              "ticks": ""
             }
            },
            "type": "histogram"
           }
          ],
          "histogram2d": [
           {
            "colorbar": {
             "outlinewidth": 0,
             "ticks": ""
            },
            "colorscale": [
             [
              0,
              "#0d0887"
             ],
             [
              0.1111111111111111,
              "#46039f"
             ],
             [
              0.2222222222222222,
              "#7201a8"
             ],
             [
              0.3333333333333333,
              "#9c179e"
             ],
             [
              0.4444444444444444,
              "#bd3786"
             ],
             [
              0.5555555555555556,
              "#d8576b"
             ],
             [
              0.6666666666666666,
              "#ed7953"
             ],
             [
              0.7777777777777778,
              "#fb9f3a"
             ],
             [
              0.8888888888888888,
              "#fdca26"
             ],
             [
              1,
              "#f0f921"
             ]
            ],
            "type": "histogram2d"
           }
          ],
          "histogram2dcontour": [
           {
            "colorbar": {
             "outlinewidth": 0,
             "ticks": ""
            },
            "colorscale": [
             [
              0,
              "#0d0887"
             ],
             [
              0.1111111111111111,
              "#46039f"
             ],
             [
              0.2222222222222222,
              "#7201a8"
             ],
             [
              0.3333333333333333,
              "#9c179e"
             ],
             [
              0.4444444444444444,
              "#bd3786"
             ],
             [
              0.5555555555555556,
              "#d8576b"
             ],
             [
              0.6666666666666666,
              "#ed7953"
             ],
             [
              0.7777777777777778,
              "#fb9f3a"
             ],
             [
              0.8888888888888888,
              "#fdca26"
             ],
             [
              1,
              "#f0f921"
             ]
            ],
            "type": "histogram2dcontour"
           }
          ],
          "mesh3d": [
           {
            "colorbar": {
             "outlinewidth": 0,
             "ticks": ""
            },
            "type": "mesh3d"
           }
          ],
          "parcoords": [
           {
            "line": {
             "colorbar": {
              "outlinewidth": 0,
              "ticks": ""
             }
            },
            "type": "parcoords"
           }
          ],
          "pie": [
           {
            "automargin": true,
            "type": "pie"
           }
          ],
          "scatter": [
           {
            "marker": {
             "colorbar": {
              "outlinewidth": 0,
              "ticks": ""
             }
            },
            "type": "scatter"
           }
          ],
          "scatter3d": [
           {
            "line": {
             "colorbar": {
              "outlinewidth": 0,
              "ticks": ""
             }
            },
            "marker": {
             "colorbar": {
              "outlinewidth": 0,
              "ticks": ""
             }
            },
            "type": "scatter3d"
           }
          ],
          "scattercarpet": [
           {
            "marker": {
             "colorbar": {
              "outlinewidth": 0,
              "ticks": ""
             }
            },
            "type": "scattercarpet"
           }
          ],
          "scattergeo": [
           {
            "marker": {
             "colorbar": {
              "outlinewidth": 0,
              "ticks": ""
             }
            },
            "type": "scattergeo"
           }
          ],
          "scattergl": [
           {
            "marker": {
             "colorbar": {
              "outlinewidth": 0,
              "ticks": ""
             }
            },
            "type": "scattergl"
           }
          ],
          "scattermapbox": [
           {
            "marker": {
             "colorbar": {
              "outlinewidth": 0,
              "ticks": ""
             }
            },
            "type": "scattermapbox"
           }
          ],
          "scatterpolar": [
           {
            "marker": {
             "colorbar": {
              "outlinewidth": 0,
              "ticks": ""
             }
            },
            "type": "scatterpolar"
           }
          ],
          "scatterpolargl": [
           {
            "marker": {
             "colorbar": {
              "outlinewidth": 0,
              "ticks": ""
             }
            },
            "type": "scatterpolargl"
           }
          ],
          "scatterternary": [
           {
            "marker": {
             "colorbar": {
              "outlinewidth": 0,
              "ticks": ""
             }
            },
            "type": "scatterternary"
           }
          ],
          "surface": [
           {
            "colorbar": {
             "outlinewidth": 0,
             "ticks": ""
            },
            "colorscale": [
             [
              0,
              "#0d0887"
             ],
             [
              0.1111111111111111,
              "#46039f"
             ],
             [
              0.2222222222222222,
              "#7201a8"
             ],
             [
              0.3333333333333333,
              "#9c179e"
             ],
             [
              0.4444444444444444,
              "#bd3786"
             ],
             [
              0.5555555555555556,
              "#d8576b"
             ],
             [
              0.6666666666666666,
              "#ed7953"
             ],
             [
              0.7777777777777778,
              "#fb9f3a"
             ],
             [
              0.8888888888888888,
              "#fdca26"
             ],
             [
              1,
              "#f0f921"
             ]
            ],
            "type": "surface"
           }
          ],
          "table": [
           {
            "cells": {
             "fill": {
              "color": "#EBF0F8"
             },
             "line": {
              "color": "white"
             }
            },
            "header": {
             "fill": {
              "color": "#C8D4E3"
             },
             "line": {
              "color": "white"
             }
            },
            "type": "table"
           }
          ]
         },
         "layout": {
          "annotationdefaults": {
           "arrowcolor": "#2a3f5f",
           "arrowhead": 0,
           "arrowwidth": 1
          },
          "coloraxis": {
           "colorbar": {
            "outlinewidth": 0,
            "ticks": ""
           }
          },
          "colorscale": {
           "diverging": [
            [
             0,
             "#8e0152"
            ],
            [
             0.1,
             "#c51b7d"
            ],
            [
             0.2,
             "#de77ae"
            ],
            [
             0.3,
             "#f1b6da"
            ],
            [
             0.4,
             "#fde0ef"
            ],
            [
             0.5,
             "#f7f7f7"
            ],
            [
             0.6,
             "#e6f5d0"
            ],
            [
             0.7,
             "#b8e186"
            ],
            [
             0.8,
             "#7fbc41"
            ],
            [
             0.9,
             "#4d9221"
            ],
            [
             1,
             "#276419"
            ]
           ],
           "sequential": [
            [
             0,
             "#0d0887"
            ],
            [
             0.1111111111111111,
             "#46039f"
            ],
            [
             0.2222222222222222,
             "#7201a8"
            ],
            [
             0.3333333333333333,
             "#9c179e"
            ],
            [
             0.4444444444444444,
             "#bd3786"
            ],
            [
             0.5555555555555556,
             "#d8576b"
            ],
            [
             0.6666666666666666,
             "#ed7953"
            ],
            [
             0.7777777777777778,
             "#fb9f3a"
            ],
            [
             0.8888888888888888,
             "#fdca26"
            ],
            [
             1,
             "#f0f921"
            ]
           ],
           "sequentialminus": [
            [
             0,
             "#0d0887"
            ],
            [
             0.1111111111111111,
             "#46039f"
            ],
            [
             0.2222222222222222,
             "#7201a8"
            ],
            [
             0.3333333333333333,
             "#9c179e"
            ],
            [
             0.4444444444444444,
             "#bd3786"
            ],
            [
             0.5555555555555556,
             "#d8576b"
            ],
            [
             0.6666666666666666,
             "#ed7953"
            ],
            [
             0.7777777777777778,
             "#fb9f3a"
            ],
            [
             0.8888888888888888,
             "#fdca26"
            ],
            [
             1,
             "#f0f921"
            ]
           ]
          },
          "colorway": [
           "#636efa",
           "#EF553B",
           "#00cc96",
           "#ab63fa",
           "#FFA15A",
           "#19d3f3",
           "#FF6692",
           "#B6E880",
           "#FF97FF",
           "#FECB52"
          ],
          "font": {
           "color": "#2a3f5f"
          },
          "geo": {
           "bgcolor": "white",
           "lakecolor": "white",
           "landcolor": "#E5ECF6",
           "showlakes": true,
           "showland": true,
           "subunitcolor": "white"
          },
          "hoverlabel": {
           "align": "left"
          },
          "hovermode": "closest",
          "mapbox": {
           "style": "light"
          },
          "paper_bgcolor": "white",
          "plot_bgcolor": "#E5ECF6",
          "polar": {
           "angularaxis": {
            "gridcolor": "white",
            "linecolor": "white",
            "ticks": ""
           },
           "bgcolor": "#E5ECF6",
           "radialaxis": {
            "gridcolor": "white",
            "linecolor": "white",
            "ticks": ""
           }
          },
          "scene": {
           "xaxis": {
            "backgroundcolor": "#E5ECF6",
            "gridcolor": "white",
            "gridwidth": 2,
            "linecolor": "white",
            "showbackground": true,
            "ticks": "",
            "zerolinecolor": "white"
           },
           "yaxis": {
            "backgroundcolor": "#E5ECF6",
            "gridcolor": "white",
            "gridwidth": 2,
            "linecolor": "white",
            "showbackground": true,
            "ticks": "",
            "zerolinecolor": "white"
           },
           "zaxis": {
            "backgroundcolor": "#E5ECF6",
            "gridcolor": "white",
            "gridwidth": 2,
            "linecolor": "white",
            "showbackground": true,
            "ticks": "",
            "zerolinecolor": "white"
           }
          },
          "shapedefaults": {
           "line": {
            "color": "#2a3f5f"
           }
          },
          "ternary": {
           "aaxis": {
            "gridcolor": "white",
            "linecolor": "white",
            "ticks": ""
           },
           "baxis": {
            "gridcolor": "white",
            "linecolor": "white",
            "ticks": ""
           },
           "bgcolor": "#E5ECF6",
           "caxis": {
            "gridcolor": "white",
            "linecolor": "white",
            "ticks": ""
           }
          },
          "title": {
           "x": 0.05
          },
          "xaxis": {
           "automargin": true,
           "gridcolor": "white",
           "linecolor": "white",
           "ticks": "",
           "title": {
            "standoff": 15
           },
           "zerolinecolor": "white",
           "zerolinewidth": 2
          },
          "yaxis": {
           "automargin": true,
           "gridcolor": "white",
           "linecolor": "white",
           "ticks": "",
           "title": {
            "standoff": 15
           },
           "zerolinecolor": "white",
           "zerolinewidth": 2
          }
         }
        },
        "title": {
         "text": "2D Cluster PCA Plot"
        },
        "xaxis": {
         "anchor": "y",
         "domain": [
          0,
          1
         ],
         "title": {
          "text": "PCA1"
         }
        },
        "yaxis": {
         "anchor": "x",
         "domain": [
          0,
          1
         ],
         "title": {
          "text": "PCA2"
         }
        }
       }
      },
      "text/html": [
       "<div>                            <div id=\"3e1b3554-2b94-4851-9393-73f81a02a5bc\" class=\"plotly-graph-div\" style=\"height:600px; width:100%;\"></div>            <script type=\"text/javascript\">                require([\"plotly\"], function(Plotly) {                    window.PLOTLYENV=window.PLOTLYENV || {};                                    if (document.getElementById(\"3e1b3554-2b94-4851-9393-73f81a02a5bc\")) {                    Plotly.newPlot(                        \"3e1b3554-2b94-4851-9393-73f81a02a5bc\",                        [{\"customdata\": [[\"Peru\"], [\"Jamaica\"], [\"Cote d'Ivoire\"], [\"St. Kitts and Nevis\"], [\"Korea, Rep.\"], [\"Burkina Faso\"], [\"Tajikistan\"], [\"Morocco\"], [\"Djibouti\"], [\"Dominica\"], [\"Mozambique\"], [\"Azerbaijan\"], [\"Tonga\"], [\"Botswana\"], [\"Mali\"], [\"Ethiopia\"], [\"Mauritania\"], [\"Central African Republic\"], [\"Mexico\"], [\"Late-demographic dividend\"], [\"Tanzania\"], [\"Antigua and Barbuda\"], [\"Saudi Arabia\"], [\"Vietnam\"], [\"Egypt, Arab Rep.\"], [\"Nepal\"], [\"Grenada\"], [\"Bolivia\"], [\"Suriname\"], [\"Cameroon\"], [\"Chad\"], [\"Paraguay\"], [\"Mauritius\"], [\"Guyana\"], [\"Trinidad and Tobago\"], [\"Russian Federation\"], [\"Seychelles\"], [\"Dominican Republic\"], [\"Pacific island small states\"], [\"Sub-Saharan Africa\"], [\"Yemen, Rep.\"], [\"Bahamas, The\"], [\"Romania\"], [\"Togo\"], [\"China\"], [\"Cabo Verde\"], [\"Uzbekistan\"]], \"hovertemplate\": \"Cluster=Cluster 0<br>PCA1=%{x}<br>PCA2=%{y}<br>Feature=%{customdata[0]}<extra></extra>\", \"legendgroup\": \"Cluster 0\", \"marker\": {\"color\": \"#636efa\", \"opacity\": 0.5, \"symbol\": \"circle\"}, \"mode\": \"markers\", \"name\": \"Cluster 0\", \"orientation\": \"v\", \"showlegend\": true, \"textposition\": \"top center\", \"type\": \"scatter\", \"x\": [-2.2161469037179824, -1.6838962972659721, -1.3643516453234412, -2.141577204635166, -0.7397484885287862, -1.7061405161888832, -0.8561767475850498, -1.7345674954449313, -2.7604170577581124, -1.2638169948975626, -1.5732894683360097, -1.328854185757758, -2.7631604709191113, -0.5828651549517728, -2.4069571879217904, -2.8219870449050855, -3.118852570628949, -2.6681385296710327, -0.9139190478976904, -1.469313803492645, -1.8212971557520181, -1.9433771816151981, -3.0893793367134776, -1.2065516436460473, -2.1296155200345166, -2.136005148078389, -1.043665456166865, -1.2930614155259597, -1.23141330829657, -2.9804700914147633, -2.2570276985716378, -1.6291475591694138, -3.2063678595538807, -2.157126240843935, -2.070628198327268, -1.7737633448783525, -2.22564464732194, -1.6772896356911262, -1.4865589361593181, -1.643176752565529, -1.6792869052079258, -1.3921741019217782, -1.851043475758827, -2.0029288703800034, -2.845017913539545, -2.544823384101144, -1.0361940372378], \"xaxis\": \"x\", \"y\": [0.25424415795621297, 0.06937568015402533, 0.1996559224621899, -0.15684677926112284, -1.2857308528597897, -1.223815358479945, -0.9845964883349181, -0.4043148076847221, 0.6573158078388648, 0.17848937055684988, 0.24434457594265085, -0.19473994471269465, -0.40224173088383885, 0.31549305819282875, 1.1120504443670785, 0.571815246980333, 0.8384586768849762, -0.03541215519978728, 0.01075071289153934, 0.1685746677399966, 0.8674904179226735, 0.45132560156693796, -0.3836861918138595, -0.29344145538775207, 0.49816803763790407, -0.633689992081394, 0.5435659805112227, -0.5192877054399174, 0.3947180296429258, 0.06539134509786622, 1.2431625258074683, -0.904043130635924, -1.100474526920118, -0.15767423853671958, -0.7209916985116674, 0.25659687473923587, 0.3023697546903932, -0.6150892782198396, 0.35321117729090323, 0.41246664741034117, 0.5874052899349956, -0.7712986819724067, 0.16747164720444097, -1.5866345590748154, -0.09555547160527283, -0.03091303628865442, -0.18588124396630268], \"yaxis\": \"y\"}, {\"customdata\": [[\"Malta\"], [\"Andorra\"], [\"Post-demographic dividend\"], [\"El Salvador\"], [\"Comoros\"], [\"Iceland\"], [\"Portugal\"], [\"Brazil\"], [\"Uruguay\"], [\"Moldova\"], [\"New Zealand\"], [\"Namibia\"], [\"Austria\"], [\"Kiribati\"], [\"Serbia\"], [\"Maldives\"], [\"Lebanon\"], [\"Slovenia\"], [\"Australia\"], [\"Germany\"], [\"Japan\"], [\"Italy\"], [\"Norway\"], [\"Cuba\"], [\"Canada\"], [\"Micronesia, Fed. Sts.\"], [\"Afghanistan\"], [\"Netherlands\"], [\"Jordan\"], [\"Sao Tome and Principe\"], [\"Palau\"], [\"United Kingdom\"], [\"Finland\"], [\"Georgia\"], [\"Switzerland\"], [\"Ireland\"], [\"Sweden\"], [\"Bosnia and Herzegovina\"], [\"Burundi\"]], \"hovertemplate\": \"Cluster=Cluster 1<br>PCA1=%{x}<br>PCA2=%{y}<br>Feature=%{customdata[0]}<extra></extra>\", \"legendgroup\": \"Cluster 1\", \"marker\": {\"color\": \"#EF553B\", \"opacity\": 0.5, \"symbol\": \"circle\"}, \"mode\": \"markers\", \"name\": \"Cluster 1\", \"orientation\": \"v\", \"showlegend\": true, \"textposition\": \"top center\", \"type\": \"scatter\", \"x\": [3.368941656479802, 4.886806294935236, 8.179791038349487, 2.923721097020589, 4.608502721458151, 3.931088791134402, 4.557204834206158, 3.3306007613360245, 4.5491156489212585, 2.875093978171364, 3.993507233621423, 5.388085204565903, 5.755362443767671, 6.983124457712823, 3.7726002400328134, 3.7069148186683645, 3.256962604293681, 3.1218896189520158, 3.4184398630657937, 6.770506499254239, 4.413094468886457, 3.5961621730289304, 4.178968470546997, 5.586481421335544, 5.539101088177392, 8.530154881918419, 5.360823811399914, 5.2233816319782695, 3.5650336118943478, 3.4973401338486023, 6.397433290168212, 2.815313083741837, 3.4116823658619606, 3.224436946616483, 7.358646876990122, 3.276716028793379, 4.825875056719491, 4.164458533602463, 3.145195075010867], \"xaxis\": \"x\", \"y\": [-0.3904723123800121, -0.33384706552923693, -0.8431657814291755, 1.0782176840574824, 2.5732425916683814, 1.2354439021192842, 0.2493865282381624, 0.4247339890653906, 1.2304862153364562, -1.0918072141677309, -0.5928313007474861, 1.187771601388192, -0.02202422765339815, 2.0635260125067485, -0.35669375822507177, 0.040699530962132274, 1.554824975680849, 0.020301174449112534, -0.25455973821776884, -0.04278735071357051, -1.720450762265573, -0.19910676418611087, -0.22215990763876417, -2.2692886002017087, -0.5290201402708261, -1.1800518473482378, 0.5329627697688502, -0.6789149299865928, 1.6025290097491094, 3.60173264093522, -1.2981339115365047, -1.3809838895500341, -0.7846657612164434, 0.1361052708259572, -0.08669206774121277, -1.1789163210580562, -1.3363169683890475, -0.33076041179345333, -0.1962176239766622], \"yaxis\": \"y\"}, {\"customdata\": [[\"Nauru\"], [\"United States\"], [\"Tuvalu\"]], \"hovertemplate\": \"Cluster=Cluster 2<br>PCA1=%{x}<br>PCA2=%{y}<br>Feature=%{customdata[0]}<extra></extra>\", \"legendgroup\": \"Cluster 2\", \"marker\": {\"color\": \"#00cc96\", \"opacity\": 0.5, \"symbol\": \"circle\"}, \"mode\": \"markers\", \"name\": \"Cluster 2\", \"orientation\": \"v\", \"showlegend\": true, \"textposition\": \"top center\", \"type\": \"scatter\", \"x\": [10.436290587678638, 14.400636729579043, 14.22697801717902], \"xaxis\": \"x\", \"y\": [4.26107619887019, -1.036739645209529, 0.16086618704661634], \"yaxis\": \"y\"}, {\"customdata\": [[\"Kyrgyz Republic\"], [\"Ukraine\"], [\"Malawi\"], [\"Venezuela, RB\"], [\"Colombia\"], [\"Turkmenistan\"], [\"Haiti\"], [\"Hungary\"], [\"Luxembourg\"], [\"Costa Rica\"], [\"South Africa\"], [\"North Macedonia\"], [\"Tunisia\"], [\"Cambodia\"], [\"Croatia\"], [\"Ecuador\"], [\"Lithuania\"], [\"Solomon Islands\"], [\"Slovak Republic\"], [\"Guatemala\"], [\"Bulgaria\"], [\"Eswatini\"], [\"Cyprus\"], [\"Iran, Islamic Rep.\"], [\"Honduras\"], [\"Poland\"], [\"San Marino\"], [\"Czech Republic\"], [\"Liberia\"], [\"Guinea-Bissau\"]], \"hovertemplate\": \"Cluster=Cluster 3<br>PCA1=%{x}<br>PCA2=%{y}<br>Feature=%{customdata[0]}<extra></extra>\", \"legendgroup\": \"Cluster 3\", \"marker\": {\"color\": \"#ab63fa\", \"opacity\": 0.5, \"symbol\": \"circle\"}, \"mode\": \"markers\", \"name\": \"Cluster 3\", \"orientation\": \"v\", \"showlegend\": true, \"textposition\": \"top center\", \"type\": \"scatter\", \"x\": [0.663114400845277, 0.3778047083507621, 1.6474160324505602, 0.25659866997540737, 0.595991467435546, 0.8032867327850277, 1.4088510825276, 1.7540062834842252, 0.278337233601437, 1.7847050357615444, 1.7058288037912828, 1.6068069031646555, -0.38383784695594, 0.7817854260578894, 1.42647464415864, 0.500294491513068, 0.043761408072976224, 1.6496065659520869, 0.8386822654400959, -0.030158076759255074, 1.5346552755298435, 1.5659928835404504, -0.2046112057673603, -0.13629518494199253, 2.517486255173262, -0.12896307172107757, -0.15339753904339987, 0.7987754514032263, 2.01469049066622, 1.6659445599375458], \"xaxis\": \"x\", \"y\": [-0.851729298567723, -0.29100611266072196, -2.923610606307528, 2.0678680144596484, -0.4794819879295285, 2.115534440854705, -1.2614564455113757, 0.5612793574136375, 0.9328467387011251, -0.3085202932843235, -0.19372702593894942, 1.8792285376425606, -0.69178541770455, 0.4327845498145345, 0.21826384331480103, -2.166576409174784, 0.02225960228509587, 2.3105434810057863, -0.615483506992053, 0.6060879341411104, -0.34997968497252857, -0.6055009111153079, -0.5410083094496931, -1.295475283974971, -0.5776648297931575, -0.05621627882976246, -1.4077647277766896, -0.42296149980248066, -2.589773260780487, 0.21463265811578053], \"yaxis\": \"y\"}, {\"customdata\": [[\"Congo, Dem. Rep.\"], [\"Fiji\"], [\"Mongolia\"], [\"Eritrea\"], [\"Sri Lanka\"], [\"Thailand\"], [\"Kazakhstan\"], [\"Kuwait\"], [\"Brunei Darussalam\"], [\"Nigeria\"], [\"Malaysia\"], [\"Lao PDR\"], [\"United Arab Emirates\"], [\"Bhutan\"], [\"Oman\"], [\"Equatorial Guinea\"], [\"Pakistan\"], [\"Myanmar\"], [\"Papua New Guinea\"], [\"India\"], [\"South Asia\"], [\"Bahrain\"], [\"Guinea\"], [\"Benin\"], [\"Vanuatu\"], [\"Congo, Rep.\"], [\"Angola\"], [\"Bangladesh\"], [\"Philippines\"], [\"Qatar\"], [\"Singapore\"], [\"Gabon\"], [\"Monaco\"]], \"hovertemplate\": \"Cluster=Cluster 4<br>PCA1=%{x}<br>PCA2=%{y}<br>Feature=%{customdata[0]}<extra></extra>\", \"legendgroup\": \"Cluster 4\", \"marker\": {\"color\": \"#FFA15A\", \"opacity\": 0.5, \"symbol\": \"circle\"}, \"mode\": \"markers\", \"name\": \"Cluster 4\", \"orientation\": \"v\", \"showlegend\": true, \"textposition\": \"top center\", \"type\": \"scatter\", \"x\": [-3.7471155444805406, -4.2097837866642545, -3.3632456044239976, -3.3311218744148436, -3.5820702670861464, -4.4143156866049935, -4.5737310349078335, -4.9254736393092475, -6.230375524849406, -3.9518826176442863, -4.6454424182904335, -4.946949824142146, -4.91678205606209, -3.728790584967013, -5.006353666625636, -6.5294791721760275, -5.5062703200438206, -5.6225678820398, -5.899162703635611, -3.9590420294256505, -4.177389639976268, -3.624011270379191, -3.932809196596483, -3.3917669752319166, -4.246932156565983, -6.0877466364239465, -5.019810042660644, -6.080324459589517, -3.6518101825082616, -6.035186537598756, -4.284911774410798, -5.068420215478083, -6.577810277818449], \"xaxis\": \"x\", \"y\": [-0.14309610389781924, 0.10270623968198529, 0.2771659550886189, 1.635909026630759, 0.46041245002760234, -0.12349366030167395, 0.6707917652532233, -0.17747913134386223, 0.33142663053590454, 0.4116174874945182, -0.4083614328693513, 1.24322546915059, -0.5902751504850717, 0.8640361714435103, -0.13852645587106385, -0.042594855596049266, 0.21564445880004837, -1.0130090753664331, 0.01295062962284943, 0.5885125676173034, 0.4525120425157933, -0.34757982431344686, -0.34017562155338565, 0.37042399581620106, 0.05290729679346243, -0.33858990094009284, 0.6637481675963872, -0.08786194114683399, -0.5939735891748711, 0.2885093412107976, -0.218268177976568, 0.5198239623599715, -0.00549630877450858], \"yaxis\": \"y\"}],                        {\"height\": 600, \"legend\": {\"title\": {\"text\": \"Cluster\"}, \"tracegroupgap\": 0}, \"margin\": {\"t\": 60}, \"plot_bgcolor\": \"rgb(240,240,240)\", \"template\": {\"data\": {\"bar\": [{\"error_x\": {\"color\": \"#2a3f5f\"}, \"error_y\": {\"color\": \"#2a3f5f\"}, \"marker\": {\"line\": {\"color\": \"#E5ECF6\", \"width\": 0.5}}, \"type\": \"bar\"}], \"barpolar\": [{\"marker\": {\"line\": {\"color\": \"#E5ECF6\", \"width\": 0.5}}, \"type\": \"barpolar\"}], \"carpet\": [{\"aaxis\": {\"endlinecolor\": \"#2a3f5f\", \"gridcolor\": \"white\", \"linecolor\": \"white\", \"minorgridcolor\": \"white\", \"startlinecolor\": \"#2a3f5f\"}, \"baxis\": {\"endlinecolor\": \"#2a3f5f\", \"gridcolor\": \"white\", \"linecolor\": \"white\", \"minorgridcolor\": \"white\", \"startlinecolor\": \"#2a3f5f\"}, \"type\": \"carpet\"}], \"choropleth\": [{\"colorbar\": {\"outlinewidth\": 0, \"ticks\": \"\"}, \"type\": \"choropleth\"}], \"contour\": [{\"colorbar\": {\"outlinewidth\": 0, \"ticks\": \"\"}, \"colorscale\": [[0.0, \"#0d0887\"], [0.1111111111111111, \"#46039f\"], [0.2222222222222222, \"#7201a8\"], [0.3333333333333333, \"#9c179e\"], [0.4444444444444444, \"#bd3786\"], [0.5555555555555556, \"#d8576b\"], [0.6666666666666666, \"#ed7953\"], [0.7777777777777778, \"#fb9f3a\"], [0.8888888888888888, \"#fdca26\"], [1.0, \"#f0f921\"]], \"type\": \"contour\"}], \"contourcarpet\": [{\"colorbar\": {\"outlinewidth\": 0, \"ticks\": \"\"}, \"type\": \"contourcarpet\"}], \"heatmap\": [{\"colorbar\": {\"outlinewidth\": 0, \"ticks\": \"\"}, \"colorscale\": [[0.0, \"#0d0887\"], [0.1111111111111111, \"#46039f\"], [0.2222222222222222, \"#7201a8\"], [0.3333333333333333, \"#9c179e\"], [0.4444444444444444, \"#bd3786\"], [0.5555555555555556, \"#d8576b\"], [0.6666666666666666, \"#ed7953\"], [0.7777777777777778, \"#fb9f3a\"], [0.8888888888888888, \"#fdca26\"], [1.0, \"#f0f921\"]], \"type\": \"heatmap\"}], \"heatmapgl\": [{\"colorbar\": {\"outlinewidth\": 0, \"ticks\": \"\"}, \"colorscale\": [[0.0, \"#0d0887\"], [0.1111111111111111, \"#46039f\"], [0.2222222222222222, \"#7201a8\"], [0.3333333333333333, \"#9c179e\"], [0.4444444444444444, \"#bd3786\"], [0.5555555555555556, \"#d8576b\"], [0.6666666666666666, \"#ed7953\"], [0.7777777777777778, \"#fb9f3a\"], [0.8888888888888888, \"#fdca26\"], [1.0, \"#f0f921\"]], \"type\": \"heatmapgl\"}], \"histogram\": [{\"marker\": {\"colorbar\": {\"outlinewidth\": 0, \"ticks\": \"\"}}, \"type\": \"histogram\"}], \"histogram2d\": [{\"colorbar\": {\"outlinewidth\": 0, \"ticks\": \"\"}, \"colorscale\": [[0.0, \"#0d0887\"], [0.1111111111111111, \"#46039f\"], [0.2222222222222222, \"#7201a8\"], [0.3333333333333333, \"#9c179e\"], [0.4444444444444444, \"#bd3786\"], [0.5555555555555556, \"#d8576b\"], [0.6666666666666666, \"#ed7953\"], [0.7777777777777778, \"#fb9f3a\"], [0.8888888888888888, \"#fdca26\"], [1.0, \"#f0f921\"]], \"type\": \"histogram2d\"}], \"histogram2dcontour\": [{\"colorbar\": {\"outlinewidth\": 0, \"ticks\": \"\"}, \"colorscale\": [[0.0, \"#0d0887\"], [0.1111111111111111, \"#46039f\"], [0.2222222222222222, \"#7201a8\"], [0.3333333333333333, \"#9c179e\"], [0.4444444444444444, \"#bd3786\"], [0.5555555555555556, \"#d8576b\"], [0.6666666666666666, \"#ed7953\"], [0.7777777777777778, \"#fb9f3a\"], [0.8888888888888888, \"#fdca26\"], [1.0, \"#f0f921\"]], \"type\": \"histogram2dcontour\"}], \"mesh3d\": [{\"colorbar\": {\"outlinewidth\": 0, \"ticks\": \"\"}, \"type\": \"mesh3d\"}], \"parcoords\": [{\"line\": {\"colorbar\": {\"outlinewidth\": 0, \"ticks\": \"\"}}, \"type\": \"parcoords\"}], \"pie\": [{\"automargin\": true, \"type\": \"pie\"}], \"scatter\": [{\"marker\": {\"colorbar\": {\"outlinewidth\": 0, \"ticks\": \"\"}}, \"type\": \"scatter\"}], \"scatter3d\": [{\"line\": {\"colorbar\": {\"outlinewidth\": 0, \"ticks\": \"\"}}, \"marker\": {\"colorbar\": {\"outlinewidth\": 0, \"ticks\": \"\"}}, \"type\": \"scatter3d\"}], \"scattercarpet\": [{\"marker\": {\"colorbar\": {\"outlinewidth\": 0, \"ticks\": \"\"}}, \"type\": \"scattercarpet\"}], \"scattergeo\": [{\"marker\": {\"colorbar\": {\"outlinewidth\": 0, \"ticks\": \"\"}}, \"type\": \"scattergeo\"}], \"scattergl\": [{\"marker\": {\"colorbar\": {\"outlinewidth\": 0, \"ticks\": \"\"}}, \"type\": \"scattergl\"}], \"scattermapbox\": [{\"marker\": {\"colorbar\": {\"outlinewidth\": 0, \"ticks\": \"\"}}, \"type\": \"scattermapbox\"}], \"scatterpolar\": [{\"marker\": {\"colorbar\": {\"outlinewidth\": 0, \"ticks\": \"\"}}, \"type\": \"scatterpolar\"}], \"scatterpolargl\": [{\"marker\": {\"colorbar\": {\"outlinewidth\": 0, \"ticks\": \"\"}}, \"type\": \"scatterpolargl\"}], \"scatterternary\": [{\"marker\": {\"colorbar\": {\"outlinewidth\": 0, \"ticks\": \"\"}}, \"type\": \"scatterternary\"}], \"surface\": [{\"colorbar\": {\"outlinewidth\": 0, \"ticks\": \"\"}, \"colorscale\": [[0.0, \"#0d0887\"], [0.1111111111111111, \"#46039f\"], [0.2222222222222222, \"#7201a8\"], [0.3333333333333333, \"#9c179e\"], [0.4444444444444444, \"#bd3786\"], [0.5555555555555556, \"#d8576b\"], [0.6666666666666666, \"#ed7953\"], [0.7777777777777778, \"#fb9f3a\"], [0.8888888888888888, \"#fdca26\"], [1.0, \"#f0f921\"]], \"type\": \"surface\"}], \"table\": [{\"cells\": {\"fill\": {\"color\": \"#EBF0F8\"}, \"line\": {\"color\": \"white\"}}, \"header\": {\"fill\": {\"color\": \"#C8D4E3\"}, \"line\": {\"color\": \"white\"}}, \"type\": \"table\"}]}, \"layout\": {\"annotationdefaults\": {\"arrowcolor\": \"#2a3f5f\", \"arrowhead\": 0, \"arrowwidth\": 1}, \"coloraxis\": {\"colorbar\": {\"outlinewidth\": 0, \"ticks\": \"\"}}, \"colorscale\": {\"diverging\": [[0, \"#8e0152\"], [0.1, \"#c51b7d\"], [0.2, \"#de77ae\"], [0.3, \"#f1b6da\"], [0.4, \"#fde0ef\"], [0.5, \"#f7f7f7\"], [0.6, \"#e6f5d0\"], [0.7, \"#b8e186\"], [0.8, \"#7fbc41\"], [0.9, \"#4d9221\"], [1, \"#276419\"]], \"sequential\": [[0.0, \"#0d0887\"], [0.1111111111111111, \"#46039f\"], [0.2222222222222222, \"#7201a8\"], [0.3333333333333333, \"#9c179e\"], [0.4444444444444444, \"#bd3786\"], [0.5555555555555556, \"#d8576b\"], [0.6666666666666666, \"#ed7953\"], [0.7777777777777778, \"#fb9f3a\"], [0.8888888888888888, \"#fdca26\"], [1.0, \"#f0f921\"]], \"sequentialminus\": [[0.0, \"#0d0887\"], [0.1111111111111111, \"#46039f\"], [0.2222222222222222, \"#7201a8\"], [0.3333333333333333, \"#9c179e\"], [0.4444444444444444, \"#bd3786\"], [0.5555555555555556, \"#d8576b\"], [0.6666666666666666, \"#ed7953\"], [0.7777777777777778, \"#fb9f3a\"], [0.8888888888888888, \"#fdca26\"], [1.0, \"#f0f921\"]]}, \"colorway\": [\"#636efa\", \"#EF553B\", \"#00cc96\", \"#ab63fa\", \"#FFA15A\", \"#19d3f3\", \"#FF6692\", \"#B6E880\", \"#FF97FF\", \"#FECB52\"], \"font\": {\"color\": \"#2a3f5f\"}, \"geo\": {\"bgcolor\": \"white\", \"lakecolor\": \"white\", \"landcolor\": \"#E5ECF6\", \"showlakes\": true, \"showland\": true, \"subunitcolor\": \"white\"}, \"hoverlabel\": {\"align\": \"left\"}, \"hovermode\": \"closest\", \"mapbox\": {\"style\": \"light\"}, \"paper_bgcolor\": \"white\", \"plot_bgcolor\": \"#E5ECF6\", \"polar\": {\"angularaxis\": {\"gridcolor\": \"white\", \"linecolor\": \"white\", \"ticks\": \"\"}, \"bgcolor\": \"#E5ECF6\", \"radialaxis\": {\"gridcolor\": \"white\", \"linecolor\": \"white\", \"ticks\": \"\"}}, \"scene\": {\"xaxis\": {\"backgroundcolor\": \"#E5ECF6\", \"gridcolor\": \"white\", \"gridwidth\": 2, \"linecolor\": \"white\", \"showbackground\": true, \"ticks\": \"\", \"zerolinecolor\": \"white\"}, \"yaxis\": {\"backgroundcolor\": \"#E5ECF6\", \"gridcolor\": \"white\", \"gridwidth\": 2, \"linecolor\": \"white\", \"showbackground\": true, \"ticks\": \"\", \"zerolinecolor\": \"white\"}, \"zaxis\": {\"backgroundcolor\": \"#E5ECF6\", \"gridcolor\": \"white\", \"gridwidth\": 2, \"linecolor\": \"white\", \"showbackground\": true, \"ticks\": \"\", \"zerolinecolor\": \"white\"}}, \"shapedefaults\": {\"line\": {\"color\": \"#2a3f5f\"}}, \"ternary\": {\"aaxis\": {\"gridcolor\": \"white\", \"linecolor\": \"white\", \"ticks\": \"\"}, \"baxis\": {\"gridcolor\": \"white\", \"linecolor\": \"white\", \"ticks\": \"\"}, \"bgcolor\": \"#E5ECF6\", \"caxis\": {\"gridcolor\": \"white\", \"linecolor\": \"white\", \"ticks\": \"\"}}, \"title\": {\"x\": 0.05}, \"xaxis\": {\"automargin\": true, \"gridcolor\": \"white\", \"linecolor\": \"white\", \"ticks\": \"\", \"title\": {\"standoff\": 15}, \"zerolinecolor\": \"white\", \"zerolinewidth\": 2}, \"yaxis\": {\"automargin\": true, \"gridcolor\": \"white\", \"linecolor\": \"white\", \"ticks\": \"\", \"title\": {\"standoff\": 15}, \"zerolinecolor\": \"white\", \"zerolinewidth\": 2}}}, \"title\": {\"text\": \"2D Cluster PCA Plot\"}, \"xaxis\": {\"anchor\": \"y\", \"domain\": [0.0, 1.0], \"title\": {\"text\": \"PCA1\"}}, \"yaxis\": {\"anchor\": \"x\", \"domain\": [0.0, 1.0], \"title\": {\"text\": \"PCA2\"}}},                        {\"responsive\": true}                    ).then(function(){\n",
       "                            \n",
       "var gd = document.getElementById('3e1b3554-2b94-4851-9393-73f81a02a5bc');\n",
       "var x = new MutationObserver(function (mutations, observer) {{\n",
       "        var display = window.getComputedStyle(gd).display;\n",
       "        if (!display || display === 'none') {{\n",
       "            console.log([gd, 'removed!']);\n",
       "            Plotly.purge(gd);\n",
       "            observer.disconnect();\n",
       "        }}\n",
       "}});\n",
       "\n",
       "// Listen for the removal of the full notebook cells\n",
       "var notebookContainer = gd.closest('#notebook-container');\n",
       "if (notebookContainer) {{\n",
       "    x.observe(notebookContainer, {childList: true});\n",
       "}}\n",
       "\n",
       "// Listen for the clearing of the current output cell\n",
       "var outputEl = gd.closest('.output');\n",
       "if (outputEl) {{\n",
       "    x.observe(outputEl, {childList: true});\n",
       "}}\n",
       "\n",
       "                        })                };                });            </script>        </div>"
      ]
     },
     "metadata": {},
     "output_type": "display_data"
    }
   ],
   "source": [
    "plot_model(kmeans)"
   ]
  },
  {
   "cell_type": "markdown",
   "metadata": {},
   "source": [
    "### Elbow Plot"
   ]
  },
  {
   "cell_type": "code",
   "execution_count": 10,
   "metadata": {},
   "outputs": [
    {
     "data": {
      "text/html": [
       "        <script type=\"text/javascript\">\n",
       "        window.PlotlyConfig = {MathJaxConfig: 'local'};\n",
       "        if (window.MathJax) {MathJax.Hub.Config({SVG: {font: \"STIX-Web\"}});}\n",
       "        if (typeof require !== 'undefined') {\n",
       "        require.undef(\"plotly\");\n",
       "        requirejs.config({\n",
       "            paths: {\n",
       "                'plotly': ['https://cdn.plot.ly/plotly-latest.min']\n",
       "            }\n",
       "        });\n",
       "        require(['plotly'], function(Plotly) {\n",
       "            window._Plotly = Plotly;\n",
       "        });\n",
       "        }\n",
       "        </script>\n",
       "        "
      ]
     },
     "metadata": {},
     "output_type": "display_data"
    },
    {
     "data": {
      "image/png": "[encoded data removed]",
      "text/plain": [
       "<Figure size 576x396 with 1 Axes>"
      ]
     },
     "metadata": {},
     "output_type": "display_data"
    }
   ],
   "source": [
    "plot_model(kmeans, plot = 'elbow')"
   ]
  },
  {
   "cell_type": "markdown",
   "metadata": {},
   "source": [
    "### Silhouette Plot"
   ]
  },
  {
   "cell_type": "code",
   "execution_count": 11,
   "metadata": {},
   "outputs": [
    {
     "data": {
      "text/html": [
       "        <script type=\"text/javascript\">\n",
       "        window.PlotlyConfig = {MathJaxConfig: 'local'};\n",
       "        if (window.MathJax) {MathJax.Hub.Config({SVG: {font: \"STIX-Web\"}});}\n",
       "        if (typeof require !== 'undefined') {\n",
       "        require.undef(\"plotly\");\n",
       "        requirejs.config({\n",
       "            paths: {\n",
       "                'plotly': ['https://cdn.plot.ly/plotly-latest.min']\n",
       "            }\n",
       "        });\n",
       "        require(['plotly'], function(Plotly) {\n",
       "            window._Plotly = Plotly;\n",
       "        });\n",
       "        }\n",
       "        </script>\n",
       "        "
      ]
     },
     "metadata": {},
     "output_type": "display_data"
    },
    {
     "data": {
      "image/png": "[encoded data removed]",
      "text/plain": [
       "<Figure size 576x396 with 1 Axes>"
      ]
     },
     "metadata": {},
     "output_type": "display_data"
    }
   ],
   "source": [
    "plot_model(kmeans, plot = 'silhouette')"
   ]
  },
  {
   "cell_type": "markdown",
   "metadata": {},
   "source": [
    "### Observations\n",
    "- Countries like Nepal, Morocco, Bolivia etc are in cluster 0\n",
    "\n",
    "- Countries like Brazil, Portugal, Norway etc. are present in Cluster 1\n",
    "\n",
    "- Countries like US, Tuvalu, Nauru are present in Cluster 2\n",
    "\n",
    "- Countries like Ukraine, Czech Republic, Colombo etc. are present in Cluster 3\n",
    "\n",
    "- Countries like Oman, Pakistan, UAE etc. are present in Cluster 4\n",
    "\n",
    "- From the Elbow plot we can observe that no. of clusters = 5 is best in this case"
   ]
  },
  {
   "cell_type": "markdown",
   "metadata": {},
   "source": [
    "## 10.0 Predict on unseen data"
   ]
  },
  {
   "cell_type": "markdown",
   "metadata": {},
   "source": [
    "The predict_model() function is used to assign cluster labels to a new unseen dataset. We will now use our kmeans model to predict the data stored in data_unseen. "
   ]
  },
  {
   "cell_type": "code",
   "execution_count": 12,
   "metadata": {},
   "outputs": [
    {
     "data": {
      "text/html": [
       "<div>\n",
       "<style scoped>\n",
       "    .dataframe tbody tr th:only-of-type {\n",
       "        vertical-align: middle;\n",
       "    }\n",
       "\n",
       "    .dataframe tbody tr th {\n",
       "        vertical-align: top;\n",
       "    }\n",
       "\n",
       "    .dataframe thead th {\n",
       "        text-align: right;\n",
       "    }\n",
       "</style>\n",
       "<table border=\"1\" class=\"dataframe\">\n",
       "  <thead>\n",
       "    <tr style=\"text-align: right;\">\n",
       "      <th></th>\n",
       "      <th>Country</th>\n",
       "      <th>2000</th>\n",
       "      <th>2001</th>\n",
       "      <th>2002</th>\n",
       "      <th>2003</th>\n",
       "      <th>2004</th>\n",
       "      <th>2005</th>\n",
       "      <th>2006</th>\n",
       "      <th>2007</th>\n",
       "      <th>2008</th>\n",
       "      <th>2009</th>\n",
       "      <th>2010</th>\n",
       "      <th>2011</th>\n",
       "      <th>2012</th>\n",
       "      <th>2013</th>\n",
       "      <th>2014</th>\n",
       "      <th>2015</th>\n",
       "      <th>2016</th>\n",
       "      <th>2017</th>\n",
       "      <th>Cluster</th>\n",
       "    </tr>\n",
       "  </thead>\n",
       "  <tbody>\n",
       "    <tr>\n",
       "      <th>0</th>\n",
       "      <td>Solomon Islands</td>\n",
       "      <td>0.0525</td>\n",
       "      <td>0.0704</td>\n",
       "      <td>0.1077</td>\n",
       "      <td>0.0793</td>\n",
       "      <td>0.0859</td>\n",
       "      <td>0.1014</td>\n",
       "      <td>0.0928</td>\n",
       "      <td>0.0875</td>\n",
       "      <td>0.0807</td>\n",
       "      <td>0.0790</td>\n",
       "      <td>0.0726</td>\n",
       "      <td>0.0710</td>\n",
       "      <td>0.0559</td>\n",
       "      <td>0.0550</td>\n",
       "      <td>0.0588</td>\n",
       "      <td>0.0525</td>\n",
       "      <td>0.0517</td>\n",
       "      <td>0.0468</td>\n",
       "      <td>Cluster 3</td>\n",
       "    </tr>\n",
       "    <tr>\n",
       "      <th>1</th>\n",
       "      <td>Sierra Leone</td>\n",
       "      <td>0.1152</td>\n",
       "      <td>0.1097</td>\n",
       "      <td>0.1142</td>\n",
       "      <td>0.1083</td>\n",
       "      <td>0.1096</td>\n",
       "      <td>0.1104</td>\n",
       "      <td>0.1039</td>\n",
       "      <td>0.1004</td>\n",
       "      <td>0.0987</td>\n",
       "      <td>0.1110</td>\n",
       "      <td>0.1094</td>\n",
       "      <td>0.1328</td>\n",
       "      <td>0.1059</td>\n",
       "      <td>0.1157</td>\n",
       "      <td>0.1973</td>\n",
       "      <td>0.2041</td>\n",
       "      <td>0.1653</td>\n",
       "      <td>0.1342</td>\n",
       "      <td>Cluster 2</td>\n",
       "    </tr>\n",
       "    <tr>\n",
       "      <th>2</th>\n",
       "      <td>El Salvador</td>\n",
       "      <td>0.0892</td>\n",
       "      <td>0.0882</td>\n",
       "      <td>0.0878</td>\n",
       "      <td>0.0841</td>\n",
       "      <td>0.0850</td>\n",
       "      <td>0.0844</td>\n",
       "      <td>0.0792</td>\n",
       "      <td>0.0764</td>\n",
       "      <td>0.0766</td>\n",
       "      <td>0.0840</td>\n",
       "      <td>0.0824</td>\n",
       "      <td>0.0814</td>\n",
       "      <td>0.0754</td>\n",
       "      <td>0.0772</td>\n",
       "      <td>0.0768</td>\n",
       "      <td>0.0763</td>\n",
       "      <td>0.0772</td>\n",
       "      <td>0.0723</td>\n",
       "      <td>Cluster 1</td>\n",
       "    </tr>\n",
       "    <tr>\n",
       "      <th>3</th>\n",
       "      <td>San Marino</td>\n",
       "      <td>0.0528</td>\n",
       "      <td>0.0512</td>\n",
       "      <td>0.0497</td>\n",
       "      <td>0.0438</td>\n",
       "      <td>0.0491</td>\n",
       "      <td>0.0493</td>\n",
       "      <td>0.0499</td>\n",
       "      <td>0.0514</td>\n",
       "      <td>0.0545</td>\n",
       "      <td>0.0628</td>\n",
       "      <td>0.0662</td>\n",
       "      <td>0.0744</td>\n",
       "      <td>0.0801</td>\n",
       "      <td>0.0773</td>\n",
       "      <td>0.0757</td>\n",
       "      <td>0.0735</td>\n",
       "      <td>0.0683</td>\n",
       "      <td>0.0736</td>\n",
       "      <td>Cluster 3</td>\n",
       "    </tr>\n",
       "    <tr>\n",
       "      <th>4</th>\n",
       "      <td>Serbia</td>\n",
       "      <td>0.0650</td>\n",
       "      <td>0.0687</td>\n",
       "      <td>0.0807</td>\n",
       "      <td>0.0814</td>\n",
       "      <td>0.0825</td>\n",
       "      <td>0.0828</td>\n",
       "      <td>0.0849</td>\n",
       "      <td>0.0938</td>\n",
       "      <td>0.0948</td>\n",
       "      <td>0.0935</td>\n",
       "      <td>0.0953</td>\n",
       "      <td>0.0911</td>\n",
       "      <td>0.0933</td>\n",
       "      <td>0.0931</td>\n",
       "      <td>0.0925</td>\n",
       "      <td>0.0882</td>\n",
       "      <td>0.0865</td>\n",
       "      <td>0.0843</td>\n",
       "      <td>Cluster 1</td>\n",
       "    </tr>\n",
       "  </tbody>\n",
       "</table>\n",
       "</div>"
      ],
      "text/plain": [
       "           Country    2000    2001    2002    2003    2004    2005    2006  \\\n",
       "0  Solomon Islands  0.0525  0.0704  0.1077  0.0793  0.0859  0.1014  0.0928   \n",
       "1     Sierra Leone  0.1152  0.1097  0.1142  0.1083  0.1096  0.1104  0.1039   \n",
       "2      El Salvador  0.0892  0.0882  0.0878  0.0841  0.0850  0.0844  0.0792   \n",
       "3       San Marino  0.0528  0.0512  0.0497  0.0438  0.0491  0.0493  0.0499   \n",
       "4           Serbia  0.0650  0.0687  0.0807  0.0814  0.0825  0.0828  0.0849   \n",
       "\n",
       "     2007    2008    2009    2010    2011    2012    2013    2014    2015  \\\n",
       "0  0.0875  0.0807  0.0790  0.0726  0.0710  0.0559  0.0550  0.0588  0.0525   \n",
       "1  0.1004  0.0987  0.1110  0.1094  0.1328  0.1059  0.1157  0.1973  0.2041   \n",
       "2  0.0764  0.0766  0.0840  0.0824  0.0814  0.0754  0.0772  0.0768  0.0763   \n",
       "3  0.0514  0.0545  0.0628  0.0662  0.0744  0.0801  0.0773  0.0757  0.0735   \n",
       "4  0.0938  0.0948  0.0935  0.0953  0.0911  0.0933  0.0931  0.0925  0.0882   \n",
       "\n",
       "     2016    2017    Cluster  \n",
       "0  0.0517  0.0468  Cluster 3  \n",
       "1  0.1653  0.1342  Cluster 2  \n",
       "2  0.0772  0.0723  Cluster 1  \n",
       "3  0.0683  0.0736  Cluster 3  \n",
       "4  0.0865  0.0843  Cluster 1  "
      ]
     },
     "execution_count": 12,
     "metadata": {},
     "output_type": "execute_result"
    }
   ],
   "source": [
    "unseen_predictions = predict_model(kmeans, data=data_unseen)\n",
    "unseen_predictions.head()"
   ]
  },
  {
   "cell_type": "markdown",
   "metadata": {},
   "source": [
    "## 11.0 Saving the model"
   ]
  },
  {
   "cell_type": "code",
   "execution_count": 13,
   "metadata": {},
   "outputs": [
    {
     "name": "stdout",
     "output_type": "stream",
     "text": [
      "Transformation Pipeline and Model Succesfully Saved\n"
     ]
    }
   ],
   "source": [
    "save_model(kmeans,'Final Kmeans')"
   ]
  },
  {
   "cell_type": "markdown",
   "metadata": {},
   "source": [
    "## 12.0 Loading the saved model"
   ]
  },
  {
   "cell_type": "markdown",
   "metadata": {},
   "source": [
    "To load a saved model at a future date in the same or an alternative environment, we would use PyCaret's load_model() function and then easily apply the saved model on new unseen data for prediction."
   ]
  },
  {
   "cell_type": "code",
   "execution_count": 14,
   "metadata": {},
   "outputs": [
    {
     "name": "stdout",
     "output_type": "stream",
     "text": [
      "Transformation Pipeline and Model Successfully Loaded\n"
     ]
    }
   ],
   "source": [
    "saved_kmeans = load_model('Final Kmeans')"
   ]
  },
  {
   "cell_type": "markdown",
   "metadata": {},
   "source": [
    "Once the model is loaded in the environment, you can simply use it to predict on any new data using the same predict_model() function."
   ]
  },
  {
   "cell_type": "code",
   "execution_count": 15,
   "metadata": {},
   "outputs": [],
   "source": [
    "new_prediction = predict_model(saved_kmeans, data=data_unseen)"
   ]
  },
  {
   "cell_type": "code",
   "execution_count": 16,
   "metadata": {},
   "outputs": [
    {
     "data": {
      "text/html": [
       "<div>\n",
       "<style scoped>\n",
       "    .dataframe tbody tr th:only-of-type {\n",
       "        vertical-align: middle;\n",
       "    }\n",
       "\n",
       "    .dataframe tbody tr th {\n",
       "        vertical-align: top;\n",
       "    }\n",
       "\n",
       "    .dataframe thead th {\n",
       "        text-align: right;\n",
       "    }\n",
       "</style>\n",
       "<table border=\"1\" class=\"dataframe\">\n",
       "  <thead>\n",
       "    <tr style=\"text-align: right;\">\n",
       "      <th></th>\n",
       "      <th>Country</th>\n",
       "      <th>2000</th>\n",
       "      <th>2001</th>\n",
       "      <th>2002</th>\n",
       "      <th>2003</th>\n",
       "      <th>2004</th>\n",
       "      <th>2005</th>\n",
       "      <th>2006</th>\n",
       "      <th>2007</th>\n",
       "      <th>2008</th>\n",
       "      <th>2009</th>\n",
       "      <th>2010</th>\n",
       "      <th>2011</th>\n",
       "      <th>2012</th>\n",
       "      <th>2013</th>\n",
       "      <th>2014</th>\n",
       "      <th>2015</th>\n",
       "      <th>2016</th>\n",
       "      <th>2017</th>\n",
       "      <th>Cluster</th>\n",
       "    </tr>\n",
       "  </thead>\n",
       "  <tbody>\n",
       "    <tr>\n",
       "      <th>0</th>\n",
       "      <td>Solomon Islands</td>\n",
       "      <td>0.0525</td>\n",
       "      <td>0.0704</td>\n",
       "      <td>0.1077</td>\n",
       "      <td>0.0793</td>\n",
       "      <td>0.0859</td>\n",
       "      <td>0.1014</td>\n",
       "      <td>0.0928</td>\n",
       "      <td>0.0875</td>\n",
       "      <td>0.0807</td>\n",
       "      <td>0.0790</td>\n",
       "      <td>0.0726</td>\n",
       "      <td>0.0710</td>\n",
       "      <td>0.0559</td>\n",
       "      <td>0.0550</td>\n",
       "      <td>0.0588</td>\n",
       "      <td>0.0525</td>\n",
       "      <td>0.0517</td>\n",
       "      <td>0.0468</td>\n",
       "      <td>Cluster 3</td>\n",
       "    </tr>\n",
       "    <tr>\n",
       "      <th>1</th>\n",
       "      <td>Sierra Leone</td>\n",
       "      <td>0.1152</td>\n",
       "      <td>0.1097</td>\n",
       "      <td>0.1142</td>\n",
       "      <td>0.1083</td>\n",
       "      <td>0.1096</td>\n",
       "      <td>0.1104</td>\n",
       "      <td>0.1039</td>\n",
       "      <td>0.1004</td>\n",
       "      <td>0.0987</td>\n",
       "      <td>0.1110</td>\n",
       "      <td>0.1094</td>\n",
       "      <td>0.1328</td>\n",
       "      <td>0.1059</td>\n",
       "      <td>0.1157</td>\n",
       "      <td>0.1973</td>\n",
       "      <td>0.2041</td>\n",
       "      <td>0.1653</td>\n",
       "      <td>0.1342</td>\n",
       "      <td>Cluster 2</td>\n",
       "    </tr>\n",
       "    <tr>\n",
       "      <th>2</th>\n",
       "      <td>El Salvador</td>\n",
       "      <td>0.0892</td>\n",
       "      <td>0.0882</td>\n",
       "      <td>0.0878</td>\n",
       "      <td>0.0841</td>\n",
       "      <td>0.0850</td>\n",
       "      <td>0.0844</td>\n",
       "      <td>0.0792</td>\n",
       "      <td>0.0764</td>\n",
       "      <td>0.0766</td>\n",
       "      <td>0.0840</td>\n",
       "      <td>0.0824</td>\n",
       "      <td>0.0814</td>\n",
       "      <td>0.0754</td>\n",
       "      <td>0.0772</td>\n",
       "      <td>0.0768</td>\n",
       "      <td>0.0763</td>\n",
       "      <td>0.0772</td>\n",
       "      <td>0.0723</td>\n",
       "      <td>Cluster 1</td>\n",
       "    </tr>\n",
       "    <tr>\n",
       "      <th>3</th>\n",
       "      <td>San Marino</td>\n",
       "      <td>0.0528</td>\n",
       "      <td>0.0512</td>\n",
       "      <td>0.0497</td>\n",
       "      <td>0.0438</td>\n",
       "      <td>0.0491</td>\n",
       "      <td>0.0493</td>\n",
       "      <td>0.0499</td>\n",
       "      <td>0.0514</td>\n",
       "      <td>0.0545</td>\n",
       "      <td>0.0628</td>\n",
       "      <td>0.0662</td>\n",
       "      <td>0.0744</td>\n",
       "      <td>0.0801</td>\n",
       "      <td>0.0773</td>\n",
       "      <td>0.0757</td>\n",
       "      <td>0.0735</td>\n",
       "      <td>0.0683</td>\n",
       "      <td>0.0736</td>\n",
       "      <td>Cluster 3</td>\n",
       "    </tr>\n",
       "    <tr>\n",
       "      <th>4</th>\n",
       "      <td>Serbia</td>\n",
       "      <td>0.0650</td>\n",
       "      <td>0.0687</td>\n",
       "      <td>0.0807</td>\n",
       "      <td>0.0814</td>\n",
       "      <td>0.0825</td>\n",
       "      <td>0.0828</td>\n",
       "      <td>0.0849</td>\n",
       "      <td>0.0938</td>\n",
       "      <td>0.0948</td>\n",
       "      <td>0.0935</td>\n",
       "      <td>0.0953</td>\n",
       "      <td>0.0911</td>\n",
       "      <td>0.0933</td>\n",
       "      <td>0.0931</td>\n",
       "      <td>0.0925</td>\n",
       "      <td>0.0882</td>\n",
       "      <td>0.0865</td>\n",
       "      <td>0.0843</td>\n",
       "      <td>Cluster 1</td>\n",
       "    </tr>\n",
       "  </tbody>\n",
       "</table>\n",
       "</div>"
      ],
      "text/plain": [
       "           Country    2000    2001    2002    2003    2004    2005    2006  \\\n",
       "0  Solomon Islands  0.0525  0.0704  0.1077  0.0793  0.0859  0.1014  0.0928   \n",
       "1     Sierra Leone  0.1152  0.1097  0.1142  0.1083  0.1096  0.1104  0.1039   \n",
       "2      El Salvador  0.0892  0.0882  0.0878  0.0841  0.0850  0.0844  0.0792   \n",
       "3       San Marino  0.0528  0.0512  0.0497  0.0438  0.0491  0.0493  0.0499   \n",
       "4           Serbia  0.0650  0.0687  0.0807  0.0814  0.0825  0.0828  0.0849   \n",
       "\n",
       "     2007    2008    2009    2010    2011    2012    2013    2014    2015  \\\n",
       "0  0.0875  0.0807  0.0790  0.0726  0.0710  0.0559  0.0550  0.0588  0.0525   \n",
       "1  0.1004  0.0987  0.1110  0.1094  0.1328  0.1059  0.1157  0.1973  0.2041   \n",
       "2  0.0764  0.0766  0.0840  0.0824  0.0814  0.0754  0.0772  0.0768  0.0763   \n",
       "3  0.0514  0.0545  0.0628  0.0662  0.0744  0.0801  0.0773  0.0757  0.0735   \n",
       "4  0.0938  0.0948  0.0935  0.0953  0.0911  0.0933  0.0931  0.0925  0.0882   \n",
       "\n",
       "     2016    2017    Cluster  \n",
       "0  0.0517  0.0468  Cluster 3  \n",
       "1  0.1653  0.1342  Cluster 2  \n",
       "2  0.0772  0.0723  Cluster 1  \n",
       "3  0.0683  0.0736  Cluster 3  \n",
       "4  0.0865  0.0843  Cluster 1  "
      ]
     },
     "execution_count": 16,
     "metadata": {},
     "output_type": "execute_result"
    }
   ],
   "source": [
    "new_prediction.head()"
   ]
  },
  {
   "cell_type": "markdown",
   "metadata": {},
   "source": [
    "Notice that the results of unseen_predictions and new_prediction are identical."
   ]
  },
  {
   "cell_type": "markdown",
   "metadata": {},
   "source": [
    "## 13.0 Demonstration in PowerBI"
   ]
  },
  {
   "cell_type": "markdown",
   "metadata": {},
   "source": [
    "### 13.0.1 Installation of Power BI"
   ]
  },
  {
   "cell_type": "markdown",
   "metadata": {},
   "source": [
    "- Please [click here](https://docs.microsoft.com/en-us/power-bi/fundamentals/desktop-get-the-desktop) to know how to install Power BI Desktop in your PC "
   ]
  },
  {
   "cell_type": "markdown",
   "metadata": {},
   "source": [
    "### 13.0.2 Introduction to Power BI "
   ]
  },
  {
   "cell_type": "markdown",
   "metadata": {},
   "source": [
    "Power BI is a Data Visualization and Business Intelligence tool that converts data from different data sources to interactive dashboards and BI reports"
   ]
  },
  {
   "cell_type": "markdown",
   "metadata": {},
   "source": [
    "<center><img src=\"https://senturus.com/wp-content/uploads/2016/05/Power-BI.jpg\" width=\"500\" height=\"100\" /></center>"
   ]
  },
  {
   "cell_type": "markdown",
   "metadata": {},
   "source": [
    "#### Let's have a look at how Power BI works in Microsoft Power BI Desktop "
   ]
  },
  {
   "cell_type": "markdown",
   "metadata": {},
   "source": [
    "### 13.0.3 Working on Power BI Service"
   ]
  },
  {
   "cell_type": "markdown",
   "metadata": {},
   "source": [
    "Once you’ve uploaded the .pbix file to the Power BI service, a couple more steps are necessary to enable seamless integration of the machine learning pipeline into your data pipeline. \n",
    "\n",
    "These include:\n",
    "\n",
    "- **Enable scheduled refresh for the dataset** — to enable a scheduled refresh for the workbook that contains your dataset with Python scripts, see [Configuring scheduled refresh](https://docs.microsoft.com/en-us/power-bi/connect-data/refresh-scheduled-refresh), which also includes information about Personal Gateway.\n",
    "\n",
    "\n",
    "- **Install the Personal Gateway** — you need a Personal Gateway installed on the machine where the file is located, and where Python is installed; the Power BI service must have access to that Python environment. You can get more information on [how to install and configure Personal Gateway](https://docs.microsoft.com/en-us/power-bi/connect-data/service-gateway-personal-mode)."
   ]
  },
  {
   "cell_type": "markdown",
   "metadata": {},
   "source": [
    "## 14.0 Conclusions"
   ]
  },
  {
   "cell_type": "markdown",
   "metadata": {},
   "source": [
    "-  PyCaret is a very useful library that can help you save an ample amount of time taking into account that you have a basic understanding of the concepts in machine learning \n",
    "\n",
    "\n",
    "- PyCaret is very easy to use\n",
    "\n",
    "\n",
    "- Power BI helps in getting insights from the data very easily "
   ]
  }
 ],
 "metadata": {
  "kernelspec": {
   "display_name": "Python 3",
   "language": "python",
   "name": "python3"
  },
  "language_info": {
   "codemirror_mode": {
    "name": "ipython",
    "version": 3
   },
   "file_extension": ".py",
   "mimetype": "text/x-python",
   "name": "python",
   "nbconvert_exporter": "python",
   "pygments_lexer": "ipython3",
   "version": "3.6.7"
  }
 },
 "nbformat": 4,
 "nbformat_minor": 2
}
