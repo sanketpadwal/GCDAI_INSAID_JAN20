{
  "nbformat": 4,
  "nbformat_minor": 0,
  "metadata": {
    "colab": {
      "name": "Sweetviz.ipynb",
      "provenance": [],
      "collapsed_sections": [],
      "authorship_tag": "ABX9TyMLKd+NbpZvYlng9bPZN/Np",
      "include_colab_link": true
    },
    "kernelspec": {
      "name": "python3",
      "display_name": "Python 3"
    },
    "widgets": {
      "application/vnd.jupyter.widget-state+json": {
        "38182c8f580c4fdd8bb39d03b734c5b3": {
          "model_module": "@jupyter-widgets/controls",
          "model_name": "HBoxModel",
          "state": {
            "_view_name": "HBoxView",
            "_dom_classes": [],
            "_model_name": "HBoxModel",
            "_view_module": "@jupyter-widgets/controls",
            "_model_module_version": "1.5.0",
            "_view_count": null,
            "_view_module_version": "1.5.0",
            "box_style": "",
            "layout": "IPY_MODEL_6054c79f83cf448196306193547c4c5e",
            "_model_module": "@jupyter-widgets/controls",
            "children": [
              "IPY_MODEL_fce5e0187f424e5681d89be8e828e6a2",
              "IPY_MODEL_1962069d898a412dad8c3c898f3b0d37",
              "IPY_MODEL_e9501d17860846f78dfeb2732ca896d4"
            ]
          }
        },
        "6054c79f83cf448196306193547c4c5e": {
          "model_module": "@jupyter-widgets/base",
          "model_name": "LayoutModel",
          "state": {
            "_view_name": "LayoutView",
            "grid_template_rows": null,
            "right": null,
            "justify_content": null,
            "_view_module": "@jupyter-widgets/base",
            "overflow": null,
            "_model_module_version": "1.2.0",
            "_view_count": null,
            "flex_flow": "row wrap",
            "width": "100%",
            "min_width": null,
            "border": null,
            "align_items": null,
            "bottom": null,
            "_model_module": "@jupyter-widgets/base",
            "top": null,
            "grid_column": null,
            "overflow_y": null,
            "overflow_x": null,
            "grid_auto_flow": null,
            "grid_area": null,
            "grid_template_columns": null,
            "flex": null,
            "_model_name": "LayoutModel",
            "justify_items": null,
            "grid_row": null,
            "max_height": null,
            "align_content": null,
            "visibility": null,
            "align_self": null,
            "height": null,
            "min_height": null,
            "padding": null,
            "grid_auto_rows": null,
            "grid_gap": null,
            "max_width": null,
            "order": null,
            "_view_module_version": "1.2.0",
            "grid_template_areas": null,
            "object_position": null,
            "object_fit": null,
            "grid_auto_columns": null,
            "margin": null,
            "display": "inline-flex",
            "left": null
          }
        },
        "fce5e0187f424e5681d89be8e828e6a2": {
          "model_module": "@jupyter-widgets/controls",
          "model_name": "HTMLModel",
          "state": {
            "_view_name": "HTMLView",
            "style": "IPY_MODEL_bde260ff961e42b3ae5307cb5154dccd",
            "_dom_classes": [],
            "description": "",
            "_model_name": "HTMLModel",
            "placeholder": "​",
            "_view_module": "@jupyter-widgets/controls",
            "_model_module_version": "1.5.0",
            "value": "Done! Use &#x27;show&#x27; commands to display/save.   ",
            "_view_count": null,
            "_view_module_version": "1.5.0",
            "description_tooltip": null,
            "_model_module": "@jupyter-widgets/controls",
            "layout": "IPY_MODEL_5dbaf4649dd54c119e931fff35edcfe7"
          }
        },
        "1962069d898a412dad8c3c898f3b0d37": {
          "model_module": "@jupyter-widgets/controls",
          "model_name": "FloatProgressModel",
          "state": {
            "_view_name": "ProgressView",
            "style": "IPY_MODEL_e85b0dfe01024f0688b7397b72a271d3",
            "_dom_classes": [],
            "description": "",
            "_model_name": "FloatProgressModel",
            "bar_style": "success",
            "max": 1,
            "_view_module": "@jupyter-widgets/controls",
            "_model_module_version": "1.5.0",
            "value": 1,
            "_view_count": null,
            "_view_module_version": "1.5.0",
            "orientation": "horizontal",
            "min": 0,
            "description_tooltip": null,
            "_model_module": "@jupyter-widgets/controls",
            "layout": "IPY_MODEL_9f43142e6b674b838d91442887622226"
          }
        },
        "e9501d17860846f78dfeb2732ca896d4": {
          "model_module": "@jupyter-widgets/controls",
          "model_name": "HTMLModel",
          "state": {
            "_view_name": "HTMLView",
            "style": "IPY_MODEL_f144f350046641419a2aebc71d87c40e",
            "_dom_classes": [],
            "description": "",
            "_model_name": "HTMLModel",
            "placeholder": "​",
            "_view_module": "@jupyter-widgets/controls",
            "_model_module_version": "1.5.0",
            "value": " [100%]   00:01 -&gt; (00:00 left)",
            "_view_count": null,
            "_view_module_version": "1.5.0",
            "description_tooltip": null,
            "_model_module": "@jupyter-widgets/controls",
            "layout": "IPY_MODEL_5e5631e102094456938274b03ffc97b4"
          }
        },
        "bde260ff961e42b3ae5307cb5154dccd": {
          "model_module": "@jupyter-widgets/controls",
          "model_name": "DescriptionStyleModel",
          "state": {
            "_view_name": "StyleView",
            "_model_name": "DescriptionStyleModel",
            "description_width": "",
            "_view_module": "@jupyter-widgets/base",
            "_model_module_version": "1.5.0",
            "_view_count": null,
            "_view_module_version": "1.2.0",
            "_model_module": "@jupyter-widgets/controls"
          }
        },
        "5dbaf4649dd54c119e931fff35edcfe7": {
          "model_module": "@jupyter-widgets/base",
          "model_name": "LayoutModel",
          "state": {
            "_view_name": "LayoutView",
            "grid_template_rows": null,
            "right": null,
            "justify_content": null,
            "_view_module": "@jupyter-widgets/base",
            "overflow": null,
            "_model_module_version": "1.2.0",
            "_view_count": null,
            "flex_flow": null,
            "width": null,
            "min_width": null,
            "border": null,
            "align_items": null,
            "bottom": null,
            "_model_module": "@jupyter-widgets/base",
            "top": null,
            "grid_column": null,
            "overflow_y": null,
            "overflow_x": null,
            "grid_auto_flow": null,
            "grid_area": null,
            "grid_template_columns": null,
            "flex": null,
            "_model_name": "LayoutModel",
            "justify_items": null,
            "grid_row": null,
            "max_height": null,
            "align_content": null,
            "visibility": null,
            "align_self": null,
            "height": null,
            "min_height": null,
            "padding": null,
            "grid_auto_rows": null,
            "grid_gap": null,
            "max_width": null,
            "order": null,
            "_view_module_version": "1.2.0",
            "grid_template_areas": null,
            "object_position": null,
            "object_fit": null,
            "grid_auto_columns": null,
            "margin": null,
            "display": null,
            "left": null
          }
        },
        "e85b0dfe01024f0688b7397b72a271d3": {
          "model_module": "@jupyter-widgets/controls",
          "model_name": "ProgressStyleModel",
          "state": {
            "_view_name": "StyleView",
            "_model_name": "ProgressStyleModel",
            "description_width": "",
            "_view_module": "@jupyter-widgets/base",
            "_model_module_version": "1.5.0",
            "_view_count": null,
            "_view_module_version": "1.2.0",
            "bar_color": null,
            "_model_module": "@jupyter-widgets/controls"
          }
        },
        "9f43142e6b674b838d91442887622226": {
          "model_module": "@jupyter-widgets/base",
          "model_name": "LayoutModel",
          "state": {
            "_view_name": "LayoutView",
            "grid_template_rows": null,
            "right": null,
            "justify_content": null,
            "_view_module": "@jupyter-widgets/base",
            "overflow": null,
            "_model_module_version": "1.2.0",
            "_view_count": null,
            "flex_flow": null,
            "width": null,
            "min_width": null,
            "border": null,
            "align_items": null,
            "bottom": null,
            "_model_module": "@jupyter-widgets/base",
            "top": null,
            "grid_column": null,
            "overflow_y": null,
            "overflow_x": null,
            "grid_auto_flow": null,
            "grid_area": null,
            "grid_template_columns": null,
            "flex": "2",
            "_model_name": "LayoutModel",
            "justify_items": null,
            "grid_row": null,
            "max_height": null,
            "align_content": null,
            "visibility": null,
            "align_self": null,
            "height": null,
            "min_height": null,
            "padding": null,
            "grid_auto_rows": null,
            "grid_gap": null,
            "max_width": null,
            "order": null,
            "_view_module_version": "1.2.0",
            "grid_template_areas": null,
            "object_position": null,
            "object_fit": null,
            "grid_auto_columns": null,
            "margin": null,
            "display": null,
            "left": null
          }
        },
        "f144f350046641419a2aebc71d87c40e": {
          "model_module": "@jupyter-widgets/controls",
          "model_name": "DescriptionStyleModel",
          "state": {
            "_view_name": "StyleView",
            "_model_name": "DescriptionStyleModel",
            "description_width": "",
            "_view_module": "@jupyter-widgets/base",
            "_model_module_version": "1.5.0",
            "_view_count": null,
            "_view_module_version": "1.2.0",
            "_model_module": "@jupyter-widgets/controls"
          }
        },
        "5e5631e102094456938274b03ffc97b4": {
          "model_module": "@jupyter-widgets/base",
          "model_name": "LayoutModel",
          "state": {
            "_view_name": "LayoutView",
            "grid_template_rows": null,
            "right": null,
            "justify_content": null,
            "_view_module": "@jupyter-widgets/base",
            "overflow": null,
            "_model_module_version": "1.2.0",
            "_view_count": null,
            "flex_flow": null,
            "width": null,
            "min_width": null,
            "border": null,
            "align_items": null,
            "bottom": null,
            "_model_module": "@jupyter-widgets/base",
            "top": null,
            "grid_column": null,
            "overflow_y": null,
            "overflow_x": null,
            "grid_auto_flow": null,
            "grid_area": null,
            "grid_template_columns": null,
            "flex": null,
            "_model_name": "LayoutModel",
            "justify_items": null,
            "grid_row": null,
            "max_height": null,
            "align_content": null,
            "visibility": null,
            "align_self": null,
            "height": null,
            "min_height": null,
            "padding": null,
            "grid_auto_rows": null,
            "grid_gap": null,
            "max_width": null,
            "order": null,
            "_view_module_version": "1.2.0",
            "grid_template_areas": null,
            "object_position": null,
            "object_fit": null,
            "grid_auto_columns": null,
            "margin": null,
            "display": null,
            "left": null
          }
        }
      }
    }
  },
  "cells": [
    {
      "cell_type": "markdown",
      "metadata": {
        "id": "view-in-github",
        "colab_type": "text"
      },
      "source": [
        "<a href=\"https://colab.research.google.com/github/sanketpadwal/GCDAI_INSAID_JAN20/blob/main/Misc/Sweetviz/Sweetviz.ipynb\" target=\"_parent\"><img src=\"https://colab.research.google.com/assets/colab-badge.svg\" alt=\"Open In Colab\"/></a>"
      ]
    },
    {
      "cell_type": "code",
      "metadata": {
        "colab": {
          "base_uri": "https://localhost:8080/"
        },
        "id": "iUoswRzdfq_o",
        "outputId": "873d04f9-d5e9-4d97-cbf8-cdf534decd4b"
      },
      "source": [
        "#Install Sweetviz\n",
        "%%time\n",
        "!pip install -q sweetviz"
      ],
      "execution_count": 1,
      "outputs": [
        {
          "output_type": "stream",
          "text": [
            "\u001b[K     |████████████████████████████████| 15.1MB 316kB/s \n",
            "\u001b[K     |████████████████████████████████| 71kB 8.4MB/s \n",
            "\u001b[?25hCPU times: user 35.4 ms, sys: 13.2 ms, total: 48.6 ms\n",
            "Wall time: 5.06 s\n"
          ],
          "name": "stdout"
        }
      ]
    },
    {
      "cell_type": "code",
      "metadata": {
        "colab": {
          "base_uri": "https://localhost:8080/"
        },
        "id": "s9qndqLLcfHb",
        "outputId": "2f0fa33c-b7d9-4921-ba72-0bfec3410b65"
      },
      "source": [
        "# Import Data from Kaggle\r\n",
        "%%time\r\n",
        "!pip install -q kaggle"
      ],
      "execution_count": 3,
      "outputs": [
        {
          "output_type": "stream",
          "text": [
            "CPU times: user 8.16 ms, sys: 6.33 ms, total: 14.5 ms\n",
            "Wall time: 2.32 s\n"
          ],
          "name": "stdout"
        }
      ]
    },
    {
      "cell_type": "code",
      "metadata": {
        "id": "02crn3iechkl"
      },
      "source": [
        "# Import Libraries\r\n",
        "import json\r\n",
        "import zipfile\r\n",
        "import os"
      ],
      "execution_count": 4,
      "outputs": []
    },
    {
      "cell_type": "code",
      "metadata": {
        "colab": {
          "base_uri": "https://localhost:8080/"
        },
        "id": "-kUW12IWcnMT",
        "outputId": "09bf7a41-6fde-4b20-d398-5204f65a4030"
      },
      "source": [
        "# Download Kaggle.Json on GPU -  remember to delete file once done using it\r\n",
        "api_token = {\"username\":\"<ABC>\",\"key\":\"<key>\"}\r\n",
        "!mkdir -p ~/.kaggle\r\n",
        "with open('kaggle.json', 'w') as file:\r\n",
        "    json.dump(api_token, file)\r\n",
        "!cp kaggle.json ~/.kaggle/\r\n",
        "!ls ~/.kaggle\r\n",
        "!chmod 600 /root/.kaggle/kaggle.json"
      ],
      "execution_count": 5,
      "outputs": [
        {
          "output_type": "stream",
          "text": [
            "kaggle.json\n"
          ],
          "name": "stdout"
        }
      ]
    },
    {
      "cell_type": "code",
      "metadata": {
        "colab": {
          "base_uri": "https://localhost:8080/"
        },
        "id": "elVp3HyjcwX1",
        "outputId": "ad8e8c36-1e3e-4223-b96a-6bf0f2aeddef"
      },
      "source": [
        "# Browse Kaggle Datasets\r\n",
        "!kaggle datasets list"
      ],
      "execution_count": 6,
      "outputs": [
        {
          "output_type": "stream",
          "text": [
            "Warning: Looks like you're using an outdated API Version, please consider updating (server 1.5.10 / client 1.5.4)\n",
            "ref                                                            title                                               size  lastUpdated          downloadCount  \n",
            "-------------------------------------------------------------  -------------------------------------------------  -----  -------------------  -------------  \n",
            "arashnic/hr-analytics-job-change-of-data-scientists            HR Analytics: Job Change of Data Scientists        295KB  2020-12-07 00:25:10           1457  \n",
            "babyoda/access-to-computers-from-home-oecd                     Access to Computers From Home OECD                   3KB  2020-12-04 10:50:09            129  \n",
            "shashwatwork/impact-of-covid19-pandemic-on-the-global-economy  Impact of Covid-19 Pandemic on the Global Economy    1MB  2020-11-29 14:16:30            748  \n",
            "emmanuelleai/world-marathons-majors                            World Marathons Majors                               7KB  2020-12-06 19:24:28            138  \n",
            "mrmorj/dataset-of-songs-in-spotify                             Dataset of songs in Spotify                          3MB  2020-12-06 09:46:55            389  \n",
            "boramalper/scihub-papers                                       Sci-Hub Papers                                       6GB  2020-12-06 04:10:54             11  \n",
            "juicobowley/drake-lyrics                                       Drake Lyrics                                       764KB  2020-11-27 01:00:52             74  \n",
            "kavisekar/oecd-unemployment-rate-2020                          OECD Unemployment rate (2020)                        3KB  2020-12-07 15:37:38            133  \n",
            "kingabzpro/datascience-survey-on-kaggle                        data science survey on Kaggle                      129KB  2020-11-24 19:04:19             85  \n",
            "sakshigoyal7/credit-card-customers                             Credit Card customers                              379KB  2020-11-19 07:38:44          12482  \n",
            "szymonjanowski/internet-articles-data-with-users-engagement    Internet news data with readers engagement           3MB  2020-11-21 17:09:57           3489  \n",
            "sootersaalu/amazon-top-50-bestselling-books-2009-2019          Amazon Top 50 Bestselling Books 2009 - 2019         15KB  2020-10-13 09:39:21          10709  \n",
            "alexgude/california-traffic-collision-data-from-switrs         California Traffic Collision Data from SWITRS        1GB  2020-11-22 16:51:55           2157  \n",
            "babyoda/women-entrepreneurship-and-labor-force                 Women Entrepreneurship and Labor Force               1KB  2020-11-21 08:38:51           5144  \n",
            "shivamb/netflix-shows                                          Netflix Movies and TV Shows                        971KB  2020-01-20 07:33:56          77012  \n",
            "yamaerenay/spotify-dataset-19212020-160k-tracks                Spotify Dataset 1921-2020, 160k+ Tracks             16MB  2020-11-25 21:14:12          13175  \n",
            "patrickb1912/ipl-complete-dataset-20082020                     IPL Complete Dataset (2008-2020)                     1MB  2020-11-23 06:53:37           2749  \n",
            "manchunhui/us-election-2020-tweets                             US Election 2020 Tweets                            353MB  2020-11-09 18:51:59           5456  \n",
            "imoore/2020-us-general-election-turnout-rates                  2020 US General Election Turnout rates               4KB  2020-11-26 00:21:15           3637  \n",
            "google/tinyquickdraw                                           QuickDraw Sketches                                  11GB  2018-04-18 19:38:04           2654  \n"
          ],
          "name": "stdout"
        }
      ]
    },
    {
      "cell_type": "code",
      "metadata": {
        "colab": {
          "base_uri": "https://localhost:8080/"
        },
        "id": "3cFkXdVac0cy",
        "outputId": "7befe6b8-6aa8-470c-adbe-c018f5761273"
      },
      "source": [
        "# Specific dataset search --> keyword time\r\n",
        "!kaggle datasets list -s time"
      ],
      "execution_count": 7,
      "outputs": [
        {
          "output_type": "stream",
          "text": [
            "Warning: Looks like you're using an outdated API Version, please consider updating (server 1.5.10 / client 1.5.4)\n",
            "ref                                                        title                                               size  lastUpdated          downloadCount  \n",
            "---------------------------------------------------------  -------------------------------------------------  -----  -------------------  -------------  \n",
            "ikarus777/best-artworks-of-all-time                        Best Artworks of All Time                            2GB  2019-03-02 09:21:51          11732  \n",
            "rohanrao/chai-time-data-science                            Chai Time Data Science | CTDS.Show                   3MB  2020-07-23 17:23:46            849  \n",
            "zurfer/rtb                                                 Real Time Bidding                                  138MB  2017-02-27 18:21:27           1682  \n",
            "girardi69/marathon-time-predictions                        Marathon time Predictions                            3KB  2017-05-13 09:56:01           1691  \n",
            "szrlee/stock-time-series-20050101-to-20171231              DJIA 30 Stock Time Series                            3MB  2018-01-03 08:29:18          15423  \n",
            "aashita/nyt-comments                                       New York Times Comments                            480MB  2018-05-02 05:05:20          10226  \n",
            "therohk/ireland-historical-news                            Irish Times - Waxy-Wany News                        49MB  2020-09-08 20:34:05           2808  \n",
            "sumanthvrao/daily-climate-time-series-data                 Daily Climate time series data                      22KB  2019-08-23 09:22:09           4112  \n",
            "bls/american-time-use-survey                               American Time Use Survey                           249MB  2017-06-15 16:32:54           2187  \n",
            "atulanandjha/national-stock-exchange-time-series           National Stock Exchange : Time Series               29KB  2019-12-02 23:49:29           1150  \n",
            "census/population-time-series-data                         Population Time Series Data                          8KB  2019-12-06 09:17:36           2852  \n",
            "kazanova/sentiment140                                      Sentiment140 dataset with 1.6 million tweets        81MB  2017-09-13 22:43:19          44809  \n",
            "volpatto/temperature-timeseries-for-some-brazilian-cities  Temperature Time-Series for some Brazilian cities   27KB  2019-12-08 23:15:09           2227  \n",
            "cdeotte/malware-timestamps                                 Malware Timestamps                                 416KB  2019-01-17 14:19:25           1057  \n",
            "crowdflower/twitter-airline-sentiment                      Twitter US Airline Sentiment                         3MB  2019-10-16 00:04:05          48056  \n",
            "cjroth/chronist                                            Emotion, Aging, and Sentiment Over Time             13MB  2017-02-12 22:44:03           1465  \n",
            "htagholdings/property-sales                                House Property Sales Time Series                   162KB  2019-08-12 10:07:10           2597  \n",
            "saurav9786/real-time-advertisers-auction                   Real time Advertiser's Auction                       4MB  2020-06-02 13:45:33            258  \n",
            "omarhanyy/500-greatest-songs-of-all-time                   500 Greatest Songs of All Time                     114KB  2020-11-19 19:08:28           2967  \n",
            "jguerreiro/running                                         Top Running Times                                  252KB  2017-05-19 21:54:30            799  \n"
          ],
          "name": "stdout"
        }
      ]
    },
    {
      "cell_type": "code",
      "metadata": {
        "colab": {
          "base_uri": "https://localhost:8080/"
        },
        "id": "Zs3DlQq7c5Ga",
        "outputId": "a1a6dddd-99c4-4478-f541-5646a78bc2f4"
      },
      "source": [
        "# Download dataset on GPU\r\n",
        "%%time\r\n",
        "!kaggle datasets download -d rohanrao/chai-time-data-science -p /content"
      ],
      "execution_count": 8,
      "outputs": [
        {
          "output_type": "stream",
          "text": [
            "Downloading chai-time-data-science.zip to /content\n",
            "\r  0% 0.00/2.70M [00:00<?, ?B/s]\n",
            "\r100% 2.70M/2.70M [00:00<00:00, 90.8MB/s]\n",
            "CPU times: user 7.94 ms, sys: 4.35 ms, total: 12.3 ms\n",
            "Wall time: 1.12 s\n"
          ],
          "name": "stdout"
        }
      ]
    },
    {
      "cell_type": "code",
      "metadata": {
        "colab": {
          "base_uri": "https://localhost:8080/"
        },
        "id": "EGv4UJZWc9Ez",
        "outputId": "c19af864-9b8f-4377-cd16-682d39d7bf71"
      },
      "source": [
        "# unzip dataset on GPU\r\n",
        "\r\n",
        "%%time\r\n",
        "!unzip \\*.zip"
      ],
      "execution_count": 9,
      "outputs": [
        {
          "output_type": "stream",
          "text": [
            "Archive:  chai-time-data-science.zip\n",
            "  inflating: Anchor Thumbnail Types.csv  \n",
            "  inflating: Cleaned Subtitles/E1.csv  \n",
            "  inflating: Cleaned Subtitles/E10.csv  \n",
            "  inflating: Cleaned Subtitles/E11.csv  \n",
            "  inflating: Cleaned Subtitles/E12.csv  \n",
            "  inflating: Cleaned Subtitles/E13.csv  \n",
            "  inflating: Cleaned Subtitles/E14.csv  \n",
            "  inflating: Cleaned Subtitles/E15.csv  \n",
            "  inflating: Cleaned Subtitles/E16.csv  \n",
            "  inflating: Cleaned Subtitles/E17.csv  \n",
            "  inflating: Cleaned Subtitles/E18.csv  \n",
            "  inflating: Cleaned Subtitles/E19.csv  \n",
            "  inflating: Cleaned Subtitles/E2.csv  \n",
            "  inflating: Cleaned Subtitles/E20.csv  \n",
            "  inflating: Cleaned Subtitles/E21.csv  \n",
            "  inflating: Cleaned Subtitles/E22.csv  \n",
            "  inflating: Cleaned Subtitles/E23.csv  \n",
            "  inflating: Cleaned Subtitles/E24.csv  \n",
            "  inflating: Cleaned Subtitles/E25.csv  \n",
            "  inflating: Cleaned Subtitles/E26.csv  \n",
            "  inflating: Cleaned Subtitles/E27.csv  \n",
            "  inflating: Cleaned Subtitles/E28.csv  \n",
            "  inflating: Cleaned Subtitles/E29.csv  \n",
            "  inflating: Cleaned Subtitles/E3.csv  \n",
            "  inflating: Cleaned Subtitles/E30.csv  \n",
            "  inflating: Cleaned Subtitles/E31.csv  \n",
            "  inflating: Cleaned Subtitles/E32.csv  \n",
            "  inflating: Cleaned Subtitles/E33.csv  \n",
            "  inflating: Cleaned Subtitles/E34.csv  \n",
            "  inflating: Cleaned Subtitles/E35.csv  \n",
            "  inflating: Cleaned Subtitles/E36.csv  \n",
            "  inflating: Cleaned Subtitles/E37.csv  \n",
            "  inflating: Cleaned Subtitles/E38.csv  \n",
            "  inflating: Cleaned Subtitles/E39.csv  \n",
            "  inflating: Cleaned Subtitles/E40.csv  \n",
            "  inflating: Cleaned Subtitles/E41.csv  \n",
            "  inflating: Cleaned Subtitles/E42.csv  \n",
            "  inflating: Cleaned Subtitles/E43.csv  \n",
            "  inflating: Cleaned Subtitles/E44.csv  \n",
            "  inflating: Cleaned Subtitles/E45.csv  \n",
            "  inflating: Cleaned Subtitles/E46.csv  \n",
            "  inflating: Cleaned Subtitles/E47.csv  \n",
            "  inflating: Cleaned Subtitles/E48.csv  \n",
            "  inflating: Cleaned Subtitles/E49.csv  \n",
            "  inflating: Cleaned Subtitles/E5.csv  \n",
            "  inflating: Cleaned Subtitles/E50.csv  \n",
            "  inflating: Cleaned Subtitles/E51.csv  \n",
            "  inflating: Cleaned Subtitles/E52.csv  \n",
            "  inflating: Cleaned Subtitles/E53.csv  \n",
            "  inflating: Cleaned Subtitles/E54.csv  \n",
            "  inflating: Cleaned Subtitles/E55.csv  \n",
            "  inflating: Cleaned Subtitles/E56.csv  \n",
            "  inflating: Cleaned Subtitles/E57.csv  \n",
            "  inflating: Cleaned Subtitles/E58.csv  \n",
            "  inflating: Cleaned Subtitles/E59.csv  \n",
            "  inflating: Cleaned Subtitles/E6.csv  \n",
            "  inflating: Cleaned Subtitles/E60.csv  \n",
            "  inflating: Cleaned Subtitles/E61.csv  \n",
            "  inflating: Cleaned Subtitles/E62.csv  \n",
            "  inflating: Cleaned Subtitles/E63.csv  \n",
            "  inflating: Cleaned Subtitles/E64.csv  \n",
            "  inflating: Cleaned Subtitles/E65.csv  \n",
            "  inflating: Cleaned Subtitles/E66.csv  \n",
            "  inflating: Cleaned Subtitles/E67.csv  \n",
            "  inflating: Cleaned Subtitles/E68.csv  \n",
            "  inflating: Cleaned Subtitles/E69.csv  \n",
            "  inflating: Cleaned Subtitles/E7.csv  \n",
            "  inflating: Cleaned Subtitles/E70.csv  \n",
            "  inflating: Cleaned Subtitles/E71.csv  \n",
            "  inflating: Cleaned Subtitles/E72.csv  \n",
            "  inflating: Cleaned Subtitles/E73.csv  \n",
            "  inflating: Cleaned Subtitles/E74.csv  \n",
            "  inflating: Cleaned Subtitles/E75.csv  \n",
            "  inflating: Cleaned Subtitles/E8.csv  \n",
            "  inflating: Cleaned Subtitles/E9.csv  \n",
            "  inflating: Description.csv         \n",
            "  inflating: Episodes.csv            \n",
            "  inflating: Raw Subtitles/E1.txt    \n",
            "  inflating: Raw Subtitles/E10.txt   \n",
            "  inflating: Raw Subtitles/E11.txt   \n",
            "  inflating: Raw Subtitles/E12.txt   \n",
            "  inflating: Raw Subtitles/E13.txt   \n",
            "  inflating: Raw Subtitles/E14.txt   \n",
            "  inflating: Raw Subtitles/E15.txt   \n",
            "  inflating: Raw Subtitles/E16.txt   \n",
            "  inflating: Raw Subtitles/E17.txt   \n",
            "  inflating: Raw Subtitles/E18.txt   \n",
            "  inflating: Raw Subtitles/E19.txt   \n",
            "  inflating: Raw Subtitles/E2.txt    \n",
            "  inflating: Raw Subtitles/E20.txt   \n",
            "  inflating: Raw Subtitles/E21.txt   \n",
            "  inflating: Raw Subtitles/E22.txt   \n",
            "  inflating: Raw Subtitles/E23.txt   \n",
            "  inflating: Raw Subtitles/E24.txt   \n",
            "  inflating: Raw Subtitles/E25.txt   \n",
            "  inflating: Raw Subtitles/E26.txt   \n",
            "  inflating: Raw Subtitles/E27.txt   \n",
            "  inflating: Raw Subtitles/E28.txt   \n",
            "  inflating: Raw Subtitles/E29.txt   \n",
            "  inflating: Raw Subtitles/E3.txt    \n",
            "  inflating: Raw Subtitles/E30.txt   \n",
            "  inflating: Raw Subtitles/E31.txt   \n",
            "  inflating: Raw Subtitles/E32.txt   \n",
            "  inflating: Raw Subtitles/E33.txt   \n",
            "  inflating: Raw Subtitles/E34.txt   \n",
            "  inflating: Raw Subtitles/E35.txt   \n",
            "  inflating: Raw Subtitles/E36.txt   \n",
            "  inflating: Raw Subtitles/E37.txt   \n",
            "  inflating: Raw Subtitles/E38.txt   \n",
            "  inflating: Raw Subtitles/E39.txt   \n",
            "  inflating: Raw Subtitles/E40.txt   \n",
            "  inflating: Raw Subtitles/E41.txt   \n",
            "  inflating: Raw Subtitles/E42.txt   \n",
            "  inflating: Raw Subtitles/E43.txt   \n",
            "  inflating: Raw Subtitles/E44.txt   \n",
            "  inflating: Raw Subtitles/E45.txt   \n",
            "  inflating: Raw Subtitles/E46.txt   \n",
            "  inflating: Raw Subtitles/E47.txt   \n",
            "  inflating: Raw Subtitles/E48.txt   \n",
            "  inflating: Raw Subtitles/E49.txt   \n",
            "  inflating: Raw Subtitles/E5.txt    \n",
            "  inflating: Raw Subtitles/E50.txt   \n",
            "  inflating: Raw Subtitles/E51.txt   \n",
            "  inflating: Raw Subtitles/E52.txt   \n",
            "  inflating: Raw Subtitles/E53.txt   \n",
            "  inflating: Raw Subtitles/E54.txt   \n",
            "  inflating: Raw Subtitles/E55.txt   \n",
            "  inflating: Raw Subtitles/E56.txt   \n",
            "  inflating: Raw Subtitles/E57.txt   \n",
            "  inflating: Raw Subtitles/E58.txt   \n",
            "  inflating: Raw Subtitles/E59.txt   \n",
            "  inflating: Raw Subtitles/E6.txt    \n",
            "  inflating: Raw Subtitles/E60.txt   \n",
            "  inflating: Raw Subtitles/E61.txt   \n",
            "  inflating: Raw Subtitles/E62.txt   \n",
            "  inflating: Raw Subtitles/E63.txt   \n",
            "  inflating: Raw Subtitles/E64.txt   \n",
            "  inflating: Raw Subtitles/E65.txt   \n",
            "  inflating: Raw Subtitles/E66.txt   \n",
            "  inflating: Raw Subtitles/E67.txt   \n",
            "  inflating: Raw Subtitles/E68.txt   \n",
            "  inflating: Raw Subtitles/E69.txt   \n",
            "  inflating: Raw Subtitles/E7.txt    \n",
            "  inflating: Raw Subtitles/E70.txt   \n",
            "  inflating: Raw Subtitles/E71.txt   \n",
            "  inflating: Raw Subtitles/E72.txt   \n",
            "  inflating: Raw Subtitles/E73.txt   \n",
            "  inflating: Raw Subtitles/E74.txt   \n",
            "  inflating: Raw Subtitles/E75.txt   \n",
            "  inflating: Raw Subtitles/E8.txt    \n",
            "  inflating: Raw Subtitles/E9.txt    \n",
            "  inflating: Results.csv             \n",
            "  inflating: YouTube Thumbnail Types.csv  \n",
            "CPU times: user 5.13 ms, sys: 4.24 ms, total: 9.37 ms\n",
            "Wall time: 217 ms\n"
          ],
          "name": "stdout"
        }
      ]
    },
    {
      "cell_type": "code",
      "metadata": {
        "id": "d4C8wwb2gmOK"
      },
      "source": [
        "# Read data from GPU\n",
        "\n",
        "import pandas as pd\n",
        "data = pd.read_csv(\"Results.csv\")"
      ],
      "execution_count": 10,
      "outputs": []
    },
    {
      "cell_type": "code",
      "metadata": {
        "colab": {
          "base_uri": "https://localhost:8080/",
          "height": 197
        },
        "id": "xH2oea8Mf-d4",
        "outputId": "c63b2eb7-134a-4ba4-9d28-f8f2ae1eb7f6"
      },
      "source": [
        "# Data Preview\r\n",
        "data.head()"
      ],
      "execution_count": 35,
      "outputs": [
        {
          "output_type": "execute_result",
          "data": {
            "text/html": [
              "<div>\n",
              "<style scoped>\n",
              "    .dataframe tbody tr th:only-of-type {\n",
              "        vertical-align: middle;\n",
              "    }\n",
              "\n",
              "    .dataframe tbody tr th {\n",
              "        vertical-align: top;\n",
              "    }\n",
              "\n",
              "    .dataframe thead th {\n",
              "        text-align: right;\n",
              "    }\n",
              "</style>\n",
              "<table border=\"1\" class=\"dataframe\">\n",
              "  <thead>\n",
              "    <tr style=\"text-align: right;\">\n",
              "      <th></th>\n",
              "      <th>Notebook</th>\n",
              "      <th>Author</th>\n",
              "      <th>Presentation</th>\n",
              "      <th>Storytelling</th>\n",
              "      <th>Visualizations</th>\n",
              "      <th>Insights</th>\n",
              "      <th>Innovation</th>\n",
              "      <th>Total</th>\n",
              "    </tr>\n",
              "  </thead>\n",
              "  <tbody>\n",
              "    <tr>\n",
              "      <th>0</th>\n",
              "      <td>Making perfect \"Chai\" and other tales :)</td>\n",
              "      <td>thedatabeast</td>\n",
              "      <td>17.0</td>\n",
              "      <td>18.5</td>\n",
              "      <td>17.5</td>\n",
              "      <td>17.5</td>\n",
              "      <td>17.5</td>\n",
              "      <td>88.0</td>\n",
              "    </tr>\n",
              "    <tr>\n",
              "      <th>1</th>\n",
              "      <td>Fun with Chai Time Data Science Show</td>\n",
              "      <td>ambarish</td>\n",
              "      <td>16.0</td>\n",
              "      <td>14.0</td>\n",
              "      <td>15.5</td>\n",
              "      <td>16.0</td>\n",
              "      <td>15.0</td>\n",
              "      <td>76.5</td>\n",
              "    </tr>\n",
              "    <tr>\n",
              "      <th>2</th>\n",
              "      <td>What's this? Chai and DataScience?</td>\n",
              "      <td>rahulgulia</td>\n",
              "      <td>15.0</td>\n",
              "      <td>14.0</td>\n",
              "      <td>14.0</td>\n",
              "      <td>14.0</td>\n",
              "      <td>14.0</td>\n",
              "      <td>71.0</td>\n",
              "    </tr>\n",
              "    <tr>\n",
              "      <th>3</th>\n",
              "      <td>Does Twitter Chirp Chai?</td>\n",
              "      <td>vrindaprabhu</td>\n",
              "      <td>13.0</td>\n",
              "      <td>15.0</td>\n",
              "      <td>12.0</td>\n",
              "      <td>14.0</td>\n",
              "      <td>16.0</td>\n",
              "      <td>70.0</td>\n",
              "    </tr>\n",
              "    <tr>\n",
              "      <th>4</th>\n",
              "      <td>1 year of CTDS Journey and what we infer</td>\n",
              "      <td>vinothsuku</td>\n",
              "      <td>13.5</td>\n",
              "      <td>13.0</td>\n",
              "      <td>15.5</td>\n",
              "      <td>15.5</td>\n",
              "      <td>12.5</td>\n",
              "      <td>70.0</td>\n",
              "    </tr>\n",
              "  </tbody>\n",
              "</table>\n",
              "</div>"
            ],
            "text/plain": [
              "                                   Notebook        Author  ...  Innovation  Total\n",
              "0  Making perfect \"Chai\" and other tales :)  thedatabeast  ...        17.5   88.0\n",
              "1      Fun with Chai Time Data Science Show      ambarish  ...        15.0   76.5\n",
              "2        What's this? Chai and DataScience?    rahulgulia  ...        14.0   71.0\n",
              "3                  Does Twitter Chirp Chai?  vrindaprabhu  ...        16.0   70.0\n",
              "4  1 year of CTDS Journey and what we infer    vinothsuku  ...        12.5   70.0\n",
              "\n",
              "[5 rows x 8 columns]"
            ]
          },
          "metadata": {
            "tags": []
          },
          "execution_count": 35
        }
      ]
    },
    {
      "cell_type": "code",
      "metadata": {
        "id": "sB0RNoq3ebnv"
      },
      "source": [
        "# split into train test sets\r\n",
        "\r\n",
        "from sklearn.model_selection import train_test_split\r\n",
        "train, test = train_test_split(data,test_size=0.3)"
      ],
      "execution_count": 30,
      "outputs": []
    },
    {
      "cell_type": "code",
      "metadata": {
        "colab": {
          "base_uri": "https://localhost:8080/",
          "height": 1000,
          "referenced_widgets": [
            "38182c8f580c4fdd8bb39d03b734c5b3",
            "6054c79f83cf448196306193547c4c5e",
            "fce5e0187f424e5681d89be8e828e6a2",
            "1962069d898a412dad8c3c898f3b0d37",
            "e9501d17860846f78dfeb2732ca896d4",
            "bde260ff961e42b3ae5307cb5154dccd",
            "5dbaf4649dd54c119e931fff35edcfe7",
            "e85b0dfe01024f0688b7397b72a271d3",
            "9f43142e6b674b838d91442887622226",
            "f144f350046641419a2aebc71d87c40e",
            "5e5631e102094456938274b03ffc97b4"
          ]
        },
        "id": "uuRqYFiueCaH",
        "outputId": "80fad94a-1d88-4ed5-9f72-b5c5f48b480a"
      },
      "source": [
        "# Generate sweetviz report\r\n",
        "\r\n",
        "my_report = sweetviz.compare([train, \"Train\"], [test, \"Test\"], \"Total\")"
      ],
      "execution_count": 33,
      "outputs": [
        {
          "output_type": "display_data",
          "data": {
            "application/vnd.jupyter.widget-view+json": {
              "model_id": "38182c8f580c4fdd8bb39d03b734c5b3",
              "version_minor": 0,
              "version_major": 2
            },
            "text/plain": [
              "                                             |          | [  0%]   00:00 -> (? left)"
            ]
          },
          "metadata": {
            "tags": []
          }
        },
        {
          "output_type": "stream",
          "text": [
            "/usr/local/lib/python3.6/dist-packages/numpy/core/_asarray.py:83: VisibleDeprecationWarning: Creating an ndarray from ragged nested sequences (which is a list-or-tuple of lists-or-tuples-or ndarrays with different lengths or shapes) is deprecated. If you meant to do this, you must specify 'dtype=object' when creating the ndarray\n",
            "  return array(a, dtype, copy=False, order=order)\n",
            "/usr/local/lib/python3.6/dist-packages/numpy/core/_asarray.py:83: VisibleDeprecationWarning: Creating an ndarray from ragged nested sequences (which is a list-or-tuple of lists-or-tuples-or ndarrays with different lengths or shapes) is deprecated. If you meant to do this, you must specify 'dtype=object' when creating the ndarray\n",
            "  return array(a, dtype, copy=False, order=order)\n",
            "/usr/local/lib/python3.6/dist-packages/numpy/core/_asarray.py:83: VisibleDeprecationWarning: Creating an ndarray from ragged nested sequences (which is a list-or-tuple of lists-or-tuples-or ndarrays with different lengths or shapes) is deprecated. If you meant to do this, you must specify 'dtype=object' when creating the ndarray\n",
            "  return array(a, dtype, copy=False, order=order)\n",
            "/usr/local/lib/python3.6/dist-packages/numpy/core/_asarray.py:83: VisibleDeprecationWarning: Creating an ndarray from ragged nested sequences (which is a list-or-tuple of lists-or-tuples-or ndarrays with different lengths or shapes) is deprecated. If you meant to do this, you must specify 'dtype=object' when creating the ndarray\n",
            "  return array(a, dtype, copy=False, order=order)\n",
            "/usr/local/lib/python3.6/dist-packages/numpy/core/_asarray.py:83: VisibleDeprecationWarning: Creating an ndarray from ragged nested sequences (which is a list-or-tuple of lists-or-tuples-or ndarrays with different lengths or shapes) is deprecated. If you meant to do this, you must specify 'dtype=object' when creating the ndarray\n",
            "  return array(a, dtype, copy=False, order=order)\n",
            "/usr/local/lib/python3.6/dist-packages/numpy/core/_asarray.py:83: VisibleDeprecationWarning: Creating an ndarray from ragged nested sequences (which is a list-or-tuple of lists-or-tuples-or ndarrays with different lengths or shapes) is deprecated. If you meant to do this, you must specify 'dtype=object' when creating the ndarray\n",
            "  return array(a, dtype, copy=False, order=order)\n",
            "/usr/local/lib/python3.6/dist-packages/numpy/core/_asarray.py:83: VisibleDeprecationWarning: Creating an ndarray from ragged nested sequences (which is a list-or-tuple of lists-or-tuples-or ndarrays with different lengths or shapes) is deprecated. If you meant to do this, you must specify 'dtype=object' when creating the ndarray\n",
            "  return array(a, dtype, copy=False, order=order)\n",
            "/usr/local/lib/python3.6/dist-packages/numpy/core/_asarray.py:83: VisibleDeprecationWarning: Creating an ndarray from ragged nested sequences (which is a list-or-tuple of lists-or-tuples-or ndarrays with different lengths or shapes) is deprecated. If you meant to do this, you must specify 'dtype=object' when creating the ndarray\n",
            "  return array(a, dtype, copy=False, order=order)\n",
            "/usr/local/lib/python3.6/dist-packages/numpy/core/_asarray.py:83: VisibleDeprecationWarning: Creating an ndarray from ragged nested sequences (which is a list-or-tuple of lists-or-tuples-or ndarrays with different lengths or shapes) is deprecated. If you meant to do this, you must specify 'dtype=object' when creating the ndarray\n",
            "  return array(a, dtype, copy=False, order=order)\n",
            "/usr/local/lib/python3.6/dist-packages/numpy/core/_asarray.py:83: VisibleDeprecationWarning: Creating an ndarray from ragged nested sequences (which is a list-or-tuple of lists-or-tuples-or ndarrays with different lengths or shapes) is deprecated. If you meant to do this, you must specify 'dtype=object' when creating the ndarray\n",
            "  return array(a, dtype, copy=False, order=order)\n",
            "/usr/local/lib/python3.6/dist-packages/numpy/core/_asarray.py:83: VisibleDeprecationWarning: Creating an ndarray from ragged nested sequences (which is a list-or-tuple of lists-or-tuples-or ndarrays with different lengths or shapes) is deprecated. If you meant to do this, you must specify 'dtype=object' when creating the ndarray\n",
            "  return array(a, dtype, copy=False, order=order)\n",
            "/usr/local/lib/python3.6/dist-packages/numpy/core/_asarray.py:83: VisibleDeprecationWarning: Creating an ndarray from ragged nested sequences (which is a list-or-tuple of lists-or-tuples-or ndarrays with different lengths or shapes) is deprecated. If you meant to do this, you must specify 'dtype=object' when creating the ndarray\n",
            "  return array(a, dtype, copy=False, order=order)\n",
            "/usr/local/lib/python3.6/dist-packages/numpy/core/_asarray.py:83: VisibleDeprecationWarning: Creating an ndarray from ragged nested sequences (which is a list-or-tuple of lists-or-tuples-or ndarrays with different lengths or shapes) is deprecated. If you meant to do this, you must specify 'dtype=object' when creating the ndarray\n",
            "  return array(a, dtype, copy=False, order=order)\n",
            "/usr/local/lib/python3.6/dist-packages/numpy/core/_asarray.py:83: VisibleDeprecationWarning: Creating an ndarray from ragged nested sequences (which is a list-or-tuple of lists-or-tuples-or ndarrays with different lengths or shapes) is deprecated. If you meant to do this, you must specify 'dtype=object' when creating the ndarray\n",
            "  return array(a, dtype, copy=False, order=order)\n",
            "/usr/local/lib/python3.6/dist-packages/numpy/core/_asarray.py:83: VisibleDeprecationWarning: Creating an ndarray from ragged nested sequences (which is a list-or-tuple of lists-or-tuples-or ndarrays with different lengths or shapes) is deprecated. If you meant to do this, you must specify 'dtype=object' when creating the ndarray\n",
            "  return array(a, dtype, copy=False, order=order)\n",
            "/usr/local/lib/python3.6/dist-packages/numpy/core/_asarray.py:83: VisibleDeprecationWarning: Creating an ndarray from ragged nested sequences (which is a list-or-tuple of lists-or-tuples-or ndarrays with different lengths or shapes) is deprecated. If you meant to do this, you must specify 'dtype=object' when creating the ndarray\n",
            "  return array(a, dtype, copy=False, order=order)\n",
            "/usr/local/lib/python3.6/dist-packages/numpy/core/_asarray.py:83: VisibleDeprecationWarning: Creating an ndarray from ragged nested sequences (which is a list-or-tuple of lists-or-tuples-or ndarrays with different lengths or shapes) is deprecated. If you meant to do this, you must specify 'dtype=object' when creating the ndarray\n",
            "  return array(a, dtype, copy=False, order=order)\n",
            "/usr/local/lib/python3.6/dist-packages/numpy/core/_asarray.py:83: VisibleDeprecationWarning: Creating an ndarray from ragged nested sequences (which is a list-or-tuple of lists-or-tuples-or ndarrays with different lengths or shapes) is deprecated. If you meant to do this, you must specify 'dtype=object' when creating the ndarray\n",
            "  return array(a, dtype, copy=False, order=order)\n",
            "/usr/local/lib/python3.6/dist-packages/numpy/core/_asarray.py:83: VisibleDeprecationWarning: Creating an ndarray from ragged nested sequences (which is a list-or-tuple of lists-or-tuples-or ndarrays with different lengths or shapes) is deprecated. If you meant to do this, you must specify 'dtype=object' when creating the ndarray\n",
            "  return array(a, dtype, copy=False, order=order)\n",
            "/usr/local/lib/python3.6/dist-packages/numpy/core/_asarray.py:83: VisibleDeprecationWarning: Creating an ndarray from ragged nested sequences (which is a list-or-tuple of lists-or-tuples-or ndarrays with different lengths or shapes) is deprecated. If you meant to do this, you must specify 'dtype=object' when creating the ndarray\n",
            "  return array(a, dtype, copy=False, order=order)\n",
            "/usr/local/lib/python3.6/dist-packages/numpy/core/_asarray.py:83: VisibleDeprecationWarning: Creating an ndarray from ragged nested sequences (which is a list-or-tuple of lists-or-tuples-or ndarrays with different lengths or shapes) is deprecated. If you meant to do this, you must specify 'dtype=object' when creating the ndarray\n",
            "  return array(a, dtype, copy=False, order=order)\n",
            "/usr/local/lib/python3.6/dist-packages/numpy/core/_asarray.py:83: VisibleDeprecationWarning: Creating an ndarray from ragged nested sequences (which is a list-or-tuple of lists-or-tuples-or ndarrays with different lengths or shapes) is deprecated. If you meant to do this, you must specify 'dtype=object' when creating the ndarray\n",
            "  return array(a, dtype, copy=False, order=order)\n",
            "/usr/local/lib/python3.6/dist-packages/numpy/core/_asarray.py:83: VisibleDeprecationWarning: Creating an ndarray from ragged nested sequences (which is a list-or-tuple of lists-or-tuples-or ndarrays with different lengths or shapes) is deprecated. If you meant to do this, you must specify 'dtype=object' when creating the ndarray\n",
            "  return array(a, dtype, copy=False, order=order)\n",
            "/usr/local/lib/python3.6/dist-packages/numpy/core/_asarray.py:83: VisibleDeprecationWarning: Creating an ndarray from ragged nested sequences (which is a list-or-tuple of lists-or-tuples-or ndarrays with different lengths or shapes) is deprecated. If you meant to do this, you must specify 'dtype=object' when creating the ndarray\n",
            "  return array(a, dtype, copy=False, order=order)\n",
            "/usr/local/lib/python3.6/dist-packages/numpy/core/_asarray.py:83: VisibleDeprecationWarning: Creating an ndarray from ragged nested sequences (which is a list-or-tuple of lists-or-tuples-or ndarrays with different lengths or shapes) is deprecated. If you meant to do this, you must specify 'dtype=object' when creating the ndarray\n",
            "  return array(a, dtype, copy=False, order=order)\n",
            "/usr/local/lib/python3.6/dist-packages/numpy/core/_asarray.py:83: VisibleDeprecationWarning: Creating an ndarray from ragged nested sequences (which is a list-or-tuple of lists-or-tuples-or ndarrays with different lengths or shapes) is deprecated. If you meant to do this, you must specify 'dtype=object' when creating the ndarray\n",
            "  return array(a, dtype, copy=False, order=order)\n",
            "/usr/local/lib/python3.6/dist-packages/numpy/core/_asarray.py:83: VisibleDeprecationWarning: Creating an ndarray from ragged nested sequences (which is a list-or-tuple of lists-or-tuples-or ndarrays with different lengths or shapes) is deprecated. If you meant to do this, you must specify 'dtype=object' when creating the ndarray\n",
            "  return array(a, dtype, copy=False, order=order)\n",
            "/usr/local/lib/python3.6/dist-packages/numpy/core/_asarray.py:83: VisibleDeprecationWarning: Creating an ndarray from ragged nested sequences (which is a list-or-tuple of lists-or-tuples-or ndarrays with different lengths or shapes) is deprecated. If you meant to do this, you must specify 'dtype=object' when creating the ndarray\n",
            "  return array(a, dtype, copy=False, order=order)\n",
            "/usr/local/lib/python3.6/dist-packages/numpy/core/_asarray.py:83: VisibleDeprecationWarning: Creating an ndarray from ragged nested sequences (which is a list-or-tuple of lists-or-tuples-or ndarrays with different lengths or shapes) is deprecated. If you meant to do this, you must specify 'dtype=object' when creating the ndarray\n",
            "  return array(a, dtype, copy=False, order=order)\n",
            "/usr/local/lib/python3.6/dist-packages/numpy/core/_asarray.py:83: VisibleDeprecationWarning: Creating an ndarray from ragged nested sequences (which is a list-or-tuple of lists-or-tuples-or ndarrays with different lengths or shapes) is deprecated. If you meant to do this, you must specify 'dtype=object' when creating the ndarray\n",
            "  return array(a, dtype, copy=False, order=order)\n"
          ],
          "name": "stderr"
        }
      ]
    },
    {
      "cell_type": "code",
      "metadata": {
        "colab": {
          "base_uri": "https://localhost:8080/"
        },
        "id": "P0s_6ahThQkN",
        "outputId": "cf7c9350-a208-4cd3-ad89-17072f56928a"
      },
      "source": [
        "# Download sweetviz report to GPU\r\n",
        "\r\n",
        "my_report.show_html(\"Report.html\") # Not providing a filename will default to SWEETVIZ_REPORT.html"
      ],
      "execution_count": 34,
      "outputs": [
        {
          "output_type": "stream",
          "text": [
            "Report Report.html was generated! NOTEBOOK/COLAB USERS: the web browser MAY not pop up, regardless, the report IS saved in your notebook/colab files.\n"
          ],
          "name": "stdout"
        }
      ]
    }
  ]
}